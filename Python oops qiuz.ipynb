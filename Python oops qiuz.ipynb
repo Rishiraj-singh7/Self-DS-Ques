{
 "cells": [
  {
   "cell_type": "code",
   "execution_count": 1,
   "id": "301ccf19",
   "metadata": {},
   "outputs": [
    {
     "name": "stdout",
     "output_type": "stream",
     "text": [
      "Suresh 29 is a \"natural\" swimmer\n"
     ]
    }
   ],
   "source": [
    "#1 What is the output of the following code?\n",
    "\n",
    "name = 'Suresh'\n",
    "age = 29\n",
    "\n",
    "print(name,age,'is a \"natural\" swimmer')"
   ]
  },
  {
   "cell_type": "code",
   "execution_count": 4,
   "id": "08b0e402",
   "metadata": {},
   "outputs": [
    {
     "name": "stdout",
     "output_type": "stream",
     "text": [
      "Suresh is 29 years old and he's a swimmer\n"
     ]
    }
   ],
   "source": [
    "print(name,'is {} years old and he\\'s a swimmer'.format((age)))"
   ]
  },
  {
   "cell_type": "code",
   "execution_count": 2,
   "id": "ef8e6251",
   "metadata": {},
   "outputs": [
    {
     "name": "stdout",
     "output_type": "stream",
     "text": [
      "The result is 50\n"
     ]
    }
   ],
   "source": [
    "#2 What is the output of the following code?\n",
    "\n",
    "a,b,c = 10,20,50\n",
    "\n",
    "result = (a + b)//c\n",
    "\n",
    "print('The result is {}'.format(c))"
   ]
  },
  {
   "cell_type": "code",
   "execution_count": 49,
   "id": "facc8fcf",
   "metadata": {},
   "outputs": [
    {
     "name": "stdout",
     "output_type": "stream",
     "text": [
      "200\n"
     ]
    }
   ],
   "source": [
    "#3 What is the output of the following code?\n",
    "\n",
    "a = 10\n",
    "b = 20\n",
    "c = a**2\n",
    "d = b**2\n",
    "\n",
    "result = d-c\n",
    "result -= 100\n",
    "\n",
    "print(result)"
   ]
  },
  {
   "cell_type": "code",
   "execution_count": 50,
   "id": "351bac1c",
   "metadata": {},
   "outputs": [
    {
     "name": "stdout",
     "output_type": "stream",
     "text": [
      "False\n"
     ]
    }
   ],
   "source": [
    "#4 What is the output of the following code?\n",
    "\n",
    "a = 10\n",
    "b = 20\n",
    "print(a>b)"
   ]
  },
  {
   "cell_type": "code",
   "execution_count": 51,
   "id": "3163652b",
   "metadata": {},
   "outputs": [
    {
     "name": "stdout",
     "output_type": "stream",
     "text": [
      "True\n"
     ]
    }
   ],
   "source": [
    "#5 What is the output of the following code?\n",
    "\n",
    "a = 10\n",
    "b = 10.0\n",
    "\n",
    "print(a is not b)"
   ]
  },
  {
   "cell_type": "code",
   "execution_count": 52,
   "id": "e0f3ed2f",
   "metadata": {},
   "outputs": [
    {
     "name": "stdout",
     "output_type": "stream",
     "text": [
      "True\n"
     ]
    }
   ],
   "source": [
    "#6 What is the output of the following code?\n",
    "\n",
    "a = [10]\n",
    "b = {10,20}\n",
    "\n",
    "print(a[0] in b)"
   ]
  },
  {
   "cell_type": "code",
   "execution_count": 53,
   "id": "e5256294",
   "metadata": {},
   "outputs": [
    {
     "name": "stdout",
     "output_type": "stream",
     "text": [
      "False\n"
     ]
    }
   ],
   "source": [
    "#7 What is the output of the following code?\n",
    "\n",
    "a = 10\n",
    "b = 20\n",
    "\n",
    "print(a>5 & b>15)"
   ]
  },
  {
   "cell_type": "code",
   "execution_count": 8,
   "id": "62c998e7",
   "metadata": {},
   "outputs": [
    {
     "name": "stdout",
     "output_type": "stream",
     "text": [
      "True\n"
     ]
    }
   ],
   "source": [
    "#8 What is the output of the following code?\n",
    "\n",
    "a = 10\n",
    "b = 20\n",
    "\n",
    "print(a>5 or b>15)"
   ]
  },
  {
   "cell_type": "code",
   "execution_count": 9,
   "id": "0c21676c",
   "metadata": {},
   "outputs": [
    {
     "name": "stdout",
     "output_type": "stream",
     "text": [
      "5 and 6\n"
     ]
    }
   ],
   "source": [
    "#9 What is the output of the following code?\n",
    "\n",
    "a = [1,2,3,4,5]\n",
    "b = [2,3,4,5,6]\n",
    "\n",
    "print(a[-1],'and',b[len(b)-1])"
   ]
  },
  {
   "cell_type": "code",
   "execution_count": 10,
   "id": "ae66151c",
   "metadata": {},
   "outputs": [
    {
     "name": "stdout",
     "output_type": "stream",
     "text": [
      "[8, 6, 4, 2, 0]\n"
     ]
    }
   ],
   "source": [
    "#10 What is the output of the following code?\n",
    "\n",
    "a = list(range(0,10,2))\n",
    "\n",
    "print(a[::-1])"
   ]
  },
  {
   "cell_type": "code",
   "execution_count": 11,
   "id": "fb0de936",
   "metadata": {},
   "outputs": [
    {
     "name": "stdout",
     "output_type": "stream",
     "text": [
      "dict_keys([29, 32, 41])\n"
     ]
    }
   ],
   "source": [
    "#11 What is the output of the following code?\n",
    "\n",
    "a = [[29, 'Rajesh'],[32, 'Rames'],[41, 'Dev']]\n",
    "b = dict(a)\n",
    "\n",
    "print(b.keys())"
   ]
  },
  {
   "cell_type": "code",
   "execution_count": 12,
   "id": "e049a39c",
   "metadata": {},
   "outputs": [
    {
     "name": "stdout",
     "output_type": "stream",
     "text": [
      "1\n"
     ]
    }
   ],
   "source": [
    "#12 What is the output of the following?\n",
    "\n",
    "a = {1: 'Rajesh',\n",
    "\n",
    "2: 'Ramesh',\n",
    "\n",
    "3: 'Dev'}\n",
    "\n",
    "b = list(a)\n",
    "\n",
    "print(b[0])"
   ]
  },
  {
   "cell_type": "code",
   "execution_count": 13,
   "id": "a4c97d05",
   "metadata": {},
   "outputs": [
    {
     "name": "stdout",
     "output_type": "stream",
     "text": [
      "4\n"
     ]
    }
   ],
   "source": [
    "#13 What is the output of the following code?\n",
    "\n",
    "a = tuple(range(0,5))\n",
    "\n",
    "print(a.index(4))\n"
   ]
  },
  {
   "cell_type": "code",
   "execution_count": 14,
   "id": "61ce3083",
   "metadata": {},
   "outputs": [
    {
     "name": "stdout",
     "output_type": "stream",
     "text": [
      "8\n"
     ]
    }
   ],
   "source": [
    "#14 What is the output of the following code?\n",
    "\n",
    "a = tuple(range(0,10,2))\n",
    "\n",
    "#a[4] = 6       show the type error\n",
    "\n",
    "print(a[4])"
   ]
  },
  {
   "cell_type": "code",
   "execution_count": 15,
   "id": "038dc371",
   "metadata": {},
   "outputs": [
    {
     "name": "stdout",
     "output_type": "stream",
     "text": [
      "{1, 2, 3, 4, 5}\n"
     ]
    }
   ],
   "source": [
    "#15 What is the output of the following code?\n",
    "\n",
    "a = {1,1,2,2,3,3,4,4,5,5}\n",
    "\n",
    "print(a)"
   ]
  },
  {
   "cell_type": "code",
   "execution_count": 16,
   "id": "4a480001",
   "metadata": {},
   "outputs": [
    {
     "name": "stdout",
     "output_type": "stream",
     "text": [
      "{1, 2, 3, 4, 5, 6}\n"
     ]
    }
   ],
   "source": [
    "#16 What is the output of the following code?\n",
    "\n",
    "a = {1,2,3,4,5}\n",
    "\n",
    "a.add(6)\n",
    "\n",
    "print(a)"
   ]
  },
  {
   "cell_type": "code",
   "execution_count": 18,
   "id": "b81f8d40",
   "metadata": {},
   "outputs": [
    {
     "name": "stdout",
     "output_type": "stream",
     "text": [
      "None\n"
     ]
    }
   ],
   "source": [
    "#17 What is the output of the following code?   ***************\n",
    "\n",
    "A = 10\n",
    "B = 20\n",
    "\n",
    "if A > 5 & B > 15:\n",
    "\n",
    "  print('One')\n",
    "\n",
    "elif A < 5 & B < 15:\n",
    "\n",
    "  print('Two')\n",
    "\n",
    "else:\n",
    "\n",
    "  print('None')"
   ]
  },
  {
   "cell_type": "code",
   "execution_count": 19,
   "id": "f9910077",
   "metadata": {},
   "outputs": [
    {
     "name": "stdout",
     "output_type": "stream",
     "text": [
      "One\n"
     ]
    }
   ],
   "source": [
    "A = 10\n",
    "\n",
    "B = 20\n",
    "\n",
    "if A > 5 and B > 15:\n",
    "\n",
    "  print('One')\n",
    "\n",
    "elif A < 5 and B < 15:\n",
    "\n",
    "  print('Two')\n",
    "\n",
    "else:\n",
    "\n",
    "  print('None')"
   ]
  },
  {
   "cell_type": "code",
   "execution_count": 20,
   "id": "71107d09",
   "metadata": {},
   "outputs": [
    {
     "name": "stdout",
     "output_type": "stream",
     "text": [
      "One,"
     ]
    }
   ],
   "source": [
    "#18 What is the output of the following code?\n",
    "\n",
    "A = 2\n",
    "B = 10\n",
    "\n",
    "if A > 0 and B%A==0:\n",
    "\n",
    "   print('One', end= ',')\n",
    "\n",
    "elif B > 5 and B%2 == 1:\n",
    "\n",
    "   print('Two', end=' ')\n",
    "\n",
    "else:\n",
    "\n",
    "   pass"
   ]
  },
  {
   "cell_type": "code",
   "execution_count": 21,
   "id": "517bdaff",
   "metadata": {},
   "outputs": [
    {
     "name": "stdout",
     "output_type": "stream",
     "text": [
      "Greater\n"
     ]
    }
   ],
   "source": [
    "#19 What is the output of the following code?             \n",
    "\n",
    "A = 2\n",
    "B = 3\n",
    "\n",
    "print('Greater') if A//B==0 else print('Equal') if A//B==1 else print('Smaller')"
   ]
  },
  {
   "cell_type": "code",
   "execution_count": 22,
   "id": "df521cc9",
   "metadata": {},
   "outputs": [
    {
     "name": "stdout",
     "output_type": "stream",
     "text": [
      "Three\n"
     ]
    }
   ],
   "source": [
    "#20 What is the output of the following code?\n",
    "\n",
    "X = 10\n",
    "\n",
    "if X >= 0:\n",
    "         if X == 0:\n",
    "            print('None')\n",
    "         elif X //2 == 1:\n",
    "            print('Two')\n",
    "         elif X**2 ==100:\n",
    "             if X%2 == 0:\n",
    "               print('Three')\n",
    "             else:\n",
    "               print('Four')\n",
    "         else:\n",
    "           print('Five')\n",
    "else:\n",
    "    print('Six')"
   ]
  },
  {
   "cell_type": "code",
   "execution_count": 23,
   "id": "773db25a",
   "metadata": {},
   "outputs": [
    {
     "name": "stdout",
     "output_type": "stream",
     "text": [
      "[2, 1, 2, 1, 2, 1]\n"
     ]
    }
   ],
   "source": [
    "#21 What is the output of the following code?\n",
    "\n",
    "a = list(range(0,3))\n",
    "b = []\n",
    "\n",
    "for x in a:\n",
    "\n",
    "  for j in range(len(a)-1, 0, -1):\n",
    " \n",
    "    b.append(a[j])\n",
    "\n",
    "print(b)"
   ]
  },
  {
   "cell_type": "code",
   "execution_count": 24,
   "id": "ba04e626",
   "metadata": {},
   "outputs": [
    {
     "name": "stdout",
     "output_type": "stream",
     "text": [
      "0\n",
      "1\n",
      "0\n"
     ]
    }
   ],
   "source": [
    "#22 What is the output of the following code?  \n",
    "\n",
    "\n",
    "i=5\n",
    "while i>0:\n",
    "  for i in range(0,3):\n",
    "    if i > 1:\n",
    "      i = i - 2\n",
    "    print(i)\n",
    "  else:\n",
    "    i = i - 1\n"
   ]
  },
  {
   "cell_type": "code",
   "execution_count": 25,
   "id": "f647a2f8",
   "metadata": {},
   "outputs": [
    {
     "name": "stdout",
     "output_type": "stream",
     "text": [
      "3.0\n"
     ]
    }
   ],
   "source": [
    "#23 What is the output of the following?\n",
    "\n",
    "i = 9\n",
    "while i > 5:\n",
    "  if i%2 == 0:\n",
    "    i = i**2\n",
    "    print(i)\n",
    "  else:\n",
    "    i = i**0.5\n",
    "    print(i)"
   ]
  },
  {
   "cell_type": "code",
   "execution_count": 26,
   "id": "37ded0c4",
   "metadata": {},
   "outputs": [
    {
     "name": "stdout",
     "output_type": "stream",
     "text": [
      "1 2 3 5 "
     ]
    }
   ],
   "source": [
    "#24 What is the output of the following code?\n",
    "\n",
    "a = 0\n",
    "b = 1\n",
    "i = 1\n",
    "while i < 5:\n",
    "   temp = a + b\n",
    "   a = b\n",
    "   b = temp\n",
    "   print(temp, end=\" \")\n",
    "   i = i + 1"
   ]
  },
  {
   "cell_type": "code",
   "execution_count": 27,
   "id": "8523e8ec",
   "metadata": {},
   "outputs": [],
   "source": [
    "#25 What is the output of the following code?\n",
    "\n",
    "def func(self):\n",
    "\n",
    " if self%2==0:\n",
    "\n",
    "  return None\n",
    "\n",
    "func(10)\n",
    "#print(func(10))"
   ]
  },
  {
   "cell_type": "code",
   "execution_count": 28,
   "id": "2772ba49",
   "metadata": {},
   "outputs": [
    {
     "name": "stdout",
     "output_type": "stream",
     "text": [
      "True,False\n"
     ]
    }
   ],
   "source": [
    "#26 What is the output of the following code?          *****************\n",
    "\n",
    "def func(*self):\n",
    " for i in self:\n",
    "   if i in list(range(0,100,10)):\n",
    "       print('True', end=',')\n",
    "   else: \n",
    "       print('False') \n",
    "func(10,15)"
   ]
  },
  {
   "cell_type": "code",
   "execution_count": 29,
   "id": "fa589409",
   "metadata": {},
   "outputs": [
    {
     "name": "stdout",
     "output_type": "stream",
     "text": [
      "False False "
     ]
    }
   ],
   "source": [
    "#27 What is the output of the following code? **************\n",
    "\n",
    "def func(**self):\n",
    "  for i in self.values():\n",
    "     if i%2 == 0 and i%3 == 0 in list(range(0,10)):\n",
    "        print('True', end=' ')\n",
    "     else:\n",
    "        print('False', end=' ')\n",
    "func(first= 10, second= 20)"
   ]
  },
  {
   "cell_type": "code",
   "execution_count": 30,
   "id": "c0c14801",
   "metadata": {},
   "outputs": [
    {
     "data": {
      "text/plain": [
       "8"
      ]
     },
     "execution_count": 30,
     "metadata": {},
     "output_type": "execute_result"
    }
   ],
   "source": [
    "#28 What is the output of the following code?\n",
    "\n",
    "y = lambda a,b: a//2 + b//2 - 2//a//b\n",
    "y(12,4)\n"
   ]
  },
  {
   "cell_type": "code",
   "execution_count": 31,
   "id": "a0b851d8",
   "metadata": {},
   "outputs": [
    {
     "name": "stdout",
     "output_type": "stream",
     "text": [
      "[1, 2, 3, 4, 5]\n"
     ]
    }
   ],
   "source": [
    "#29 What is the output of the following code? \n",
    "\n",
    "sample = [12,22,32,42,52]\n",
    "x = map(lambda a: a//10, sample)\n",
    "\n",
    "print(list(x))"
   ]
  },
  {
   "cell_type": "code",
   "execution_count": 32,
   "id": "dc545302",
   "metadata": {},
   "outputs": [
    {
     "name": "stdout",
     "output_type": "stream",
     "text": [
      "[12, 24, 2]\n"
     ]
    }
   ],
   "source": [
    "#30 What is the output of the following code? ***************\n",
    "\n",
    "def func(self):\n",
    "  if self % 2 == 1:\n",
    "    return False\n",
    "  else:\n",
    "    return True\n",
    "sample= [12,24,23,3,5,2]\n",
    "\n",
    "z = filter(func, sample)\n",
    "\n",
    "print(list(z)) "
   ]
  },
  {
   "cell_type": "code",
   "execution_count": 33,
   "id": "cf4cbd62",
   "metadata": {},
   "outputs": [
    {
     "name": "stdout",
     "output_type": "stream",
     "text": [
      "142434"
     ]
    }
   ],
   "source": [
    "#31 What is the output of the following code?     ***********\n",
    "\n",
    "def func(x, y, z):        \n",
    "\n",
    "  for i in x:\n",
    "    for j in y:\n",
    "        print(i, end=\"\")\n",
    "        print(j, end=\"\")\n",
    "  return None\n",
    "\n",
    "a = [1,2,3]\n",
    "b = [4]\n",
    "c = [5,6,7]\n",
    "\n",
    "func(a,b,c)"
   ]
  },
  {
   "cell_type": "code",
   "execution_count": 34,
   "id": "e8c52d41",
   "metadata": {},
   "outputs": [
    {
     "data": {
      "text/plain": [
       "4"
      ]
     },
     "execution_count": 34,
     "metadata": {},
     "output_type": "execute_result"
    }
   ],
   "source": [
    "#32 What is the output of the following code?\n",
    "\n",
    "x = lambda x,y,z: x**y + z**x + y**x//z\n",
    "x(1,1,3)"
   ]
  },
  {
   "cell_type": "code",
   "execution_count": 35,
   "id": "f20caf44",
   "metadata": {},
   "outputs": [
    {
     "name": "stdout",
     "output_type": "stream",
     "text": [
      "2022 Intellipaat\n"
     ]
    }
   ],
   "source": [
    "# 33 What is the output of the following code?\n",
    "\n",
    "class Myclass:\n",
    "  def __init__(self):\n",
    "   self.string = \"Intellipaat\"\n",
    "   self.number = 2022\n",
    "obj = Myclass()\n",
    "print(obj.number, obj.string)"
   ]
  },
  {
   "cell_type": "code",
   "execution_count": 36,
   "id": "89fac859",
   "metadata": {},
   "outputs": [
    {
     "name": "stdout",
     "output_type": "stream",
     "text": [
      "ronoC 3\n"
     ]
    }
   ],
   "source": [
    "#34 What is the output of the following code?\n",
    "\n",
    "class Myclass:\n",
    "  def __init__(self):\n",
    "    self.string = \"Conor\"\n",
    "    self.number = 20\n",
    "    \n",
    "  def view(self):\n",
    "    print(self.string[::-1], self.number//6)\n",
    "    \n",
    "obj = Myclass()\n",
    "obj.view()"
   ]
  },
  {
   "cell_type": "code",
   "execution_count": 37,
   "id": "03213703",
   "metadata": {},
   "outputs": [
    {
     "name": "stdout",
     "output_type": "stream",
     "text": [
      "['Devon', 28]\n",
      "[29, 'Levi']\n"
     ]
    }
   ],
   "source": [
    "#35 What is the output of the following code?\n",
    "\n",
    "class myClass:\n",
    "    \n",
    "  def __init__(self, name, age):\n",
    "    self.name = name\n",
    "    self.age = age\n",
    "    \n",
    "  def view(self):\n",
    "    print([self.name, self.age])\n",
    "    \n",
    "class myclass:\n",
    "    \n",
    "  def __init__(self, name, age):\n",
    "    self.name = name\n",
    "    self.age = age\n",
    "    \n",
    "  def view(self):\n",
    "    print([self.name, self.age])\n",
    "    \n",
    "obj1 = myClass(\"Devon\", 29)\n",
    "obj2 = myclass(\"Levi\", 28)\n",
    "print([obj1.name, obj2.age])\n",
    "print([obj1.age, obj2.name])"
   ]
  },
  {
   "cell_type": "code",
   "execution_count": 38,
   "id": "71a7f2c0",
   "metadata": {},
   "outputs": [
    {
     "name": "stdout",
     "output_type": "stream",
     "text": [
      "None None None\n"
     ]
    }
   ],
   "source": [
    "#36 bWhat is the output of the following code?\n",
    "\n",
    "class Name:\n",
    "   def view(self):\n",
    "      self.name = \"Rajesh\"\n",
    "        \n",
    "class Age:\n",
    "   def view(self):\n",
    "      self.age = 29\n",
    "        \n",
    "class Profession:\n",
    "  def view(self):\n",
    "      self.profession = \"Teacher\"\n",
    "        \n",
    "obj1 = Name()\n",
    "obj2 = Age()\n",
    "obj3 = Profession()\n",
    "print(obj1.view(), obj2.view(), obj1.view())"
   ]
  },
  {
   "cell_type": "code",
   "execution_count": 39,
   "id": "4d49d1d2",
   "metadata": {},
   "outputs": [
    {
     "name": "stdout",
     "output_type": "stream",
     "text": [
      "Ricky 23 Cricketer\n"
     ]
    }
   ],
   "source": [
    "#37 What is the output of the following code?\n",
    "\n",
    "class Base:\n",
    "  def __init__(self):\n",
    "    self.name = \"Ricky\"\n",
    "    self.age = 23\n",
    "\n",
    "class Derived(Base):\n",
    "  def __init__(self):\n",
    "    super().__init__()\n",
    "    self.profession = \"Cricketer\"\n",
    "    \n",
    "  def view(self):\n",
    "    print(self.name, self.age, self.profession)\n",
    "\n",
    "obj = Derived()\n",
    "\n",
    "obj.view()"
   ]
  },
  {
   "cell_type": "code",
   "execution_count": 40,
   "id": "5d33ad93",
   "metadata": {},
   "outputs": [
    {
     "name": "stdout",
     "output_type": "stream",
     "text": [
      "Levi\n"
     ]
    }
   ],
   "source": [
    "#38 What is the output of the following code?   *****************\n",
    "\n",
    "from abc import ABC, abstractmethod\n",
    "class School(ABC):\n",
    "    def __init__(self):\n",
    "        self.name = \"Levi\"\n",
    "        self.age = 29\n",
    "\n",
    "obj = School()\n",
    "print(obj.name)"
   ]
  },
  {
   "cell_type": "code",
   "execution_count": 41,
   "id": "9a6d4f45",
   "metadata": {},
   "outputs": [
    {
     "name": "stdout",
     "output_type": "stream",
     "text": [
      "9\n",
      "24\n"
     ]
    }
   ],
   "source": [
    "#39 What is the output of the following code?  ************val of two*********\n",
    "\n",
    "class Poly:\n",
    "  def methodd(self, a, b):\n",
    "     return (a**b)\n",
    "  def method(self, a, b,c):\n",
    "     return (a*b*c)\n",
    "\n",
    "\n",
    "obj = Poly()\n",
    "\n",
    "print(obj.methodd(3,2))\n",
    "print(obj.method(3,2,4))\n"
   ]
  },
  {
   "cell_type": "code",
   "execution_count": 42,
   "id": "421b95f4",
   "metadata": {},
   "outputs": [
    {
     "data": {
      "text/plain": [
       "'Devon'"
      ]
     },
     "execution_count": 42,
     "metadata": {},
     "output_type": "execute_result"
    }
   ],
   "source": [
    "#40 What is the output of the following code?  ****** parent init ******,what's the work of parent class here\n",
    "\n",
    "class Parent:\n",
    "    def __init__(self):\n",
    "        self._name = \"Levi\"\n",
    "        self.__age = 29\n",
    "\n",
    "class Child(Parent):\n",
    "    def __init__(self):\n",
    "        Parent.__init__(self)\n",
    "        self._name = \"Devon\"\n",
    "\n",
    "    def view(self):\n",
    "        return self._name\n",
    "\n",
    "obj = Child()\n",
    "\n",
    "obj.view()"
   ]
  },
  {
   "cell_type": "code",
   "execution_count": 43,
   "id": "e12f5674",
   "metadata": {},
   "outputs": [
    {
     "data": {
      "text/plain": [
       "28"
      ]
     },
     "execution_count": 43,
     "metadata": {},
     "output_type": "execute_result"
    }
   ],
   "source": [
    "#41 What is the output of the following code?\n",
    "\n",
    "class Parent:\n",
    "\n",
    "    def __init__(self):\n",
    "         self._name = \"Levi\"\n",
    "         self.__age = 29\n",
    "\n",
    "class Child(Parent):\n",
    "\n",
    "    def __init__(self):\n",
    "         Parent.__init__(self)\n",
    "         self._name = \"Devon\"\n",
    "         self.__age = 28\n",
    "\n",
    "    def view(self):\n",
    "         return self.__age\n",
    "\n",
    "obj = Child()\n",
    "obj.view()"
   ]
  },
  {
   "cell_type": "code",
   "execution_count": null,
   "id": "3f719a49",
   "metadata": {},
   "outputs": [],
   "source": [
    "#42 What is the output of the following code?\n",
    "\n",
    "class Parent:\n",
    "    def __init__(self):\n",
    "        self._name = \"Rajesh\"\n",
    "        self.__age = 29\n",
    "\n",
    "class Child(Parent):\n",
    "    def __init__(self):\n",
    "        Parent.__init__(self)\n",
    "        self._name = \"Ramesh\"\n",
    "\n",
    "    def view(self):\n",
    "        return self.__age\n",
    "\n",
    "obj = Child()\n",
    "print(obj.view())\n",
    "\n",
    "# attribute error"
   ]
  },
  {
   "cell_type": "code",
   "execution_count": 45,
   "id": "c9e5a11f",
   "metadata": {},
   "outputs": [],
   "source": [
    "#43 What is the output of the following code? ***********returning none bcz of******\n",
    "\n",
    "class Poly:\n",
    "    def __init__(self):\n",
    "        self.name = 'Rajesh'\n",
    "        self.age = 29\n",
    "\n",
    "    def view(self):\n",
    "        return None\n",
    "\n",
    "class Child(Poly):\n",
    "    def __init__(self):\n",
    "        super().__init__()\n",
    "\n",
    "    def view(self):\n",
    "        self.prof = \"Student\"\n",
    "        super().view()\n",
    "        return None\n",
    "\n",
    "obj = Poly()\n",
    "obj.view()\n"
   ]
  },
  {
   "cell_type": "code",
   "execution_count": 46,
   "id": "dc1e872d",
   "metadata": {},
   "outputs": [
    {
     "name": "stdout",
     "output_type": "stream",
     "text": [
      "Devon\n"
     ]
    }
   ],
   "source": [
    "#44  What is the output of the following code?  *********upper************ same code\n",
    "\n",
    "class Poly:\n",
    "  def __init__(self):\n",
    "    self.name = 'Devon'\n",
    "    self.age = 29\n",
    "\n",
    "  def view(self):\n",
    "    print(self.name)\n",
    "\n",
    "class Child(Poly):\n",
    "  def __init__(self):\n",
    "    Poly.__init__(self)\n",
    "\n",
    "  def view(self):\n",
    "    self.prof = \"Levi\"\n",
    "    super().view()\n",
    "    return None\n",
    "\n",
    "obj = Child()\n",
    "obj.view()\n"
   ]
  },
  {
   "cell_type": "code",
   "execution_count": 47,
   "id": "ae91db0c",
   "metadata": {},
   "outputs": [
    {
     "data": {
      "text/plain": [
       "60"
      ]
     },
     "execution_count": 47,
     "metadata": {},
     "output_type": "execute_result"
    }
   ],
   "source": [
    "#45 What is the output of the following code? **********code explain********(dispatch)\n",
    " \n",
    "from multipledispatch import dispatch\n",
    "class Poly:\n",
    "    @dispatch(int, int)\n",
    "    def method(self, a, b):\n",
    "        return (a**b)\n",
    "\n",
    "    @dispatch(int, int, int)\n",
    "    def method(self, a, b, c):\n",
    "        return (a*b*c)\n",
    "\n",
    "obj = Poly()\n",
    "obj.method(4,2)\n",
    "obj.method(3,4,5)"
   ]
  },
  {
   "cell_type": "code",
   "execution_count": 48,
   "id": "a025dc87",
   "metadata": {},
   "outputs": [
    {
     "name": "stdout",
     "output_type": "stream",
     "text": [
      "10\n",
      "20\n"
     ]
    }
   ],
   "source": [
    "class Encapsulation:               \n",
    "    def __init__(self):\n",
    "        self.originalValue = 10\n",
    "\n",
    "    def Value(self):\n",
    "        return self.originalValue\n",
    "\n",
    "    def setValue(self, newValue):\n",
    "        self.originalValue = newValue\n",
    "\n",
    "obj = Encapsulation()\n",
    "print(obj.Value())  # Output: 10\n",
    "obj.setValue(20)\n",
    "print(obj.Value())  # Output: 20\n"
   ]
  },
  {
   "cell_type": "code",
   "execution_count": null,
   "id": "a824ae90",
   "metadata": {},
   "outputs": [],
   "source": []
  }
 ],
 "metadata": {
  "kernelspec": {
   "display_name": "Python 3 (ipykernel)",
   "language": "python",
   "name": "python3"
  },
  "language_info": {
   "codemirror_mode": {
    "name": "ipython",
    "version": 3
   },
   "file_extension": ".py",
   "mimetype": "text/x-python",
   "name": "python",
   "nbconvert_exporter": "python",
   "pygments_lexer": "ipython3",
   "version": "3.11.5"
  }
 },
 "nbformat": 4,
 "nbformat_minor": 5
}
