{
 "cells": [
  {
   "cell_type": "markdown",
   "id": "50478318",
   "metadata": {},
   "source": [
    "<!-- Q1. Using Python script as a calculator\n",
    "Create the variables n, r, p and assign them values 10, 5, and 100 respectively. Then\n",
    "evaluate the following expression in the Python console.\n",
    "𝐴 = 𝑝 (1 + 𝑟/ 100)n\n",
    "a. 100\n",
    "b. 162.89\n",
    "c. 189\n",
    "d. None of the above -->"
   ]
  },
  {
   "cell_type": "code",
   "execution_count": 1,
   "id": "c08bd338",
   "metadata": {},
   "outputs": [],
   "source": [
    "# Q1. Using Python script as a calculator\n",
    "# Create the variables n, r, p and assign them values 10, 5, and 100 respectively. \n",
    "# Then evaluate the following expression in the Python console.\n",
    "# 𝐴 = 𝑝 (1 + 𝑟/ 100)n\n",
    "# a. 100\n",
    "# b. 162.89\n",
    "# c. 189\n",
    "# d. None of the above"
   ]
  },
  {
   "cell_type": "code",
   "execution_count": 2,
   "id": "40ca5fa2",
   "metadata": {},
   "outputs": [
    {
     "name": "stdout",
     "output_type": "stream",
     "text": [
      "162.8894626777442\n"
     ]
    }
   ],
   "source": [
    "n = 10\n",
    "r = 5\n",
    "p = 100\n",
    "\n",
    "a= p*(1 + r/ 100)**n\n",
    "print(a)"
   ]
  },
  {
   "cell_type": "code",
   "execution_count": 3,
   "id": "3d1a87e9",
   "metadata": {},
   "outputs": [],
   "source": [
    "# Q2. In a given string format operation, how will you print the given string.\n",
    "# A = 10\n",
    "# B = 20\n",
    "# Str = \"There are {} students in the class, with {} who play at least one sport.\"\n",
    "# a. print(string.format(a,b))\n",
    "# b. print(string+a+b)\n",
    "# c. print(string.format(b,a))\n",
    "# d. None of the above\n"
   ]
  },
  {
   "cell_type": "code",
   "execution_count": 12,
   "id": "ccb85fed",
   "metadata": {},
   "outputs": [
    {
     "name": "stdout",
     "output_type": "stream",
     "text": [
      "There are 10 students in the class, with 20 who play at least one sport.\n"
     ]
    }
   ],
   "source": [
    "A = 10\n",
    "B = 20\n",
    "string = \"There are {} students in the class, with {} who play at least one sport.\"\n",
    "print(string.format(A, B))"
   ]
  },
  {
   "cell_type": "code",
   "execution_count": 5,
   "id": "99a92bdc",
   "metadata": {},
   "outputs": [
    {
     "name": "stdout",
     "output_type": "stream",
     "text": [
      "There are 10 students in the class, with 20 who play at least one sport.\n"
     ]
    }
   ],
   "source": [
    "print(\"There are {} students in the class, with {} who play at least one sport.\".format(10,20))"
   ]
  },
  {
   "cell_type": "code",
   "execution_count": 6,
   "id": "50d5cc66",
   "metadata": {},
   "outputs": [],
   "source": [
    "# Q3. In a given sample string, How do you print a double quoted string in between a\n",
    "# regular\n",
    "# string using the escape character?\n",
    "# Sample output = It goes without saying, “Time is Money”, and none can deny it.\n",
    "# a. print(“It goes without saying, \\“Time is Money\\”, and none can deny it.”)\n",
    "# b. print(“It goes without saying, \\Time is Money\\, and none can deny it.”)\n",
    "# c. print(“It goes without saying” + “Time is Money” + “and none can deny it.”)\n",
    "# d. None of the above."
   ]
  },
  {
   "cell_type": "code",
   "execution_count": 11,
   "id": "c579afe9",
   "metadata": {},
   "outputs": [
    {
     "name": "stdout",
     "output_type": "stream",
     "text": [
      "It goes without saying, \"Time is Money\", and none can deny it.\n"
     ]
    }
   ],
   "source": [
    "print(\"It goes without saying, \\\"Time is Money\\\", and none can deny it.\")\n",
    "\n",
    "\n",
    "#correct way is option a"
   ]
  },
  {
   "cell_type": "code",
   "execution_count": 18,
   "id": "c37ab543",
   "metadata": {},
   "outputs": [],
   "source": [
    "# Q4. What will be the output of the following code?\n",
    "# x = lambda a,b: a//b\n",
    "# x(10,3)\n",
    "# a. 3.3333333333\n",
    "# b. 3\n",
    "# c. 30\n",
    "# d. 1000"
   ]
  },
  {
   "cell_type": "code",
   "execution_count": 20,
   "id": "d57bfd7b",
   "metadata": {},
   "outputs": [
    {
     "name": "stdout",
     "output_type": "stream",
     "text": [
      "3\n"
     ]
    }
   ],
   "source": [
    "x = lambda a,b: a//b\n",
    "print(x(10,3))"
   ]
  },
  {
   "cell_type": "code",
   "execution_count": 21,
   "id": "918c2b0e",
   "metadata": {},
   "outputs": [],
   "source": [
    "# Q5. What will be the output of the following code?\n",
    "# A = 10\n",
    "# B = 12\n",
    "# print(\"Smaller\") if A == B else print(\"Greater\") if A < B else print(\"True\")\n",
    "# a. True\n",
    "# b. Smaller\n",
    "# c. Greater\n",
    "# d. None of the above\n"
   ]
  },
  {
   "cell_type": "code",
   "execution_count": 29,
   "id": "f0cad311",
   "metadata": {},
   "outputs": [
    {
     "name": "stdout",
     "output_type": "stream",
     "text": [
      "Greater\n"
     ]
    }
   ],
   "source": [
    "A = 10                  \n",
    "B = 12\n",
    "\n",
    "if A == B:\n",
    "     print('Smaller')\n",
    "elif A < B:\n",
    "        print('Greater')\n",
    "else:\n",
    "    print('True')\n",
    "\n",
    "  \n",
    "    "
   ]
  },
  {
   "cell_type": "code",
   "execution_count": null,
   "id": "2501dc4a",
   "metadata": {},
   "outputs": [],
   "source": [
    "# What will be the output of the following code?\n",
    "# Import numpy as np\n",
    "# My_list1 = [2,7,3,5,4 6]\n",
    "# Print(my_list1)\n",
    "# arr_1 = numpy.array(my_list1, dtype = int)"
   ]
  },
  {
   "cell_type": "code",
   "execution_count": 31,
   "id": "57979d47",
   "metadata": {},
   "outputs": [
    {
     "name": "stdout",
     "output_type": "stream",
     "text": [
      "[2, 7, 3, 5, 4, 6]\n",
      "[2 7 3 5 4 6]\n"
     ]
    }
   ],
   "source": [
    "import os\n",
    "import numpy as np\n",
    "my_list1 = [2, 7, 3, 5, 4, 6]\n",
    "print(my_list1)\n",
    "\n",
    "arr_1 = np.array(my_list1, dtype=int)\n",
    "print(arr_1)"
   ]
  },
  {
   "cell_type": "code",
   "execution_count": 32,
   "id": "b6413efa",
   "metadata": {},
   "outputs": [],
   "source": [
    "# Q7. Create a string called ‘string’ with the value as “Machine Learning”. \n",
    "# Which code(s) is/are appropriate to slice the substring “Learn”?\n",
    "# a. string[slice(13,8,1)]\n",
    "# b. string[slice(1,8,1)]\n",
    "# c. string[8:14]\n",
    "# d. string[slice(8,13,1)]"
   ]
  },
  {
   "cell_type": "code",
   "execution_count": 38,
   "id": "4725d7e0",
   "metadata": {},
   "outputs": [
    {
     "name": "stdout",
     "output_type": "stream",
     "text": [
      "Learn\n"
     ]
    }
   ],
   "source": [
    "string = 'Machine Learning'\n",
    "\n",
    "substr = string[slice(8,13,1)]\n",
    "print(substr)"
   ]
  },
  {
   "cell_type": "code",
   "execution_count": 39,
   "id": "d2c24c02",
   "metadata": {},
   "outputs": [],
   "source": [
    "# Q8. Create a sequence of numbers from 10 to 25 and increment by 4. What is the index of the value 18?\n",
    "# a. 3\n",
    "# b. 2\n",
    "# c. 0\n",
    "# d. 1"
   ]
  },
  {
   "cell_type": "code",
   "execution_count": 43,
   "id": "334c6314",
   "metadata": {},
   "outputs": [
    {
     "name": "stdout",
     "output_type": "stream",
     "text": [
      "[10, 14, 18, 22]\n",
      "2\n"
     ]
    }
   ],
   "source": [
    "seq = range(10, 26, 4)\n",
    "print(list(seq))\n",
    "print(list(seq).index(18))"
   ]
  },
  {
   "cell_type": "code",
   "execution_count": 44,
   "id": "bc648ac7",
   "metadata": {},
   "outputs": [],
   "source": [
    "# Q9. Which of the following is true with respect to the below codes?\n",
    "# num1 = 5**4\n",
    "# num2 = pow(5, 4)\n",
    "# Print(num1,num2)\n",
    "\n",
    "# a. num1 = num2\n",
    "# b. num1 ≠ num2\n",
    "# c. num1 < num2\n",
    "# d. num1 > num2\n"
   ]
  },
  {
   "cell_type": "code",
   "execution_count": 47,
   "id": "eaed036e",
   "metadata": {},
   "outputs": [
    {
     "name": "stdout",
     "output_type": "stream",
     "text": [
      "625 625\n"
     ]
    }
   ],
   "source": [
    "num1 = 5**4\n",
    "num2 = pow(5, 4)\n",
    "\n",
    "print(num1,num2)"
   ]
  },
  {
   "cell_type": "code",
   "execution_count": 48,
   "id": "7763ab21",
   "metadata": {},
   "outputs": [],
   "source": [
    "# Q10. A Python NameError exception is raised when: -\n",
    "# a. Trying to access a variable which has not been defined\n",
    "# b. Trying to access a key in a dictionary that does not exist\n",
    "# c. Accessing a column with misspelled column name\n",
    "# d. Accessing the function from a module that has not been imported\n"
   ]
  },
  {
   "cell_type": "code",
   "execution_count": 49,
   "id": "a98b0059",
   "metadata": {},
   "outputs": [
    {
     "name": "stdout",
     "output_type": "stream",
     "text": [
      "it usually means that you have made a typo or that you have forgotten to define a variable\n"
     ]
    }
   ],
   "source": [
    "print('it usually means that you have made a typo or that you have forgotten to define a variable')"
   ]
  },
  {
   "cell_type": "code",
   "execution_count": 50,
   "id": "6795447d",
   "metadata": {},
   "outputs": [],
   "source": [
    "# Q11.What type of exception will be raised for the code given below? \n",
    "# X = \"string\"\n",
    "# Int(x)  \n",
    "# a. NameError \n",
    "# b. KeyError \n",
    "# c. ValueError \n",
    "# d. AttributeError"
   ]
  },
  {
   "cell_type": "code",
   "execution_count": 51,
   "id": "3c056f9a",
   "metadata": {},
   "outputs": [
    {
     "ename": "ValueError",
     "evalue": "invalid literal for int() with base 10: 'string'",
     "output_type": "error",
     "traceback": [
      "\u001b[1;31m---------------------------------------------------------------------------\u001b[0m",
      "\u001b[1;31mValueError\u001b[0m                                Traceback (most recent call last)",
      "Cell \u001b[1;32mIn[51], line 2\u001b[0m\n\u001b[0;32m      1\u001b[0m x \u001b[38;5;241m=\u001b[39m \u001b[38;5;124m\"\u001b[39m\u001b[38;5;124mstring\u001b[39m\u001b[38;5;124m\"\u001b[39m\n\u001b[1;32m----> 2\u001b[0m \u001b[38;5;28mint\u001b[39m(x)\n",
      "\u001b[1;31mValueError\u001b[0m: invalid literal for int() with base 10: 'string'"
     ]
    }
   ],
   "source": [
    "x = \"string\"\n",
    "int(x)"
   ]
  },
  {
   "cell_type": "code",
   "execution_count": 52,
   "id": "9b9085b4",
   "metadata": {},
   "outputs": [
    {
     "name": "stdout",
     "output_type": "stream",
     "text": [
      "ValueError because the string cannot be directly converted to an integer\n"
     ]
    }
   ],
   "source": [
    "print('ValueError because the string cannot be directly converted to an integer')"
   ]
  },
  {
   "cell_type": "code",
   "execution_count": 53,
   "id": "905df838",
   "metadata": {},
   "outputs": [],
   "source": [
    "# Q12.A FileNotFoundError exception is raised by operating system errors when: -\n",
    "# a. Trying to create a file or directory which already exists\n",
    "# b. A file or directory is requested but does not exist in the working directory\n",
    "# c. Trying to run an operation without the adequate access rights\n",
    "# d. A directory operation, os.listdir() is requested on something which is not a\n",
    "# directory"
   ]
  },
  {
   "cell_type": "code",
   "execution_count": 54,
   "id": "13bcb368",
   "metadata": {},
   "outputs": [
    {
     "name": "stdout",
     "output_type": "stream",
     "text": [
      "b. A file or directory is requested but does not exist in the working directory\n"
     ]
    }
   ],
   "source": [
    "print('b. A file or directory is requested but does not exist in the working directory')"
   ]
  },
  {
   "cell_type": "code",
   "execution_count": 55,
   "id": "cdceaaab",
   "metadata": {},
   "outputs": [],
   "source": [
    "# Q13.Consider a variable Z. The value of Z is \"ID-5632\". Data type of Z is: - \n",
    "# a. Complex\n",
    "# b. Character\n",
    "# c. Integer\n",
    "# d. Boolean"
   ]
  },
  {
   "cell_type": "code",
   "execution_count": 56,
   "id": "95010b9f",
   "metadata": {},
   "outputs": [
    {
     "name": "stdout",
     "output_type": "stream",
     "text": [
      "<class 'str'>\n"
     ]
    }
   ],
   "source": [
    "z = 'ID-5632'\n",
    "print(type(z))\n",
    "\n",
    "#str is sequence of character"
   ]
  },
  {
   "cell_type": "code",
   "execution_count": 57,
   "id": "aec1e680",
   "metadata": {},
   "outputs": [],
   "source": [
    "# Q14.Which of the following variable(s) are character data type?\n",
    "# a. K= “4”\n",
    "# b. J= “Welcome”\n",
    "# c. L= “?”\n",
    "# d. All of the above\n"
   ]
  },
  {
   "cell_type": "code",
   "execution_count": 58,
   "id": "aada917c",
   "metadata": {},
   "outputs": [
    {
     "name": "stdout",
     "output_type": "stream",
     "text": [
      "All of the above,they contain strings\n"
     ]
    }
   ],
   "source": [
    "print('All of the above,they contain strings')"
   ]
  },
  {
   "cell_type": "code",
   "execution_count": 59,
   "id": "e1e4691f",
   "metadata": {},
   "outputs": [
    {
     "ename": "SyntaxError",
     "evalue": "invalid syntax (583528108.py, line 7)",
     "output_type": "error",
     "traceback": [
      "\u001b[1;36m  Cell \u001b[1;32mIn[59], line 7\u001b[1;36m\u001b[0m\n\u001b[1;33m    a n d   (), #\u001b[0m\n\u001b[1;37m      ^\u001b[0m\n\u001b[1;31mSyntaxError\u001b[0m\u001b[1;31m:\u001b[0m invalid syntax\n"
     ]
    }
   ],
   "source": [
    "# Q15.Choose the symbol/s that does not have the ability to convert any values to string? *********\n",
    "# a. ( )\n",
    "# b. “ ”\n",
    "# c. {}\n",
    "# d. #\n",
    "\n",
    "##########     {       a n d   (), #         }"
   ]
  },
  {
   "cell_type": "code",
   "execution_count": 60,
   "id": "1c9a0bce",
   "metadata": {},
   "outputs": [],
   "source": [
    "# Q16.Create a dictionary ‘Country’ that maps the following countries to their capitals\n",
    "# respectively:\n",
    "    \n",
    "# Country India China Japan Qatar France\n",
    "# State Delhi Beijing Tokyo Doha Marseilles\n",
    "\n",
    "# Find 2 commands to replace “Marseilles” with “Paris” is:\n"
   ]
  },
  {
   "cell_type": "code",
   "execution_count": 61,
   "id": "79985839",
   "metadata": {},
   "outputs": [
    {
     "name": "stdout",
     "output_type": "stream",
     "text": [
      "{'India': 'Delhi', 'China': 'Beijing', 'Japan': 'Tokyo', 'Qatar': 'Doha', 'France': 'Paris'}\n"
     ]
    }
   ],
   "source": [
    "country = {\"India\": \"Delhi\", \"China\": \"Beijing\", \"Japan\": \"Tokyo\", \"Qatar\": \"Doha\", \"France\": \"Paris\"}\n",
    "print(country)\n",
    "\n",
    "# data = {'Name': ['Rahul', 'vicky', 'Navven', 'Raj'], 'Age': [16, 12, 10, 20]}"
   ]
  },
  {
   "cell_type": "code",
   "execution_count": 70,
   "id": "53f46503",
   "metadata": {},
   "outputs": [
    {
     "name": "stdout",
     "output_type": "stream",
     "text": [
      "{'India': 'Delhi', 'China': 'Beijing', 'Japan': 'Tokyo', 'Qatar': 'Doha', 'France': 'Paris'}\n"
     ]
    }
   ],
   "source": [
    "country.update({\"France\": \"Paris\"})\n",
    "\n",
    "\n",
    "country.pop(\"Doha\")\n",
    "country[\"Qatar\"] = \"Dukhan\"\n",
    "\n",
    "print(country)"
   ]
  },
  {
   "cell_type": "code",
   "execution_count": 73,
   "id": "833bb9cd",
   "metadata": {},
   "outputs": [],
   "source": [
    "# Q17. Create the tuples given below\n",
    "# tuple_1 = (1,5,6,7,8)\n",
    "# tuple_2 = (8,9,4)\n",
    "# Identify which of the following code does not work on a tuple.\n",
    "\n",
    "# a. sum(tuple_1)\n",
    "# b. len(tuple_2)\n",
    "# c. tuple_2 + tuple_1\n",
    "# d. tuple_1[3] = 45\n"
   ]
  },
  {
   "cell_type": "code",
   "execution_count": 76,
   "id": "4194f9d5",
   "metadata": {},
   "outputs": [
    {
     "name": "stdout",
     "output_type": "stream",
     "text": [
      "27\n",
      "3\n",
      "(8, 9, 4, 1, 5, 6, 7, 8)\n"
     ]
    }
   ],
   "source": [
    "tuple_1 = (1,5,6,7,8)\n",
    "tuple_2 = (8,9,4)\n",
    "\n",
    "\n",
    "print(sum(tuple_1))\n",
    "print(len(tuple_2))\n",
    "print(tuple_2 + tuple_1)"
   ]
  },
  {
   "cell_type": "code",
   "execution_count": 77,
   "id": "38a94929",
   "metadata": {},
   "outputs": [
    {
     "name": "stdout",
     "output_type": "stream",
     "text": [
      "Tuples are immutable, so you cannot reassign values to their elements.\n"
     ]
    }
   ],
   "source": [
    "# d. tuple_1[3] = 45\n",
    "print('Tuples are immutable, so you cannot reassign values to their elements.')"
   ]
  },
  {
   "cell_type": "code",
   "execution_count": 78,
   "id": "6514236b",
   "metadata": {},
   "outputs": [
    {
     "name": "stdout",
     "output_type": "stream",
     "text": [
      "{1, 2, 3, 4, 5, 6}\n"
     ]
    }
   ],
   "source": [
    "#Q18. How many elements in the following data structure?\n",
    "\n",
    "#S ={1,2,3,4,4,5,6}\n",
    "\n",
    "S ={1,2,3,4, 4,5,6}\n",
    "print(S)"
   ]
  },
  {
   "cell_type": "code",
   "execution_count": 79,
   "id": "48266e25",
   "metadata": {},
   "outputs": [
    {
     "name": "stdout",
     "output_type": "stream",
     "text": [
      "Sets are unique collections, so duplicate elements are removed.\n"
     ]
    }
   ],
   "source": [
    "print('Sets are unique collections, so duplicate elements are removed.')"
   ]
  },
  {
   "cell_type": "code",
   "execution_count": 82,
   "id": "52a2debd",
   "metadata": {},
   "outputs": [],
   "source": [
    "#Q19.Write a function which finds all pythagorean triplets of triangles whose sides are no\n",
    "#greater than a natural number N.\n",
    "\n"
   ]
  },
  {
   "cell_type": "code",
   "execution_count": 83,
   "id": "8b56e58c",
   "metadata": {},
   "outputs": [
    {
     "name": "stdout",
     "output_type": "stream",
     "text": [
      "[(3, 4, 5), (5, 12, 13), (6, 8, 10), (9, 12, 15)]\n"
     ]
    }
   ],
   "source": [
    "def find_py_tri(x):\n",
    "    triplets= []\n",
    "    for a in range(1, x + 1):\n",
    "        for b in range(a, x + 1):\n",
    "            for c in range(b, x + 1):\n",
    "                if a * a + b * b == c * c:\n",
    "                    triplets.append((a, b, c))\n",
    "    return triplets\n",
    "\n",
    "x = 15\n",
    "result = find_py_tri(x)\n",
    "print(result)"
   ]
  }
 ],
 "metadata": {
  "kernelspec": {
   "display_name": "Python 3 (ipykernel)",
   "language": "python",
   "name": "python3"
  },
  "language_info": {
   "codemirror_mode": {
    "name": "ipython",
    "version": 3
   },
   "file_extension": ".py",
   "mimetype": "text/x-python",
   "name": "python",
   "nbconvert_exporter": "python",
   "pygments_lexer": "ipython3",
   "version": "3.11.5"
  }
 },
 "nbformat": 4,
 "nbformat_minor": 5
}
