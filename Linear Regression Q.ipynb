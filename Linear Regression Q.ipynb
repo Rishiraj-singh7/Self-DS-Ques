{
 "cells": [
  {
   "cell_type": "code",
   "execution_count": 1,
   "id": "c9d15e71",
   "metadata": {},
   "outputs": [],
   "source": [
    "import matplotlib.pyplot as plt\n",
    "import seaborn as sns\n",
    "import numpy as np\n",
    "import pandas as pd\n",
    "%matplotlib inline"
   ]
  },
  {
   "cell_type": "code",
   "execution_count": 2,
   "id": "d5f26147",
   "metadata": {},
   "outputs": [],
   "source": [
    "df_data=pd.read_csv(r\"C:\\Users\\Rishi\\Downloads\\data.csv\")"
   ]
  },
  {
   "cell_type": "code",
   "execution_count": 3,
   "id": "4664f3fe",
   "metadata": {},
   "outputs": [
    {
     "data": {
      "text/html": [
       "<div>\n",
       "<style scoped>\n",
       "    .dataframe tbody tr th:only-of-type {\n",
       "        vertical-align: middle;\n",
       "    }\n",
       "\n",
       "    .dataframe tbody tr th {\n",
       "        vertical-align: top;\n",
       "    }\n",
       "\n",
       "    .dataframe thead th {\n",
       "        text-align: right;\n",
       "    }\n",
       "</style>\n",
       "<table border=\"1\" class=\"dataframe\">\n",
       "  <thead>\n",
       "    <tr style=\"text-align: right;\">\n",
       "      <th></th>\n",
       "      <th>YearsExperience</th>\n",
       "      <th>Salary</th>\n",
       "    </tr>\n",
       "  </thead>\n",
       "  <tbody>\n",
       "    <tr>\n",
       "      <th>0</th>\n",
       "      <td>1.1</td>\n",
       "      <td>39343.0</td>\n",
       "    </tr>\n",
       "    <tr>\n",
       "      <th>1</th>\n",
       "      <td>1.3</td>\n",
       "      <td>46205.0</td>\n",
       "    </tr>\n",
       "    <tr>\n",
       "      <th>2</th>\n",
       "      <td>1.5</td>\n",
       "      <td>37731.0</td>\n",
       "    </tr>\n",
       "    <tr>\n",
       "      <th>3</th>\n",
       "      <td>2.0</td>\n",
       "      <td>43525.0</td>\n",
       "    </tr>\n",
       "    <tr>\n",
       "      <th>4</th>\n",
       "      <td>2.2</td>\n",
       "      <td>39891.0</td>\n",
       "    </tr>\n",
       "  </tbody>\n",
       "</table>\n",
       "</div>"
      ],
      "text/plain": [
       "   YearsExperience   Salary\n",
       "0              1.1  39343.0\n",
       "1              1.3  46205.0\n",
       "2              1.5  37731.0\n",
       "3              2.0  43525.0\n",
       "4              2.2  39891.0"
      ]
     },
     "execution_count": 3,
     "metadata": {},
     "output_type": "execute_result"
    }
   ],
   "source": [
    "df_data.head()"
   ]
  },
  {
   "cell_type": "code",
   "execution_count": 4,
   "id": "62070a4a",
   "metadata": {},
   "outputs": [],
   "source": [
    "df_house=pd.read_csv(r\"C:\\Users\\Rishi\\Downloads\\housing.csv\")"
   ]
  },
  {
   "cell_type": "code",
   "execution_count": 5,
   "id": "18c2bbdf",
   "metadata": {},
   "outputs": [
    {
     "data": {
      "text/html": [
       "<div>\n",
       "<style scoped>\n",
       "    .dataframe tbody tr th:only-of-type {\n",
       "        vertical-align: middle;\n",
       "    }\n",
       "\n",
       "    .dataframe tbody tr th {\n",
       "        vertical-align: top;\n",
       "    }\n",
       "\n",
       "    .dataframe thead th {\n",
       "        text-align: right;\n",
       "    }\n",
       "</style>\n",
       "<table border=\"1\" class=\"dataframe\">\n",
       "  <thead>\n",
       "    <tr style=\"text-align: right;\">\n",
       "      <th></th>\n",
       "      <th>id</th>\n",
       "      <th>date</th>\n",
       "      <th>price</th>\n",
       "      <th>bedrooms</th>\n",
       "      <th>bathrooms</th>\n",
       "      <th>sqft_living</th>\n",
       "      <th>sqft_lot</th>\n",
       "      <th>floors</th>\n",
       "      <th>waterfront</th>\n",
       "      <th>view</th>\n",
       "      <th>...</th>\n",
       "      <th>grade</th>\n",
       "      <th>sqft_above</th>\n",
       "      <th>sqft_basement</th>\n",
       "      <th>yr_built</th>\n",
       "      <th>yr_renovated</th>\n",
       "      <th>zipcode</th>\n",
       "      <th>lat</th>\n",
       "      <th>long</th>\n",
       "      <th>sqft_living15</th>\n",
       "      <th>sqft_lot15</th>\n",
       "    </tr>\n",
       "  </thead>\n",
       "  <tbody>\n",
       "    <tr>\n",
       "      <th>0</th>\n",
       "      <td>7129300520</td>\n",
       "      <td>20141013T000000</td>\n",
       "      <td>221900</td>\n",
       "      <td>3</td>\n",
       "      <td>1.00</td>\n",
       "      <td>1180</td>\n",
       "      <td>5650</td>\n",
       "      <td>1.0</td>\n",
       "      <td>0</td>\n",
       "      <td>0</td>\n",
       "      <td>...</td>\n",
       "      <td>7</td>\n",
       "      <td>1180</td>\n",
       "      <td>0</td>\n",
       "      <td>1955</td>\n",
       "      <td>0</td>\n",
       "      <td>98178</td>\n",
       "      <td>47.5112</td>\n",
       "      <td>-122.257</td>\n",
       "      <td>1340</td>\n",
       "      <td>5650</td>\n",
       "    </tr>\n",
       "    <tr>\n",
       "      <th>1</th>\n",
       "      <td>6414100192</td>\n",
       "      <td>20141209T000000</td>\n",
       "      <td>538000</td>\n",
       "      <td>3</td>\n",
       "      <td>2.25</td>\n",
       "      <td>2570</td>\n",
       "      <td>7242</td>\n",
       "      <td>2.0</td>\n",
       "      <td>0</td>\n",
       "      <td>0</td>\n",
       "      <td>...</td>\n",
       "      <td>7</td>\n",
       "      <td>2170</td>\n",
       "      <td>400</td>\n",
       "      <td>1951</td>\n",
       "      <td>1991</td>\n",
       "      <td>98125</td>\n",
       "      <td>47.7210</td>\n",
       "      <td>-122.319</td>\n",
       "      <td>1690</td>\n",
       "      <td>7639</td>\n",
       "    </tr>\n",
       "    <tr>\n",
       "      <th>2</th>\n",
       "      <td>5631500400</td>\n",
       "      <td>20150225T000000</td>\n",
       "      <td>180000</td>\n",
       "      <td>2</td>\n",
       "      <td>1.00</td>\n",
       "      <td>770</td>\n",
       "      <td>10000</td>\n",
       "      <td>1.0</td>\n",
       "      <td>0</td>\n",
       "      <td>0</td>\n",
       "      <td>...</td>\n",
       "      <td>6</td>\n",
       "      <td>770</td>\n",
       "      <td>0</td>\n",
       "      <td>1933</td>\n",
       "      <td>0</td>\n",
       "      <td>98028</td>\n",
       "      <td>47.7379</td>\n",
       "      <td>-122.233</td>\n",
       "      <td>2720</td>\n",
       "      <td>8062</td>\n",
       "    </tr>\n",
       "    <tr>\n",
       "      <th>3</th>\n",
       "      <td>2487200875</td>\n",
       "      <td>20141209T000000</td>\n",
       "      <td>604000</td>\n",
       "      <td>4</td>\n",
       "      <td>3.00</td>\n",
       "      <td>1960</td>\n",
       "      <td>5000</td>\n",
       "      <td>1.0</td>\n",
       "      <td>0</td>\n",
       "      <td>0</td>\n",
       "      <td>...</td>\n",
       "      <td>7</td>\n",
       "      <td>1050</td>\n",
       "      <td>910</td>\n",
       "      <td>1965</td>\n",
       "      <td>0</td>\n",
       "      <td>98136</td>\n",
       "      <td>47.5208</td>\n",
       "      <td>-122.393</td>\n",
       "      <td>1360</td>\n",
       "      <td>5000</td>\n",
       "    </tr>\n",
       "    <tr>\n",
       "      <th>4</th>\n",
       "      <td>1954400510</td>\n",
       "      <td>20150218T000000</td>\n",
       "      <td>510000</td>\n",
       "      <td>3</td>\n",
       "      <td>2.00</td>\n",
       "      <td>1680</td>\n",
       "      <td>8080</td>\n",
       "      <td>1.0</td>\n",
       "      <td>0</td>\n",
       "      <td>0</td>\n",
       "      <td>...</td>\n",
       "      <td>8</td>\n",
       "      <td>1680</td>\n",
       "      <td>0</td>\n",
       "      <td>1987</td>\n",
       "      <td>0</td>\n",
       "      <td>98074</td>\n",
       "      <td>47.6168</td>\n",
       "      <td>-122.045</td>\n",
       "      <td>1800</td>\n",
       "      <td>7503</td>\n",
       "    </tr>\n",
       "  </tbody>\n",
       "</table>\n",
       "<p>5 rows × 21 columns</p>\n",
       "</div>"
      ],
      "text/plain": [
       "           id             date   price  bedrooms  bathrooms  sqft_living  \\\n",
       "0  7129300520  20141013T000000  221900         3       1.00         1180   \n",
       "1  6414100192  20141209T000000  538000         3       2.25         2570   \n",
       "2  5631500400  20150225T000000  180000         2       1.00          770   \n",
       "3  2487200875  20141209T000000  604000         4       3.00         1960   \n",
       "4  1954400510  20150218T000000  510000         3       2.00         1680   \n",
       "\n",
       "   sqft_lot  floors  waterfront  view  ...  grade  sqft_above  sqft_basement  \\\n",
       "0      5650     1.0           0     0  ...      7        1180              0   \n",
       "1      7242     2.0           0     0  ...      7        2170            400   \n",
       "2     10000     1.0           0     0  ...      6         770              0   \n",
       "3      5000     1.0           0     0  ...      7        1050            910   \n",
       "4      8080     1.0           0     0  ...      8        1680              0   \n",
       "\n",
       "   yr_built  yr_renovated  zipcode      lat     long  sqft_living15  \\\n",
       "0      1955             0    98178  47.5112 -122.257           1340   \n",
       "1      1951          1991    98125  47.7210 -122.319           1690   \n",
       "2      1933             0    98028  47.7379 -122.233           2720   \n",
       "3      1965             0    98136  47.5208 -122.393           1360   \n",
       "4      1987             0    98074  47.6168 -122.045           1800   \n",
       "\n",
       "   sqft_lot15  \n",
       "0        5650  \n",
       "1        7639  \n",
       "2        8062  \n",
       "3        5000  \n",
       "4        7503  \n",
       "\n",
       "[5 rows x 21 columns]"
      ]
     },
     "execution_count": 5,
     "metadata": {},
     "output_type": "execute_result"
    }
   ],
   "source": [
    "df_house.head()"
   ]
  },
  {
   "cell_type": "code",
   "execution_count": 6,
   "id": "3ed60dbf",
   "metadata": {},
   "outputs": [
    {
     "name": "stdout",
     "output_type": "stream",
     "text": [
      "14\n"
     ]
    }
   ],
   "source": [
    "# 1. How many employees having more than 5 years experience are earning more than 60000?\n",
    "# a. 41\n",
    "# b. 12\n",
    "# c. 21\n",
    "# d. 14\n",
    "emp_ov_5y = df_data[df_data['YearsExperience'] > 5]\n",
    "emp_er_60k = emp_ov_5y[emp_ov_5y['Salary'] > 60000]\n",
    "ans_1 = len(emp_er_60k)\n",
    "print(ans_1)"
   ]
  },
  {
   "cell_type": "code",
   "execution_count": 7,
   "id": "236ef896",
   "metadata": {},
   "outputs": [
    {
     "name": "stdout",
     "output_type": "stream",
     "text": [
      "12\n"
     ]
    }
   ],
   "source": [
    "# 2. How many employees are earning between 50000-80000?\n",
    "# a. 14\n",
    "# b. 12\n",
    "# c. 10\n",
    "# d. 13\n",
    "\n",
    "emp_btw_50k_80k = df_data[(df_data['Salary'] >= 50000) & (df_data['Salary'] <= 80000)]\n",
    "ans_2 = len(emp_btw_50k_80k)\n",
    "print(ans_2)\n"
   ]
  },
  {
   "cell_type": "code",
   "execution_count": 8,
   "id": "9655e6b1",
   "metadata": {},
   "outputs": [
    {
     "name": "stderr",
     "output_type": "stream",
     "text": [
      "C:\\Users\\Rishi\\AppData\\Local\\Temp\\ipykernel_14016\\346210877.py:12: UserWarning: Ignoring `palette` because no `hue` variable has been assigned.\n",
      "  sns.scatterplot(x=\"Salary\", y=\"YearsExperience\", data=df_data, palette=\"YlGnBu\")\n"
     ]
    },
    {
     "data": {
      "image/png": "[encoded data removed]",
      "text/plain": [
       "<Figure size 640x480 with 1 Axes>"
      ]
     },
     "metadata": {},
     "output_type": "display_data"
    }
   ],
   "source": [
    "# 3. The scatter plot in the following image shows the relationship between the\n",
    "# “YearsExperience” and “Salary” columns. What possible inferences can be drawn from the\n",
    "# plot?\n",
    "# a. The plot shows a positive correlation between the ‘YearsExperience” and “Salary”\n",
    "# column.\n",
    "# b. The plot shows no significant relationship between the “YearExperience” and\n",
    "# “Salary” column.\n",
    "# c. The plot shows a negative correlation between the “YearsExperience” and\n",
    "# “Salary” column.\n",
    "# d. None of the above.\n",
    "\n",
    "sns.scatterplot(x=\"Salary\", y=\"YearsExperience\", data=df_data, palette=\"YlGnBu\")\n",
    "plt.show()"
   ]
  },
  {
   "cell_type": "code",
   "execution_count": 9,
   "id": "3115cab8",
   "metadata": {},
   "outputs": [
    {
     "name": "stderr",
     "output_type": "stream",
     "text": [
      "C:\\Users\\Rishi\\anaconda3\\Lib\\site-packages\\seaborn\\axisgrid.py:118: UserWarning: The figure layout has changed to tight\n",
      "  self._figure.tight_layout(*args, **kwargs)\n"
     ]
    },
    {
     "data": {
      "image/png": "[encoded data removed]",
      "text/plain": [
       "<Figure size 500x500 with 1 Axes>"
      ]
     },
     "metadata": {},
     "output_type": "display_data"
    }
   ],
   "source": [
    "# 4. The distribution plot of the column “YearsExperience” is shown in the image below,\n",
    "# what possible inferences can be drawn from the plot.\n",
    "# a. “YearsExperience” data is normally distributed.\n",
    "# b. “YearsExperience” data is positively skewed.\n",
    "# c. “YearsExperience” data is negatively skewed.\n",
    "# d. None of the above.\n",
    "\n",
    "sns.displot(df_data['YearsExperience'], kde=True, bins=10)\n",
    "plt.xlabel(\"Years of experience\")\n",
    "plt.ylabel(\"Number of people\")\n",
    "plt.title(\"Distribution of YearsExperience\")\n",
    "plt.show()"
   ]
  },
  {
   "cell_type": "code",
   "execution_count": 10,
   "id": "5b4b7a5a",
   "metadata": {},
   "outputs": [
    {
     "name": "stdout",
     "output_type": "stream",
     "text": [
      "Range of YearsExperience: 9.4\n",
      "Range of Salary: 84660.0\n"
     ]
    }
   ],
   "source": [
    "# 5. What all inferences can be drawn from the table shown below:\n",
    "# a. The range of the “YearsExperience” and “Salary” data is (9.4 , 84660 )\n",
    "# b. The range of the “YearsExperience” and “Salary” data is (4.7 , 65237 )\n",
    "# c. The range of the “YearsExperience” and “Salary” data is (10.5, 122391)\n",
    "# d. The range of the “YearsExperience” and “Salary” data is (7.7 ,100544)\n",
    "\n",
    "exp_range = df_data['YearsExperience'].max() - df_data['YearsExperience'].min()\n",
    "sal_range = df_data['Salary'].max() - df_data['Salary'].min()\n",
    "\n",
    "print(f\"Range of YearsExperience: {exp_range}\")\n",
    "print(f\"Range of Salary: {sal_range}\")"
   ]
  },
  {
   "cell_type": "code",
   "execution_count": 11,
   "id": "863bb94d",
   "metadata": {},
   "outputs": [],
   "source": [
    "from sklearn.model_selection import train_test_split\n",
    "from sklearn.linear_model import LinearRegression\n",
    "from sklearn.metrics import r2_score"
   ]
  },
  {
   "cell_type": "code",
   "execution_count": 12,
   "id": "c96ddc59",
   "metadata": {},
   "outputs": [
    {
     "name": "stdout",
     "output_type": "stream",
     "text": [
      " The test_size=0.2 means 20% of the data will be used for testing.\n"
     ]
    }
   ],
   "source": [
    "# 6. To split the dataset into training and testing data, if we use the following code. X = data['YearsExperience']\n",
    "# y = data['Salary']\n",
    "# X_train, X_test, y_train, y_test = train_test_split(X, y, test_size=0.2,\n",
    "# random_state=0) What does it mean when we write the test size as 0.2?\n",
    "# a. The testing data will be 2% accurate.\n",
    "# b. The testing data will have 80% samples from the total population.\n",
    "# c. The testing data will have 2% samples from the total population.\n",
    "# d. The training data will consist of 80% of the samples from the total population.\n",
    "\n",
    "print(\" The test_size=0.2 means 20% of the data will be used for testing.\")"
   ]
  },
  {
   "cell_type": "code",
   "execution_count": 13,
   "id": "37d734ef",
   "metadata": {},
   "outputs": [
    {
     "name": "stdout",
     "output_type": "stream",
     "text": [
      " Changing random_state to 42 will produce a different split.\n"
     ]
    }
   ],
   "source": [
    "# 7. In the above example code, we have taken the random state as 0, if we change the\n",
    "# random state as 42, what does it mean for our training and testing data?\n",
    "# a. The shape of the training data will become (42,)\n",
    "# b. The shape of the training data will become (42,2)\n",
    "# c. The random state does not have any effect on the shape of the data.\n",
    "# d. The random state will increase the efficiency of the model by 42%.\n",
    "\n",
    "print(\" Changing random_state to 42 will produce a different split.\")\n",
    "# coorect ans is The random state does not have any effect on the shape of the data."
   ]
  },
  {
   "cell_type": "code",
   "execution_count": 14,
   "id": "fc163866",
   "metadata": {},
   "outputs": [
    {
     "ename": "AttributeError",
     "evalue": "'Series' object has no attribute 'reshape'",
     "output_type": "error",
     "traceback": [
      "\u001b[1;31m---------------------------------------------------------------------------\u001b[0m",
      "\u001b[1;31mAttributeError\u001b[0m                            Traceback (most recent call last)",
      "\u001b[1;32m~\\AppData\\Local\\Temp\\ipykernel_14016\\1128683355.py\u001b[0m in \u001b[0;36m?\u001b[1;34m()\u001b[0m\n\u001b[0;32m      8\u001b[0m \u001b[1;33m\u001b[0m\u001b[0m\n\u001b[0;32m      9\u001b[0m \u001b[0mX\u001b[0m \u001b[1;33m=\u001b[0m \u001b[0mdf_data\u001b[0m\u001b[1;33m[\u001b[0m\u001b[1;34m'YearsExperience'\u001b[0m\u001b[1;33m]\u001b[0m\u001b[1;33m\u001b[0m\u001b[1;33m\u001b[0m\u001b[0m\n\u001b[0;32m     10\u001b[0m \u001b[0my\u001b[0m \u001b[1;33m=\u001b[0m \u001b[0mdf_data\u001b[0m\u001b[1;33m[\u001b[0m\u001b[1;34m'Salary'\u001b[0m\u001b[1;33m]\u001b[0m\u001b[1;33m\u001b[0m\u001b[1;33m\u001b[0m\u001b[0m\n\u001b[0;32m     11\u001b[0m \u001b[0mX_train\u001b[0m\u001b[1;33m,\u001b[0m \u001b[0mX_test\u001b[0m\u001b[1;33m,\u001b[0m \u001b[0my_train\u001b[0m\u001b[1;33m,\u001b[0m \u001b[0my_test\u001b[0m \u001b[1;33m=\u001b[0m \u001b[0mtrain_test_split\u001b[0m\u001b[1;33m(\u001b[0m\u001b[0mX\u001b[0m\u001b[1;33m,\u001b[0m \u001b[0my\u001b[0m\u001b[1;33m,\u001b[0m \u001b[0mtest_size\u001b[0m\u001b[1;33m=\u001b[0m\u001b[1;36m0.4\u001b[0m\u001b[1;33m,\u001b[0m\u001b[0mrandom_state\u001b[0m\u001b[1;33m=\u001b[0m\u001b[1;36m0\u001b[0m\u001b[1;33m)\u001b[0m\u001b[1;33m\u001b[0m\u001b[1;33m\u001b[0m\u001b[0m\n\u001b[1;32m---> 12\u001b[1;33m \u001b[0mX_train\u001b[0m\u001b[1;33m.\u001b[0m\u001b[0mreshape\u001b[0m\u001b[1;33m(\u001b[0m\u001b[1;33m-\u001b[0m\u001b[1;36m1\u001b[0m\u001b[1;33m,\u001b[0m\u001b[1;33m)\u001b[0m\u001b[1;33m\u001b[0m\u001b[1;33m\u001b[0m\u001b[0m\n\u001b[0m\u001b[0;32m     13\u001b[0m \u001b[0mmodel\u001b[0m \u001b[1;33m=\u001b[0m \u001b[0mLinearRegression\u001b[0m\u001b[1;33m(\u001b[0m\u001b[1;33m)\u001b[0m\u001b[1;33m\u001b[0m\u001b[1;33m\u001b[0m\u001b[0m\n\u001b[0;32m     14\u001b[0m \u001b[0mmodel\u001b[0m\u001b[1;33m.\u001b[0m\u001b[0mfit\u001b[0m\u001b[1;33m(\u001b[0m\u001b[0mX_train\u001b[0m\u001b[1;33m,\u001b[0m \u001b[0my_train\u001b[0m\u001b[1;33m)\u001b[0m\u001b[1;33m\u001b[0m\u001b[1;33m\u001b[0m\u001b[0m\n\u001b[0;32m     15\u001b[0m \u001b[0my_pred\u001b[0m \u001b[1;33m=\u001b[0m \u001b[0mmodel\u001b[0m\u001b[1;33m.\u001b[0m\u001b[0mpredict\u001b[0m\u001b[1;33m(\u001b[0m\u001b[0mX_test\u001b[0m\u001b[1;33m)\u001b[0m\u001b[1;33m\u001b[0m\u001b[1;33m\u001b[0m\u001b[0m\n",
      "\u001b[1;32m~\\anaconda3\\Lib\\site-packages\\pandas\\core\\generic.py\u001b[0m in \u001b[0;36m?\u001b[1;34m(self, name)\u001b[0m\n\u001b[0;32m   5985\u001b[0m             \u001b[1;32mand\u001b[0m \u001b[0mname\u001b[0m \u001b[1;32mnot\u001b[0m \u001b[1;32min\u001b[0m \u001b[0mself\u001b[0m\u001b[1;33m.\u001b[0m\u001b[0m_accessors\u001b[0m\u001b[1;33m\u001b[0m\u001b[1;33m\u001b[0m\u001b[0m\n\u001b[0;32m   5986\u001b[0m             \u001b[1;32mand\u001b[0m \u001b[0mself\u001b[0m\u001b[1;33m.\u001b[0m\u001b[0m_info_axis\u001b[0m\u001b[1;33m.\u001b[0m\u001b[0m_can_hold_identifiers_and_holds_name\u001b[0m\u001b[1;33m(\u001b[0m\u001b[0mname\u001b[0m\u001b[1;33m)\u001b[0m\u001b[1;33m\u001b[0m\u001b[1;33m\u001b[0m\u001b[0m\n\u001b[0;32m   5987\u001b[0m         ):\n\u001b[0;32m   5988\u001b[0m             \u001b[1;32mreturn\u001b[0m \u001b[0mself\u001b[0m\u001b[1;33m[\u001b[0m\u001b[0mname\u001b[0m\u001b[1;33m]\u001b[0m\u001b[1;33m\u001b[0m\u001b[1;33m\u001b[0m\u001b[0m\n\u001b[1;32m-> 5989\u001b[1;33m         \u001b[1;32mreturn\u001b[0m \u001b[0mobject\u001b[0m\u001b[1;33m.\u001b[0m\u001b[0m__getattribute__\u001b[0m\u001b[1;33m(\u001b[0m\u001b[0mself\u001b[0m\u001b[1;33m,\u001b[0m \u001b[0mname\u001b[0m\u001b[1;33m)\u001b[0m\u001b[1;33m\u001b[0m\u001b[1;33m\u001b[0m\u001b[0m\n\u001b[0m",
      "\u001b[1;31mAttributeError\u001b[0m: 'Series' object has no attribute 'reshape'"
     ]
    }
   ],
   "source": [
    "# 8. If the r2 score calculated in the above example is 0.98 , change the sample size of       **********************\n",
    "# the training and testing set in the ratio 60:40, and build a linear regression model again.\n",
    "# After plotting the best fit line on the test data, calculate the r2_score for the new model.\n",
    "# a. 0.98\n",
    "# b. 0.96\n",
    "# c. 1.0\n",
    "# d. 0.0\n",
    "\n",
    "X = df_data['YearsExperience']\n",
    "y = df_data['Salary']\n",
    "X_train, X_test, y_train, y_test = train_test_split(X, y, test_size=0.4,random_state=0)\n",
    "#X_train.reshape(-1,)\n",
    "model = LinearRegression()\n",
    "model.fit(X_train, y_train)\n",
    "y_pred = model.predict(X_test)\n",
    "r2_score_p = r2_score(y_test,y_pred)\n"
   ]
  },
  {
   "cell_type": "code",
   "execution_count": 15,
   "id": "86d69bd2",
   "metadata": {},
   "outputs": [
    {
     "name": "stdout",
     "output_type": "stream",
     "text": [
      "a. Reshape the data to a two dimensional array\n"
     ]
    }
   ],
   "source": [
    "# 9. If while fitting the model with training and testing data, you get the following error      **************  \n",
    "# ValueError: Expected 2D array, got 1D array instead: What could be the issue with the data, and how can you solve it?\n",
    "# a. Reshape the data to a two dimensional array\n",
    "# b. Reshape the data to two arrays of 1-D each.\n",
    "# c. Both A and B\n",
    "# d. None of the above\n",
    "\n",
    "print(\"a. Reshape the data to a two dimensional array\")\n"
   ]
  },
  {
   "cell_type": "code",
   "execution_count": 16,
   "id": "2a04c86b",
   "metadata": {},
   "outputs": [
    {
     "data": {
      "text/html": [
       "<div>\n",
       "<style scoped>\n",
       "    .dataframe tbody tr th:only-of-type {\n",
       "        vertical-align: middle;\n",
       "    }\n",
       "\n",
       "    .dataframe tbody tr th {\n",
       "        vertical-align: top;\n",
       "    }\n",
       "\n",
       "    .dataframe thead th {\n",
       "        text-align: right;\n",
       "    }\n",
       "</style>\n",
       "<table border=\"1\" class=\"dataframe\">\n",
       "  <thead>\n",
       "    <tr style=\"text-align: right;\">\n",
       "      <th></th>\n",
       "      <th>id</th>\n",
       "      <th>date</th>\n",
       "      <th>price</th>\n",
       "      <th>bedrooms</th>\n",
       "      <th>bathrooms</th>\n",
       "      <th>sqft_living</th>\n",
       "      <th>sqft_lot</th>\n",
       "      <th>floors</th>\n",
       "      <th>waterfront</th>\n",
       "      <th>view</th>\n",
       "      <th>...</th>\n",
       "      <th>grade</th>\n",
       "      <th>sqft_above</th>\n",
       "      <th>sqft_basement</th>\n",
       "      <th>yr_built</th>\n",
       "      <th>yr_renovated</th>\n",
       "      <th>zipcode</th>\n",
       "      <th>lat</th>\n",
       "      <th>long</th>\n",
       "      <th>sqft_living15</th>\n",
       "      <th>sqft_lot15</th>\n",
       "    </tr>\n",
       "  </thead>\n",
       "  <tbody>\n",
       "    <tr>\n",
       "      <th>0</th>\n",
       "      <td>7129300520</td>\n",
       "      <td>20141013T000000</td>\n",
       "      <td>221900</td>\n",
       "      <td>3</td>\n",
       "      <td>1.00</td>\n",
       "      <td>1180</td>\n",
       "      <td>5650</td>\n",
       "      <td>1.0</td>\n",
       "      <td>0</td>\n",
       "      <td>0</td>\n",
       "      <td>...</td>\n",
       "      <td>7</td>\n",
       "      <td>1180</td>\n",
       "      <td>0</td>\n",
       "      <td>1955</td>\n",
       "      <td>0</td>\n",
       "      <td>98178</td>\n",
       "      <td>47.5112</td>\n",
       "      <td>-122.257</td>\n",
       "      <td>1340</td>\n",
       "      <td>5650</td>\n",
       "    </tr>\n",
       "    <tr>\n",
       "      <th>1</th>\n",
       "      <td>6414100192</td>\n",
       "      <td>20141209T000000</td>\n",
       "      <td>538000</td>\n",
       "      <td>3</td>\n",
       "      <td>2.25</td>\n",
       "      <td>2570</td>\n",
       "      <td>7242</td>\n",
       "      <td>2.0</td>\n",
       "      <td>0</td>\n",
       "      <td>0</td>\n",
       "      <td>...</td>\n",
       "      <td>7</td>\n",
       "      <td>2170</td>\n",
       "      <td>400</td>\n",
       "      <td>1951</td>\n",
       "      <td>1991</td>\n",
       "      <td>98125</td>\n",
       "      <td>47.7210</td>\n",
       "      <td>-122.319</td>\n",
       "      <td>1690</td>\n",
       "      <td>7639</td>\n",
       "    </tr>\n",
       "    <tr>\n",
       "      <th>2</th>\n",
       "      <td>5631500400</td>\n",
       "      <td>20150225T000000</td>\n",
       "      <td>180000</td>\n",
       "      <td>2</td>\n",
       "      <td>1.00</td>\n",
       "      <td>770</td>\n",
       "      <td>10000</td>\n",
       "      <td>1.0</td>\n",
       "      <td>0</td>\n",
       "      <td>0</td>\n",
       "      <td>...</td>\n",
       "      <td>6</td>\n",
       "      <td>770</td>\n",
       "      <td>0</td>\n",
       "      <td>1933</td>\n",
       "      <td>0</td>\n",
       "      <td>98028</td>\n",
       "      <td>47.7379</td>\n",
       "      <td>-122.233</td>\n",
       "      <td>2720</td>\n",
       "      <td>8062</td>\n",
       "    </tr>\n",
       "    <tr>\n",
       "      <th>3</th>\n",
       "      <td>2487200875</td>\n",
       "      <td>20141209T000000</td>\n",
       "      <td>604000</td>\n",
       "      <td>4</td>\n",
       "      <td>3.00</td>\n",
       "      <td>1960</td>\n",
       "      <td>5000</td>\n",
       "      <td>1.0</td>\n",
       "      <td>0</td>\n",
       "      <td>0</td>\n",
       "      <td>...</td>\n",
       "      <td>7</td>\n",
       "      <td>1050</td>\n",
       "      <td>910</td>\n",
       "      <td>1965</td>\n",
       "      <td>0</td>\n",
       "      <td>98136</td>\n",
       "      <td>47.5208</td>\n",
       "      <td>-122.393</td>\n",
       "      <td>1360</td>\n",
       "      <td>5000</td>\n",
       "    </tr>\n",
       "    <tr>\n",
       "      <th>4</th>\n",
       "      <td>1954400510</td>\n",
       "      <td>20150218T000000</td>\n",
       "      <td>510000</td>\n",
       "      <td>3</td>\n",
       "      <td>2.00</td>\n",
       "      <td>1680</td>\n",
       "      <td>8080</td>\n",
       "      <td>1.0</td>\n",
       "      <td>0</td>\n",
       "      <td>0</td>\n",
       "      <td>...</td>\n",
       "      <td>8</td>\n",
       "      <td>1680</td>\n",
       "      <td>0</td>\n",
       "      <td>1987</td>\n",
       "      <td>0</td>\n",
       "      <td>98074</td>\n",
       "      <td>47.6168</td>\n",
       "      <td>-122.045</td>\n",
       "      <td>1800</td>\n",
       "      <td>7503</td>\n",
       "    </tr>\n",
       "  </tbody>\n",
       "</table>\n",
       "<p>5 rows × 21 columns</p>\n",
       "</div>"
      ],
      "text/plain": [
       "           id             date   price  bedrooms  bathrooms  sqft_living  \\\n",
       "0  7129300520  20141013T000000  221900         3       1.00         1180   \n",
       "1  6414100192  20141209T000000  538000         3       2.25         2570   \n",
       "2  5631500400  20150225T000000  180000         2       1.00          770   \n",
       "3  2487200875  20141209T000000  604000         4       3.00         1960   \n",
       "4  1954400510  20150218T000000  510000         3       2.00         1680   \n",
       "\n",
       "   sqft_lot  floors  waterfront  view  ...  grade  sqft_above  sqft_basement  \\\n",
       "0      5650     1.0           0     0  ...      7        1180              0   \n",
       "1      7242     2.0           0     0  ...      7        2170            400   \n",
       "2     10000     1.0           0     0  ...      6         770              0   \n",
       "3      5000     1.0           0     0  ...      7        1050            910   \n",
       "4      8080     1.0           0     0  ...      8        1680              0   \n",
       "\n",
       "   yr_built  yr_renovated  zipcode      lat     long  sqft_living15  \\\n",
       "0      1955             0    98178  47.5112 -122.257           1340   \n",
       "1      1951          1991    98125  47.7210 -122.319           1690   \n",
       "2      1933             0    98028  47.7379 -122.233           2720   \n",
       "3      1965             0    98136  47.5208 -122.393           1360   \n",
       "4      1987             0    98074  47.6168 -122.045           1800   \n",
       "\n",
       "   sqft_lot15  \n",
       "0        5650  \n",
       "1        7639  \n",
       "2        8062  \n",
       "3        5000  \n",
       "4        7503  \n",
       "\n",
       "[5 rows x 21 columns]"
      ]
     },
     "execution_count": 16,
     "metadata": {},
     "output_type": "execute_result"
    }
   ],
   "source": [
    "df_house.head()"
   ]
  },
  {
   "cell_type": "code",
   "execution_count": 17,
   "id": "10e0db30",
   "metadata": {},
   "outputs": [
    {
     "name": "stdout",
     "output_type": "stream",
     "text": [
      "163\n"
     ]
    }
   ],
   "source": [
    "# 10. How many houses have a waterfront?\n",
    "# a. 21000\n",
    "# b. 21450\n",
    "# c. 163\n",
    "# d. 173\n",
    "\n",
    "house_wf = df_house[df_house['waterfront'] == 1]\n",
    "ans_10 = len(house_wf)\n",
    "print(ans_10)"
   ]
  },
  {
   "cell_type": "code",
   "execution_count": 18,
   "id": "1b960fe9",
   "metadata": {},
   "outputs": [
    {
     "name": "stdout",
     "output_type": "stream",
     "text": [
      "8241\n"
     ]
    }
   ],
   "source": [
    "# 11. How many houses have 2 floors?\n",
    "# a. 2692\n",
    "# b. 8241\n",
    "# c. 10680\n",
    "# d. 161\n",
    "\n",
    "houses_2_f = df_house[df_house['floors'] == 2]\n",
    "ans_11 = len(houses_2_f)  \n",
    "print(ans_11)"
   ]
  },
  {
   "cell_type": "code",
   "execution_count": 19,
   "id": "f9a083c4",
   "metadata": {},
   "outputs": [
    {
     "name": "stdout",
     "output_type": "stream",
     "text": [
      "80\n"
     ]
    }
   ],
   "source": [
    "# 12. How many houses built before 1960 have a waterfront?\n",
    "# a. 80\n",
    "# b. 7309\n",
    "# c. 90\n",
    "# d. 92\n",
    "\n",
    "houses_b_1960_waterfront = df_house[(df_house['yr_built'] < 1960) & (df_house['waterfront'] == 1)]\n",
    "ans_12 = len(houses_b_1960_waterfront)\n",
    "print(ans_12)"
   ]
  },
  {
   "cell_type": "code",
   "execution_count": 20,
   "id": "d773ba12",
   "metadata": {},
   "outputs": [
    {
     "name": "stdout",
     "output_type": "stream",
     "text": [
      "7700000\n"
     ]
    }
   ],
   "source": [
    "# 13. What is the price of the most expensive house having more than 4 bathrooms?\n",
    "# a. 7700000\n",
    "# b. 187000\n",
    "# c. 290000\n",
    "# d. 399000\n",
    "\n",
    "expensive_4_bathrooms = df_house[df_house['bathrooms'] > 4]['price'].max()\n",
    "ans_13 = expensive_4_bathrooms\n",
    "print(ans_13)"
   ]
  },
  {
   "cell_type": "code",
   "execution_count": 21,
   "id": "aa6b1238",
   "metadata": {},
   "outputs": [
    {
     "name": "stdout",
     "output_type": "stream",
     "text": [
      "c. There is a presence of outliers in the price data.\n"
     ]
    }
   ],
   "source": [
    "# 14. The image shown below shows the boxplot of the price column from the housing dataset. \n",
    "# What inferences can you make from the plot?\n",
    "# a. The price column is normally distributed.\n",
    "# b. There might be high chances of price data having null values.\n",
    "# c. There is a presence of outliers in the price data.\n",
    "# d. There is no presence of outliers in the price data.\n",
    "\n",
    "print(\"c. There is a presence of outliers in the price data.\")\n"
   ]
  },
  {
   "cell_type": "code",
   "execution_count": 22,
   "id": "34f7d8a0",
   "metadata": {},
   "outputs": [],
   "source": [
    "# 15. For instance, if the ‘price’ column consists of outliers, how can you make the data clean and remove the redundancies?\n",
    "# a. Calculate the IQR range and drop the values outside the range.\n",
    "# b. Calculate the p-value and remove the values less than 0.05.\n",
    "# c. Calculate the correlation coefficient of the price column and remove the values less than\n",
    "# the correlation coefficient.                         **************************\n",
    "# d. Calculate the Z-score of the price column and remove the values less than the z-score.\n",
    "# coorect ans is Calculate the IQR range and drop the values outside the range.\n"
   ]
  },
  {
   "cell_type": "code",
   "execution_count": 23,
   "id": "b2e4993f",
   "metadata": {},
   "outputs": [],
   "source": [
    "# Q1 = df_house['price'].quantile(0.25)\n",
    "# Q3 = df_house['price'].quantile(0.75)\n",
    "# IQR = Q3 - Q1\n",
    "# cleaned_data = df_house[(df_house['price'] >= Q1 - 1.5 * IQR) & (df_house['price'] <= Q3 + 1.5 * IQR)]\n",
    "# print(len(cleaned_data))"
   ]
  },
  {
   "cell_type": "code",
   "execution_count": 24,
   "id": "f468c257",
   "metadata": {},
   "outputs": [],
   "source": [
    "# 16. What are the various parameters that can be used to determine the dependent variable \n",
    "# in the housing data to determine the price of the house?\n",
    "# a. Correlation coefficients\n",
    "# b. Z-score\n",
    "# c. IQR Range\n",
    "# d. Range of the Features\n",
    "\n",
    "# coorect ans is Z-score"
   ]
  },
  {
   "cell_type": "code",
   "execution_count": 25,
   "id": "6ae9e15d",
   "metadata": {},
   "outputs": [],
   "source": [
    "# # For exploring correlation coefficients\n",
    "# correlation_matrix = df_house.corr()\n",
    "# correlation_with_price = correlation_matrix['price'].sort_values(ascending=False)\n",
    "\n",
    "# # For exploring Z-score (standardization)\n",
    "# from sklearn.preprocessing import StandardScaler\n",
    "# scaler = StandardScaler()\n",
    "# scaled_data = scaler.fit_transform(df_house[['bedrooms', 'bathrooms', 'sqft_living', 'sqft_lot']])\n",
    "# scaled_data_df = pd.DataFrame(scaled_data, columns=['bedrooms', 'bathrooms', 'sqft_living', 'sqft_lot'])\n",
    "# scaled_data_df['price'] = df_house['price']\n",
    "# z_score_corr = scaled_data_df.corr()['price'].abs().sort_values(ascending=False)"
   ]
  },
  {
   "cell_type": "code",
   "execution_count": 26,
   "id": "d09298f6",
   "metadata": {},
   "outputs": [],
   "source": [
    "# 17. If we get the r2 score as 0.38, what inferences can we make about the model and its efficiency?\n",
    "# a. The model is 38% accurate, and shows poor efficiency.\n",
    "# b. The model is showing 0.38% discrepancies in the outcomes.\n",
    "# c. Low difference between observed and fitted values.\n",
    "# d. High difference between observed and fitted values.\n",
    "\n",
    "# coorect ans is The model is showing 0.38% discrepancies in the outcomes. "
   ]
  },
  {
   "cell_type": "code",
   "execution_count": 27,
   "id": "7353739f",
   "metadata": {},
   "outputs": [
    {
     "data": {
      "text/html": [
       "<div>\n",
       "<style scoped>\n",
       "    .dataframe tbody tr th:only-of-type {\n",
       "        vertical-align: middle;\n",
       "    }\n",
       "\n",
       "    .dataframe tbody tr th {\n",
       "        vertical-align: top;\n",
       "    }\n",
       "\n",
       "    .dataframe thead th {\n",
       "        text-align: right;\n",
       "    }\n",
       "</style>\n",
       "<table border=\"1\" class=\"dataframe\">\n",
       "  <thead>\n",
       "    <tr style=\"text-align: right;\">\n",
       "      <th></th>\n",
       "      <th>id</th>\n",
       "      <th>date</th>\n",
       "      <th>price</th>\n",
       "      <th>bedrooms</th>\n",
       "      <th>bathrooms</th>\n",
       "      <th>sqft_living</th>\n",
       "      <th>sqft_lot</th>\n",
       "      <th>floors</th>\n",
       "      <th>waterfront</th>\n",
       "      <th>view</th>\n",
       "      <th>...</th>\n",
       "      <th>grade</th>\n",
       "      <th>sqft_above</th>\n",
       "      <th>sqft_basement</th>\n",
       "      <th>yr_built</th>\n",
       "      <th>yr_renovated</th>\n",
       "      <th>zipcode</th>\n",
       "      <th>lat</th>\n",
       "      <th>long</th>\n",
       "      <th>sqft_living15</th>\n",
       "      <th>sqft_lot15</th>\n",
       "    </tr>\n",
       "  </thead>\n",
       "  <tbody>\n",
       "    <tr>\n",
       "      <th>0</th>\n",
       "      <td>7129300520</td>\n",
       "      <td>20141013T000000</td>\n",
       "      <td>221900</td>\n",
       "      <td>3</td>\n",
       "      <td>1.00</td>\n",
       "      <td>1180</td>\n",
       "      <td>5650</td>\n",
       "      <td>1.0</td>\n",
       "      <td>0</td>\n",
       "      <td>0</td>\n",
       "      <td>...</td>\n",
       "      <td>7</td>\n",
       "      <td>1180</td>\n",
       "      <td>0</td>\n",
       "      <td>1955</td>\n",
       "      <td>0</td>\n",
       "      <td>98178</td>\n",
       "      <td>47.5112</td>\n",
       "      <td>-122.257</td>\n",
       "      <td>1340</td>\n",
       "      <td>5650</td>\n",
       "    </tr>\n",
       "    <tr>\n",
       "      <th>1</th>\n",
       "      <td>6414100192</td>\n",
       "      <td>20141209T000000</td>\n",
       "      <td>538000</td>\n",
       "      <td>3</td>\n",
       "      <td>2.25</td>\n",
       "      <td>2570</td>\n",
       "      <td>7242</td>\n",
       "      <td>2.0</td>\n",
       "      <td>0</td>\n",
       "      <td>0</td>\n",
       "      <td>...</td>\n",
       "      <td>7</td>\n",
       "      <td>2170</td>\n",
       "      <td>400</td>\n",
       "      <td>1951</td>\n",
       "      <td>1991</td>\n",
       "      <td>98125</td>\n",
       "      <td>47.7210</td>\n",
       "      <td>-122.319</td>\n",
       "      <td>1690</td>\n",
       "      <td>7639</td>\n",
       "    </tr>\n",
       "  </tbody>\n",
       "</table>\n",
       "<p>2 rows × 21 columns</p>\n",
       "</div>"
      ],
      "text/plain": [
       "           id             date   price  bedrooms  bathrooms  sqft_living  \\\n",
       "0  7129300520  20141013T000000  221900         3       1.00         1180   \n",
       "1  6414100192  20141209T000000  538000         3       2.25         2570   \n",
       "\n",
       "   sqft_lot  floors  waterfront  view  ...  grade  sqft_above  sqft_basement  \\\n",
       "0      5650     1.0           0     0  ...      7        1180              0   \n",
       "1      7242     2.0           0     0  ...      7        2170            400   \n",
       "\n",
       "   yr_built  yr_renovated  zipcode      lat     long  sqft_living15  \\\n",
       "0      1955             0    98178  47.5112 -122.257           1340   \n",
       "1      1951          1991    98125  47.7210 -122.319           1690   \n",
       "\n",
       "   sqft_lot15  \n",
       "0        5650  \n",
       "1        7639  \n",
       "\n",
       "[2 rows x 21 columns]"
      ]
     },
     "execution_count": 27,
     "metadata": {},
     "output_type": "execute_result"
    }
   ],
   "source": [
    "df_house.head(2)"
   ]
  },
  {
   "cell_type": "code",
   "execution_count": 28,
   "id": "83645f7e",
   "metadata": {},
   "outputs": [],
   "source": [
    "# 18. If the metrics show that the p-value for the grade column is 0.092, what all inferences\n",
    "# can we make about the grade column?\n",
    "# a. Significant in presence of other variables                                 . *****************\n",
    "# b. Highly significant in presence of other variables\n",
    "# c. insignificance in presence of other variables\n",
    "# d. None of the above"
   ]
  },
  {
   "cell_type": "code",
   "execution_count": 29,
   "id": "2c6865ad",
   "metadata": {},
   "outputs": [],
   "source": [
    "# 19. If the Variance Inflation Factor value for a feature is considerably higher than the\n",
    "# other features, what can we say about that column/feature?  \n",
    "# a. High multicollinearity              ****************\n",
    "# b. Low multicollinearity\n",
    "# c. Both A and B\n",
    "# d. None of the above\n"
   ]
  },
  {
   "cell_type": "code",
   "execution_count": 30,
   "id": "593660ea",
   "metadata": {},
   "outputs": [],
   "source": [
    "df_dia=pd.read_csv(r\"C:\\Users\\Rishi\\Downloads\\Diamond.csv\")"
   ]
  },
  {
   "cell_type": "code",
   "execution_count": 31,
   "id": "760051db",
   "metadata": {},
   "outputs": [
    {
     "data": {
      "text/html": [
       "<div>\n",
       "<style scoped>\n",
       "    .dataframe tbody tr th:only-of-type {\n",
       "        vertical-align: middle;\n",
       "    }\n",
       "\n",
       "    .dataframe tbody tr th {\n",
       "        vertical-align: top;\n",
       "    }\n",
       "\n",
       "    .dataframe thead th {\n",
       "        text-align: right;\n",
       "    }\n",
       "</style>\n",
       "<table border=\"1\" class=\"dataframe\">\n",
       "  <thead>\n",
       "    <tr style=\"text-align: right;\">\n",
       "      <th></th>\n",
       "      <th>Unnamed: 0</th>\n",
       "      <th>carat</th>\n",
       "      <th>cut</th>\n",
       "      <th>color</th>\n",
       "      <th>clarity</th>\n",
       "      <th>depth</th>\n",
       "      <th>table</th>\n",
       "      <th>price</th>\n",
       "      <th>x</th>\n",
       "      <th>y</th>\n",
       "      <th>z</th>\n",
       "    </tr>\n",
       "  </thead>\n",
       "  <tbody>\n",
       "    <tr>\n",
       "      <th>0</th>\n",
       "      <td>1</td>\n",
       "      <td>0.23</td>\n",
       "      <td>Ideal</td>\n",
       "      <td>E</td>\n",
       "      <td>SI2</td>\n",
       "      <td>61.5</td>\n",
       "      <td>55.0</td>\n",
       "      <td>326</td>\n",
       "      <td>3.95</td>\n",
       "      <td>3.98</td>\n",
       "      <td>2.43</td>\n",
       "    </tr>\n",
       "    <tr>\n",
       "      <th>1</th>\n",
       "      <td>2</td>\n",
       "      <td>0.21</td>\n",
       "      <td>Premium</td>\n",
       "      <td>E</td>\n",
       "      <td>SI1</td>\n",
       "      <td>59.8</td>\n",
       "      <td>61.0</td>\n",
       "      <td>326</td>\n",
       "      <td>3.89</td>\n",
       "      <td>3.84</td>\n",
       "      <td>2.31</td>\n",
       "    </tr>\n",
       "    <tr>\n",
       "      <th>2</th>\n",
       "      <td>3</td>\n",
       "      <td>0.23</td>\n",
       "      <td>Good</td>\n",
       "      <td>E</td>\n",
       "      <td>VS1</td>\n",
       "      <td>56.9</td>\n",
       "      <td>65.0</td>\n",
       "      <td>327</td>\n",
       "      <td>4.05</td>\n",
       "      <td>4.07</td>\n",
       "      <td>2.31</td>\n",
       "    </tr>\n",
       "    <tr>\n",
       "      <th>3</th>\n",
       "      <td>4</td>\n",
       "      <td>0.29</td>\n",
       "      <td>Premium</td>\n",
       "      <td>I</td>\n",
       "      <td>VS2</td>\n",
       "      <td>62.4</td>\n",
       "      <td>58.0</td>\n",
       "      <td>334</td>\n",
       "      <td>4.20</td>\n",
       "      <td>4.23</td>\n",
       "      <td>2.63</td>\n",
       "    </tr>\n",
       "    <tr>\n",
       "      <th>4</th>\n",
       "      <td>5</td>\n",
       "      <td>0.31</td>\n",
       "      <td>Good</td>\n",
       "      <td>J</td>\n",
       "      <td>SI2</td>\n",
       "      <td>63.3</td>\n",
       "      <td>58.0</td>\n",
       "      <td>335</td>\n",
       "      <td>4.34</td>\n",
       "      <td>4.35</td>\n",
       "      <td>2.75</td>\n",
       "    </tr>\n",
       "  </tbody>\n",
       "</table>\n",
       "</div>"
      ],
      "text/plain": [
       "   Unnamed: 0  carat      cut color clarity  depth  table  price     x     y  \\\n",
       "0           1   0.23    Ideal     E     SI2   61.5   55.0    326  3.95  3.98   \n",
       "1           2   0.21  Premium     E     SI1   59.8   61.0    326  3.89  3.84   \n",
       "2           3   0.23     Good     E     VS1   56.9   65.0    327  4.05  4.07   \n",
       "3           4   0.29  Premium     I     VS2   62.4   58.0    334  4.20  4.23   \n",
       "4           5   0.31     Good     J     SI2   63.3   58.0    335  4.34  4.35   \n",
       "\n",
       "      z  \n",
       "0  2.43  \n",
       "1  2.31  \n",
       "2  2.31  \n",
       "3  2.63  \n",
       "4  2.75  "
      ]
     },
     "execution_count": 31,
     "metadata": {},
     "output_type": "execute_result"
    }
   ],
   "source": [
    "df_dia.head()"
   ]
  },
  {
   "cell_type": "code",
   "execution_count": 32,
   "id": "4eca2802",
   "metadata": {},
   "outputs": [],
   "source": [
    "df_toyota=pd.read_csv(r\"C:\\Users\\Rishi\\Downloads\\ToyotaCorolla.csv\")"
   ]
  },
  {
   "cell_type": "code",
   "execution_count": 33,
   "id": "91807794",
   "metadata": {},
   "outputs": [
    {
     "data": {
      "text/html": [
       "<div>\n",
       "<style scoped>\n",
       "    .dataframe tbody tr th:only-of-type {\n",
       "        vertical-align: middle;\n",
       "    }\n",
       "\n",
       "    .dataframe tbody tr th {\n",
       "        vertical-align: top;\n",
       "    }\n",
       "\n",
       "    .dataframe thead th {\n",
       "        text-align: right;\n",
       "    }\n",
       "</style>\n",
       "<table border=\"1\" class=\"dataframe\">\n",
       "  <thead>\n",
       "    <tr style=\"text-align: right;\">\n",
       "      <th></th>\n",
       "      <th>Unnamed: 0</th>\n",
       "      <th>Price</th>\n",
       "      <th>Age</th>\n",
       "      <th>KM</th>\n",
       "      <th>FuelType</th>\n",
       "      <th>HP</th>\n",
       "      <th>MetColor</th>\n",
       "      <th>Automatic</th>\n",
       "      <th>CC</th>\n",
       "      <th>Doors</th>\n",
       "      <th>Weight</th>\n",
       "    </tr>\n",
       "  </thead>\n",
       "  <tbody>\n",
       "    <tr>\n",
       "      <th>0</th>\n",
       "      <td>0</td>\n",
       "      <td>13500</td>\n",
       "      <td>23.0</td>\n",
       "      <td>46986</td>\n",
       "      <td>Diesel</td>\n",
       "      <td>90</td>\n",
       "      <td>1.0</td>\n",
       "      <td>0</td>\n",
       "      <td>2000</td>\n",
       "      <td>3</td>\n",
       "      <td>1165</td>\n",
       "    </tr>\n",
       "    <tr>\n",
       "      <th>1</th>\n",
       "      <td>1</td>\n",
       "      <td>13750</td>\n",
       "      <td>23.0</td>\n",
       "      <td>72937</td>\n",
       "      <td>Diesel</td>\n",
       "      <td>90</td>\n",
       "      <td>1.0</td>\n",
       "      <td>0</td>\n",
       "      <td>2000</td>\n",
       "      <td>3</td>\n",
       "      <td>1165</td>\n",
       "    </tr>\n",
       "    <tr>\n",
       "      <th>2</th>\n",
       "      <td>2</td>\n",
       "      <td>13950</td>\n",
       "      <td>24.0</td>\n",
       "      <td>41711</td>\n",
       "      <td>Diesel</td>\n",
       "      <td>90</td>\n",
       "      <td>NaN</td>\n",
       "      <td>0</td>\n",
       "      <td>2000</td>\n",
       "      <td>3</td>\n",
       "      <td>1165</td>\n",
       "    </tr>\n",
       "    <tr>\n",
       "      <th>3</th>\n",
       "      <td>3</td>\n",
       "      <td>14950</td>\n",
       "      <td>26.0</td>\n",
       "      <td>48000</td>\n",
       "      <td>Diesel</td>\n",
       "      <td>90</td>\n",
       "      <td>0.0</td>\n",
       "      <td>0</td>\n",
       "      <td>2000</td>\n",
       "      <td>3</td>\n",
       "      <td>1165</td>\n",
       "    </tr>\n",
       "    <tr>\n",
       "      <th>4</th>\n",
       "      <td>4</td>\n",
       "      <td>13750</td>\n",
       "      <td>30.0</td>\n",
       "      <td>38500</td>\n",
       "      <td>Diesel</td>\n",
       "      <td>90</td>\n",
       "      <td>0.0</td>\n",
       "      <td>0</td>\n",
       "      <td>2000</td>\n",
       "      <td>3</td>\n",
       "      <td>1170</td>\n",
       "    </tr>\n",
       "  </tbody>\n",
       "</table>\n",
       "</div>"
      ],
      "text/plain": [
       "   Unnamed: 0  Price   Age     KM FuelType  HP  MetColor  Automatic    CC  \\\n",
       "0           0  13500  23.0  46986   Diesel  90       1.0          0  2000   \n",
       "1           1  13750  23.0  72937   Diesel  90       1.0          0  2000   \n",
       "2           2  13950  24.0  41711   Diesel  90       NaN          0  2000   \n",
       "3           3  14950  26.0  48000   Diesel  90       0.0          0  2000   \n",
       "4           4  13750  30.0  38500   Diesel  90       0.0          0  2000   \n",
       "\n",
       "   Doors  Weight  \n",
       "0      3    1165  \n",
       "1      3    1165  \n",
       "2      3    1165  \n",
       "3      3    1165  \n",
       "4      3    1170  "
      ]
     },
     "execution_count": 33,
     "metadata": {},
     "output_type": "execute_result"
    }
   ],
   "source": [
    "df_toyota.head()"
   ]
  },
  {
   "cell_type": "code",
   "execution_count": 34,
   "id": "dbd6f8ee",
   "metadata": {},
   "outputs": [
    {
     "name": "stdout",
     "output_type": "stream",
     "text": [
      "8\n"
     ]
    }
   ],
   "source": [
    "# 21)How many unique values present in the feature clarity?\n",
    "# 8\n",
    "# 6\n",
    "# 7\n",
    "# 9\n",
    "\n",
    "unique_values = df_dia['clarity'].nunique()\n",
    "print(unique_values)"
   ]
  },
  {
   "cell_type": "code",
   "execution_count": 35,
   "id": "7e2ea21e",
   "metadata": {},
   "outputs": [
    {
     "name": "stdout",
     "output_type": "stream",
     "text": [
      "Ideal\n"
     ]
    }
   ],
   "source": [
    "# 22) Which category in the feature cut has more records?\n",
    "# Premium\n",
    "# Ideal\n",
    "# Fair\n",
    "# Very Good\n",
    "\n",
    "cut_with_more_records = df_dia['cut'].value_counts().idxmax()\n",
    "print(cut_with_more_records)"
   ]
  },
  {
   "cell_type": "code",
   "execution_count": 30,
   "id": "c0f97185",
   "metadata": {},
   "outputs": [
    {
     "name": "stdout",
     "output_type": "stream",
     "text": [
      "G\n"
     ]
    }
   ],
   "source": [
    "# 23) Which color diamond has the highest sum price?\n",
    "# G\n",
    "# E\n",
    "# H\n",
    "# F\n",
    "\n",
    "color_highest_sum_price = df_dia.groupby('color')['price'].sum().idxmax()\n",
    "print(color_highest_sum_price)"
   ]
  },
  {
   "cell_type": "code",
   "execution_count": 31,
   "id": "b2cbe8d6",
   "metadata": {},
   "outputs": [],
   "source": [
    "# 24) \n",
    "# Which of the below statements is correct with respect to the column price? \n",
    "# Price Decreases Frequency Increases\n",
    "# None of these\n",
    "# Price Increases Frequency Increases\n",
    "# Frequency is approximately same in all prices\n",
    "\n",
    "correct_statement_price = \"Price Decreases Frequency Increases\""
   ]
  },
  {
   "cell_type": "code",
   "execution_count": 32,
   "id": "64529073",
   "metadata": {},
   "outputs": [
    {
     "name": "stdout",
     "output_type": "stream",
     "text": [
      "('D', 'IF')\n"
     ]
    }
   ],
   "source": [
    "# 25)\n",
    "# Which of the combination of Color and Clarity have a high mean price value?\n",
    "# J & VS1\n",
    "# D & IF\n",
    "# E&SI2\n",
    "# H & VVS1\n",
    "\n",
    "high_mean_price_combination = df_dia.groupby(['color', 'clarity'])['price'].mean().idxmax()\n",
    "print(high_mean_price_combination)"
   ]
  },
  {
   "cell_type": "code",
   "execution_count": 33,
   "id": "ff719810",
   "metadata": {},
   "outputs": [
    {
     "name": "stdout",
     "output_type": "stream",
     "text": [
      "7\n"
     ]
    }
   ],
   "source": [
    "# 26)How many records are having value as 0 in all the features x, y, z?\n",
    "# 42\n",
    "# 5\n",
    "# 23\n",
    "# 7\n",
    "\n",
    "record_with_val_zero =df_dia[(df_dia['x'] == 0) & (df_dia['y'] == 0) & (df_dia['z'] == 0)]\n",
    "print(len(record_with_val_zero))"
   ]
  },
  {
   "cell_type": "code",
   "execution_count": 34,
   "id": "de541ee1",
   "metadata": {},
   "outputs": [],
   "source": [
    "# 27) \n",
    "# The feature Fuel Type has 100 null values. Choose the right option to fill the null values?\n",
    "# CNG\n",
    "# None of the options\n",
    "# Diesel\n",
    "# Petrol\n",
    "\n",
    "df_toyota['FuelType'].fillna('Diesel', inplace=True)\n",
    "#ANS = Diesel"
   ]
  },
  {
   "cell_type": "code",
   "execution_count": 35,
   "id": "cb9fce94",
   "metadata": {},
   "outputs": [],
   "source": [
    "# 28)\n",
    "# the right encoding type for the feature Fuel Type?\n",
    "# One-hot encoding\n",
    "# Target encoding\n",
    "# None of the options\n",
    "# Ordinal encoding\n",
    "\n",
    "encoding_type_fuel_type = \"One-hot encoding\""
   ]
  },
  {
   "cell_type": "code",
   "execution_count": 36,
   "id": "9e6c8217",
   "metadata": {},
   "outputs": [
    {
     "name": "stdout",
     "output_type": "stream",
     "text": [
      "2000\n"
     ]
    }
   ],
   "source": [
    "# 29)\n",
    "# the correct CC value having the second lowest price?\n",
    "# 2000\n",
    "# 1300\n",
    "# 1800\n",
    "# 1600\n",
    "\n",
    "cc_second_lowest_price = df_toyota.groupby('CC')['Price'].min().sort_values().index[1]\n",
    "print(cc_second_lowest_price)"
   ]
  },
  {
   "cell_type": "code",
   "execution_count": 37,
   "id": "3b065896",
   "metadata": {},
   "outputs": [
    {
     "name": "stdout",
     "output_type": "stream",
     "text": [
      "3\n"
     ]
    }
   ],
   "source": [
    "# 30)the correct Doors type having the second highest mean price?\n",
    "# 3\n",
    "# 2\n",
    "# 4\n",
    "# 5\n",
    "\n",
    "doors_second_highest_mean_price = df_toyota.groupby('Doors')['Price'].mean().sort_values(ascending=False).index[1]\n",
    "print(doors_second_highest_mean_price)"
   ]
  },
  {
   "cell_type": "code",
   "execution_count": 38,
   "id": "c717ae5b",
   "metadata": {},
   "outputs": [],
   "source": [
    "# 31)                       **********************\n",
    "#Consider the coefficients for the features KM, HP, Doors are -0.0369, 89.3144, 1012.8434 respectively\n",
    "# , choose the right absolute error for the below given data? KM HP Doors Price 6000 90 5 24990\n",
    "# -12108.88\n",
    "# 12108.88\n",
    "# -14253.88\n",
    "# 14253.88\n",
    "\n"
   ]
  },
  {
   "cell_type": "code",
   "execution_count": 39,
   "id": "0e911357",
   "metadata": {},
   "outputs": [],
   "source": [
    "# coefficients = {'KM': -0.0369, 'HP': 89.3144, 'Doors': 1012.8434}\n",
    "# data_point = {'KM': 6000, 'HP': 90, 'Doors': 5, 'Price': 24990}\n",
    "\n",
    "# predicted_price = np.dot([data_point['KM'], data_point['HP'], data_point['Doors']], list(coefficients.values()))\n",
    "# absolute_error = np.abs(predicted_price - data_point['Price'])\n",
    "\n",
    "# print(absolute_error)\n",
    "# print(predicted_price)"
   ]
  },
  {
   "cell_type": "code",
   "execution_count": 40,
   "id": "8d6e95e8",
   "metadata": {},
   "outputs": [
    {
     "data": {
      "image/png": "[encoded data removed]",
      "text/plain": [
       "<Figure size 640x480 with 1 Axes>"
      ]
     },
     "metadata": {},
     "output_type": "display_data"
    }
   ],
   "source": [
    "# 32)                                                  \n",
    "# Choose the skew type for the given graph? \n",
    "# Right Skewed or Positively Skewed data\n",
    "# Left Skewed or Positively Skewed data\n",
    "# Right Skewed or Negatively Skewed data\n",
    "# Left Skewed or Negatively Skewed data\n",
    "\n",
    "sns.histplot(df_toyota['Price'], kde=True)\n",
    "plt.show()\n",
    "# Check the skewness of the 'Price' feature\n",
    "skewness_price = df_toyota['Price'].skew()"
   ]
  },
  {
   "cell_type": "code",
   "execution_count": null,
   "id": "ab5253a6",
   "metadata": {},
   "outputs": [],
   "source": [
    "# 33)             ********************* corr\n",
    "# the correct feature having less correlation to the target variable price from below data? \n",
    "# Age\n",
    "# Doors\n",
    "# CC\n",
    "# Weight\n",
    "\n"
   ]
  },
  {
   "cell_type": "code",
   "execution_count": null,
   "id": "b011e450",
   "metadata": {},
   "outputs": [],
   "source": [
    "#34) \n",
    "# the best option to deal with the outliers in the below boxplot for feature HP? \n",
    "# Remove the outlier record as the count is negligible      anss\n",
    "# The feature HP has only 12 unique values so replace it with Median value.\n",
    "# No outliers present as per the boxplot.\n",
    "# The feature HP is of numeric type so replace it with Mean value.\n",
    "\n",
    "sns.boxplot(x=df_toyota['HP'])\n",
    "plt.show()"
   ]
  },
  {
   "cell_type": "code",
   "execution_count": null,
   "id": "d876c004",
   "metadata": {},
   "outputs": [],
   "source": [
    "# 35) Use the ToyotaCorollaX.csv of size : 1436 x 11 for the questions mentioned below Choose \n",
    "# the correct correlation between Age and KM with the below scatterplot? \n",
    "# Weak Negative Correlation\n",
    "# Strong Negative Correlation\n",
    "# Strong Positive Correlation\n",
    "# Weak Positive Correlation   anss\n",
    "\n",
    "sns.scatterplot(x='Age', y='KM', data=df_toyota)\n",
    "plt.show()\n",
    "# Analyze the scatterplot visually for correlation"
   ]
  },
  {
   "cell_type": "markdown",
   "id": "71793575",
   "metadata": {},
   "source": [
    "# Assignment"
   ]
  },
  {
   "cell_type": "markdown",
   "id": "d4e7ae5f",
   "metadata": {},
   "source": [
    "Tasks To Be Performed: \n",
    "\n",
    "1. Load the dataset using pandas\n",
    "\n",
    "2. Extract data from years experience column is a variable named X\n",
    "\n",
    "3. Extract data from the salary column is a variable named Y\n",
    "\n",
    "4. Divide the dataset into two parts for training and testing in 66% and 33%proportion\n",
    "\n",
    "5. Create and train Linear Regression Model on training set\n",
    "\n",
    "6. Make predictions based on the testing set using the trained model\n",
    "\n",
    "7. Check the performance by calculating the r2 score of the model"
   ]
  },
  {
   "cell_type": "code",
   "execution_count": null,
   "id": "ded8e6bd",
   "metadata": {},
   "outputs": [],
   "source": [
    "# Import necessary libraries\n",
    "import pandas as pd\n",
    "from sklearn.model_selection import train_test_split\n",
    "from sklearn.linear_model import LinearRegression\n",
    "from sklearn.metrics import r2_score"
   ]
  },
  {
   "cell_type": "code",
   "execution_count": null,
   "id": "6b7274e2",
   "metadata": {},
   "outputs": [],
   "source": [
    "#1. Load the dataset using pandas\n",
    "df = pd.read_csv(r'C:\\Users\\Rishi\\Downloads\\Datasets\\diabetes.csv')"
   ]
  },
  {
   "cell_type": "code",
   "execution_count": null,
   "id": "15dad7c0",
   "metadata": {},
   "outputs": [],
   "source": [
    "df.head()"
   ]
  },
  {
   "cell_type": "code",
   "execution_count": null,
   "id": "2fe0d2d3",
   "metadata": {},
   "outputs": [],
   "source": [
    "# 2. Extract data from outcome column in a variable named Y\n",
    "Y = df['Outcome']"
   ]
  },
  {
   "cell_type": "code",
   "execution_count": null,
   "id": "1051048c",
   "metadata": {},
   "outputs": [],
   "source": [
    "# 3. Extract data from every column except the outcome column in a variable named X\n",
    "X = df.drop('Outcome', axis=1)"
   ]
  },
  {
   "cell_type": "code",
   "execution_count": null,
   "id": "d8c4b892",
   "metadata": {},
   "outputs": [],
   "source": [
    "# 4. Divide the dataset into two parts for training and testing in 70% and 30% proportion\n",
    "X_train, X_test, Y_train, Y_test = train_test_split(X, Y, test_size=0.33, random_state=1)"
   ]
  },
  {
   "cell_type": "code",
   "execution_count": null,
   "id": "4b8b3183",
   "metadata": {},
   "outputs": [],
   "source": [
    "# 5. Create and train Linear Regression Model on the training set\n",
    "model = LinearRegression()\n",
    "model.fit(X_train, Y_train)"
   ]
  },
  {
   "cell_type": "code",
   "execution_count": null,
   "id": "5ac9628c",
   "metadata": {},
   "outputs": [],
   "source": [
    "# 6. Make predictions based on the testing set using the trained model\n",
    "predictions = model.predict(X_test)"
   ]
  },
  {
   "cell_type": "code",
   "execution_count": null,
   "id": "bf5fe6dd",
   "metadata": {},
   "outputs": [],
   "source": [
    "#  7: Check the performance by calculating the r2 score of the model\n",
    "r2_value = r2_score(Y_test, predictions)"
   ]
  },
  {
   "cell_type": "code",
   "execution_count": null,
   "id": "003a28d9",
   "metadata": {},
   "outputs": [],
   "source": [
    "print(r2_value)"
   ]
  },
  {
   "cell_type": "code",
   "execution_count": null,
   "id": "12bed197",
   "metadata": {},
   "outputs": [],
   "source": []
  }
 ],
 "metadata": {
  "kernelspec": {
   "display_name": "Python 3 (ipykernel)",
   "language": "python",
   "name": "python3"
  },
  "language_info": {
   "codemirror_mode": {
    "name": "ipython",
    "version": 3
   },
   "file_extension": ".py",
   "mimetype": "text/x-python",
   "name": "python",
   "nbconvert_exporter": "python",
   "pygments_lexer": "ipython3",
   "version": "3.11.5"
  }
 },
 "nbformat": 4,
 "nbformat_minor": 5
}
