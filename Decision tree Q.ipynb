{
 "cells": [
  {
   "cell_type": "code",
   "execution_count": 2,
   "id": "3a85ccb4",
   "metadata": {},
   "outputs": [],
   "source": [
    "import pandas as pd\n",
    "\n",
    "# Load the datase\n",
    "df = pd.read_csv(r\"C:\\Users\\Rishi\\Downloads\\pokemon.csv\")"
   ]
  },
  {
   "cell_type": "code",
   "execution_count": 3,
   "id": "458d4347",
   "metadata": {},
   "outputs": [
    {
     "data": {
      "text/html": [
       "<div>\n",
       "<style scoped>\n",
       "    .dataframe tbody tr th:only-of-type {\n",
       "        vertical-align: middle;\n",
       "    }\n",
       "\n",
       "    .dataframe tbody tr th {\n",
       "        vertical-align: top;\n",
       "    }\n",
       "\n",
       "    .dataframe thead th {\n",
       "        text-align: right;\n",
       "    }\n",
       "</style>\n",
       "<table border=\"1\" class=\"dataframe\">\n",
       "  <thead>\n",
       "    <tr style=\"text-align: right;\">\n",
       "      <th></th>\n",
       "      <th>#</th>\n",
       "      <th>Name</th>\n",
       "      <th>Type 1</th>\n",
       "      <th>Type 2</th>\n",
       "      <th>Total</th>\n",
       "      <th>HP</th>\n",
       "      <th>Attack</th>\n",
       "      <th>Defense</th>\n",
       "      <th>Sp. Atk</th>\n",
       "      <th>Sp. Def</th>\n",
       "      <th>Speed</th>\n",
       "      <th>Generation</th>\n",
       "      <th>Legendary</th>\n",
       "    </tr>\n",
       "  </thead>\n",
       "  <tbody>\n",
       "    <tr>\n",
       "      <th>0</th>\n",
       "      <td>1</td>\n",
       "      <td>Bulbasaur</td>\n",
       "      <td>Grass</td>\n",
       "      <td>Poison</td>\n",
       "      <td>318</td>\n",
       "      <td>45</td>\n",
       "      <td>49</td>\n",
       "      <td>49</td>\n",
       "      <td>65</td>\n",
       "      <td>65</td>\n",
       "      <td>45</td>\n",
       "      <td>1</td>\n",
       "      <td>False</td>\n",
       "    </tr>\n",
       "    <tr>\n",
       "      <th>1</th>\n",
       "      <td>2</td>\n",
       "      <td>Ivysaur</td>\n",
       "      <td>Grass</td>\n",
       "      <td>Poison</td>\n",
       "      <td>405</td>\n",
       "      <td>60</td>\n",
       "      <td>62</td>\n",
       "      <td>63</td>\n",
       "      <td>80</td>\n",
       "      <td>80</td>\n",
       "      <td>60</td>\n",
       "      <td>1</td>\n",
       "      <td>False</td>\n",
       "    </tr>\n",
       "    <tr>\n",
       "      <th>2</th>\n",
       "      <td>3</td>\n",
       "      <td>Venusaur</td>\n",
       "      <td>Grass</td>\n",
       "      <td>Poison</td>\n",
       "      <td>525</td>\n",
       "      <td>80</td>\n",
       "      <td>82</td>\n",
       "      <td>83</td>\n",
       "      <td>100</td>\n",
       "      <td>100</td>\n",
       "      <td>80</td>\n",
       "      <td>1</td>\n",
       "      <td>False</td>\n",
       "    </tr>\n",
       "    <tr>\n",
       "      <th>3</th>\n",
       "      <td>3</td>\n",
       "      <td>VenusaurMega Venusaur</td>\n",
       "      <td>Grass</td>\n",
       "      <td>Poison</td>\n",
       "      <td>625</td>\n",
       "      <td>80</td>\n",
       "      <td>100</td>\n",
       "      <td>123</td>\n",
       "      <td>122</td>\n",
       "      <td>120</td>\n",
       "      <td>80</td>\n",
       "      <td>1</td>\n",
       "      <td>False</td>\n",
       "    </tr>\n",
       "    <tr>\n",
       "      <th>4</th>\n",
       "      <td>4</td>\n",
       "      <td>Charmander</td>\n",
       "      <td>Fire</td>\n",
       "      <td>NaN</td>\n",
       "      <td>309</td>\n",
       "      <td>39</td>\n",
       "      <td>52</td>\n",
       "      <td>43</td>\n",
       "      <td>60</td>\n",
       "      <td>50</td>\n",
       "      <td>65</td>\n",
       "      <td>1</td>\n",
       "      <td>False</td>\n",
       "    </tr>\n",
       "  </tbody>\n",
       "</table>\n",
       "</div>"
      ],
      "text/plain": [
       "   #                   Name Type 1  Type 2  Total  HP  Attack  Defense  \\\n",
       "0  1              Bulbasaur  Grass  Poison    318  45      49       49   \n",
       "1  2                Ivysaur  Grass  Poison    405  60      62       63   \n",
       "2  3               Venusaur  Grass  Poison    525  80      82       83   \n",
       "3  3  VenusaurMega Venusaur  Grass  Poison    625  80     100      123   \n",
       "4  4             Charmander   Fire     NaN    309  39      52       43   \n",
       "\n",
       "   Sp. Atk  Sp. Def  Speed  Generation  Legendary  \n",
       "0       65       65     45           1      False  \n",
       "1       80       80     60           1      False  \n",
       "2      100      100     80           1      False  \n",
       "3      122      120     80           1      False  \n",
       "4       60       50     65           1      False  "
      ]
     },
     "execution_count": 3,
     "metadata": {},
     "output_type": "execute_result"
    }
   ],
   "source": [
    "df.head()"
   ]
  },
  {
   "cell_type": "code",
   "execution_count": 4,
   "id": "c3143f6b",
   "metadata": {},
   "outputs": [
    {
     "name": "stdout",
     "output_type": "stream",
     "text": [
      "165\n"
     ]
    }
   ],
   "source": [
    "# 1. How many pokemon are from the 5th generation?\n",
    "# a. 178\n",
    "# b. 165\n",
    "# c. 150\n",
    "# d. 170\n",
    "gen_5 = df[df['Generation'] == 5].shape[0]\n",
    "print(gen_5)"
   ]
  },
  {
   "cell_type": "code",
   "execution_count": 5,
   "id": "644244db",
   "metadata": {},
   "outputs": [
    {
     "data": {
      "text/plain": [
       "230"
      ]
     },
     "execution_count": 5,
     "metadata": {},
     "output_type": "execute_result"
    }
   ],
   "source": [
    "pok_deff = df['Defense'].max()\n",
    "pok_deff"
   ]
  },
  {
   "cell_type": "code",
   "execution_count": 4,
   "id": "11e7e659",
   "metadata": {},
   "outputs": [
    {
     "name": "stdout",
     "output_type": "stream",
     "text": [
      "3\n"
     ]
    }
   ],
   "source": [
    "# 2. How many pokemon have the highest defense score?\n",
    "# a. 10\n",
    "# b. 7\n",
    "# c. 3\n",
    "# d. 2\n",
    "pok_def = df[df['Defense'] == df['Defense'].max()].shape[0]\n",
    "print(pok_def)"
   ]
  },
  {
   "cell_type": "code",
   "execution_count": 7,
   "id": "c058d0f3",
   "metadata": {},
   "outputs": [
    {
     "name": "stdout",
     "output_type": "stream",
     "text": [
      "c. Fill up the null values with the mean.\n"
     ]
    }
   ],
   "source": [
    "# 3. How you will be handling missing values in this dataset:\n",
    "# a. Fill up the null values with the median.\n",
    "# b. Fill up the null values with standard deviation.\n",
    "# c. Fill up the null values with the mean.\n",
    "# d. Fill up the null values with None.\n",
    "\n",
    "print(\" d. Fill up the null values with None.\")\n",
    "#df.fillna(df.mean(), inplace=True)"
   ]
  },
  {
   "cell_type": "code",
   "execution_count": 5,
   "id": "a8a47a5f",
   "metadata": {},
   "outputs": [
    {
     "name": "stdout",
     "output_type": "stream",
     "text": [
      "0.05145133670846977\n",
      "-0.023121060425896994\n",
      "d. None of the above\n"
     ]
    }
   ],
   "source": [
    "# 4. Which columns are not having any kind of relationship with the generation column?\n",
    "# a. Attack\n",
    "# b. Speed\n",
    "# c. Both of the above\n",
    "# d. None of the above\n",
    "\n",
    "corr_atk = df['Attack'].corr(df['Generation'])\n",
    "corr_spd = df['Speed'].corr(df['Generation'])\n",
    "\n",
    "print(corr_atk)\n",
    "print(corr_spd)\n",
    "\n",
    "print(\"d. None of the above\")\n"
   ]
  },
  {
   "cell_type": "code",
   "execution_count": 8,
   "id": "ce609c34",
   "metadata": {},
   "outputs": [
    {
     "name": "stdout",
     "output_type": "stream",
     "text": [
      "<class 'pandas.core.frame.DataFrame'>\n",
      "RangeIndex: 800 entries, 0 to 799\n",
      "Data columns (total 13 columns):\n",
      " #   Column      Non-Null Count  Dtype \n",
      "---  ------      --------------  ----- \n",
      " 0   #           800 non-null    int64 \n",
      " 1   Name        800 non-null    object\n",
      " 2   Type 1      800 non-null    object\n",
      " 3   Type 2      414 non-null    object\n",
      " 4   Total       800 non-null    int64 \n",
      " 5   HP          800 non-null    int64 \n",
      " 6   Attack      800 non-null    int64 \n",
      " 7   Defense     800 non-null    int64 \n",
      " 8   Sp. Atk     800 non-null    int64 \n",
      " 9   Sp. Def     800 non-null    int64 \n",
      " 10  Speed       800 non-null    int64 \n",
      " 11  Generation  800 non-null    int64 \n",
      " 12  Legendary   800 non-null    bool  \n",
      "dtypes: bool(1), int64(9), object(3)\n",
      "memory usage: 75.9+ KB\n"
     ]
    }
   ],
   "source": [
    "df.info()"
   ]
  },
  {
   "cell_type": "code",
   "execution_count": 9,
   "id": "6fea6582",
   "metadata": {},
   "outputs": [],
   "source": [
    "df['Type 2'].fillna(df['Type 2'].mode()[0], inplace=True)"
   ]
  },
  {
   "cell_type": "code",
   "execution_count": 30,
   "id": "72584d56",
   "metadata": {},
   "outputs": [
    {
     "data": {
      "text/html": [
       "<div>\n",
       "<style scoped>\n",
       "    .dataframe tbody tr th:only-of-type {\n",
       "        vertical-align: middle;\n",
       "    }\n",
       "\n",
       "    .dataframe tbody tr th {\n",
       "        vertical-align: top;\n",
       "    }\n",
       "\n",
       "    .dataframe thead th {\n",
       "        text-align: right;\n",
       "    }\n",
       "</style>\n",
       "<table border=\"1\" class=\"dataframe\">\n",
       "  <thead>\n",
       "    <tr style=\"text-align: right;\">\n",
       "      <th></th>\n",
       "      <th>#</th>\n",
       "      <th>Name</th>\n",
       "      <th>Type 1</th>\n",
       "      <th>Type 2</th>\n",
       "      <th>Total</th>\n",
       "      <th>HP</th>\n",
       "      <th>Attack</th>\n",
       "      <th>Defense</th>\n",
       "      <th>Sp. Atk</th>\n",
       "      <th>Sp. Def</th>\n",
       "      <th>Speed</th>\n",
       "      <th>Generation</th>\n",
       "      <th>Legendary</th>\n",
       "    </tr>\n",
       "  </thead>\n",
       "  <tbody>\n",
       "    <tr>\n",
       "      <th>0</th>\n",
       "      <td>1</td>\n",
       "      <td>Bulbasaur</td>\n",
       "      <td>Grass</td>\n",
       "      <td>Poison</td>\n",
       "      <td>318</td>\n",
       "      <td>45</td>\n",
       "      <td>49</td>\n",
       "      <td>49</td>\n",
       "      <td>65</td>\n",
       "      <td>65</td>\n",
       "      <td>45</td>\n",
       "      <td>1</td>\n",
       "      <td>False</td>\n",
       "    </tr>\n",
       "    <tr>\n",
       "      <th>1</th>\n",
       "      <td>2</td>\n",
       "      <td>Ivysaur</td>\n",
       "      <td>Grass</td>\n",
       "      <td>Poison</td>\n",
       "      <td>405</td>\n",
       "      <td>60</td>\n",
       "      <td>62</td>\n",
       "      <td>63</td>\n",
       "      <td>80</td>\n",
       "      <td>80</td>\n",
       "      <td>60</td>\n",
       "      <td>1</td>\n",
       "      <td>False</td>\n",
       "    </tr>\n",
       "    <tr>\n",
       "      <th>2</th>\n",
       "      <td>3</td>\n",
       "      <td>Venusaur</td>\n",
       "      <td>Grass</td>\n",
       "      <td>Poison</td>\n",
       "      <td>525</td>\n",
       "      <td>80</td>\n",
       "      <td>82</td>\n",
       "      <td>83</td>\n",
       "      <td>100</td>\n",
       "      <td>100</td>\n",
       "      <td>80</td>\n",
       "      <td>1</td>\n",
       "      <td>False</td>\n",
       "    </tr>\n",
       "    <tr>\n",
       "      <th>3</th>\n",
       "      <td>3</td>\n",
       "      <td>VenusaurMega Venusaur</td>\n",
       "      <td>Grass</td>\n",
       "      <td>Poison</td>\n",
       "      <td>625</td>\n",
       "      <td>80</td>\n",
       "      <td>100</td>\n",
       "      <td>123</td>\n",
       "      <td>122</td>\n",
       "      <td>120</td>\n",
       "      <td>80</td>\n",
       "      <td>1</td>\n",
       "      <td>False</td>\n",
       "    </tr>\n",
       "    <tr>\n",
       "      <th>4</th>\n",
       "      <td>4</td>\n",
       "      <td>Charmander</td>\n",
       "      <td>Fire</td>\n",
       "      <td>Flying</td>\n",
       "      <td>309</td>\n",
       "      <td>39</td>\n",
       "      <td>52</td>\n",
       "      <td>43</td>\n",
       "      <td>60</td>\n",
       "      <td>50</td>\n",
       "      <td>65</td>\n",
       "      <td>1</td>\n",
       "      <td>False</td>\n",
       "    </tr>\n",
       "  </tbody>\n",
       "</table>\n",
       "</div>"
      ],
      "text/plain": [
       "   #                   Name Type 1  Type 2  Total  HP  Attack  Defense  \\\n",
       "0  1              Bulbasaur  Grass  Poison    318  45      49       49   \n",
       "1  2                Ivysaur  Grass  Poison    405  60      62       63   \n",
       "2  3               Venusaur  Grass  Poison    525  80      82       83   \n",
       "3  3  VenusaurMega Venusaur  Grass  Poison    625  80     100      123   \n",
       "4  4             Charmander   Fire  Flying    309  39      52       43   \n",
       "\n",
       "   Sp. Atk  Sp. Def  Speed  Generation  Legendary  \n",
       "0       65       65     45           1      False  \n",
       "1       80       80     60           1      False  \n",
       "2      100      100     80           1      False  \n",
       "3      122      120     80           1      False  \n",
       "4       60       50     65           1      False  "
      ]
     },
     "execution_count": 30,
     "metadata": {},
     "output_type": "execute_result"
    }
   ],
   "source": [
    "df.head()"
   ]
  },
  {
   "cell_type": "code",
   "execution_count": 10,
   "id": "04fed14f",
   "metadata": {},
   "outputs": [
    {
     "data": {
      "text/plain": [
       "#             int64\n",
       "Name          int32\n",
       "Type 1        int32\n",
       "Type 2        int32\n",
       "Total         int64\n",
       "HP            int64\n",
       "Attack        int64\n",
       "Defense       int64\n",
       "Sp. Atk       int64\n",
       "Sp. Def       int64\n",
       "Speed         int64\n",
       "Generation    int64\n",
       "Legendary      bool\n",
       "dtype: object"
      ]
     },
     "execution_count": 10,
     "metadata": {},
     "output_type": "execute_result"
    }
   ],
   "source": [
    "# ENCODING STEP TO RESOLVE THAT ERROR DUE TO object data type\n",
    "\n",
    "from sklearn.preprocessing import LabelEncoder\n",
    "le = LabelEncoder()\n",
    "\n",
    "for i in df.columns:\n",
    "    if df[i].dtypes=='object':\n",
    "        df[i]=le.fit_transform(df[i])     # If the data type of that column is objet(string) transform it\n",
    "\n",
    "df.dtypes"
   ]
  },
  {
   "cell_type": "code",
   "execution_count": 11,
   "id": "41e668e1",
   "metadata": {},
   "outputs": [
    {
     "data": {
      "text/html": [
       "<div>\n",
       "<style scoped>\n",
       "    .dataframe tbody tr th:only-of-type {\n",
       "        vertical-align: middle;\n",
       "    }\n",
       "\n",
       "    .dataframe tbody tr th {\n",
       "        vertical-align: top;\n",
       "    }\n",
       "\n",
       "    .dataframe thead th {\n",
       "        text-align: right;\n",
       "    }\n",
       "</style>\n",
       "<table border=\"1\" class=\"dataframe\">\n",
       "  <thead>\n",
       "    <tr style=\"text-align: right;\">\n",
       "      <th></th>\n",
       "      <th>#</th>\n",
       "      <th>Name</th>\n",
       "      <th>Type 1</th>\n",
       "      <th>Type 2</th>\n",
       "      <th>Total</th>\n",
       "      <th>HP</th>\n",
       "      <th>Attack</th>\n",
       "      <th>Defense</th>\n",
       "      <th>Sp. Atk</th>\n",
       "      <th>Sp. Def</th>\n",
       "      <th>Speed</th>\n",
       "      <th>Generation</th>\n",
       "      <th>Legendary</th>\n",
       "    </tr>\n",
       "  </thead>\n",
       "  <tbody>\n",
       "    <tr>\n",
       "      <th>0</th>\n",
       "      <td>1</td>\n",
       "      <td>80</td>\n",
       "      <td>9</td>\n",
       "      <td>13</td>\n",
       "      <td>318</td>\n",
       "      <td>45</td>\n",
       "      <td>49</td>\n",
       "      <td>49</td>\n",
       "      <td>65</td>\n",
       "      <td>65</td>\n",
       "      <td>45</td>\n",
       "      <td>1</td>\n",
       "      <td>False</td>\n",
       "    </tr>\n",
       "    <tr>\n",
       "      <th>1</th>\n",
       "      <td>2</td>\n",
       "      <td>329</td>\n",
       "      <td>9</td>\n",
       "      <td>13</td>\n",
       "      <td>405</td>\n",
       "      <td>60</td>\n",
       "      <td>62</td>\n",
       "      <td>63</td>\n",
       "      <td>80</td>\n",
       "      <td>80</td>\n",
       "      <td>60</td>\n",
       "      <td>1</td>\n",
       "      <td>False</td>\n",
       "    </tr>\n",
       "    <tr>\n",
       "      <th>2</th>\n",
       "      <td>3</td>\n",
       "      <td>745</td>\n",
       "      <td>9</td>\n",
       "      <td>13</td>\n",
       "      <td>525</td>\n",
       "      <td>80</td>\n",
       "      <td>82</td>\n",
       "      <td>83</td>\n",
       "      <td>100</td>\n",
       "      <td>100</td>\n",
       "      <td>80</td>\n",
       "      <td>1</td>\n",
       "      <td>False</td>\n",
       "    </tr>\n",
       "    <tr>\n",
       "      <th>3</th>\n",
       "      <td>3</td>\n",
       "      <td>746</td>\n",
       "      <td>9</td>\n",
       "      <td>13</td>\n",
       "      <td>625</td>\n",
       "      <td>80</td>\n",
       "      <td>100</td>\n",
       "      <td>123</td>\n",
       "      <td>122</td>\n",
       "      <td>120</td>\n",
       "      <td>80</td>\n",
       "      <td>1</td>\n",
       "      <td>False</td>\n",
       "    </tr>\n",
       "    <tr>\n",
       "      <th>4</th>\n",
       "      <td>4</td>\n",
       "      <td>102</td>\n",
       "      <td>6</td>\n",
       "      <td>7</td>\n",
       "      <td>309</td>\n",
       "      <td>39</td>\n",
       "      <td>52</td>\n",
       "      <td>43</td>\n",
       "      <td>60</td>\n",
       "      <td>50</td>\n",
       "      <td>65</td>\n",
       "      <td>1</td>\n",
       "      <td>False</td>\n",
       "    </tr>\n",
       "  </tbody>\n",
       "</table>\n",
       "</div>"
      ],
      "text/plain": [
       "   #  Name  Type 1  Type 2  Total  HP  Attack  Defense  Sp. Atk  Sp. Def  \\\n",
       "0  1    80       9      13    318  45      49       49       65       65   \n",
       "1  2   329       9      13    405  60      62       63       80       80   \n",
       "2  3   745       9      13    525  80      82       83      100      100   \n",
       "3  3   746       9      13    625  80     100      123      122      120   \n",
       "4  4   102       6       7    309  39      52       43       60       50   \n",
       "\n",
       "   Speed  Generation  Legendary  \n",
       "0     45           1      False  \n",
       "1     60           1      False  \n",
       "2     80           1      False  \n",
       "3     80           1      False  \n",
       "4     65           1      False  "
      ]
     },
     "execution_count": 11,
     "metadata": {},
     "output_type": "execute_result"
    }
   ],
   "source": [
    "df.head()"
   ]
  },
  {
   "cell_type": "code",
   "execution_count": 12,
   "id": "c622f959",
   "metadata": {},
   "outputs": [],
   "source": [
    "X = df.drop(columns=['Legendary'])#independent variable\n",
    "y = df['Legendary']#dependent or target value"
   ]
  },
  {
   "cell_type": "code",
   "execution_count": 13,
   "id": "b65232e3",
   "metadata": {},
   "outputs": [
    {
     "data": {
      "text/html": [
       "<style>#sk-container-id-1 {color: black;}#sk-container-id-1 pre{padding: 0;}#sk-container-id-1 div.sk-toggleable {background-color: white;}#sk-container-id-1 label.sk-toggleable__label {cursor: pointer;display: block;width: 100%;margin-bottom: 0;padding: 0.3em;box-sizing: border-box;text-align: center;}#sk-container-id-1 label.sk-toggleable__label-arrow:before {content: \"▸\";float: left;margin-right: 0.25em;color: #696969;}#sk-container-id-1 label.sk-toggleable__label-arrow:hover:before {color: black;}#sk-container-id-1 div.sk-estimator:hover label.sk-toggleable__label-arrow:before {color: black;}#sk-container-id-1 div.sk-toggleable__content {max-height: 0;max-width: 0;overflow: hidden;text-align: left;background-color: #f0f8ff;}#sk-container-id-1 div.sk-toggleable__content pre {margin: 0.2em;color: black;border-radius: 0.25em;background-color: #f0f8ff;}#sk-container-id-1 input.sk-toggleable__control:checked~div.sk-toggleable__content {max-height: 200px;max-width: 100%;overflow: auto;}#sk-container-id-1 input.sk-toggleable__control:checked~label.sk-toggleable__label-arrow:before {content: \"▾\";}#sk-container-id-1 div.sk-estimator input.sk-toggleable__control:checked~label.sk-toggleable__label {background-color: #d4ebff;}#sk-container-id-1 div.sk-label input.sk-toggleable__control:checked~label.sk-toggleable__label {background-color: #d4ebff;}#sk-container-id-1 input.sk-hidden--visually {border: 0;clip: rect(1px 1px 1px 1px);clip: rect(1px, 1px, 1px, 1px);height: 1px;margin: -1px;overflow: hidden;padding: 0;position: absolute;width: 1px;}#sk-container-id-1 div.sk-estimator {font-family: monospace;background-color: #f0f8ff;border: 1px dotted black;border-radius: 0.25em;box-sizing: border-box;margin-bottom: 0.5em;}#sk-container-id-1 div.sk-estimator:hover {background-color: #d4ebff;}#sk-container-id-1 div.sk-parallel-item::after {content: \"\";width: 100%;border-bottom: 1px solid gray;flex-grow: 1;}#sk-container-id-1 div.sk-label:hover label.sk-toggleable__label {background-color: #d4ebff;}#sk-container-id-1 div.sk-serial::before {content: \"\";position: absolute;border-left: 1px solid gray;box-sizing: border-box;top: 0;bottom: 0;left: 50%;z-index: 0;}#sk-container-id-1 div.sk-serial {display: flex;flex-direction: column;align-items: center;background-color: white;padding-right: 0.2em;padding-left: 0.2em;position: relative;}#sk-container-id-1 div.sk-item {position: relative;z-index: 1;}#sk-container-id-1 div.sk-parallel {display: flex;align-items: stretch;justify-content: center;background-color: white;position: relative;}#sk-container-id-1 div.sk-item::before, #sk-container-id-1 div.sk-parallel-item::before {content: \"\";position: absolute;border-left: 1px solid gray;box-sizing: border-box;top: 0;bottom: 0;left: 50%;z-index: -1;}#sk-container-id-1 div.sk-parallel-item {display: flex;flex-direction: column;z-index: 1;position: relative;background-color: white;}#sk-container-id-1 div.sk-parallel-item:first-child::after {align-self: flex-end;width: 50%;}#sk-container-id-1 div.sk-parallel-item:last-child::after {align-self: flex-start;width: 50%;}#sk-container-id-1 div.sk-parallel-item:only-child::after {width: 0;}#sk-container-id-1 div.sk-dashed-wrapped {border: 1px dashed gray;margin: 0 0.4em 0.5em 0.4em;box-sizing: border-box;padding-bottom: 0.4em;background-color: white;}#sk-container-id-1 div.sk-label label {font-family: monospace;font-weight: bold;display: inline-block;line-height: 1.2em;}#sk-container-id-1 div.sk-label-container {text-align: center;}#sk-container-id-1 div.sk-container {/* jupyter's `normalize.less` sets `[hidden] { display: none; }` but bootstrap.min.css set `[hidden] { display: none !important; }` so we also need the `!important` here to be able to override the default hidden behavior on the sphinx rendered scikit-learn.org. See: https://github.com/scikit-learn/scikit-learn/issues/21755 */display: inline-block !important;position: relative;}#sk-container-id-1 div.sk-text-repr-fallback {display: none;}</style><div id=\"sk-container-id-1\" class=\"sk-top-container\"><div class=\"sk-text-repr-fallback\"><pre>DecisionTreeClassifier()</pre><b>In a Jupyter environment, please rerun this cell to show the HTML representation or trust the notebook. <br />On GitHub, the HTML representation is unable to render, please try loading this page with nbviewer.org.</b></div><div class=\"sk-container\" hidden><div class=\"sk-item\"><div class=\"sk-estimator sk-toggleable\"><input class=\"sk-toggleable__control sk-hidden--visually\" id=\"sk-estimator-id-1\" type=\"checkbox\" checked><label for=\"sk-estimator-id-1\" class=\"sk-toggleable__label sk-toggleable__label-arrow\">DecisionTreeClassifier</label><div class=\"sk-toggleable__content\"><pre>DecisionTreeClassifier()</pre></div></div></div></div></div>"
      ],
      "text/plain": [
       "DecisionTreeClassifier()"
      ]
     },
     "execution_count": 13,
     "metadata": {},
     "output_type": "execute_result"
    }
   ],
   "source": [
    "#  fitting the data\n",
    "from sklearn.model_selection import train_test_split\n",
    "from sklearn.tree import DecisionTreeClassifier\n",
    "\n",
    "X_train, X_test, y_train, y_test = train_test_split(X, y, test_size=0.3, random_state=1)\n",
    "\n",
    "dt_model = DecisionTreeClassifier()\n",
    "dt_model.fit(X_train, y_train)"
   ]
  },
  {
   "cell_type": "code",
   "execution_count": 23,
   "id": "caf1fbdc",
   "metadata": {},
   "outputs": [
    {
     "name": "stdout",
     "output_type": "stream",
     "text": [
      "Accuracy: 0.97\n",
      "Classification Report:\n",
      "              precision    recall  f1-score   support\n",
      "\n",
      "       False       0.98      0.98      0.98       219\n",
      "        True       0.81      0.81      0.81        21\n",
      "\n",
      "    accuracy                           0.97       240\n",
      "   macro avg       0.90      0.90      0.90       240\n",
      "weighted avg       0.97      0.97      0.97       240\n",
      "\n"
     ]
    }
   ],
   "source": [
    "\n",
    "from sklearn.metrics import accuracy_score, classification_report\n",
    "import numpy as np\n",
    "\n",
    "# Step : Make Predictions\n",
    "y_pred = dt_model.predict(X_test)\n",
    "\n",
    "# Step : Evaluate the Model\n",
    "accuracy = accuracy_score(y_test, y_pred)\n",
    "report = classification_report(y_test, y_pred)\n",
    "\n",
    "print(f\"Accuracy: {accuracy:.2f}\")\n",
    "print(\"Classification Report:\")\n",
    "print(report)"
   ]
  },
  {
   "cell_type": "code",
   "execution_count": null,
   "id": "429c0b50",
   "metadata": {},
   "outputs": [],
   "source": []
  },
  {
   "cell_type": "code",
   "execution_count": 20,
   "id": "31b8ab67",
   "metadata": {},
   "outputs": [],
   "source": [
    "# 5. Which of the following model is the best fit for predicting the legendary of the pokemon based on the below parameters:\n",
    "# 1. Handle the missing values.\n",
    "# 2. Split the dataset into a 70:30 ratio with random_state as 1.\n",
    "# a. Linear Regression\n",
    "# b. Logistic Regression\n",
    "# c. Decision Tree Model\n",
    "# d. Random Forest Model\n",
    "# correct ans is all of the above"
   ]
  },
  {
   "cell_type": "code",
   "execution_count": 24,
   "id": "2e4e4305",
   "metadata": {},
   "outputs": [
    {
     "name": "stdout",
     "output_type": "stream",
     "text": [
      "Precision when the target is False: 0.9817351598173516\n"
     ]
    }
   ],
   "source": [
    "# 6. What is the precision of the Decision Tree model when the target is False?\n",
    "# a. 0.90 to 0.1\n",
    "# b. 0.80 to 0.90\n",
    "# c. 1.0 to 2.0\n",
    "# d. 0.50 to 0.60\n",
    "\n",
    "from sklearn.metrics import precision_score\n",
    "\n",
    "precision_false = precision_score(y_test, y_pred, pos_label=False)\n",
    "print(\"Precision when the target is False:\", precision_false)"
   ]
  },
  {
   "cell_type": "code",
   "execution_count": 25,
   "id": "882fcef0",
   "metadata": {},
   "outputs": [
    {
     "name": "stdout",
     "output_type": "stream",
     "text": [
      "Sensitivity when the target is True: 0.8095238095238095\n"
     ]
    }
   ],
   "source": [
    "# 7. What is the sensitivity of the above model when the target is True?\n",
    "# a. 0.90 to 1.0\n",
    "# b. 0.50 to 0.60\n",
    "# c. 0.60 to 0.70\n",
    "# d. 0.30 to 0.40\n",
    "\n",
    "from sklearn.metrics import recall_score\n",
    "\n",
    "sensitivity_true = recall_score(y_test, y_pred, pos_label=True)\n",
    "print(\"Sensitivity when the target is True:\", sensitivity_true)\n",
    "# correct ans is 0.60 to 0.70"
   ]
  },
  {
   "cell_type": "code",
   "execution_count": 26,
   "id": "eccabab6",
   "metadata": {},
   "outputs": [
    {
     "name": "stdout",
     "output_type": "stream",
     "text": [
      "Correctly classified data: 232\n"
     ]
    }
   ],
   "source": [
    "# 8. How much correctly classified data has been retrieved from the above model?\n",
    "# a. Between 15 to 20\n",
    "# b. Between 7 to 10\n",
    "# c. Between 30 to 45\n",
    "# d. Between 50 to 70\n",
    "\n",
    "from sklearn.metrics import accuracy_score\n",
    "\n",
    "correctly_classified_count = accuracy_score(y_test, y_pred, normalize=False)\n",
    "print(\"Correctly classified data:\", correctly_classified_count)\n",
    "# correct ans is Between 15 to 20"
   ]
  },
  {
   "cell_type": "code",
   "execution_count": null,
   "id": "03c96081",
   "metadata": {},
   "outputs": [],
   "source": [
    "# 9. Decision tree models might create some biased trees if some classes dominate.\n",
    "# From the below options which action is best to take so that it won't create biased trees:\n",
    "# a. balance the dataset prior to fitting\n",
    "# b. imbalance the dataset prior to fitting\n",
    "# c. balance the dataset after fitting\n",
    "# d. None of the above\n",
    "\n",
    "print(\"balance the dataset prior to fitting\")"
   ]
  },
  {
   "cell_type": "code",
   "execution_count": 38,
   "id": "4def558f",
   "metadata": {},
   "outputs": [
    {
     "name": "stdout",
     "output_type": "stream",
     "text": [
      "Both of the above\n"
     ]
    }
   ],
   "source": [
    "#10.Suppose, you have to work with an ML problem, where you have to predict the number of oxygen tanks needed to be\n",
    "#shipped from Indonesia. Which of the following ML algorithm you will choose:\n",
    "# a. Logistic regression\n",
    "# b. Decision Tree\n",
    "# c. Both of the above\n",
    "# d. None of the above\n",
    "\n",
    "#This problem seems to be a regression problem, \n",
    "#so other regression algorithms like Linear Regression or Decision Tree may be more suitable\n",
    "print(\"Decision Tree\")\n",
    "\n",
    "#correct ans is  Decision Tree"
   ]
  },
  {
   "cell_type": "code",
   "execution_count": 35,
   "id": "1715e09b",
   "metadata": {},
   "outputs": [
    {
     "name": "stdout",
     "output_type": "stream",
     "text": [
      "All of the above\n"
     ]
    }
   ],
   "source": [
    "# 11.Which of the following is true for the Decision Tree?\n",
    "# a. The model can able to generate understandable rules\n",
    "# b. The model can able to handle both continuous and categorical variables\n",
    "# c. It can able to perform classification without requiring much computation\n",
    "# d. All of the above\n",
    "\n",
    "print(\"All of the above\")"
   ]
  },
  {
   "cell_type": "code",
   "execution_count": 36,
   "id": "44eb8d3a",
   "metadata": {},
   "outputs": [
    {
     "name": "stdout",
     "output_type": "stream",
     "text": [
      "False\n"
     ]
    }
   ],
   "source": [
    "#12 The total gain is computed by adding the expected value of each outcome and deducting the costs associated with the decision\n",
    "# a. True\n",
    "# b. False\n",
    "print(\"True\")"
   ]
  },
  {
   "cell_type": "code",
   "execution_count": 37,
   "id": "db9fbcb2",
   "metadata": {},
   "outputs": [
    {
     "name": "stdout",
     "output_type": "stream",
     "text": [
      "Both of the above\n"
     ]
    }
   ],
   "source": [
    "#  13.How we can avoid the overfitting in Decision Tree\n",
    "#  a. Stopping the Tree Growth\n",
    "#  b. Pruning the Full Grown Tree\n",
    "#  c. Both of above\n",
    "#  d. None of the Above \n",
    "\n",
    "print(\"Both of the above\")\n",
    "# (Stopping the Tree Growth and Pruning the Full Grown Tree are strategies to avoid overfitting in Decision Trees.)"
   ]
  },
  {
   "cell_type": "code",
   "execution_count": 10,
   "id": "65c2be21",
   "metadata": {},
   "outputs": [
    {
     "name": "stdout",
     "output_type": "stream",
     "text": [
      "Nature of the target variable: Unbalanced Class\n"
     ]
    }
   ],
   "source": [
    "# 14) What is the nature of the target variable?\n",
    "# Unbalanced Class\n",
    "# Right Skewed Data\n",
    "# Left Skewed Data\n",
    "# Balanced class\n",
    "\n",
    "class_distribution = df['Legendary'].value_counts(normalize=True)\n",
    "if class_distribution[0] > 0.7:\n",
    "    print(\"Nature of the target variable: Unbalanced Class\")\n",
    "elif 0.4 <= class_distribution[0] <= 0.6:\n",
    "    print(\"Nature of the target variable: Balanced class\")\n",
    "elif class_distribution[0] <= 0.3:\n",
    "    print(\"Nature of the target variable: Right Skewed Data\")\n",
    "else:\n",
    "    print(\"Nature of the target variable: Left Skewed Data\")"
   ]
  },
  {
   "cell_type": "markdown",
   "id": "90831b19",
   "metadata": {},
   "source": [
    "Use the diabetes.csv data for the following questions Don’t perform any Data cleaning or pre-processing before answering the question."
   ]
  },
  {
   "cell_type": "code",
   "execution_count": 26,
   "id": "1c5d1b5d",
   "metadata": {},
   "outputs": [],
   "source": [
    "dt = pd.read_csv(r\"C:\\Users\\Rishi\\Downloads\\decision-tree-3\\decision-tree\\diabetes.csv\")"
   ]
  },
  {
   "cell_type": "code",
   "execution_count": 28,
   "id": "af3ddbf2",
   "metadata": {},
   "outputs": [
    {
     "data": {
      "text/html": [
       "<div>\n",
       "<style scoped>\n",
       "    .dataframe tbody tr th:only-of-type {\n",
       "        vertical-align: middle;\n",
       "    }\n",
       "\n",
       "    .dataframe tbody tr th {\n",
       "        vertical-align: top;\n",
       "    }\n",
       "\n",
       "    .dataframe thead th {\n",
       "        text-align: right;\n",
       "    }\n",
       "</style>\n",
       "<table border=\"1\" class=\"dataframe\">\n",
       "  <thead>\n",
       "    <tr style=\"text-align: right;\">\n",
       "      <th></th>\n",
       "      <th>Pregnancies</th>\n",
       "      <th>Glucose</th>\n",
       "      <th>BloodPressure</th>\n",
       "      <th>SkinThickness</th>\n",
       "      <th>Insulin</th>\n",
       "      <th>BMI</th>\n",
       "      <th>DiabetesPedigreeFunction</th>\n",
       "      <th>Age</th>\n",
       "      <th>Outcome</th>\n",
       "    </tr>\n",
       "  </thead>\n",
       "  <tbody>\n",
       "    <tr>\n",
       "      <th>0</th>\n",
       "      <td>6</td>\n",
       "      <td>148</td>\n",
       "      <td>72</td>\n",
       "      <td>35</td>\n",
       "      <td>0</td>\n",
       "      <td>33.6</td>\n",
       "      <td>0.627</td>\n",
       "      <td>50</td>\n",
       "      <td>1</td>\n",
       "    </tr>\n",
       "    <tr>\n",
       "      <th>1</th>\n",
       "      <td>1</td>\n",
       "      <td>85</td>\n",
       "      <td>66</td>\n",
       "      <td>29</td>\n",
       "      <td>0</td>\n",
       "      <td>26.6</td>\n",
       "      <td>0.351</td>\n",
       "      <td>31</td>\n",
       "      <td>0</td>\n",
       "    </tr>\n",
       "    <tr>\n",
       "      <th>2</th>\n",
       "      <td>8</td>\n",
       "      <td>183</td>\n",
       "      <td>64</td>\n",
       "      <td>0</td>\n",
       "      <td>0</td>\n",
       "      <td>23.3</td>\n",
       "      <td>0.672</td>\n",
       "      <td>32</td>\n",
       "      <td>1</td>\n",
       "    </tr>\n",
       "    <tr>\n",
       "      <th>3</th>\n",
       "      <td>1</td>\n",
       "      <td>89</td>\n",
       "      <td>66</td>\n",
       "      <td>23</td>\n",
       "      <td>94</td>\n",
       "      <td>28.1</td>\n",
       "      <td>0.167</td>\n",
       "      <td>21</td>\n",
       "      <td>0</td>\n",
       "    </tr>\n",
       "    <tr>\n",
       "      <th>4</th>\n",
       "      <td>0</td>\n",
       "      <td>137</td>\n",
       "      <td>40</td>\n",
       "      <td>35</td>\n",
       "      <td>168</td>\n",
       "      <td>43.1</td>\n",
       "      <td>2.288</td>\n",
       "      <td>33</td>\n",
       "      <td>1</td>\n",
       "    </tr>\n",
       "  </tbody>\n",
       "</table>\n",
       "</div>"
      ],
      "text/plain": [
       "   Pregnancies  Glucose  BloodPressure  SkinThickness  Insulin   BMI  \\\n",
       "0            6      148             72             35        0  33.6   \n",
       "1            1       85             66             29        0  26.6   \n",
       "2            8      183             64              0        0  23.3   \n",
       "3            1       89             66             23       94  28.1   \n",
       "4            0      137             40             35      168  43.1   \n",
       "\n",
       "   DiabetesPedigreeFunction  Age  Outcome  \n",
       "0                     0.627   50        1  \n",
       "1                     0.351   31        0  \n",
       "2                     0.672   32        1  \n",
       "3                     0.167   21        0  \n",
       "4                     2.288   33        1  "
      ]
     },
     "execution_count": 28,
     "metadata": {},
     "output_type": "execute_result"
    }
   ],
   "source": [
    "dt.head()"
   ]
  },
  {
   "cell_type": "code",
   "execution_count": 30,
   "id": "8d5bb385",
   "metadata": {},
   "outputs": [],
   "source": [
    "import numpy as np"
   ]
  },
  {
   "cell_type": "code",
   "execution_count": 31,
   "id": "fe4cdb8e",
   "metadata": {},
   "outputs": [],
   "source": [
    "# 15)What is the entropy of the column Blood Pressure post converting the column into categorical column using the conditions \n",
    "#    BP< 80 -> Low Pressure, BP >= 80 and BP <= 120 -> Normal, BP > 120 -> High Pressure?\n",
    "# 0.78\n",
    "# 0.86\n",
    "# 0.63-\n",
    "# 0.95\n",
    "\n",
    "conditions = [\n",
    "    dt['BloodPressure'] < 80,\n",
    "    (dt['BloodPressure'] >= 80) & (dt['BloodPressure'] <= 120),\n",
    "    dt['BloodPressure'] > 120    ]\n",
    "\n",
    "categories = ['Low Pressure', 'Normal', 'High Pressure']\n",
    "\n",
    "dt['BP_Category'] = np.select(conditions, categories)"
   ]
  },
  {
   "cell_type": "code",
   "execution_count": 32,
   "id": "5c5f5dba",
   "metadata": {},
   "outputs": [
    {
     "name": "stdout",
     "output_type": "stream",
     "text": [
      "0.8488937951699136\n"
     ]
    }
   ],
   "source": [
    "# Calculate entropy\n",
    "def calculate_entropy(column):\n",
    "    value_counts = column.value_counts(normalize=True)\n",
    "    entropy = -np.sum(value_counts * np.log2(value_counts))\n",
    "    return entropy\n",
    "\n",
    "entropy_bp = calculate_entropy(dt['BP_Category'])\n",
    "print(entropy_bp)"
   ]
  },
  {
   "cell_type": "code",
   "execution_count": 33,
   "id": "770ec2a0",
   "metadata": {},
   "outputs": [],
   "source": [
    "import seaborn as sns\n",
    "import matplotlib.pyplot as plt"
   ]
  },
  {
   "cell_type": "code",
   "execution_count": 34,
   "id": "c18e4065",
   "metadata": {},
   "outputs": [
    {
     "data": {
      "image/png": "[encoded data removed]",
      "text/plain": [
       "<Figure size 640x480 with 1 Axes>"
      ]
     },
     "metadata": {},
     "output_type": "display_data"
    }
   ],
   "source": [
    "# 16) Write python code to get the below bar chart with the column Pregnancies and outcome? \n",
    "# pregancy_data=data.groupby(['Pregnancies','Outcome'])['Outcome'].count sns.barplot(data=pregancy_data,x='Pregnancies',y='count',hue='Outcome')\n",
    "# pregancy_data=data.groupby(['Pregnancies','Outcome'])['Outcome'].count().reset_index(name=\"count\") sns.barplot(data=pregancy_data,x='Pregnancies',y='count',hue='Outcome')\n",
    "# pregancy_data=data.value_counts(['Pregnancies','Outcome'])['Outcome'].count().reset_index(name=\"count\") sns.barplot(data=pregancy_data,x='Pregnancies',y='count',hue='Outcome')\n",
    "# pregancy_data=data.groupby(['Pregnancies','Outcome']).count().reset_index(name=\"count\") sns.barplot(data=pregancy_data,x='Pregnancies',y='count',hue='Outcome')\n",
    "\n",
    "#a\n",
    "pregnancy_data = dt.groupby(['Pregnancies', 'Outcome'])['Outcome'].count().reset_index(name=\"count\")\n",
    "sns.barplot(data=pregnancy_data, x='Pregnancies', y='count', hue='Outcome')\n",
    "plt.show()"
   ]
  },
  {
   "cell_type": "code",
   "execution_count": 35,
   "id": "423d3177",
   "metadata": {},
   "outputs": [
    {
     "name": "stdout",
     "output_type": "stream",
     "text": [
      "DiabetesPedigreeFunction\n"
     ]
    }
   ],
   "source": [
    "# 17) Which column has the highest entropy excluding the target column Outcome in the original data?\n",
    "# BMI\n",
    "# Insulin\n",
    "# Pregnancies\n",
    "# DiabetesPedigreeFunction\n",
    "\n",
    "# Calculate entropy for each column\n",
    "entropies = {col: calculate_entropy(dt[col]) for col in dt.columns if col != 'Outcome'}\n",
    "\n",
    "# Find the column with the highest entropy\n",
    "highest_entropy_column = max(entropies, key=entropies.get)\n",
    "print(highest_entropy_column)\n"
   ]
  },
  {
   "cell_type": "code",
   "execution_count": 40,
   "id": "e840d473",
   "metadata": {},
   "outputs": [
    {
     "name": "stdout",
     "output_type": "stream",
     "text": [
      "<class 'pandas.core.frame.DataFrame'>\n",
      "RangeIndex: 768 entries, 0 to 767\n",
      "Data columns (total 10 columns):\n",
      " #   Column                    Non-Null Count  Dtype  \n",
      "---  ------                    --------------  -----  \n",
      " 0   Pregnancies               768 non-null    int64  \n",
      " 1   Glucose                   768 non-null    int64  \n",
      " 2   BloodPressure             768 non-null    int64  \n",
      " 3   SkinThickness             768 non-null    int64  \n",
      " 4   Insulin                   768 non-null    int64  \n",
      " 5   BMI                       768 non-null    float64\n",
      " 6   DiabetesPedigreeFunction  768 non-null    float64\n",
      " 7   Age                       768 non-null    int64  \n",
      " 8   Outcome                   768 non-null    int64  \n",
      " 9   BP_Category               768 non-null    object \n",
      "dtypes: float64(2), int64(7), object(1)\n",
      "memory usage: 60.1+ KB\n"
     ]
    }
   ],
   "source": [
    "dt.info()"
   ]
  },
  {
   "cell_type": "code",
   "execution_count": 41,
   "id": "11c2117b",
   "metadata": {},
   "outputs": [],
   "source": [
    "dt = dt.drop('BP_Category', axis=1)"
   ]
  },
  {
   "cell_type": "code",
   "execution_count": 42,
   "id": "c6b5a0dd",
   "metadata": {},
   "outputs": [
    {
     "name": "stdout",
     "output_type": "stream",
     "text": [
      "Glucose\n"
     ]
    }
   ],
   "source": [
    "# 18) Which column is considered as the root node of the decision tree using Information Gain in the original data?\n",
    "# BMI\n",
    "# BloodPressure\n",
    "# Glucose\n",
    "# DiabetesPedigreeFunction\n",
    "\n",
    "from sklearn.tree import DecisionTreeClassifier\n",
    "from sklearn.model_selection import train_test_split\n",
    "\n",
    "# Assuming X contains features and y contains the target variable Outcome\n",
    "X = dt.drop('Outcome', axis=1)\n",
    "y = dt['Outcome']\n",
    "\n",
    "# Split the data\n",
    "X_train, X_test, y_train, y_test = train_test_split(X, y, test_size=0.2, random_state=24)\n",
    "\n",
    "# Initialize and fit the Decision Tree model\n",
    "model = DecisionTreeClassifier(random_state=8)\n",
    "model.fit(X_train, y_train)\n",
    "\n",
    "# Get feature importances\n",
    "feature_importances = model.feature_importances_\n",
    "\n",
    "# Find the column with the highest importance\n",
    "root_node_column = X.columns[np.argmax(feature_importances)]\n",
    "print(root_node_column)\n"
   ]
  },
  {
   "cell_type": "code",
   "execution_count": 46,
   "id": "c2d3142f",
   "metadata": {},
   "outputs": [
    {
     "name": "stdout",
     "output_type": "stream",
     "text": [
      "Insulin\n"
     ]
    }
   ],
   "source": [
    "# 19) Provided the probability distribution is known, \n",
    "#  determine which column has the lowest gini index excluding the target column Outcome in the original data?\n",
    "# Insulin\n",
    "# BMI\n",
    "# Pregnancies\n",
    "# DiabetesPedigreeFunction\n",
    "\n",
    "# Calculate Gini index for each column\n",
    "gini_indices = {col: 1 - sum((dt[col] == value).mean() ** 2 for value in dt[col].unique()) for col in dt.columns if col != 'Outcome'}\n",
    "\n",
    "# Find the column with the lowest Gini index\n",
    "lowest_gini_column = min(gini_indices, key=gini_indices.get)\n",
    "print(lowest_gini_column)"
   ]
  },
  {
   "cell_type": "code",
   "execution_count": null,
   "id": "503be13b",
   "metadata": {},
   "outputs": [],
   "source": [
    "# 20) Consider we have built one decision tree and got AUC-ROC score as 0. Now the model predicts the outcome as 0 for one record, what will be the real outcome for that record?\n",
    "# 0\n",
    "# Can’t predict the real outcome.\n",
    "# 0.5\n",
    "\n",
    "# ANS 0"
   ]
  },
  {
   "cell_type": "code",
   "execution_count": null,
   "id": "808ad03b",
   "metadata": {},
   "outputs": [],
   "source": [
    "# 21)  Remove the records with 0 Glucose. Filter the column Glucose having values less than and equal to 75. \n",
    "#Now whether the Glucose column with filtered values is considered as leaf node?\n",
    "# FALSE\n",
    "# TRUE\n",
    "\n",
    "#ans  True"
   ]
  },
  {
   "cell_type": "code",
   "execution_count": null,
   "id": "1839ada2",
   "metadata": {},
   "outputs": [],
   "source": [
    "# 22)  Independent features – Pregnancies & BloodPressure Dependent feature – \n",
    "#Outcome Split train and test with split size as 0.2 and random state as 24 Fit the model with random_state=8 and\n",
    "#get accuracy with test data. Get the accuracy of 0.59090909. \n",
    "#Calculate the precision using the confusion matrix for the developed model?\n",
    "# a 0.56\n",
    "# b 0.41\n",
    "# c 0.38\n",
    "# d 0.74"
   ]
  },
  {
   "cell_type": "code",
   "execution_count": null,
   "id": "a06c30c1",
   "metadata": {},
   "outputs": [],
   "source": [
    "# 23)  Independent features – Insulin & BMI Dependent feature – Outcome Split train and test with split size as 0.2 and\n",
    "#random state as 24 Fit the model with random_state=30 and get accuracy with test data. Get the accuracy of 0.6818181818. \n",
    "#Calculate the Recall using the confusion matrix for the developed model?\n",
    "# a 0.5\n",
    "# b 0.30\n",
    "# c 0.28\n",
    "# d 0.79  ans"
   ]
  },
  {
   "cell_type": "code",
   "execution_count": null,
   "id": "1ea4c88b",
   "metadata": {},
   "outputs": [],
   "source": []
  }
 ],
 "metadata": {
  "kernelspec": {
   "display_name": "Python 3 (ipykernel)",
   "language": "python",
   "name": "python3"
  },
  "language_info": {
   "codemirror_mode": {
    "name": "ipython",
    "version": 3
   },
   "file_extension": ".py",
   "mimetype": "text/x-python",
   "name": "python",
   "nbconvert_exporter": "python",
   "pygments_lexer": "ipython3",
   "version": "3.11.5"
  }
 },
 "nbformat": 4,
 "nbformat_minor": 5
}
