{
 "cells": [
  {
   "cell_type": "markdown",
   "id": "54f18e61",
   "metadata": {},
   "source": [
    "<!-- Data Set Information:\n",
    "\n",
    "This is a transnational data set which contains all the transactions occurring between 01/12/2010 and 09/12/2011 for a UK-based and registered non-store online retail. The company mainly sells unique all-occasion gifts. Many customers of the company are wholesalers.\n",
    "\n",
    "\n",
    "Attribute Information:\n",
    "\n",
    "1.\tInvoiceNo: Invoice number. Nominal, a 6-digit integral number uniquely assigned to each transaction. If this code starts with letter 'c', it indicates a cancellation.\n",
    "2.\tStockCode: Product (item) code. Nominal, a 5-digit integral number uniquely assigned to each distinct product.\n",
    "3.\tDescription: Product (item) name. Nominal.\n",
    "4.\tQuantity: The quantities of each product (item) per transaction. Numeric.\n",
    "5.\tInvoiceDate: Invoice Date and time. Numeric, the day and time when each transaction was generated.\n",
    "6.\tUnitPrice: Unit price. Numeric, Product price per unit in sterling.\n",
    "7.\tCustomerID: Customer number. Nominal, a 5-digit integral number uniquely assigned to each customer.\n",
    "8.\tCountry: Country name. Nominal, the name of the country where each customer resides. -->"
   ]
  },
  {
   "cell_type": "code",
   "execution_count": 1,
   "id": "a53b0c32",
   "metadata": {},
   "outputs": [],
   "source": [
    "# Data Set Information:\n",
    "\n",
    "# This is a transnational data set which contains all the transactions occurring between 01/12/2010 and 09/12/2011 for a \n",
    "# UK-based and registered non-store online retail. The company mainly sells unique all-occasion gifts. \n",
    "# Many customers of the company are wholesalers.\n",
    "\n",
    "\n",
    "# Attribute Information:\n",
    "\n",
    "# 1.\tInvoiceNo: Invoice number. Nominal, a 6-digit integral number uniquely assigned to each transaction. If this code starts with letter 'c', it indicates a cancellation.\n",
    "# 2.\tStockCode: Product (item) code. Nominal, a 5-digit integral number uniquely assigned to each distinct product.\n",
    "# 3.\tDescription: Product (item) name. Nominal.\n",
    "# 4.\tQuantity: The quantities of each product (item) per transaction. Numeric.\n",
    "# 5.\tInvoiceDate: Invoice Date and time. Numeric, the day and time when each transaction was generated.\n",
    "# 6.\tUnitPrice: Unit price. Numeric, Product price per unit in sterling.\n",
    "# 7.\tCustomerID: Customer number. Nominal, a 5-digit integral number uniquely assigned to each customer.\n",
    "# 8.\tCountry: Country name. Nominal, the name of the country where each customer resides."
   ]
  },
  {
   "cell_type": "code",
   "execution_count": 2,
   "id": "2fc211da",
   "metadata": {},
   "outputs": [],
   "source": [
    "import pandas as pd\n",
    "import numpy as np"
   ]
  },
  {
   "cell_type": "code",
   "execution_count": 3,
   "id": "240821c7",
   "metadata": {},
   "outputs": [],
   "source": [
    "df=pd.read_csv(r\"C:\\Users\\Rishi\\Downloads\\OnlineRetail.csv\",encoding='latin1') \n",
    "# If Unicode-Decode error arises then \"encoding=latin1\" should be used for working\n",
    "# encoding \"unicode_escape\""
   ]
  },
  {
   "cell_type": "code",
   "execution_count": 4,
   "id": "ba7531fe",
   "metadata": {},
   "outputs": [
    {
     "data": {
      "text/html": [
       "<div>\n",
       "<style scoped>\n",
       "    .dataframe tbody tr th:only-of-type {\n",
       "        vertical-align: middle;\n",
       "    }\n",
       "\n",
       "    .dataframe tbody tr th {\n",
       "        vertical-align: top;\n",
       "    }\n",
       "\n",
       "    .dataframe thead th {\n",
       "        text-align: right;\n",
       "    }\n",
       "</style>\n",
       "<table border=\"1\" class=\"dataframe\">\n",
       "  <thead>\n",
       "    <tr style=\"text-align: right;\">\n",
       "      <th></th>\n",
       "      <th>InvoiceNo</th>\n",
       "      <th>StockCode</th>\n",
       "      <th>Description</th>\n",
       "      <th>Quantity</th>\n",
       "      <th>InvoiceDate</th>\n",
       "      <th>UnitPrice</th>\n",
       "      <th>CustomerID</th>\n",
       "      <th>Country</th>\n",
       "    </tr>\n",
       "  </thead>\n",
       "  <tbody>\n",
       "    <tr>\n",
       "      <th>0</th>\n",
       "      <td>536365</td>\n",
       "      <td>85123A</td>\n",
       "      <td>WHITE HANGING HEART T-LIGHT HOLDER</td>\n",
       "      <td>6</td>\n",
       "      <td>12/1/2010 8:26</td>\n",
       "      <td>2.55</td>\n",
       "      <td>17850.0</td>\n",
       "      <td>United Kingdom</td>\n",
       "    </tr>\n",
       "    <tr>\n",
       "      <th>1</th>\n",
       "      <td>536365</td>\n",
       "      <td>71053</td>\n",
       "      <td>WHITE METAL LANTERN</td>\n",
       "      <td>6</td>\n",
       "      <td>12/1/2010 8:26</td>\n",
       "      <td>3.39</td>\n",
       "      <td>17850.0</td>\n",
       "      <td>United Kingdom</td>\n",
       "    </tr>\n",
       "    <tr>\n",
       "      <th>2</th>\n",
       "      <td>536365</td>\n",
       "      <td>84406B</td>\n",
       "      <td>CREAM CUPID HEARTS COAT HANGER</td>\n",
       "      <td>8</td>\n",
       "      <td>12/1/2010 8:26</td>\n",
       "      <td>2.75</td>\n",
       "      <td>17850.0</td>\n",
       "      <td>United Kingdom</td>\n",
       "    </tr>\n",
       "    <tr>\n",
       "      <th>3</th>\n",
       "      <td>536365</td>\n",
       "      <td>84029G</td>\n",
       "      <td>KNITTED UNION FLAG HOT WATER BOTTLE</td>\n",
       "      <td>6</td>\n",
       "      <td>12/1/2010 8:26</td>\n",
       "      <td>3.39</td>\n",
       "      <td>17850.0</td>\n",
       "      <td>United Kingdom</td>\n",
       "    </tr>\n",
       "    <tr>\n",
       "      <th>4</th>\n",
       "      <td>536365</td>\n",
       "      <td>84029E</td>\n",
       "      <td>RED WOOLLY HOTTIE WHITE HEART.</td>\n",
       "      <td>6</td>\n",
       "      <td>12/1/2010 8:26</td>\n",
       "      <td>3.39</td>\n",
       "      <td>17850.0</td>\n",
       "      <td>United Kingdom</td>\n",
       "    </tr>\n",
       "  </tbody>\n",
       "</table>\n",
       "</div>"
      ],
      "text/plain": [
       "  InvoiceNo StockCode                          Description  Quantity  \\\n",
       "0    536365    85123A   WHITE HANGING HEART T-LIGHT HOLDER         6   \n",
       "1    536365     71053                  WHITE METAL LANTERN         6   \n",
       "2    536365    84406B       CREAM CUPID HEARTS COAT HANGER         8   \n",
       "3    536365    84029G  KNITTED UNION FLAG HOT WATER BOTTLE         6   \n",
       "4    536365    84029E       RED WOOLLY HOTTIE WHITE HEART.         6   \n",
       "\n",
       "      InvoiceDate  UnitPrice  CustomerID         Country  \n",
       "0  12/1/2010 8:26       2.55     17850.0  United Kingdom  \n",
       "1  12/1/2010 8:26       3.39     17850.0  United Kingdom  \n",
       "2  12/1/2010 8:26       2.75     17850.0  United Kingdom  \n",
       "3  12/1/2010 8:26       3.39     17850.0  United Kingdom  \n",
       "4  12/1/2010 8:26       3.39     17850.0  United Kingdom  "
      ]
     },
     "execution_count": 4,
     "metadata": {},
     "output_type": "execute_result"
    }
   ],
   "source": [
    "df.head()"
   ]
  },
  {
   "cell_type": "code",
   "execution_count": 5,
   "id": "f9a7208e",
   "metadata": {},
   "outputs": [
    {
     "name": "stdout",
     "output_type": "stream",
     "text": [
      "<class 'pandas.core.frame.DataFrame'>\n",
      "RangeIndex: 541909 entries, 0 to 541908\n",
      "Data columns (total 8 columns):\n",
      " #   Column       Non-Null Count   Dtype  \n",
      "---  ------       --------------   -----  \n",
      " 0   InvoiceNo    541909 non-null  object \n",
      " 1   StockCode    541909 non-null  object \n",
      " 2   Description  540455 non-null  object \n",
      " 3   Quantity     541909 non-null  int64  \n",
      " 4   InvoiceDate  541909 non-null  object \n",
      " 5   UnitPrice    541909 non-null  float64\n",
      " 6   CustomerID   406829 non-null  float64\n",
      " 7   Country      541909 non-null  object \n",
      "dtypes: float64(2), int64(1), object(5)\n",
      "memory usage: 33.1+ MB\n"
     ]
    }
   ],
   "source": [
    "df.info()"
   ]
  },
  {
   "cell_type": "code",
   "execution_count": 7,
   "id": "4df9d59b",
   "metadata": {},
   "outputs": [],
   "source": [
    "tot=df['Quantity']*df['UnitPrice']"
   ]
  },
  {
   "cell_type": "code",
   "execution_count": 8,
   "id": "73003665",
   "metadata": {},
   "outputs": [
    {
     "data": {
      "text/plain": [
       "17.98779487699964"
      ]
     },
     "execution_count": 8,
     "metadata": {},
     "output_type": "execute_result"
    }
   ],
   "source": [
    "tot.mean()"
   ]
  },
  {
   "cell_type": "code",
   "execution_count": 10,
   "id": "73815e72",
   "metadata": {},
   "outputs": [
    {
     "name": "stdout",
     "output_type": "stream",
     "text": [
      "25900\n"
     ]
    }
   ],
   "source": [
    "# 1.What is the unique count of the invoice numbers:\n",
    "# A.34000\n",
    "# B.26200\n",
    "# C.25700\n",
    "# D.25900\n",
    "\n",
    "# unq_invc_cnt = df['InvoiceNo'].nunique()\n",
    "# print(unq_invc_cnt)\n",
    "len(df['InvoiceNo'].unique())"
   ]
  },
  {
   "cell_type": "code",
   "execution_count": 11,
   "id": "90fecc0f",
   "metadata": {},
   "outputs": [
    {
     "data": {
      "text/plain": [
       "1727"
      ]
     },
     "execution_count": 11,
     "metadata": {},
     "output_type": "execute_result"
    }
   ],
   "source": [
    "# 2.How many people bought “PARTY BUNTING”.:\n",
    "# A.1727\n",
    "# B.2343\n",
    "# C.2159\n",
    "# D.2200\n",
    "# pb_count = df[df['Description'] == 'PARTY BUNTING'].shape[0] #['CustomerID'].nunique()\n",
    "# print(pb_count)\n",
    "sum(df['Description'] == 'PARTY BUNTING')"
   ]
  },
  {
   "cell_type": "code",
   "execution_count": 12,
   "id": "8f47000c",
   "metadata": {},
   "outputs": [
    {
     "data": {
      "text/plain": [
       "2369"
      ]
     },
     "execution_count": 12,
     "metadata": {},
     "output_type": "execute_result"
    }
   ],
   "source": [
    "# 3.How many people bought “WHITE HANGING HEART T-LIGHT HOLDER”.\n",
    "# A.2387\n",
    "# B.2364\n",
    "# C.2369\n",
    "# D.2360\n",
    "WHH = df[df['Description'] == 'WHITE HANGING HEART T-LIGHT HOLDER'].shape[0]\n",
    "print(WHH)"
   ]
  },
  {
   "cell_type": "code",
   "execution_count": 13,
   "id": "4b4ef6b6",
   "metadata": {},
   "outputs": [
    {
     "name": "stdout",
     "output_type": "stream",
     "text": [
      "3950\n"
     ]
    }
   ],
   "source": [
    "# 4.how many unique people are from “UNITED KINGDOM”. *****************\n",
    "# A.342679\n",
    "# B.361878\n",
    "# C.361874\n",
    "# D.361468\n",
    "\n",
    "# uk_customers = df[df['Country'] == \"United Kingdom\"]['CustomerID'].nunique()\n",
    "# print(uk_customers)"
   ]
  },
  {
   "cell_type": "code",
   "execution_count": 10,
   "id": "0ce38c42",
   "metadata": {},
   "outputs": [
    {
     "data": {
      "text/html": [
       "<div>\n",
       "<style scoped>\n",
       "    .dataframe tbody tr th:only-of-type {\n",
       "        vertical-align: middle;\n",
       "    }\n",
       "\n",
       "    .dataframe tbody tr th {\n",
       "        vertical-align: top;\n",
       "    }\n",
       "\n",
       "    .dataframe thead th {\n",
       "        text-align: right;\n",
       "    }\n",
       "</style>\n",
       "<table border=\"1\" class=\"dataframe\">\n",
       "  <thead>\n",
       "    <tr style=\"text-align: right;\">\n",
       "      <th></th>\n",
       "      <th>InvoiceNo</th>\n",
       "      <th>StockCode</th>\n",
       "      <th>Description</th>\n",
       "      <th>Quantity</th>\n",
       "      <th>InvoiceDate</th>\n",
       "      <th>UnitPrice</th>\n",
       "      <th>CustomerID</th>\n",
       "      <th>Country</th>\n",
       "    </tr>\n",
       "  </thead>\n",
       "  <tbody>\n",
       "    <tr>\n",
       "      <th>0</th>\n",
       "      <td>536365</td>\n",
       "      <td>85123A</td>\n",
       "      <td>WHITE HANGING HEART T-LIGHT HOLDER</td>\n",
       "      <td>6</td>\n",
       "      <td>12/1/2010 8:26</td>\n",
       "      <td>2.55</td>\n",
       "      <td>17850.0</td>\n",
       "      <td>United Kingdom</td>\n",
       "    </tr>\n",
       "    <tr>\n",
       "      <th>1</th>\n",
       "      <td>536365</td>\n",
       "      <td>71053</td>\n",
       "      <td>WHITE METAL LANTERN</td>\n",
       "      <td>6</td>\n",
       "      <td>12/1/2010 8:26</td>\n",
       "      <td>3.39</td>\n",
       "      <td>17850.0</td>\n",
       "      <td>United Kingdom</td>\n",
       "    </tr>\n",
       "  </tbody>\n",
       "</table>\n",
       "</div>"
      ],
      "text/plain": [
       "  InvoiceNo StockCode                         Description  Quantity  \\\n",
       "0    536365    85123A  WHITE HANGING HEART T-LIGHT HOLDER         6   \n",
       "1    536365     71053                 WHITE METAL LANTERN         6   \n",
       "\n",
       "      InvoiceDate  UnitPrice  CustomerID         Country  \n",
       "0  12/1/2010 8:26       2.55     17850.0  United Kingdom  \n",
       "1  12/1/2010 8:26       3.39     17850.0  United Kingdom  "
      ]
     },
     "execution_count": 10,
     "metadata": {},
     "output_type": "execute_result"
    }
   ],
   "source": [
    "df.head(2)"
   ]
  },
  {
   "cell_type": "code",
   "execution_count": 11,
   "id": "16b6ca23",
   "metadata": {},
   "outputs": [
    {
     "name": "stdout",
     "output_type": "stream",
     "text": [
      "14096.0\n"
     ]
    }
   ],
   "source": [
    "# 5.Which customer(CustomerID) has done highest transaction in the dataset.   ***********\n",
    "# A.14578\n",
    "# B.14567    \n",
    "# C.14646\n",
    "# D.14687\n",
    "\n",
    "high_trans = df.groupby('CustomerID')['UnitPrice'].sum().idxmax()\n",
    "print(high_trans)"
   ]
  },
  {
   "cell_type": "code",
   "execution_count": 12,
   "id": "fba15aae",
   "metadata": {},
   "outputs": [
    {
     "name": "stdout",
     "output_type": "stream",
     "text": [
      "4.61\n"
     ]
    }
   ],
   "source": [
    "# 6.What is the average amount of transactions:\n",
    "# A.19\n",
    "# B.17.98\n",
    "# C.34.78\n",
    "# D.none of the above\n",
    "avg_transaction = df['UnitPrice'].mean()\n",
    "print(avg_transaction.round(2))"
   ]
  },
  {
   "cell_type": "code",
   "execution_count": 13,
   "id": "6d4a303c",
   "metadata": {},
   "outputs": [
    {
     "name": "stdout",
     "output_type": "stream",
     "text": [
      "WHITE HANGING HEART T-LIGHT HOLDER\n"
     ]
    }
   ],
   "source": [
    "# 7. What is the frequently bought item in the dataset\n",
    "# A.REGENCY CAKESTAND 3 TIER\n",
    "# B. JUMBO BAG RED RETROSPOT\n",
    "# C. PARTY BUNTING\n",
    "# D.WHITE HANGING HEART T-LIGHT HOLDER\n",
    "freq_bought = df['Description'].value_counts().idxmax()\n",
    "print(freq_bought)"
   ]
  },
  {
   "cell_type": "code",
   "execution_count": 14,
   "id": "54b159d4",
   "metadata": {},
   "outputs": [],
   "source": [
    "# 8.Create a DataFrame with unique description of item ,count of the item ,total amount paid for the item.   **********\n",
    "# Then get the least purchased item.\n",
    "# A.FILIGREE DIAMANTE CHAIN\n",
    "# B.GLASS BELL JAR SMALL\n",
    "# C.GLASS BELL JAR LARGE\n",
    "# D.All the above"
   ]
  },
  {
   "cell_type": "code",
   "execution_count": 15,
   "id": "7fafeb4b",
   "metadata": {},
   "outputs": [],
   "source": [
    "#  9.Which algorithms are used for solving Classification problems?\n",
    "# A.K-Means Clustering\n",
    "# B.Decision Tree         ans\n",
    "# C.SVD Algorithm\n",
    "# D.Linear Regression\n"
   ]
  },
  {
   "cell_type": "code",
   "execution_count": 16,
   "id": "8b5177ac",
   "metadata": {},
   "outputs": [],
   "source": [
    "# 10.How to handle Outliers ,if the column is numeric?\n",
    "# A.Replace Outliers by mode  \n",
    "# B. Replace Outliers by median                ans\n",
    "# C.Replace Outliers by variance\n",
    "# D.All of the Above"
   ]
  },
  {
   "cell_type": "code",
   "execution_count": 17,
   "id": "f4adf469",
   "metadata": {},
   "outputs": [],
   "source": [
    "# 11.Which of the following is also called Normal Distribution?\n",
    "# A.Bernoulli Distribution\n",
    "# B.Poisson’s Distribution\n",
    "# C.Gaussian Distribution       ans\n",
    "# D.Exponential Distribution"
   ]
  },
  {
   "cell_type": "code",
   "execution_count": 18,
   "id": "33a45832",
   "metadata": {},
   "outputs": [],
   "source": [
    "# 12. Which of the following metrics are used to evaluate classification models?\n",
    "# A. Area under the ROC curve\n",
    "# B. F1 score\n",
    "# C. Confusion matrix\n",
    "# D. All of the above       ans\n"
   ]
  },
  {
   "cell_type": "code",
   "execution_count": 19,
   "id": "089555ec",
   "metadata": {},
   "outputs": [],
   "source": [
    "# 13 Which function is used for calculating Precision of the model?\n",
    "# A.  accuracy_score()\n",
    "# B. confusion_matrix()\n",
    "# C.classification_report()                 ans\n",
    "# D.None of the above"
   ]
  },
  {
   "cell_type": "code",
   "execution_count": 20,
   "id": "76189494",
   "metadata": {},
   "outputs": [],
   "source": [
    "# 14.Which parameters are used to know the performance of regression model?\n",
    "# A.adjusted r2_score()\n",
    "# B.map\n",
    "# C. rmse value            ans\n",
    "# D.All of the above"
   ]
  },
  {
   "cell_type": "code",
   "execution_count": 21,
   "id": "59071fc0",
   "metadata": {},
   "outputs": [],
   "source": [
    "# 15.Random forest model uses:\n",
    "# A.Bagging                     ans\n",
    "# B.Boosting\n",
    "# C.Both A and B\n",
    "# D.none of the above"
   ]
  },
  {
   "cell_type": "code",
   "execution_count": null,
   "id": "b7e5f1d5",
   "metadata": {},
   "outputs": [],
   "source": []
  }
 ],
 "metadata": {
  "kernelspec": {
   "display_name": "Python 3 (ipykernel)",
   "language": "python",
   "name": "python3"
  },
  "language_info": {
   "codemirror_mode": {
    "name": "ipython",
    "version": 3
   },
   "file_extension": ".py",
   "mimetype": "text/x-python",
   "name": "python",
   "nbconvert_exporter": "python",
   "pygments_lexer": "ipython3",
   "version": "3.11.5"
  }
 },
 "nbformat": 4,
 "nbformat_minor": 5
}
