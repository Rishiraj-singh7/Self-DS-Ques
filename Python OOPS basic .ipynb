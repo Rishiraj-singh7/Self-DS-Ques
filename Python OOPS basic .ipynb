{
 "cells": [
  {
   "cell_type": "code",
   "execution_count": 1,
   "id": "4c370167",
   "metadata": {},
   "outputs": [],
   "source": [
    "3\n",
    "\n",
    "# Q1. Write a Python program to demonstrate multiple inheritance.\n",
    "# 1. Employee class has 3 data members EmployeeID, Gender (String), Salary and\n",
    "# PerformanceRating(Out of 5) of type int. It has a get() function to get these details from\n",
    "# the user.\n",
    "# 2. JoiningDetail class has a data member DateOfJoining of type Date and a function\n",
    "# getDoJ to get the Date of joining of employees.\n",
    "# 3. Information Class uses the marks from Employee class and the DateOfJoining date\n",
    "# from the JoiningDetail class to calculate the top 3 Employees based on their Ratings\n",
    "# and then Display, using readData, all the details on these employees in Ascending\n",
    "# order of their Date Of Joining.\n"
   ]
  },
  {
   "cell_type": "code",
   "execution_count": 2,
   "id": "19fbbb87",
   "metadata": {},
   "outputs": [],
   "source": [
    "# class Employee:\n",
    "#     def __init__(self, emp_ID, gender, salary, performanceRating):\n",
    "#         self.emp_ID = emp_ID\n",
    "#         self.gender = gender\n",
    "#         self.salary = salary\n",
    "#         self.performanceRating = performanceRating\n",
    "        \n",
    "#     def get(self):\n",
    "#         self.emp_ID = input(\"enter emp_ID: \")\n",
    "#         self.gender = input(\"enter gender: \")\n",
    "#         self.salary = int(input(\"enter salary: \"))\n",
    "#         self.performanceRating = int(input(\"enter performance Rating (out of 5): \"))\n",
    "        \n",
    "\n",
    "# class JoiningDetail:\n",
    "#     def __init__(self, dateofjoin):\n",
    "#         self.dateofjoin = dateofjoin\n",
    "        \n",
    "#     def getdoj(self):\n",
    "#         self.dateofjoin = input(\"enter Date of Joining: \")\n",
    "        \n",
    "# class Information:\n",
    "#     def __init__(self,Employee, employees):\n",
    "#         self.Employee = Employee\n",
    "#         self.JoiningDetail = JoiningDetail\n",
    "        \n",
    "#     def calculatetp3(self):\n",
    "#         top3emp = sorted(employees, kwy=lambda x:performanceRating, reverse=True)[:3]\n",
    "#         return top3emp\n",
    "    \n",
    "#     def readdata(self):\n",
    "#         employees = []\n",
    "#         for i in range(5):\n",
    "#             employee = employees()\n",
    "#             employees.get()\n",
    "#             JoiningDetail = JoiningDetail()\n",
    "#             information = Information(employee, JoiningDetail)\n",
    "#             employees.append(information)\n",
    "            \n",
    "#         top3emp = self.calulatetop3()\n",
    "#         for employee in top3emp:\n",
    "#             print(\"Employee ID:\", employee.employee.emp_ID)\n",
    "#             print(\"Gender:\", employee.employee.gender)\n",
    "#             print(\"Salary:\", employee.employee.salary)\n",
    "#             print(\"Performance Rating:\", employee.employee.performanceRating)\n",
    "#             print(\"Date of Joining:\", employee.joiningDetail.dateofjoin)\n",
    "#             print()           \n",
    "            \n",
    "# if __name__ == \"__main__\":\n",
    "#     information = Information()\n",
    "#     information.readdata()"
   ]
  },
  {
   "cell_type": "code",
   "execution_count": 9,
   "id": "46e515bb",
   "metadata": {},
   "outputs": [
    {
     "name": "stdout",
     "output_type": "stream",
     "text": [
      "Enter Employee ID: 3\n",
      "Enter Gender: m\n",
      "Enter Salary: 10\n",
      "Enter Performance Rating (Out of 5): 4\n",
      "Enter Date of Joining (YYYY-MM-DD): 2021-05-22\n"
     ]
    }
   ],
   "source": [
    "from datetime import date\n",
    "\n",
    "class Employee:\n",
    "    def get(self):\n",
    "        self.EmployeeID = int(input(\"Enter Employee ID: \"))\n",
    "        self.Gender = input(\"Enter Gender: \")\n",
    "        self.Salary = int(input(\"Enter Salary: \"))\n",
    "        self.PerformanceRating = int(input(\"Enter Performance Rating (Out of 5): \"))\n",
    "\n",
    "class JoiningDetail:\n",
    "    def getDoJ(self):\n",
    "        self.DateOfJoining = input(\"Enter Date of Joining (YYYY-MM-DD): \")\n",
    "\n",
    "class Information(Employee, JoiningDetail):\n",
    "    def readData(self):\n",
    "\n",
    "        pass\n",
    "\n",
    "#Exxxxxxx\n",
    "info_obj = Information()\n",
    "info_obj.get()\n",
    "info_obj.getDoJ()\n",
    "info_obj.readData()\n"
   ]
  },
  {
   "cell_type": "code",
   "execution_count": 10,
   "id": "e3334f17",
   "metadata": {},
   "outputs": [],
   "source": [
    "#  Q2 Write a Python program to demonstrate Polymorphism. \n",
    "# 1. Class Vehicle with a parameterized function Fare, that takes input value as fare and returns it to calling Objects. \n",
    "# 2. Create five separate variables Bus, Car, Train, Truck and Ship that call the Fare function.\n",
    "# 3. Use a third variable TotalFare to store the sum of fare for each Vehicle Type. \n",
    "# 4. Print the TotalFare. "
   ]
  },
  {
   "cell_type": "code",
   "execution_count": 14,
   "id": "e9d2ba5a",
   "metadata": {},
   "outputs": [
    {
     "name": "stdout",
     "output_type": "stream",
     "text": [
      "TOTAL_FARE:  500\n"
     ]
    }
   ],
   "source": [
    "class Vehicle:\n",
    "    def __init__(self, fare):\n",
    "        self.fare = fare\n",
    "        \n",
    "    def Fare(self):\n",
    "        return self.fare\n",
    "    \n",
    "bus = Vehicle(100)\n",
    "car = Vehicle(100)\n",
    "train = Vehicle(100)\n",
    "truck = Vehicle(100)\n",
    "ship = Vehicle(100)\n",
    "\n",
    "total_fare = bus.Fare () + car.Fare () + train.Fare () + truck.Fare () + ship.Fare ()\n",
    "print(\"TOTAL_FARE: \", total_fare)"
   ]
  },
  {
   "cell_type": "code",
   "execution_count": 15,
   "id": "82304a14",
   "metadata": {},
   "outputs": [],
   "source": [
    "# Q3. Consider an ongoing test cricket series. Following are the names of the players and their scores in the test 1 and 2. \n",
    "# Test Match 1 : Dhoni : 56 , Balaji : 94      Test Match 2 : Balaji : 80 , Dravid : 105 \n",
    "# Calculate the highest number of runs scored by an individual cricketer in both of the matches. \n",
    "# Create a python function Max_Score (M) that reads a dictionary M that recognizes the player with the highest total score.\n",
    "# This function will return ( Top player , Total Score ) . \n",
    "# You can consider the Top player as String who is the highest scorer and Top score as Integer . \n",
    "# Input : Max_Score({‘test1’:{‘Dhoni’:56, ‘Balaji : 85}, ‘test2’:{‘Dhoni’ 87, ‘Balaji’’:200}}) Output : (‘Balaji ‘ , 200)"
   ]
  },
  {
   "cell_type": "code",
   "execution_count": 18,
   "id": "bc263a9d",
   "metadata": {},
   "outputs": [
    {
     "name": "stdout",
     "output_type": "stream",
     "text": [
      "Top Player: Balaji\n",
      "Top Score: 285\n"
     ]
    }
   ],
   "source": [
    "def Max_score(M):                                          \n",
    "    top_player = max(M ['test1'].keys(), key=lambda x: M['test1'][x])\n",
    "    top_score = M['test1'][top_player] + M['test2'][top_player]\n",
    "    return (top_player,top_score)\n",
    "\n",
    "M = {'test1': {'Dhoni': 56, 'Balaji': 85}, 'test2': {'Dhoni': 87, 'Balaji': 200}}\n",
    "top_player,top_score = Max_score(M)\n",
    "print(\"Top Player:\", top_player)\n",
    "print(\"Top Score:\", top_score)"
   ]
  },
  {
   "cell_type": "code",
   "execution_count": 19,
   "id": "dca36305",
   "metadata": {},
   "outputs": [],
   "source": [
    "# Q4. Create a simple Card game in which there are 8 cards which are randomly chosen from a deck.The first card is shown face up. \n",
    "# The game asks the player to predict whether the next card \n",
    "# in the selection will have a higher or lower value than the currently showing card. \n",
    "# For example, say the card that’s shown is a 3. The player chooses “higher,” and the next card is shown. \n",
    "# If that card has a higher value, the player is correct. \n",
    "# In this example, if the player had chosen “lower,” they would have been incorrect. \n",
    "# If the player guesses correctly, they get 20 points. If they choose incorrectly, they lose 15 points. \n",
    "# If the next card to be turned over has the same value as the previous card, the player is incorrect.\n"
   ]
  },
  {
   "cell_type": "code",
   "execution_count": 24,
   "id": "a7d04065",
   "metadata": {},
   "outputs": [
    {
     "name": "stdout",
     "output_type": "stream",
     "text": [
      "Shown cards: 11\n",
      "Higher or Lower? (H?L): h\n",
      "Incorrect\n",
      "Your points: -15\n"
     ]
    }
   ],
   "source": [
    "import random                                    \n",
    "cards = [2, 3, 4, 5, 6, 7, 8, 9, 10, 11, 12, 13]\n",
    "selectedcards = random.sample(cards, 8)\n",
    "\n",
    "showncards = selectedcards[0]\n",
    "print(\"Shown cards:\", showncards)\n",
    "\n",
    "prediction = input(\"Higher or Lower? (H?L): \")\n",
    "nextcard = selectedcards[1]\n",
    "\n",
    "if prediction == \"H\" and nextcard > showncards:\n",
    "    print(\"Correct!\")\n",
    "    points = 20\n",
    "elif prediction == \"L\" and nextcard < showncard:\n",
    "    print = 20\n",
    "else:\n",
    "    print(\"Incorrect\")\n",
    "    points = -15\n",
    "    \n",
    "print(\"Your points:\", points)"
   ]
  },
  {
   "cell_type": "code",
   "execution_count": 33,
   "id": "2be514e5",
   "metadata": {},
   "outputs": [],
   "source": [
    "#  Q5. Create an empty dictionary called Car_0 . \n",
    "# Then fill the dictionary with Keys : color , speed , X_position and Y_position. \n",
    "# car_0 = {'x_position': 10, 'y_position': 72, 'speed': 'medium'} . a) \n",
    "# If the speed is slow the coordinates of the X_pos get incremented by 2. b)\n",
    "# If the speed is Medium the coordinates of the X_pos gets incremented by 9 c)\n",
    "# Now if the speed is Fast the coordinates of the X_pos gets incremented by 22. Print the modified dictionary. "
   ]
  },
  {
   "cell_type": "code",
   "execution_count": 34,
   "id": "7d74b7da",
   "metadata": {},
   "outputs": [
    {
     "name": "stdout",
     "output_type": "stream",
     "text": [
      "{'x_position': 19, 'y_position': 72, 'speed': 'medium'}\n"
     ]
    }
   ],
   "source": [
    "car_0 = {'x_position': 10, 'y_position': 72, 'speed': 'medium'}         \n",
    "\n",
    "if car_0['speed'] == 'slow':\n",
    "    car_0['x_position'] += 2\n",
    "elif car_0['speed'] == 'medium':\n",
    "    car_0['x_position'] += 9\n",
    "elif car_0['speed'] == 'fast':\n",
    "    car_0['x_position'] += 22\n",
    "\n",
    "print(car_0)\n"
   ]
  },
  {
   "cell_type": "code",
   "execution_count": 25,
   "id": "ae125181",
   "metadata": {},
   "outputs": [],
   "source": [
    "# Q6. Show a basic implementation of abstraction in python using the abstract classes. \n",
    "# 1. Create an abstract class in python. \n",
    "# 2. Implement abstraction with the other classes and base class as abstract class."
   ]
  },
  {
   "cell_type": "code",
   "execution_count": 47,
   "id": "bc9503fd",
   "metadata": {},
   "outputs": [
    {
     "name": "stdout",
     "output_type": "stream",
     "text": [
      "25\n"
     ]
    }
   ],
   "source": [
    "from abc import ABC, abstractmethod\n",
    "\n",
    "class Shape(ABC):\n",
    "    @abstractmethod\n",
    "    def area(self):\n",
    "        pass\n",
    "\n",
    "class Square(Shape):\n",
    "    def __init__(self, side):\n",
    "        self.side = side\n",
    "\n",
    "    def area(self):\n",
    "        return self.side * self.side\n",
    "\n",
    "# Usage:\n",
    "shape = Square(5)\n",
    "print(shape.area())"
   ]
  },
  {
   "cell_type": "code",
   "execution_count": 26,
   "id": "adcb14c3",
   "metadata": {},
   "outputs": [],
   "source": [
    "# Q7. Create a program in python to demonstrate Polymorphism. \n",
    "# 1. Make use of private and protected members using python name mangling techniques."
   ]
  },
  {
   "cell_type": "code",
   "execution_count": 37,
   "id": "affa7d03",
   "metadata": {},
   "outputs": [
    {
     "name": "stdout",
     "output_type": "stream",
     "text": [
      "Square Area: 25\n",
      "Square Perimeter: 20\n"
     ]
    }
   ],
   "source": [
    "class Shape:\n",
    "    def __init__(self):\n",
    "        self.__area = 0  # Private member\n",
    "        self._perimeter = 0  # Protected member\n",
    "\n",
    "    def getArea(self):\n",
    "        return self.__area\n",
    "\n",
    "    def getPerimeter(self):\n",
    "        return self._perimeter\n",
    "\n",
    "    def setArea(self, area):\n",
    "        self.__area = area\n",
    "\n",
    "    def setPerimeter(self, perimeter):\n",
    "        self._perimeter = perimeter\n",
    "\n",
    "\n",
    "class Square(Shape):\n",
    "    def __init__(self, side):\n",
    "        super().__init__()\n",
    "        self.__side = side  # Private member\n",
    "\n",
    "    def getArea(self):\n",
    "        return self.__side * self.__side\n",
    "\n",
    "    def getPerimeter(self):\n",
    "        return 4 * self.__side\n",
    "\n",
    "square = Square(5)\n",
    "print(\"Square Area:\", square.getArea())\n",
    "print(\"Square Perimeter:\", square.getPerimeter())"
   ]
  },
  {
   "cell_type": "code",
   "execution_count": 27,
   "id": "4845090e",
   "metadata": {},
   "outputs": [],
   "source": [
    "# Q8. Given a list of 50 natural numbers from 1-50. \n",
    "# Create a function that will take every element from the list and return the square of each element. \n",
    "# Use the python map and filter methods to implement the function on the given list. \n"
   ]
  },
  {
   "cell_type": "code",
   "execution_count": 38,
   "id": "c21d8d2b",
   "metadata": {},
   "outputs": [
    {
     "name": "stdout",
     "output_type": "stream",
     "text": [
      "[1, 4, 9, 16, 25, 36, 49, 64, 81, 100, 121, 144, 169, 196, 225, 256, 289, 324, 361, 400, 441, 484, 529, 576, 625, 676, 729, 784, 841, 900, 961, 1024, 1089, 1156, 1225, 1296, 1369, 1444, 1521, 1600, 1681, 1764, 1849, 1936, 2025, 2116, 2209, 2304, 2401, 2500]\n"
     ]
    }
   ],
   "source": [
    "def square(x):                        \n",
    "    return x * x\n",
    "\n",
    "numbers = list(range(1, 51))\n",
    "squaredNumbers = list(map(square, numbers))\n",
    "print(squaredNumbers)"
   ]
  },
  {
   "cell_type": "code",
   "execution_count": 1,
   "id": "48eb4f88",
   "metadata": {},
   "outputs": [
    {
     "name": "stdout",
     "output_type": "stream",
     "text": [
      "Equilateral Triangle\n"
     ]
    }
   ],
   "source": [
    "# Q9. Create a class, Triangle. Its init() method should take self, angle1, angle2, and angle3 as arguments. \n",
    "\n",
    "class Triangle:\n",
    "    number_of_sides = 3\n",
    "\n",
    "    def __init__(self, angle1, angle2, angle3):\n",
    "        self.angle1 = angle1\n",
    "        self.angle2 = angle2\n",
    "        self.angle3 = angle3\n",
    "\n",
    "    def check_angles(self):\n",
    "        if self.angle1 + self.angle2 + self.angle3 == 180:\n",
    "            if self.angle1 == self.angle2 == self.angle3:\n",
    "                print(\"Equilateral Triangle\")\n",
    "            elif self.angle1 == self.angle2 or self.angle1 == self.angle3 or self.angle2 == self.angle3:\n",
    "                print(\"Isosceles Triangle\")\n",
    "            else:\n",
    "                print(\"Scalene Triangle\")\n",
    "        else:\n",
    "            print(\"The angles do not belong to a triangle.\")\n",
    "\n",
    "\n",
    "triangleee = Triangle(60, 60, 60)\n",
    "triangleee.check_angles()\n"
   ]
  },
  {
   "cell_type": "code",
   "execution_count": 40,
   "id": "affaef4e",
   "metadata": {},
   "outputs": [
    {
     "name": "stdout",
     "output_type": "stream",
     "text": [
      "Equilateral Triangle\n"
     ]
    }
   ],
   "source": [
    "# Q10. Create a class variable named number_of_sides and set it equal to 3.      \n",
    "\n",
    "class Triangle:\n",
    "    number_of_sides = 3\n",
    "\n",
    "    def __init__(self, angle1, angle2, angle3):\n",
    "        self.angle1 = angle1\n",
    "        self.angle2 = angle2\n",
    "        self.angle3 = angle3\n",
    "\n",
    "    def check_angles(self):\n",
    "        if self.angle1 + self.angle2 + self.angle3 == 180:\n",
    "            if self.angle1 == self.angle2 == self.angle3:\n",
    "                print(\"Equilateral Triangle\")\n",
    "            elif self.angle1 == self.angle2 or self.angle1 == self.angle3 or self.angle2 == self.angle3:\n",
    "                print(\"Isosceles Triangle\")\n",
    "            else:\n",
    "                print(\"Scalene Triangle\")\n",
    "        else:\n",
    "            print(\"The angles do not belong to a triangle.\")\n",
    "\n",
    "\n",
    "triangle = Triangle(60, 60, 60)\n",
    "triangle.check_angles()\n"
   ]
  },
  {
   "cell_type": "code",
   "execution_count": 31,
   "id": "cceabd59",
   "metadata": {},
   "outputs": [],
   "source": [
    "# Q11. Create a method named check_angles. \n",
    "# The sum of a triangle's three angles should return True if the sum is equal to 180, and False otherwise. \n",
    "# The method should print whether the angles belong to a triangle or not. \n",
    "# 11.1 Write methods to verify if the triangle is an acute triangle or obtuse triangle. \n",
    "# 11.2 Create an instance of the triangle class and call all the defined methods. \n",
    "# 11.3 Create three child classes of triangle class - isosceles_triangle, right_triangle and equilateral_triangle. \n",
    "# 11.4 Define methods which check for their properties"
   ]
  },
  {
   "cell_type": "code",
   "execution_count": 46,
   "id": "7f690d20",
   "metadata": {},
   "outputs": [
    {
     "name": "stdout",
     "output_type": "stream",
     "text": [
      "These angles belong to a triangle.\n",
      "It is an acute triangle.\n",
      "It is not an obtuse triangle.\n",
      "It is an isosceles triangle.\n",
      "It is a right-angled triangle.\n",
      "It is an equilateral triangle.\n"
     ]
    }
   ],
   "source": [
    "\n",
    "class Triangle:\n",
    "    def __init__(self, angle1, angle2, angle3):\n",
    "        self.angle1 = angle1\n",
    "        self.angle2 = angle2\n",
    "        self.angle3 = angle3\n",
    "\n",
    "    def check_angles(self):\n",
    "        return self.angle1 + self.angle2 + self.angle3 == 180\n",
    "\n",
    "    def print_triangle_type(self):\n",
    "        if self.check_angles():\n",
    "            print(\"These angles belong to a triangle.\")\n",
    "        else:\n",
    "            print(\"These angles do not form a triangle.\")\n",
    "\n",
    "    def is_acute_triangle(self):\n",
    "        if self.check_angles():\n",
    "            if self.angle1 < 90 and self.angle2 < 90 and self.angle3 < 90:\n",
    "                print(\"It is an acute triangle.\")\n",
    "            else:\n",
    "                print(\"It is not an acute triangle.\")\n",
    "        else:\n",
    "            print(\"These angles do not form a triangle.\")\n",
    "\n",
    "    def is_obtuse_triangle(self):\n",
    "        if self.check_angles():\n",
    "            if self.angle1 > 90 or self.angle2 > 90 or self.angle3 > 90:\n",
    "                print(\"It is an obtuse triangle.\")\n",
    "            else:\n",
    "                print(\"It is not an obtuse triangle.\")\n",
    "        else:\n",
    "            print(\"These angles do not form a triangle.\")\n",
    "\n",
    "#.2\n",
    "triangle_obj = Triangle(60, 60, 60)\n",
    "triangle_obj.print_triangle_type()\n",
    "triangle_obj.is_acute_triangle()\n",
    "triangle_obj.is_obtuse_triangle()\n",
    "\n",
    "#.3\n",
    "class IsoscelesTriangle(Triangle):\n",
    "    def check_isosceles(self):\n",
    "        if self.check_angles():\n",
    "            if self.angle1 == self.angle2 or self.angle1 == self.angle3 or self.angle2 == self.angle3:\n",
    "                print(\"It is an isosceles triangle.\")\n",
    "            else:\n",
    "                print(\"It is not an isosceles triangle.\")\n",
    "        else:\n",
    "            print(\"These angles do not form a triangle.\")\n",
    "\n",
    "class RightTriangle(Triangle):\n",
    "    def check_right_angle(self):\n",
    "        if self.check_angles():\n",
    "            if self.angle1 == 90 or self.angle2 == 90 or self.angle3 == 90:\n",
    "                print(\"It is a right-angled triangle.\")\n",
    "            else:\n",
    "                print(\"It is not a right-angled triangle.\")\n",
    "        else:\n",
    "            print(\"These angles do not form a triangle.\")\n",
    "\n",
    "class EquilateralTriangle(Triangle):\n",
    "    def check_equilateral(self):\n",
    "        if self.check_angles():\n",
    "            if self.angle1 == self.angle2 == self.angle3:\n",
    "                print(\"It is an equilateral triangle.\")\n",
    "            else:\n",
    "                print(\"It is not an equilateral triangle.\")\n",
    "        else:\n",
    "            print(\"These angles do not form a triangle.\")\n",
    "\n",
    "# Q11.4\n",
    "isosceles_triangle_obj = IsoscelesTriangle(45, 45, 90)\n",
    "isosceles_triangle_obj.check_isosceles()\n",
    "\n",
    "right_triangle_obj = RightTriangle(30, 60, 90)\n",
    "right_triangle_obj.check_right_angle()\n",
    "\n",
    "equilateral_triangle_obj = EquilateralTriangle(60, 60, 60)\n",
    "equilateral_triangle_obj.check_equilateral()"
   ]
  },
  {
   "cell_type": "code",
   "execution_count": 32,
   "id": "0bf8bc1f",
   "metadata": {},
   "outputs": [],
   "source": [
    "# Q12. Create a class isosceles_right_triangle which inherits from isosceles_triangle and right_triangle. \n",
    "# 12.1 Define methods which check for their properties"
   ]
  },
  {
   "cell_type": "code",
   "execution_count": 45,
   "id": "c122487f",
   "metadata": {},
   "outputs": [
    {
     "name": "stdout",
     "output_type": "stream",
     "text": [
      "It is not an Isosceles Right Triangle.\n"
     ]
    }
   ],
   "source": [
    "class IsoscelesRightTriangle(IsoscelesTriangle, RightTriangle):\n",
    "    def check_isosceles_right(self):\n",
    "        if self.check_isosceles() and self.check_right_angle():\n",
    "            print(\"It is an Isosceles Right Triangle.\")\n",
    "        else:\n",
    "            print(\"It is not an Isosceles Right Triangle.\")\n",
    "\n",
    "# Usage\n",
    "isosceles_right_triangle_obj = IsoscelesRightTriangle(45, 45, 90)\n",
    "isosceles_right_triangle_obj.check_isosceles_right()"
   ]
  },
  {
   "cell_type": "code",
   "execution_count": null,
   "id": "115027ed",
   "metadata": {},
   "outputs": [],
   "source": []
  }
 ],
 "metadata": {
  "kernelspec": {
   "display_name": "Python 3 (ipykernel)",
   "language": "python",
   "name": "python3"
  },
  "language_info": {
   "codemirror_mode": {
    "name": "ipython",
    "version": 3
   },
   "file_extension": ".py",
   "mimetype": "text/x-python",
   "name": "python",
   "nbconvert_exporter": "python",
   "pygments_lexer": "ipython3",
   "version": "3.11.5"
  }
 },
 "nbformat": 4,
 "nbformat_minor": 5
}
