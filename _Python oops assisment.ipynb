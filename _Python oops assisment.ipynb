{
 "cells": [
  {
   "cell_type": "markdown",
   "id": "740b0bf3",
   "metadata": {},
   "source": [
    "# Assignment – Function and Class"
   ]
  },
  {
   "cell_type": "code",
   "execution_count": 1,
   "id": "de95003a",
   "metadata": {},
   "outputs": [],
   "source": [
    "#1. Create a function named ‘factor’ that can only accept 1 argument.The function should return the factorial of that number.\n",
    "def factorial(n):\n",
    "    if n == 0 :\n",
    "       return 1\n",
    "    else:\n",
    "        return n * factorial(n-1)"
   ]
  },
  {
   "cell_type": "code",
   "execution_count": 2,
   "id": "3cc14aa7",
   "metadata": {},
   "outputs": [
    {
     "name": "stdout",
     "output_type": "stream",
     "text": [
      "24\n"
     ]
    }
   ],
   "source": [
    "print(factorial(4))"
   ]
  },
  {
   "cell_type": "code",
   "execution_count": 3,
   "id": "0f708cc6",
   "metadata": {},
   "outputs": [],
   "source": [
    "# 2. Create a function named ‘check_string’, the function should accept a string data from the user and \n",
    "# the function should check if the user input contains the letter ‘s’ in it. \n",
    "# If it contains the letter ‘s’ then print- ‘The string is containing the letter ‘s’’, \n",
    "# if not then print- ‘The string doesn’t contain theletter ‘s’’.\n",
    "\n",
    "def check_string(input_string):\n",
    "    if 's' in input_string:\n",
    "        print(\"The string is containing the letter 's'\")\n",
    "    else:\n",
    "        print(\"The string doesn't contain the letter 's'\")"
   ]
  },
  {
   "cell_type": "code",
   "execution_count": 4,
   "id": "9c2fea2d",
   "metadata": {},
   "outputs": [
    {
     "name": "stdout",
     "output_type": "stream",
     "text": [
      "Enter a string: Rahul is home\n",
      "The string is containing the letter 's'\n"
     ]
    }
   ],
   "source": [
    "input_string = input(\"Enter a string: \")\n",
    "check_string(input_string)"
   ]
  },
  {
   "cell_type": "code",
   "execution_count": 5,
   "id": "5c5d4154",
   "metadata": {},
   "outputs": [
    {
     "name": "stdout",
     "output_type": "stream",
     "text": [
      "This user-defined input is: rahul\n"
     ]
    }
   ],
   "source": [
    "# 3. Create a class named ‘student’ and inside the class, create a function named ‘fun1’- \n",
    "# this method should accept the user defined input and return that value:\n",
    "# a. Create another method named- message() and that method should print the user defined input that we have defined in ‘fun1’.\n",
    "\n",
    "\n",
    "class Student:\n",
    "    def __init__(self, name):\n",
    "        self.name = name\n",
    "        \n",
    "    def fun1(self, user_input):\n",
    "        return user_input\n",
    "    \n",
    "    def message(self):\n",
    "        print(\"This user-defined input is:\", self.name)\n",
    "        \n",
    "obj=Student('rahul')\n",
    "\n",
    "obj.message()"
   ]
  },
  {
   "cell_type": "code",
   "execution_count": 6,
   "id": "e0066de5",
   "metadata": {},
   "outputs": [],
   "source": [
    "class studentt:\n",
    "    def __init__(self, name):\n",
    "        self.name = name\n",
    "\n",
    "    def fun1(self, user_input):\n",
    "        return user_input\n",
    "\n",
    "    def message(self):\n",
    "        print(\"The user-defined input is:\", self.name)\n",
    "        "
   ]
  },
  {
   "cell_type": "code",
   "execution_count": 7,
   "id": "d8edce1b",
   "metadata": {},
   "outputs": [
    {
     "name": "stdout",
     "output_type": "stream",
     "text": [
      "Enter student's name: Vishnu\n"
     ]
    }
   ],
   "source": [
    "student_name = input(\"Enter student's name: \")\n",
    "student1 = studentt(student_name)"
   ]
  },
  {
   "cell_type": "code",
   "execution_count": 8,
   "id": "dd16bc49",
   "metadata": {},
   "outputs": [],
   "source": [
    "# 4. Create a lambda function that should double or multiply the number (that we will be passing in the lambda function) by\n",
    "#    2. Store the lambda function in a variable named ‘double_num’.\n",
    "\n",
    "double_num = lambda x: x * 2"
   ]
  },
  {
   "cell_type": "code",
   "execution_count": 9,
   "id": "78cb9d74",
   "metadata": {},
   "outputs": [
    {
     "name": "stdout",
     "output_type": "stream",
     "text": [
      "Enter a number to double: 55\n",
      "The doubled number is: 110\n"
     ]
    }
   ],
   "source": [
    "input_number = int(input(\"Enter a number to double: \"))\n",
    "doubled_num = double_num(input_number)\n",
    "print(\"The doubled number is:\", doubled_num)"
   ]
  },
  {
   "cell_type": "code",
   "execution_count": 10,
   "id": "940fb037",
   "metadata": {},
   "outputs": [
    {
     "name": "stdout",
     "output_type": "stream",
     "text": [
      "8\n"
     ]
    }
   ],
   "source": [
    "print(double_num(4))"
   ]
  },
  {
   "cell_type": "code",
   "execution_count": 11,
   "id": "4a400b32",
   "metadata": {},
   "outputs": [],
   "source": [
    "# Take user input string and check whether that string is palindrome or not.\n",
    "\n",
    "def check_palindrome(input_str):\n",
    "    reversed_str = input_str[::-1]\n",
    "    if input_str == reversed_str:\n",
    "        print(\"The string is a palindrome\")\n",
    "    else:\n",
    "        print(\"The string is not palindrome\")"
   ]
  },
  {
   "cell_type": "code",
   "execution_count": 12,
   "id": "d279cc8a",
   "metadata": {},
   "outputs": [
    {
     "name": "stdout",
     "output_type": "stream",
     "text": [
      "Enter a string to check if it's a palindrome: rahulluhar\n",
      "The string is a palindrome\n"
     ]
    }
   ],
   "source": [
    "input_str = input(\"Enter a string to check if it's a palindrome: \")\n",
    "check_palindrome(input_str)"
   ]
  },
  {
   "cell_type": "markdown",
   "id": "8fec9782",
   "metadata": {},
   "source": [
    "# Assignment – Function"
   ]
  },
  {
   "cell_type": "code",
   "execution_count": 13,
   "id": "11d8c3fb",
   "metadata": {},
   "outputs": [
    {
     "name": "stdout",
     "output_type": "stream",
     "text": [
      "This is function 1 in the super class.\n"
     ]
    }
   ],
   "source": [
    "# 1. Create a class named ‘Super’ and inside that class define a user-defined function named fun1\n",
    "# a. Inside the ‘fun1’ function, pass the message “This is function 1 in the Super class.” in the print statement.\n",
    "\n",
    "class Super:\n",
    "    \n",
    "    def fun1(self):\n",
    "        print('This is function 1 in the super class.')\n",
    "        \n",
    "obj=Super()\n",
    "obj.fun1()"
   ]
  },
  {
   "cell_type": "code",
   "execution_count": 14,
   "id": "f51777ca",
   "metadata": {},
   "outputs": [
    {
     "name": "stdout",
     "output_type": "stream",
     "text": [
      "This is function 1 in the Modified Super class.\n"
     ]
    }
   ],
   "source": [
    "# 2. Create another class named ‘Modified_Super’ and inherit this class from the Super class\n",
    "# a. Inside the Modified_Super class, create a function named ‘fun1’ and pass the following message inside the print statement: \n",
    "#    ‘This is function 1 in the Modified Super class.’\n",
    "# b. Create another user-defined function named ‘fun2’ and pass the message: ‘This is the 2 nd function \n",
    "#    from the Modified Super class’ in the print statement.\n",
    "# c. After that, now create an object for the Modified_Super class and call the fun1().\n",
    "\n",
    "class Modified_Super(Super):\n",
    "    \n",
    "    def fun1(self):\n",
    "        print(\"This is function 1 in the Modified Super class.\")\n",
    "        \n",
    "    def fun2(self):\n",
    "        print(\"This is the 2nd function from the Modified Super class\")\n",
    "        \n",
    "# createdf an object for Modified_super class the func1() method\n",
    "mod_obj = Modified_Super()\n",
    "mod_obj.fun1()"
   ]
  },
  {
   "cell_type": "code",
   "execution_count": 15,
   "id": "490d91e5",
   "metadata": {},
   "outputs": [
    {
     "name": "stdout",
     "output_type": "stream",
     "text": [
      "This function is having 2 arguments\n",
      "10 20\n"
     ]
    }
   ],
   "source": [
    "# 3. Create 2 methods named ‘Hello’. In the 1st Hello method, pass only oneargument and pass this message:\n",
    "#    ‘This function is only having 1 argument’. \n",
    "#     And in the 2nd Hello method, pass two arguments and pass this message: ‘This function is having 2 arguments’.\n",
    "# a. Try to call both the methods and analyze the output of both the methods.\n",
    "\n",
    "def Hello(arg1):\n",
    "    print(\"This function is only having 1 argument\")\n",
    "    print(arg1)\n",
    " \n",
    "    \n",
    "def Hello(arg1, arg2):\n",
    "    print(\"This function is having 2 arguments\")\n",
    "    print(arg1, arg2)\n",
    "    \n",
    "# call both the methods\n",
    "Hello(10,20)\n"
   ]
  },
  {
   "cell_type": "code",
   "execution_count": 16,
   "id": "c3a16246",
   "metadata": {},
   "outputs": [],
   "source": [
    "# 4. Create a method named ‘Sum’ that can accept multiple user inputs. \n",
    "# Now add those user defined input values using for loop and the function should return the addition of the numbers.\n",
    "\n",
    "def Sum():\n",
    "    user_inputs = []\n",
    "    total_sum = 0\n",
    "\n",
    "    while True:\n",
    "        user_input = int(input(\"Enter a number: \"))\n",
    "        user_inputs.append(user_input)\n",
    "\n",
    "        choice = input(\"Do you want to enter more numbers? (y/n): \")\n",
    "\n",
    "        if choice.lower() == 'n':\n",
    "            break\n",
    "\n",
    "    for num in user_inputs:\n",
    "        total_sum += num\n",
    "\n",
    "    return total_sum"
   ]
  },
  {
   "cell_type": "code",
   "execution_count": 17,
   "id": "239384a1",
   "metadata": {},
   "outputs": [
    {
     "name": "stdout",
     "output_type": "stream",
     "text": [
      "10\n",
      "20\n"
     ]
    }
   ],
   "source": [
    "# 5. Create a class named ‘Encapsulation’: \n",
    "#     a. Inside the class, first create a constructor. Inside the constructor, initialize originalValue variable as 10.\n",
    "#     b. After creating the constructor, define a function named ‘Value’ and \n",
    "#     this function should return the variable that we have initialized in the constructor \n",
    "#     c. Now create a 2nd function named setValue, and pass an argument named ‘newValue’. \n",
    "#     The task of this function will be to replace the value of the originalValue variable by the value of newValue variable\n",
    "\n",
    "class Encapsulation:\n",
    "    def __init__(self):\n",
    "        self.originalValue = 10\n",
    "\n",
    "    def Value(self):\n",
    "        return self.originalValue\n",
    "\n",
    "    def setValue(self, newValue):\n",
    "        self.originalValue = newValue\n",
    "\n",
    "obj = Encapsulation()\n",
    "print(obj.Value())  # Output: 10\n",
    "obj.setValue(20)\n",
    "print(obj.Value())  # Output: 20"
   ]
  },
  {
   "cell_type": "markdown",
   "id": "ae4253ca",
   "metadata": {},
   "source": [
    "# Assignment – Import"
   ]
  },
  {
   "cell_type": "code",
   "execution_count": 2,
   "id": "6f07c8ad",
   "metadata": {},
   "outputs": [],
   "source": [
    "# 1. Create a Python file named Module:\n",
    "# a. Inside the file, define 4 methods named – addition, subtraction,multiplication, and division.\n",
    "# b. Each method should only accept 2 arguments and should return the result of operation performed in each method. \n",
    "#    For e.g., addition() should return the sum of two arguments.\n",
    "# c. Save the Module file in .py format.\n",
    "\n",
    "def Addition(a,b):\n",
    "    return a + b\n",
    "\n",
    "def Subtraction(a,b):\n",
    "    return a - b\n",
    "\n",
    "def Multipication(a,b):\n",
    "    return a * b\n",
    "\n",
    "def Division(a,b):\n",
    "    return a / b"
   ]
  },
  {
   "cell_type": "code",
   "execution_count": 3,
   "id": "e89ecf66",
   "metadata": {},
   "outputs": [
    {
     "name": "stdout",
     "output_type": "stream",
     "text": [
      "24\n"
     ]
    }
   ],
   "source": [
    "print(Addition(12,12))"
   ]
  },
  {
   "cell_type": "code",
   "execution_count": 4,
   "id": "b6748c00",
   "metadata": {},
   "outputs": [
    {
     "name": "stdout",
     "output_type": "stream",
     "text": [
      "Addition: 15\n",
      "Subtraction: 7\n",
      "Multiplication: 60\n",
      "Division: 5.0\n"
     ]
    }
   ],
   "source": [
    "# 2. Open a new python file and import the Module.py file\n",
    "# a. Now call the 4 methods from the Module.py file, i.e., addition(),subtraction(), multiplication(), and Division().\n",
    "\n",
    "result_addition = Addition(10, 5)\n",
    "print(\"Addition:\", result_addition)\n",
    "\n",
    "result_subtraction = Subtraction(15, 8)\n",
    "print(\"Subtraction:\", result_subtraction)\n",
    "\n",
    "result_multiplication = Multipication(20, 3)\n",
    "print(\"Multiplication:\", result_multiplication)\n",
    "\n",
    "result_division = Division(30, 6)\n",
    "print(\"Division:\", result_division)"
   ]
  },
  {
   "cell_type": "code",
   "execution_count": 5,
   "id": "99a43438",
   "metadata": {},
   "outputs": [
    {
     "name": "stdout",
     "output_type": "stream",
     "text": [
      "Addition: 29\n"
     ]
    }
   ],
   "source": [
    "# 3. From the Module file, import only the addition() and pass the arguments so\n",
    "# that it can display the result from the method.\n",
    "\n",
    "#from Module import addition\n",
    "\n",
    "# Call only the addition() method\n",
    "result_addition = Addition(25, 4)\n",
    "print(\"Addition:\", result_addition)"
   ]
  },
  {
   "cell_type": "code",
   "execution_count": 21,
   "id": "424df048",
   "metadata": {},
   "outputs": [
    {
     "name": "stdout",
     "output_type": "stream",
     "text": [
      "Subtraction: 28\n"
     ]
    }
   ],
   "source": [
    "# 4. From the Module file, import only the subtraction() and pass the arguments\n",
    "# so that it can display the result from the method.\n",
    "\n",
    "#from Module import subtraction\n",
    "\n",
    "# Call only the subtraction() method\n",
    "result_subtraction = Subtraction(35, 7)\n",
    "print(\"Subtraction:\", result_subtraction)"
   ]
  },
  {
   "cell_type": "code",
   "execution_count": 7,
   "id": "080316e0",
   "metadata": {},
   "outputs": [
    {
     "name": "stdout",
     "output_type": "stream",
     "text": [
      "Multiplication: 200\n",
      "Division: 5.0\n"
     ]
    }
   ],
   "source": [
    "\n",
    "# 5. From the Module file, import both the multiplication() and division() and\n",
    "# pass the arguments so that it can display the result from the methods.\n",
    "\n",
    "#from Module import multiplication, division\n",
    "\n",
    "# Call both multiplication() and division() methods\n",
    "result_multiplication = Multipication(40, 5)\n",
    "print(\"Multiplication:\", result_multiplication)\n",
    "\n",
    "result_division = Division(45, 9)\n",
    "print(\"Division:\", result_division)"
   ]
  },
  {
   "cell_type": "markdown",
   "id": "42803490",
   "metadata": {},
   "source": [
    "# Assignment – Inheritance"
   ]
  },
  {
   "cell_type": "code",
   "execution_count": 8,
   "id": "a9a9a0d9",
   "metadata": {},
   "outputs": [
    {
     "name": "stdout",
     "output_type": "stream",
     "text": [
      "10\n"
     ]
    }
   ],
   "source": [
    "# 1. Create a class named parent_Class and inside the class, initialize a global\n",
    "# variable num as 10\n",
    "# a. Create another class named child_Class and this class should be\n",
    "# inherited from the parent class.\n",
    "# b. Now create an object for the child_Class and with the help of\n",
    "# child_Class object, display the value of 'num'.\n",
    "\n",
    "class Parent_class:\n",
    "    num = 10\n",
    "    \n",
    "class Child_class(Parent_class):\n",
    "    pass\n",
    "\n",
    "# Create an object of Child_Class\n",
    "Child_obj = Child_class()\n",
    "\n",
    "#display the value of \"num\" using the child class obj\n",
    "print(Child_obj.num)"
   ]
  },
  {
   "cell_type": "code",
   "execution_count": 9,
   "id": "e134a2d0",
   "metadata": {},
   "outputs": [
    {
     "name": "stdout",
     "output_type": "stream",
     "text": [
      "Rocky\n"
     ]
    }
   ],
   "source": [
    "# 2. Create three classes named A, B and C\n",
    "# a. Inside the A class, create a constructor. Inside the constructor, initialize 2 global variables name and age.\n",
    "# b. After initializing the global variables inside the constructor, now create a function named ‘details’ and \n",
    "#    that function should return the ‘name’ variable.\n",
    "# c. Inside the B class, create a constructor. Inside the constructor, initialize 2 global variables name and id.\n",
    "# d. After initializing the global variables inside the constructor, now create a function named ‘details’ and \n",
    "#    that function should return the ‘name’ variable.\n",
    "# e. The C class should inherit from class A, and B. Inside the class C,create a constructor, and inside the constructor, \n",
    "#    call the constructor of class A.\n",
    "# f. Now, create a method inside the class C, as get_details, and this function should return the value of name.\n",
    "# g. At last, create an object of class C, and with the help of the object, call the get_details().\n",
    "\n",
    "\n",
    "class A:\n",
    "    def __init__(self, name, age):\n",
    "        self.name = name\n",
    "        self.age = age\n",
    "        \n",
    "    def details(self):\n",
    "        return self.name\n",
    "    \n",
    "class B:\n",
    "    \n",
    "    def __init__(self, name, Id):\n",
    "        self.name = name\n",
    "        self.age = Id\n",
    "        \n",
    "    def details(self):\n",
    "        return self.name\n",
    "\n",
    "class C(A,B):\n",
    "    def __init__(self, name,age,Id):\n",
    "        super().__init__(name,age)\n",
    "        \n",
    "    def get_details(self):\n",
    "        return self.name\n",
    "    \n",
    "obj_class = C('Rocky', 24, 121)\n",
    "\n",
    "print(obj_class.get_details())"
   ]
  },
  {
   "cell_type": "code",
   "execution_count": 10,
   "id": "25c67927",
   "metadata": {},
   "outputs": [
    {
     "name": "stdout",
     "output_type": "stream",
     "text": [
      "This is the first function from Sub 1 class\n",
      "This is the second function from the Sub 2 class\n",
      "This is the final method from the super class\n"
     ]
    }
   ],
   "source": [
    "# 3. Create a class named ‘Sub1’, inside the class, generate a user defined\n",
    "# function named ‘first’ and inside the function, pass the following statement\n",
    "# in the print()- ‘This is the first function from Sub 1 class’.\n",
    "# a. Now create another class named ‘Sub2’, and inside the class, create a\n",
    "# function named ‘second’, and pass the following message in the print()-\n",
    "# ‘This is the second function from the Sub 2 class’.\n",
    "# b. After that, create another class named ‘Super’ and inside that class,\n",
    "# create a method named ‘final’, and pass the below message in the print()-\n",
    "# ‘This is the final method from the super class’.\n",
    "# c. Now, create an object for the Super class and call all the 3 user defined\n",
    "# methods, i.e., first(), second(), and final().\n",
    "\n",
    "\n",
    "class Sub1:\n",
    "    def first(self):\n",
    "        print('This is the first function from Sub 1 class')\n",
    "        \n",
    "class Sub2:\n",
    "    def second(self):\n",
    "        print('This is the second function from the Sub 2 class')\n",
    "        \n",
    "class Super(Sub1, Sub2):\n",
    "    def final(self):\n",
    "        print('This is the final method from the super class')\n",
    "        \n",
    "obj_sub = Super()\n",
    "\n",
    "obj_sub.first()\n",
    "obj_sub.second()\n",
    "obj_sub.final()"
   ]
  },
  {
   "cell_type": "code",
   "execution_count": 11,
   "id": "7c564d41",
   "metadata": {},
   "outputs": [
    {
     "name": "stdout",
     "output_type": "stream",
     "text": [
      "This is the message from the fun1\n"
     ]
    }
   ],
   "source": [
    "# 4. Create a class named ‘Parent’, and inside the class, create a function\n",
    "# named ‘fun1’ and pass the following message in the print()- ‘This is the\n",
    "# message from the fun1’.\n",
    "# a. Now create a class named ‘Child1’ and inside the class, create a\n",
    "# method named ‘fun2’ and pass the following message in the print()- ‘This is\n",
    "# the message from the fun2’.\n",
    "# b. After that, create another class named ‘Child2’ and inside the class,\n",
    "# create a method named ‘fun3’ and pass the following message in the\n",
    "# print()- ‘This is the message from the fun3’.\n",
    "# c. Now, create an object of Child2 class and with the help of the object, call\n",
    "# the ‘fun1’ method from the ‘Parent’ class.\n",
    "\n",
    "class Parent:\n",
    "    def fun1(self):\n",
    "        print('This is the message from the fun1')\n",
    "        \n",
    "class Child1:\n",
    "    def fun2(self):\n",
    "        print('This is the message from the fun2')\n",
    "    \n",
    "class Child2(Parent):\n",
    "    def fun3(self):\n",
    "        print('This is the message from the fun3')\n",
    "        \n",
    "# Create an object of Child2 class\n",
    "obj_child2 = Child2()\n",
    "\n",
    "# Call the 'fun1' method from the 'Parent' class\n",
    "obj_child2.fun1()\n"
   ]
  },
  {
   "cell_type": "code",
   "execution_count": 12,
   "id": "14763469",
   "metadata": {},
   "outputs": [
    {
     "name": "stdout",
     "output_type": "stream",
     "text": [
      "This is the message from the func1\n",
      "This is the message from the fun2\n",
      "This is the message from the fun3\n"
     ]
    }
   ],
   "source": [
    "# 5. Create a class named ‘Parent’, and inside the class, create a function\n",
    "# named ‘fun1’ and pass the following message in the print()- ‘This is the\n",
    "# message from the fun1’.\n",
    "# a. Now create a class named ‘Child’ and inside the class, create a method\n",
    "# named ‘fun2’ and pass the following message in the print()- ‘This is the\n",
    "# message from the fun2’.\n",
    "# b. After that, create another class named ‘Hybrid’ and inside the class,\n",
    "# create a method named ‘fun3’ and pass the following message in the\n",
    "# print()- ‘This is the message from the fun3’.\n",
    "# c. Now create an object of Hybrid class and with the help of the object, call\n",
    "# the ‘fun1’, ‘fun2’ and ‘fun3’ methods.\n",
    "\n",
    "class Parent:\n",
    "    def fun1(self):\n",
    "        print('This is the message from the func1')\n",
    "        \n",
    "class Child(Parent):\n",
    "    def fun2(self):\n",
    "        print('This is the message from the fun2')\n",
    "        \n",
    "class Hybrid(Child):\n",
    "    def fun3(self):\n",
    "        print('This is the message from the fun3')\n",
    "        \n",
    "obj = Hybrid()\n",
    "\n",
    "obj.fun1()\n",
    "obj.fun2()\n",
    "obj.fun3()"
   ]
  },
  {
   "cell_type": "markdown",
   "id": "e560fb3e",
   "metadata": {},
   "source": [
    "# Case Study Problem 1"
   ]
  },
  {
   "cell_type": "code",
   "execution_count": 13,
   "id": "ce3883d8",
   "metadata": {},
   "outputs": [],
   "source": [
    "# 1. Create a class named Employee, with a constructor ‘__init__’ method that\n",
    "# accepts name and salary as parameters and set properties named name\n",
    "# and salary."
   ]
  },
  {
   "cell_type": "code",
   "execution_count": 14,
   "id": "cf39f37b",
   "metadata": {},
   "outputs": [],
   "source": [
    "# 2. Define __str__ method in Employee class so that when someone tries to\n",
    "# print the object the string Name: employee_name, Salary:\n",
    "# employee_salary is printed with the actual employee name and salary."
   ]
  },
  {
   "cell_type": "code",
   "execution_count": 15,
   "id": "da5d32b6",
   "metadata": {},
   "outputs": [
    {
     "name": "stdout",
     "output_type": "stream",
     "text": [
      "Name: Rocky, Salary: 13000\n"
     ]
    }
   ],
   "source": [
    "class Employee:\n",
    "    def __init__(self, name, salary):\n",
    "        self.name = name\n",
    "        self.salary = salary\n",
    "        \n",
    "    def __str__(self):\n",
    "        return f\"Name: {self.name}, Salary: {self.salary}\"\n",
    "    \n",
    "obj_emp = Employee(\"Rocky\", 13000)\n",
    "print(obj_emp)"
   ]
  },
  {
   "cell_type": "code",
   "execution_count": null,
   "id": "b7d3cd2e",
   "metadata": {},
   "outputs": [],
   "source": [
    "class emp:\n",
    "    def __init__(self, name, salary):\n",
    "        self.name = name\n",
    "        self.salary = salary\n",
    "        \n",
    "    def __str__(self):\n",
    "        return f\"Name: {self.name}, Salary: {self.salary}\"\n",
    "    \n",
    "obj_emp = emp(\"Rock\", 130000)\n",
    "print()"
   ]
  },
  {
   "cell_type": "code",
   "execution_count": 16,
   "id": "0e602532",
   "metadata": {},
   "outputs": [],
   "source": [
    "# 3. Create another class named Calculator, with methods to add, subtract,\n",
    "# multiply and divide two numbers."
   ]
  },
  {
   "cell_type": "code",
   "execution_count": 17,
   "id": "00a8ace9",
   "metadata": {},
   "outputs": [],
   "source": [
    "# 4. These methods take two numbers as parameters."
   ]
  },
  {
   "cell_type": "code",
   "execution_count": 18,
   "id": "e91d99de",
   "metadata": {},
   "outputs": [],
   "source": [
    "# 5. These methods will be called by a method named execute command."
   ]
  },
  {
   "cell_type": "code",
   "execution_count": 19,
   "id": "1d153451",
   "metadata": {},
   "outputs": [],
   "source": [
    "# 6. Execute command takes in 3 parameters command which is string that can\n",
    "# be either ‘add’, ‘sub’, ‘mul’, ‘div’, and two numbers and it will call the\n",
    "# appropriate method based on command parameter."
   ]
  },
  {
   "cell_type": "code",
   "execution_count": 20,
   "id": "7cbeaba4",
   "metadata": {},
   "outputs": [
    {
     "name": "stdout",
     "output_type": "stream",
     "text": [
      "Result: 15\n",
      "Result: 5\n",
      "Result: 50\n",
      "Result: 2.0\n"
     ]
    }
   ],
   "source": [
    "class Calculator:\n",
    "    def add(self, a, b):\n",
    "        return a + b\n",
    "\n",
    "    def subtract(self, a, b):\n",
    "        return a - b\n",
    "\n",
    "    def multiply(self, a, b):\n",
    "        return a * b\n",
    "\n",
    "    def divide(self, a, b):\n",
    "        if b != 0:\n",
    "            return a / b\n",
    "        else:\n",
    "            return \"Cannot divide by zero.\"\n",
    "        \n",
    "    \n",
    "    \n",
    "    def execute_command(self, command, a, b):\n",
    "        if command == 'add':\n",
    "            return self.add(a, b)\n",
    "        \n",
    "        elif command == 'sub':\n",
    "            return self.subtract(a, b)\n",
    "        \n",
    "        elif command == 'mul':\n",
    "            return self.multiply(a, b)\n",
    "        \n",
    "        elif command == 'div':\n",
    "            return self.divide(a, b)\n",
    "        \n",
    "        else:\n",
    "            return \"Invalid command . Please use 'add', 'sub', 'mul', 'div'.\"\n",
    "        \n",
    "        \n",
    "obj_cal = Calculator()\n",
    "\n",
    "result = obj_cal.execute_command('add', 10, 5)\n",
    "print(f\"Result: {result}\")\n",
    "result = obj_cal.execute_command('sub', 10, 5)\n",
    "print(f\"Result: {result}\")\n",
    "result = obj_cal.execute_command('mul', 10, 5)\n",
    "print(f\"Result: {result}\")\n",
    "result = obj_cal.execute_command('div', 10, 5)\n",
    "print(f\"Result: {result}\")\n"
   ]
  },
  {
   "cell_type": "code",
   "execution_count": null,
   "id": "a6e02f60",
   "metadata": {},
   "outputs": [],
   "source": []
  }
 ],
 "metadata": {
  "kernelspec": {
   "display_name": "Python 3 (ipykernel)",
   "language": "python",
   "name": "python3"
  },
  "language_info": {
   "codemirror_mode": {
    "name": "ipython",
    "version": 3
   },
   "file_extension": ".py",
   "mimetype": "text/x-python",
   "name": "python",
   "nbconvert_exporter": "python",
   "pygments_lexer": "ipython3",
   "version": "3.11.5"
  }
 },
 "nbformat": 4,
 "nbformat_minor": 5
}
