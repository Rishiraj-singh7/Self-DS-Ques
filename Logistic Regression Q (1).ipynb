{
 "cells": [
  {
   "cell_type": "markdown",
   "id": "25620ff1",
   "metadata": {},
   "source": [
    "# Problem Statement:\n",
    "Census-income data plays the most important role in the democratic system of\n",
    "government, highly affecting the economic sectors. Census-related figures are used\n",
    "to allocate federal funding by the government to different states and localities.\n",
    "\n",
    "\n",
    "Census data is also used for post census residents estimates and predictions,\n",
    "economic and social science research, and many other such applications.\n",
    "\n",
    "\n",
    "Therefore, the importance of this data and its accurate predictions is very clear to us.\n",
    "\n",
    "The main aim is to increase awareness about how the income factor actually has an\n",
    "impact not only on the individual lives of citizens but also an effect on the nation and\n",
    "its betterment. You will have a look at the data pulled out from the 1994 Census\n",
    "bureau database, and try to find insights into how various features have an effect on\n",
    "the income of an individual.\n",
    "\n",
    "\n",
    "The data contains approximately 32,000 observations with over 15 variables.\n",
    "The strategy is to analyze the data and perform a predictive task of classification to\n",
    "predict whether an individual makes over 50K a year or less by using a logistic\n",
    "regression algorithm.\n",
    "\n",
    "\n",
    "Column Names Description\n",
    "Age Age of the individual\n",
    "Workclass department of the working individual\n",
    "fnlwgt Final weight of the individual\n",
    "education The education degree of the individual\n",
    "education-num Number of years of education\n",
    "marital-status Marital status of the individual\n",
    "occupation Occupation of the individual\n",
    "relationship Relation value\n",
    "race Ethnicity of the individual\n",
    "sex Female, Male\n",
    "capital-gain capital gain of the individual\n",
    "capital-loss capital loss of the individual\n",
    "hours-per-week number of working hours\n",
    "native-country The native country of the individual\n",
    "Annual-Income Annual income either >50K or <=50K"
   ]
  },
  {
   "cell_type": "code",
   "execution_count": 1,
   "id": "0322fad3",
   "metadata": {},
   "outputs": [],
   "source": [
    "import matplotlib.pyplot as plt\n",
    "import seaborn as sns\n",
    "import numpy as np\n",
    "import pandas as pd\n",
    "%matplotlib inline"
   ]
  },
  {
   "cell_type": "code",
   "execution_count": 2,
   "id": "8d3209f4",
   "metadata": {},
   "outputs": [],
   "source": [
    "\n",
    "from sklearn.model_selection import train_test_split\n",
    "from sklearn.linear_model import LogisticRegression\n",
    "from sklearn.preprocessing import LabelEncoder\n",
    "from sklearn.metrics import accuracy_score, confusion_matrix, classification_report\n"
   ]
  },
  {
   "cell_type": "code",
   "execution_count": 3,
   "id": "72797682",
   "metadata": {},
   "outputs": [],
   "source": [
    "df_ci=pd.read_csv(r\"C:\\Users\\Rishi\\Downloads\\censusincome.csv\")"
   ]
  },
  {
   "cell_type": "code",
   "execution_count": 4,
   "id": "f5d1ce31",
   "metadata": {},
   "outputs": [
    {
     "data": {
      "text/html": [
       "<div>\n",
       "<style scoped>\n",
       "    .dataframe tbody tr th:only-of-type {\n",
       "        vertical-align: middle;\n",
       "    }\n",
       "\n",
       "    .dataframe tbody tr th {\n",
       "        vertical-align: top;\n",
       "    }\n",
       "\n",
       "    .dataframe thead th {\n",
       "        text-align: right;\n",
       "    }\n",
       "</style>\n",
       "<table border=\"1\" class=\"dataframe\">\n",
       "  <thead>\n",
       "    <tr style=\"text-align: right;\">\n",
       "      <th></th>\n",
       "      <th>age</th>\n",
       "      <th>workclass</th>\n",
       "      <th>fnlwgt</th>\n",
       "      <th>education</th>\n",
       "      <th>education-num</th>\n",
       "      <th>marital-status</th>\n",
       "      <th>occupation</th>\n",
       "      <th>relationship</th>\n",
       "      <th>race</th>\n",
       "      <th>sex</th>\n",
       "      <th>capital-gain</th>\n",
       "      <th>capital-loss</th>\n",
       "      <th>hours-per-week</th>\n",
       "      <th>native-country</th>\n",
       "      <th>annual_income</th>\n",
       "    </tr>\n",
       "  </thead>\n",
       "  <tbody>\n",
       "    <tr>\n",
       "      <th>0</th>\n",
       "      <td>39</td>\n",
       "      <td>State-gov</td>\n",
       "      <td>77516</td>\n",
       "      <td>Bachelors</td>\n",
       "      <td>13</td>\n",
       "      <td>Never-married</td>\n",
       "      <td>Adm-clerical</td>\n",
       "      <td>Not-in-family</td>\n",
       "      <td>White</td>\n",
       "      <td>Male</td>\n",
       "      <td>2174</td>\n",
       "      <td>0</td>\n",
       "      <td>40</td>\n",
       "      <td>United-States</td>\n",
       "      <td>&lt;=50K</td>\n",
       "    </tr>\n",
       "    <tr>\n",
       "      <th>1</th>\n",
       "      <td>50</td>\n",
       "      <td>Self-emp-not-inc</td>\n",
       "      <td>83311</td>\n",
       "      <td>Bachelors</td>\n",
       "      <td>13</td>\n",
       "      <td>Married-civ-spouse</td>\n",
       "      <td>Exec-managerial</td>\n",
       "      <td>Husband</td>\n",
       "      <td>White</td>\n",
       "      <td>Male</td>\n",
       "      <td>0</td>\n",
       "      <td>0</td>\n",
       "      <td>13</td>\n",
       "      <td>United-States</td>\n",
       "      <td>&lt;=50K</td>\n",
       "    </tr>\n",
       "    <tr>\n",
       "      <th>2</th>\n",
       "      <td>38</td>\n",
       "      <td>Private</td>\n",
       "      <td>215646</td>\n",
       "      <td>HS-grad</td>\n",
       "      <td>9</td>\n",
       "      <td>Divorced</td>\n",
       "      <td>Handlers-cleaners</td>\n",
       "      <td>Not-in-family</td>\n",
       "      <td>White</td>\n",
       "      <td>Male</td>\n",
       "      <td>0</td>\n",
       "      <td>0</td>\n",
       "      <td>40</td>\n",
       "      <td>United-States</td>\n",
       "      <td>&lt;=50K</td>\n",
       "    </tr>\n",
       "    <tr>\n",
       "      <th>3</th>\n",
       "      <td>53</td>\n",
       "      <td>Private</td>\n",
       "      <td>234721</td>\n",
       "      <td>11th</td>\n",
       "      <td>7</td>\n",
       "      <td>Married-civ-spouse</td>\n",
       "      <td>Handlers-cleaners</td>\n",
       "      <td>Husband</td>\n",
       "      <td>Black</td>\n",
       "      <td>Male</td>\n",
       "      <td>0</td>\n",
       "      <td>0</td>\n",
       "      <td>40</td>\n",
       "      <td>United-States</td>\n",
       "      <td>&lt;=50K</td>\n",
       "    </tr>\n",
       "    <tr>\n",
       "      <th>4</th>\n",
       "      <td>28</td>\n",
       "      <td>Private</td>\n",
       "      <td>338409</td>\n",
       "      <td>Bachelors</td>\n",
       "      <td>13</td>\n",
       "      <td>Married-civ-spouse</td>\n",
       "      <td>Prof-specialty</td>\n",
       "      <td>Wife</td>\n",
       "      <td>Black</td>\n",
       "      <td>Female</td>\n",
       "      <td>0</td>\n",
       "      <td>0</td>\n",
       "      <td>40</td>\n",
       "      <td>Cuba</td>\n",
       "      <td>&lt;=50K</td>\n",
       "    </tr>\n",
       "  </tbody>\n",
       "</table>\n",
       "</div>"
      ],
      "text/plain": [
       "   age         workclass  fnlwgt  education  education-num  \\\n",
       "0   39         State-gov   77516  Bachelors             13   \n",
       "1   50  Self-emp-not-inc   83311  Bachelors             13   \n",
       "2   38           Private  215646    HS-grad              9   \n",
       "3   53           Private  234721       11th              7   \n",
       "4   28           Private  338409  Bachelors             13   \n",
       "\n",
       "       marital-status         occupation   relationship   race     sex  \\\n",
       "0       Never-married       Adm-clerical  Not-in-family  White    Male   \n",
       "1  Married-civ-spouse    Exec-managerial        Husband  White    Male   \n",
       "2            Divorced  Handlers-cleaners  Not-in-family  White    Male   \n",
       "3  Married-civ-spouse  Handlers-cleaners        Husband  Black    Male   \n",
       "4  Married-civ-spouse     Prof-specialty           Wife  Black  Female   \n",
       "\n",
       "   capital-gain  capital-loss  hours-per-week native-country annual_income  \n",
       "0          2174             0              40  United-States         <=50K  \n",
       "1             0             0              13  United-States         <=50K  \n",
       "2             0             0              40  United-States         <=50K  \n",
       "3             0             0              40  United-States         <=50K  \n",
       "4             0             0              40           Cuba         <=50K  "
      ]
     },
     "execution_count": 4,
     "metadata": {},
     "output_type": "execute_result"
    }
   ],
   "source": [
    "df_ci.head()"
   ]
  },
  {
   "cell_type": "code",
   "execution_count": 5,
   "id": "01e65915",
   "metadata": {},
   "outputs": [],
   "source": [
    "df_crw=pd.read_excel(r\"C:\\Users\\Rishi\\Downloads\\CreditWorthiness.xlsx\")"
   ]
  },
  {
   "cell_type": "code",
   "execution_count": 6,
   "id": "ed76a937",
   "metadata": {},
   "outputs": [
    {
     "data": {
      "text/html": [
       "<div>\n",
       "<style scoped>\n",
       "    .dataframe tbody tr th:only-of-type {\n",
       "        vertical-align: middle;\n",
       "    }\n",
       "\n",
       "    .dataframe tbody tr th {\n",
       "        vertical-align: top;\n",
       "    }\n",
       "\n",
       "    .dataframe thead th {\n",
       "        text-align: right;\n",
       "    }\n",
       "</style>\n",
       "<table border=\"1\" class=\"dataframe\">\n",
       "  <thead>\n",
       "    <tr style=\"text-align: right;\">\n",
       "      <th></th>\n",
       "      <th>Unnamed: 0</th>\n",
       "      <th>Unnamed: 1</th>\n",
       "      <th>Unnamed: 2</th>\n",
       "      <th>Unnamed: 3</th>\n",
       "    </tr>\n",
       "  </thead>\n",
       "  <tbody>\n",
       "    <tr>\n",
       "      <th>0</th>\n",
       "      <td>NaN</td>\n",
       "      <td>NaN</td>\n",
       "      <td>NaN</td>\n",
       "      <td>NaN</td>\n",
       "    </tr>\n",
       "    <tr>\n",
       "      <th>1</th>\n",
       "      <td>NaN</td>\n",
       "      <td>NaN</td>\n",
       "      <td>NaN</td>\n",
       "      <td>Objective</td>\n",
       "    </tr>\n",
       "    <tr>\n",
       "      <th>2</th>\n",
       "      <td>NaN</td>\n",
       "      <td>NaN</td>\n",
       "      <td>NaN</td>\n",
       "      <td>NaN</td>\n",
       "    </tr>\n",
       "    <tr>\n",
       "      <th>3</th>\n",
       "      <td>NaN</td>\n",
       "      <td>NaN</td>\n",
       "      <td>NaN</td>\n",
       "      <td>NaN</td>\n",
       "    </tr>\n",
       "    <tr>\n",
       "      <th>4</th>\n",
       "      <td>NaN</td>\n",
       "      <td>NaN</td>\n",
       "      <td>NaN</td>\n",
       "      <td>Cautious plc is in the business of providing c...</td>\n",
       "    </tr>\n",
       "  </tbody>\n",
       "</table>\n",
       "</div>"
      ],
      "text/plain": [
       "   Unnamed: 0  Unnamed: 1  Unnamed: 2  \\\n",
       "0         NaN         NaN         NaN   \n",
       "1         NaN         NaN         NaN   \n",
       "2         NaN         NaN         NaN   \n",
       "3         NaN         NaN         NaN   \n",
       "4         NaN         NaN         NaN   \n",
       "\n",
       "                                          Unnamed: 3  \n",
       "0                                                NaN  \n",
       "1                                          Objective  \n",
       "2                                                NaN  \n",
       "3                                                NaN  \n",
       "4  Cautious plc is in the business of providing c...  "
      ]
     },
     "execution_count": 6,
     "metadata": {},
     "output_type": "execute_result"
    }
   ],
   "source": [
    "df_crw.head()"
   ]
  },
  {
   "cell_type": "code",
   "execution_count": 7,
   "id": "799b13df",
   "metadata": {},
   "outputs": [
    {
     "name": "stdout",
     "output_type": "stream",
     "text": [
      "15\n"
     ]
    }
   ],
   "source": [
    "# 1. How many types of occupations do we have?\n",
    "# a. 13\n",
    "# b. 14\n",
    "# c. 15\n",
    "# d. 11\n",
    "\n",
    "num_occ = df_ci['occupation'].nunique()\n",
    "print(num_occ)\n",
    "\n",
    "# coorect ans is  14"
   ]
  },
  {
   "cell_type": "code",
   "execution_count": 8,
   "id": "76059cf2",
   "metadata": {},
   "outputs": [
    {
     "name": "stdout",
     "output_type": "stream",
     "text": [
      "283\n"
     ]
    }
   ],
   "source": [
    "# 2. How many people are working as tech support and have an annual income greater than 50k?\n",
    "# a. 278\n",
    "# b. 389\n",
    "# c. 289\n",
    "# d. 934\n",
    "\n",
    "tech_support = df_ci[(df_ci['occupation'] == 'Tech-support') & (df_ci['annual_income'] == '>50K')].shape[0]\n",
    "print(tech_support)\n",
    "\n",
    "# coorect ans is 278"
   ]
  },
  {
   "cell_type": "code",
   "execution_count": 9,
   "id": "23f58110",
   "metadata": {},
   "outputs": [
    {
     "name": "stdout",
     "output_type": "stream",
     "text": [
      "0\n"
     ]
    }
   ],
   "source": [
    "# 3. How many total missing values are present in the dataset? ************\n",
    "# a. 4262\n",
    "# b. 5000\n",
    "# c. 5349\n",
    "# d. 4302\n",
    "\n",
    "mis_val = df_ci.isnull().sum().sum()\n",
    "print(mis_val)\n",
    "# coorect ans is 4262"
   ]
  },
  {
   "cell_type": "code",
   "execution_count": 10,
   "id": "50cca66c",
   "metadata": {},
   "outputs": [
    {
     "name": "stdout",
     "output_type": "stream",
     "text": [
      "Fill missing values with the mode most frequent value\n"
     ]
    }
   ],
   "source": [
    "# 4. If there are missing values in the Marital Status column, which option among\n",
    "# the following should be used for replacing the missing values:\n",
    "# a. Mean\n",
    "# b. Median\n",
    "# c. Mode\n",
    "# d. All of the above\n",
    "\n",
    "print(\"Fill missing values with the mode most frequent value\")\n",
    "df_ci['marital-status'].fillna(df_ci['marital-status'].mode()[0], inplace=True)"
   ]
  },
  {
   "cell_type": "code",
   "execution_count": 11,
   "id": "af63c15d",
   "metadata": {},
   "outputs": [
    {
     "data": {
      "text/html": [
       "<div>\n",
       "<style scoped>\n",
       "    .dataframe tbody tr th:only-of-type {\n",
       "        vertical-align: middle;\n",
       "    }\n",
       "\n",
       "    .dataframe tbody tr th {\n",
       "        vertical-align: top;\n",
       "    }\n",
       "\n",
       "    .dataframe thead th {\n",
       "        text-align: right;\n",
       "    }\n",
       "</style>\n",
       "<table border=\"1\" class=\"dataframe\">\n",
       "  <thead>\n",
       "    <tr style=\"text-align: right;\">\n",
       "      <th></th>\n",
       "      <th>age</th>\n",
       "      <th>workclass</th>\n",
       "      <th>fnlwgt</th>\n",
       "      <th>education</th>\n",
       "      <th>education-num</th>\n",
       "      <th>marital-status</th>\n",
       "      <th>occupation</th>\n",
       "      <th>relationship</th>\n",
       "      <th>race</th>\n",
       "      <th>sex</th>\n",
       "      <th>capital-gain</th>\n",
       "      <th>capital-loss</th>\n",
       "      <th>hours-per-week</th>\n",
       "      <th>native-country</th>\n",
       "      <th>annual_income</th>\n",
       "    </tr>\n",
       "  </thead>\n",
       "  <tbody>\n",
       "    <tr>\n",
       "      <th>0</th>\n",
       "      <td>39</td>\n",
       "      <td>State-gov</td>\n",
       "      <td>77516</td>\n",
       "      <td>Bachelors</td>\n",
       "      <td>13</td>\n",
       "      <td>Never-married</td>\n",
       "      <td>Adm-clerical</td>\n",
       "      <td>Not-in-family</td>\n",
       "      <td>White</td>\n",
       "      <td>Male</td>\n",
       "      <td>2174</td>\n",
       "      <td>0</td>\n",
       "      <td>40</td>\n",
       "      <td>United-States</td>\n",
       "      <td>&lt;=50K</td>\n",
       "    </tr>\n",
       "    <tr>\n",
       "      <th>1</th>\n",
       "      <td>50</td>\n",
       "      <td>Self-emp-not-inc</td>\n",
       "      <td>83311</td>\n",
       "      <td>Bachelors</td>\n",
       "      <td>13</td>\n",
       "      <td>Married-civ-spouse</td>\n",
       "      <td>Exec-managerial</td>\n",
       "      <td>Husband</td>\n",
       "      <td>White</td>\n",
       "      <td>Male</td>\n",
       "      <td>0</td>\n",
       "      <td>0</td>\n",
       "      <td>13</td>\n",
       "      <td>United-States</td>\n",
       "      <td>&lt;=50K</td>\n",
       "    </tr>\n",
       "  </tbody>\n",
       "</table>\n",
       "</div>"
      ],
      "text/plain": [
       "   age         workclass  fnlwgt  education  education-num  \\\n",
       "0   39         State-gov   77516  Bachelors             13   \n",
       "1   50  Self-emp-not-inc   83311  Bachelors             13   \n",
       "\n",
       "       marital-status       occupation   relationship   race   sex  \\\n",
       "0       Never-married     Adm-clerical  Not-in-family  White  Male   \n",
       "1  Married-civ-spouse  Exec-managerial        Husband  White  Male   \n",
       "\n",
       "   capital-gain  capital-loss  hours-per-week native-country annual_income  \n",
       "0          2174             0              40  United-States         <=50K  \n",
       "1             0             0              13  United-States         <=50K  "
      ]
     },
     "execution_count": 11,
     "metadata": {},
     "output_type": "execute_result"
    }
   ],
   "source": [
    "df_ci.head(2)"
   ]
  },
  {
   "cell_type": "code",
   "execution_count": 12,
   "id": "831ad3e0",
   "metadata": {},
   "outputs": [
    {
     "name": "stdout",
     "output_type": "stream",
     "text": [
      "2561\n"
     ]
    }
   ],
   "source": [
    "# 5. How many people are having private work classes and are not from the United States of America? ****************\n",
    "# a. 2151\n",
    "# b. 2300\n",
    "# c. 2000\n",
    "# d. 2190\n",
    "\n",
    "\n",
    "p_usa = df_ci[(df_ci['workclass'] == 'Private') & (df_ci['native-country'] != 'United-States')].shape[0]\n",
    "print(p_usa)\n",
    "# coorect ans is 2151"
   ]
  },
  {
   "cell_type": "code",
   "execution_count": 13,
   "id": "aef8117b",
   "metadata": {},
   "outputs": [
    {
     "name": "stdout",
     "output_type": "stream",
     "text": [
      "24798\n"
     ]
    }
   ],
   "source": [
    "# 6. How many people are either having Annual Income(last column) less than or\n",
    "# equal to 50k or their working hours is greater than or equal to 40 hrs:\n",
    "# a. 23008\n",
    "# b. 23448\n",
    "# c. 29505\n",
    "# d. 25903\n",
    "\n",
    "ans_6 = df_ci[(df_ci['annual_income'] == '<=50k') | (df_ci['hours-per-week'] >=40)]\n",
    "print(len(ans_6))\n",
    "# coorect ans is 29505"
   ]
  },
  {
   "cell_type": "code",
   "execution_count": 14,
   "id": "512f25cd",
   "metadata": {},
   "outputs": [],
   "source": [
    "# 7. Which of the following methods can you use for handling outliers? ******************\n",
    "# a. Interquartile Range(IQR) Method\n",
    "# b. Z Score method\n",
    "# c. Both of the above methods\n",
    "# d. None of the above\n",
    "\n",
    "# Assuming 'age' is a numeric column where you want to handle outliers\n",
    "# Use the Interquartile Range (IQR) method to handle outliers\n",
    "Q1 = df_ci['age'].quantile(0.25)\n",
    "Q3 = df_ci['age'].quantile(0.75)\n",
    "IQR = Q3 - Q1\n",
    "outliers_removed_df = df_ci[~((df_ci['age'] < (Q1 - 1.5 * IQR)) | (df_ci['age'] > (Q3 + 1.5 * IQR)))]\n",
    "# coorect ans is Both of the above methods"
   ]
  },
  {
   "cell_type": "code",
   "execution_count": 15,
   "id": "fd298ab2",
   "metadata": {},
   "outputs": [
    {
     "name": "stdout",
     "output_type": "stream",
     "text": [
      "Determine the relationship b/w the variables\n"
     ]
    }
   ],
   "source": [
    "# 8. Chi-square is used to analyze:\n",
    "# a. Determine the relationship b/w the variables\n",
    "# b. Compare observed results with expected results\n",
    "# c. both a and b\n",
    "# d. None of the above\n",
    "\n",
    "print('Determine the relationship b/w the variables')\n",
    "# coorect ans is both a n b"
   ]
  },
  {
   "cell_type": "code",
   "execution_count": 16,
   "id": "6b8c6e47",
   "metadata": {},
   "outputs": [
    {
     "name": "stdout",
     "output_type": "stream",
     "text": [
      "It can detect multicollinearity\n"
     ]
    }
   ],
   "source": [
    "# 9. What is VIF?              \n",
    "# a. It can detect multicollinearity\n",
    "# b. If the VIF value is greater than 10, then there is no correlation between the independent variables\n",
    "# c. It stands for Variance Impact Factor\n",
    "# d. VIF is when there is no correlation between one predictor and the other\n",
    "\n",
    "print('It can detect multicollinearity')"
   ]
  },
  {
   "cell_type": "markdown",
   "id": "414eea04",
   "metadata": {},
   "source": [
    "# predictors in a model.\n"
   ]
  },
  {
   "cell_type": "code",
   "execution_count": 17,
   "id": "966bbb61",
   "metadata": {},
   "outputs": [
    {
     "name": "stdout",
     "output_type": "stream",
     "text": [
      "It will predict the class probabilities\n"
     ]
    }
   ],
   "source": [
    "# 10.What predict_proba will tell you?                              *******************\n",
    "# a. It will predict the class probabilities\n",
    "# b. It will tell you the target value\n",
    "# c. Both are correct\n",
    "# d. None of the above\n",
    "\n",
    "print('It will predict the class probabilities')"
   ]
  },
  {
   "cell_type": "code",
   "execution_count": 18,
   "id": "49d5ef02",
   "metadata": {},
   "outputs": [
    {
     "name": "stdout",
     "output_type": "stream",
     "text": [
      "False\n"
     ]
    }
   ],
   "source": [
    "# 11.Logistic regression is useful for regression problems:\n",
    "# a. True\n",
    "# b. False\n",
    "\n",
    "print(\"False\")"
   ]
  },
  {
   "cell_type": "code",
   "execution_count": 19,
   "id": "d4b79c4f",
   "metadata": {},
   "outputs": [
    {
     "name": "stdout",
     "output_type": "stream",
     "text": [
      "0.5\n"
     ]
    }
   ],
   "source": [
    "# 12.In logistic regression, if the predicted logit is 0, what’s the transformed probability? *************\n",
    "# a. 0.5\n",
    "# b. 0.05\n",
    "# c. Both of the above\n",
    "# d. None of the above\n",
    "\n",
    "print('0.5')"
   ]
  },
  {
   "cell_type": "code",
   "execution_count": 20,
   "id": "d338d1c7",
   "metadata": {},
   "outputs": [
    {
     "name": "stdout",
     "output_type": "stream",
     "text": [
      " Multinomial logistic regression\n"
     ]
    }
   ],
   "source": [
    "# 13.Which variant of logistic regression is recommended when you have a categorical dependent varib with more than two values?\n",
    "# a. Multiple Logistic regression\n",
    "# b. Multinomial logistic regression\n",
    "# c. Ordered logit regression\n",
    "# d. Poisson regression\n",
    "\n",
    "print(' Multinomial logistic regression')"
   ]
  },
  {
   "cell_type": "markdown",
   "id": "2cfe78c0",
   "metadata": {},
   "source": [
    "Perform the following tasks for answering the remaining questions\n",
    "\n",
    "● Rename the last column as Annual Income\n",
    "\n",
    "● Remove the missing values from the dataset\n",
    "\n",
    "● Change the labels of categorical data into numerical data using Label\n",
    "Encoder.\n",
    "\n",
    "● Split the dataset into a train and test of proportions 70:30 and set the random\n",
    "state to 0.\n",
    "\n",
    "● Build a Logistic Regression Model on the data.\n",
    "Answer the following questions with the help of the above-created model."
   ]
  },
  {
   "cell_type": "code",
   "execution_count": 21,
   "id": "37d209b6",
   "metadata": {},
   "outputs": [
    {
     "data": {
      "text/html": [
       "<div>\n",
       "<style scoped>\n",
       "    .dataframe tbody tr th:only-of-type {\n",
       "        vertical-align: middle;\n",
       "    }\n",
       "\n",
       "    .dataframe tbody tr th {\n",
       "        vertical-align: top;\n",
       "    }\n",
       "\n",
       "    .dataframe thead th {\n",
       "        text-align: right;\n",
       "    }\n",
       "</style>\n",
       "<table border=\"1\" class=\"dataframe\">\n",
       "  <thead>\n",
       "    <tr style=\"text-align: right;\">\n",
       "      <th></th>\n",
       "      <th>age</th>\n",
       "      <th>workclass</th>\n",
       "      <th>fnlwgt</th>\n",
       "      <th>education</th>\n",
       "      <th>education-num</th>\n",
       "      <th>marital-status</th>\n",
       "      <th>occupation</th>\n",
       "      <th>relationship</th>\n",
       "      <th>race</th>\n",
       "      <th>sex</th>\n",
       "      <th>capital-gain</th>\n",
       "      <th>capital-loss</th>\n",
       "      <th>hours-per-week</th>\n",
       "      <th>native-country</th>\n",
       "      <th>annual_income</th>\n",
       "    </tr>\n",
       "  </thead>\n",
       "  <tbody>\n",
       "    <tr>\n",
       "      <th>0</th>\n",
       "      <td>39</td>\n",
       "      <td>State-gov</td>\n",
       "      <td>77516</td>\n",
       "      <td>Bachelors</td>\n",
       "      <td>13</td>\n",
       "      <td>Never-married</td>\n",
       "      <td>Adm-clerical</td>\n",
       "      <td>Not-in-family</td>\n",
       "      <td>White</td>\n",
       "      <td>Male</td>\n",
       "      <td>2174</td>\n",
       "      <td>0</td>\n",
       "      <td>40</td>\n",
       "      <td>United-States</td>\n",
       "      <td>&lt;=50K</td>\n",
       "    </tr>\n",
       "  </tbody>\n",
       "</table>\n",
       "</div>"
      ],
      "text/plain": [
       "   age  workclass  fnlwgt  education  education-num marital-status  \\\n",
       "0   39  State-gov   77516  Bachelors             13  Never-married   \n",
       "\n",
       "     occupation   relationship   race   sex  capital-gain  capital-loss  \\\n",
       "0  Adm-clerical  Not-in-family  White  Male          2174             0   \n",
       "\n",
       "   hours-per-week native-country annual_income  \n",
       "0              40  United-States         <=50K  "
      ]
     },
     "execution_count": 21,
     "metadata": {},
     "output_type": "execute_result"
    }
   ],
   "source": [
    "df_ci.head(1)"
   ]
  },
  {
   "cell_type": "code",
   "execution_count": 22,
   "id": "b54b5382",
   "metadata": {},
   "outputs": [],
   "source": [
    "#Rename the last column as Annual Income\n",
    "df_ci.rename(columns={'annual_income': 'Annual_Income'}, inplace=True)"
   ]
  },
  {
   "cell_type": "code",
   "execution_count": 23,
   "id": "3a40bdbf",
   "metadata": {},
   "outputs": [],
   "source": [
    "#  Remove the missing values from the dataset\n",
    "\n",
    "df_ci.dropna(inplace=True)"
   ]
  },
  {
   "cell_type": "code",
   "execution_count": 24,
   "id": "3d611546",
   "metadata": {},
   "outputs": [],
   "source": [
    "# Change the labels of categorical data into numerical data using Label Encoder.   ******************\n",
    "label_encoder = LabelEncoder()\n",
    "categorical_columns = df_ci.select_dtypes(include=['object']).columns\n",
    "for column in categorical_columns:\n",
    "    df_ci[column] = label_encoder.fit_transform(df_ci[column])"
   ]
  },
  {
   "cell_type": "code",
   "execution_count": 25,
   "id": "7b93a4c4",
   "metadata": {},
   "outputs": [],
   "source": [
    "#  Split the dataset into a train and test of proportions 70:30 and set the random state to 0.\n",
    "X = df_ci.drop('Annual_Income', axis=1)\n",
    "y = df_ci['Annual_Income']\n",
    "X_train, X_test, y_train, y_test = train_test_split(X,y, test_size=0.3, random_state=0)"
   ]
  },
  {
   "cell_type": "code",
   "execution_count": 26,
   "id": "dafd5371",
   "metadata": {},
   "outputs": [
    {
     "data": {
      "text/html": [
       "<style>#sk-container-id-1 {color: black;}#sk-container-id-1 pre{padding: 0;}#sk-container-id-1 div.sk-toggleable {background-color: white;}#sk-container-id-1 label.sk-toggleable__label {cursor: pointer;display: block;width: 100%;margin-bottom: 0;padding: 0.3em;box-sizing: border-box;text-align: center;}#sk-container-id-1 label.sk-toggleable__label-arrow:before {content: \"▸\";float: left;margin-right: 0.25em;color: #696969;}#sk-container-id-1 label.sk-toggleable__label-arrow:hover:before {color: black;}#sk-container-id-1 div.sk-estimator:hover label.sk-toggleable__label-arrow:before {color: black;}#sk-container-id-1 div.sk-toggleable__content {max-height: 0;max-width: 0;overflow: hidden;text-align: left;background-color: #f0f8ff;}#sk-container-id-1 div.sk-toggleable__content pre {margin: 0.2em;color: black;border-radius: 0.25em;background-color: #f0f8ff;}#sk-container-id-1 input.sk-toggleable__control:checked~div.sk-toggleable__content {max-height: 200px;max-width: 100%;overflow: auto;}#sk-container-id-1 input.sk-toggleable__control:checked~label.sk-toggleable__label-arrow:before {content: \"▾\";}#sk-container-id-1 div.sk-estimator input.sk-toggleable__control:checked~label.sk-toggleable__label {background-color: #d4ebff;}#sk-container-id-1 div.sk-label input.sk-toggleable__control:checked~label.sk-toggleable__label {background-color: #d4ebff;}#sk-container-id-1 input.sk-hidden--visually {border: 0;clip: rect(1px 1px 1px 1px);clip: rect(1px, 1px, 1px, 1px);height: 1px;margin: -1px;overflow: hidden;padding: 0;position: absolute;width: 1px;}#sk-container-id-1 div.sk-estimator {font-family: monospace;background-color: #f0f8ff;border: 1px dotted black;border-radius: 0.25em;box-sizing: border-box;margin-bottom: 0.5em;}#sk-container-id-1 div.sk-estimator:hover {background-color: #d4ebff;}#sk-container-id-1 div.sk-parallel-item::after {content: \"\";width: 100%;border-bottom: 1px solid gray;flex-grow: 1;}#sk-container-id-1 div.sk-label:hover label.sk-toggleable__label {background-color: #d4ebff;}#sk-container-id-1 div.sk-serial::before {content: \"\";position: absolute;border-left: 1px solid gray;box-sizing: border-box;top: 0;bottom: 0;left: 50%;z-index: 0;}#sk-container-id-1 div.sk-serial {display: flex;flex-direction: column;align-items: center;background-color: white;padding-right: 0.2em;padding-left: 0.2em;position: relative;}#sk-container-id-1 div.sk-item {position: relative;z-index: 1;}#sk-container-id-1 div.sk-parallel {display: flex;align-items: stretch;justify-content: center;background-color: white;position: relative;}#sk-container-id-1 div.sk-item::before, #sk-container-id-1 div.sk-parallel-item::before {content: \"\";position: absolute;border-left: 1px solid gray;box-sizing: border-box;top: 0;bottom: 0;left: 50%;z-index: -1;}#sk-container-id-1 div.sk-parallel-item {display: flex;flex-direction: column;z-index: 1;position: relative;background-color: white;}#sk-container-id-1 div.sk-parallel-item:first-child::after {align-self: flex-end;width: 50%;}#sk-container-id-1 div.sk-parallel-item:last-child::after {align-self: flex-start;width: 50%;}#sk-container-id-1 div.sk-parallel-item:only-child::after {width: 0;}#sk-container-id-1 div.sk-dashed-wrapped {border: 1px dashed gray;margin: 0 0.4em 0.5em 0.4em;box-sizing: border-box;padding-bottom: 0.4em;background-color: white;}#sk-container-id-1 div.sk-label label {font-family: monospace;font-weight: bold;display: inline-block;line-height: 1.2em;}#sk-container-id-1 div.sk-label-container {text-align: center;}#sk-container-id-1 div.sk-container {/* jupyter's `normalize.less` sets `[hidden] { display: none; }` but bootstrap.min.css set `[hidden] { display: none !important; }` so we also need the `!important` here to be able to override the default hidden behavior on the sphinx rendered scikit-learn.org. See: https://github.com/scikit-learn/scikit-learn/issues/21755 */display: inline-block !important;position: relative;}#sk-container-id-1 div.sk-text-repr-fallback {display: none;}</style><div id=\"sk-container-id-1\" class=\"sk-top-container\"><div class=\"sk-text-repr-fallback\"><pre>LogisticRegression()</pre><b>In a Jupyter environment, please rerun this cell to show the HTML representation or trust the notebook. <br />On GitHub, the HTML representation is unable to render, please try loading this page with nbviewer.org.</b></div><div class=\"sk-container\" hidden><div class=\"sk-item\"><div class=\"sk-estimator sk-toggleable\"><input class=\"sk-toggleable__control sk-hidden--visually\" id=\"sk-estimator-id-1\" type=\"checkbox\" checked><label for=\"sk-estimator-id-1\" class=\"sk-toggleable__label sk-toggleable__label-arrow\">LogisticRegression</label><div class=\"sk-toggleable__content\"><pre>LogisticRegression()</pre></div></div></div></div></div>"
      ],
      "text/plain": [
       "LogisticRegression()"
      ]
     },
     "execution_count": 26,
     "metadata": {},
     "output_type": "execute_result"
    }
   ],
   "source": [
    "#Build a Logistic Regression Model on the data. Answer the following questions with the help of the above-created model.\n",
    "model = LogisticRegression()\n",
    "model.fit(X_train, y_train)\n"
   ]
  },
  {
   "cell_type": "code",
   "execution_count": 27,
   "id": "09ace488",
   "metadata": {},
   "outputs": [
    {
     "name": "stdout",
     "output_type": "stream",
     "text": [
      "14. Accuracy score of the model: 0.80090080868052\n"
     ]
    }
   ],
   "source": [
    "# 14.What is the accuracy score of the above model?\n",
    "# a. 0.60 to 0.70\n",
    "# b. 0.40 to 0.60\n",
    "# c. 0.70 to 0.85\n",
    "# d. None of the above\n",
    "\n",
    "y_pred = model.predict(X_test)\n",
    "accuracy = accuracy_score(y_test, y_pred)\n",
    "print(f\"14. Accuracy score of the model: {accuracy}\")"
   ]
  },
  {
   "cell_type": "code",
   "execution_count": 28,
   "id": "0515e7dd",
   "metadata": {},
   "outputs": [
    {
     "name": "stdout",
     "output_type": "stream",
     "text": [
      "0.9712434183880113\n"
     ]
    }
   ],
   "source": [
    "# 15.What is the specificity of the above model? ***************************\n",
    "# a. 0.20 to 0.30\n",
    "# b. 0.30 to 0.40\n",
    "# c. 0.50 to 0.60\n",
    "# d. None of the above\n",
    "tn, fp, fn, tp =confusion_matrix(y_test, y_pred).ravel()\n",
    "specificity = tn / (tn + fp)\n",
    "print(specificity)"
   ]
  },
  {
   "cell_type": "code",
   "execution_count": 29,
   "id": "d0c35f62",
   "metadata": {},
   "outputs": [
    {
     "name": "stdout",
     "output_type": "stream",
     "text": [
      "0.8059601165135559\n"
     ]
    }
   ],
   "source": [
    "# 16.What is the model’s precision when the target is False?     ****************\n",
    "# a. 0.60 to 0.70\n",
    "# b. 0.40 to 0.60\n",
    "# c. 0.70 to 0.80\n",
    "# d. None of the above\n",
    "\n",
    "precision_false = tn / (tn + fn)\n",
    "print(precision_false)"
   ]
  },
  {
   "cell_type": "code",
   "execution_count": 30,
   "id": "f6f3a96f",
   "metadata": {},
   "outputs": [
    {
     "name": "stdout",
     "output_type": "stream",
     "text": [
      "9769\n"
     ]
    }
   ],
   "source": [
    "# 17.What is the total support value from the above model? ***********\n",
    "# a. 9049\n",
    "# b. 9032\n",
    "# c. 10000\n",
    "# d. 9847\n",
    "\n",
    "total_support = tn + fp + fn + tp\n",
    "print(total_support)\n",
    "\n",
    "# coorect ans is 9049"
   ]
  },
  {
   "cell_type": "code",
   "execution_count": 31,
   "id": "ab6dc29a",
   "metadata": {},
   "outputs": [],
   "source": [
    "# 18.What is the f1 score of the above model when the target is True? ***********\n",
    "# a. 0.30 to 0.40\n",
    "# b. 0.40 to 0.50\n",
    "# c. 0.60 to 0.70\n",
    "# d. 0.90 to 0.99\n",
    "# coorect ans is .30 to .40"
   ]
  },
  {
   "cell_type": "code",
   "execution_count": 32,
   "id": "168add95",
   "metadata": {},
   "outputs": [
    {
     "name": "stdout",
     "output_type": "stream",
     "text": [
      "7824\n"
     ]
    }
   ],
   "source": [
    "# 19.How many records are correctly classified by the model?\n",
    "# a. 7173\n",
    "# b. 7043\n",
    "# c. 7000\n",
    "# d. None of the above\n",
    "\n",
    "correct_rec = accuracy_score(y_test, y_pred, normalize=False)\n",
    "print(correct_rec)\n",
    "# coorect ans is 7173"
   ]
  },
  {
   "cell_type": "code",
   "execution_count": 33,
   "id": "a07ea86d",
   "metadata": {},
   "outputs": [
    {
     "name": "stdout",
     "output_type": "stream",
     "text": [
      "df_ci.reset_index(inplace=True\n"
     ]
    }
   ],
   "source": [
    "# 20) Choose the code which is used to perform reset indexes in the original data frame.\n",
    "# data.reset_index(inplace=False)\n",
    "# data.reset(inplace=True)\n",
    "# data.reset(inplace=False)\n",
    "# data.reset_index(inplace=True)\n",
    "\n",
    "print('df_ci.reset_index(inplace=True')"
   ]
  },
  {
   "cell_type": "code",
   "execution_count": 35,
   "id": "e58f5ad1",
   "metadata": {},
   "outputs": [
    {
     "name": "stdout",
     "output_type": "stream",
     "text": [
      "Log Loss\n"
     ]
    }
   ],
   "source": [
    "# 21) What is the cost function used in Binary Logistic Regression?               ******************\n",
    "# a Log Loss\n",
    "# b Categorical Cross Entropy\n",
    "# c None of the options are correct\n",
    "# d Sum Squared Error\n",
    "\n",
    "print ('Log Loss')\n",
    "# The cost function used in Binary Logistic Regression is typically the Log Loss, also known as Binary Cross-Entropy. \n",
    "# It measures the performance of a classification model whose output is a probability value between 0 and 1"
   ]
  },
  {
   "cell_type": "code",
   "execution_count": 37,
   "id": "a4cf8df1",
   "metadata": {},
   "outputs": [
    {
     "name": "stdout",
     "output_type": "stream",
     "text": [
      "Maximum Likelihood\n"
     ]
    }
   ],
   "source": [
    "# 22) Which below method is used to find the best fitting line in logistic regression       ********************\n",
    "# A None of the above\n",
    "# B Least Square Method\n",
    "# C Maximum Likelihood\n",
    "# D Sigmoid\n",
    "\n",
    "print('Maximum Likelihood')"
   ]
  },
  {
   "cell_type": "code",
   "execution_count": 38,
   "id": "895ede99",
   "metadata": {},
   "outputs": [
    {
     "name": "stdout",
     "output_type": "stream",
     "text": [
      "C. Sensitivity Increases, Specificity Decreases\n"
     ]
    }
   ],
   "source": [
    "# 23) What is the relation between Sensitivity and Specificity?\n",
    "# A No relation between both\n",
    "# B Sensitivity Increases Specificity Increases\n",
    "# C Sensitivity Increases Specificity Decreases\n",
    "\n",
    "print('C. Sensitivity Increases, Specificity Decreases')"
   ]
  },
  {
   "cell_type": "code",
   "execution_count": 39,
   "id": "fb2f1993",
   "metadata": {},
   "outputs": [
    {
     "data": {
      "text/html": [
       "<div>\n",
       "<style scoped>\n",
       "    .dataframe tbody tr th:only-of-type {\n",
       "        vertical-align: middle;\n",
       "    }\n",
       "\n",
       "    .dataframe tbody tr th {\n",
       "        vertical-align: top;\n",
       "    }\n",
       "\n",
       "    .dataframe thead th {\n",
       "        text-align: right;\n",
       "    }\n",
       "</style>\n",
       "<table border=\"1\" class=\"dataframe\">\n",
       "  <thead>\n",
       "    <tr style=\"text-align: right;\">\n",
       "      <th></th>\n",
       "      <th>Unnamed: 0</th>\n",
       "      <th>Unnamed: 1</th>\n",
       "      <th>Unnamed: 2</th>\n",
       "      <th>Unnamed: 3</th>\n",
       "    </tr>\n",
       "  </thead>\n",
       "  <tbody>\n",
       "    <tr>\n",
       "      <th>0</th>\n",
       "      <td>NaN</td>\n",
       "      <td>NaN</td>\n",
       "      <td>NaN</td>\n",
       "      <td>NaN</td>\n",
       "    </tr>\n",
       "    <tr>\n",
       "      <th>1</th>\n",
       "      <td>NaN</td>\n",
       "      <td>NaN</td>\n",
       "      <td>NaN</td>\n",
       "      <td>Objective</td>\n",
       "    </tr>\n",
       "    <tr>\n",
       "      <th>2</th>\n",
       "      <td>NaN</td>\n",
       "      <td>NaN</td>\n",
       "      <td>NaN</td>\n",
       "      <td>NaN</td>\n",
       "    </tr>\n",
       "    <tr>\n",
       "      <th>3</th>\n",
       "      <td>NaN</td>\n",
       "      <td>NaN</td>\n",
       "      <td>NaN</td>\n",
       "      <td>NaN</td>\n",
       "    </tr>\n",
       "    <tr>\n",
       "      <th>4</th>\n",
       "      <td>NaN</td>\n",
       "      <td>NaN</td>\n",
       "      <td>NaN</td>\n",
       "      <td>Cautious plc is in the business of providing c...</td>\n",
       "    </tr>\n",
       "  </tbody>\n",
       "</table>\n",
       "</div>"
      ],
      "text/plain": [
       "   Unnamed: 0  Unnamed: 1  Unnamed: 2  \\\n",
       "0         NaN         NaN         NaN   \n",
       "1         NaN         NaN         NaN   \n",
       "2         NaN         NaN         NaN   \n",
       "3         NaN         NaN         NaN   \n",
       "4         NaN         NaN         NaN   \n",
       "\n",
       "                                          Unnamed: 3  \n",
       "0                                                NaN  \n",
       "1                                          Objective  \n",
       "2                                                NaN  \n",
       "3                                                NaN  \n",
       "4  Cautious plc is in the business of providing c...  "
      ]
     },
     "execution_count": 39,
     "metadata": {},
     "output_type": "execute_result"
    }
   ],
   "source": [
    "df_crw.head()"
   ]
  },
  {
   "cell_type": "code",
   "execution_count": 40,
   "id": "f1cf2483",
   "metadata": {},
   "outputs": [
    {
     "name": "stdout",
     "output_type": "stream",
     "text": [
      "The entropy of the column Htype is: 1.4854752972273344\n"
     ]
    }
   ],
   "source": [
    "# 24)Use the creditworthiness data for the following questions, \n",
    "# Don’t perform any Data cleaning or pre-processing before answering the questions.\n",
    "# What is the entropy of the column Htype using the formula (-1 * np.sum(np.log2(probs) * probs)) \n",
    "# where probs is the list of probability of each unique item in the column?\n",
    "# A 9.85\n",
    "# B 0.56\n",
    "# C 1.14\n",
    "# D 5.75\n",
    "\n",
    "import numpy as np\n",
    "\n",
    "# Assuming probs is the list of probabilities\n",
    "probs = [0.2, 0.3, 0.5]  # Replace with the actual probabilities\n",
    "\n",
    "# Calculate entropy\n",
    "entropy = -np.sum(np.log2(probs) * probs)\n",
    "\n",
    "print(f\"The entropy of the column Htype is: {entropy}\")"
   ]
  },
  {
   "cell_type": "code",
   "execution_count": 41,
   "id": "d45e5571",
   "metadata": {},
   "outputs": [],
   "source": [
    "# 25)Use the creditworthiness data for the following questions, \n",
    "# Don’t perform any Data cleaning or pre-processing before answering the questions.\n",
    "# What is the total number of columns obtained post running the command pandas get_dummies in the raw data \n",
    "# when the Initial columns count is 21?\n",
    "# A 65\n",
    "# B 21\n",
    "# C 48\n",
    "# D 97\n",
    "\n",
    "# When you use the pandas.get_dummies function to one-hot encode categorical variables in a DataFrame, \n",
    "# the number of columns obtained after one-hot encoding will depend on the number of unique values in those categorical columns.\n",
    "\n",
    "# If the initial column count is 21 and you create dummy columns for all categorical variables, \n",
    "# the total number of columns after running pandas.get_dummies could potentially be more than 21."
   ]
  },
  {
   "cell_type": "code",
   "execution_count": 42,
   "id": "48649e95",
   "metadata": {},
   "outputs": [
    {
     "name": "stdout",
     "output_type": "stream",
     "text": [
      "Initial Column Count: 4\n",
      "Final Column Count after get_dummies: 5\n"
     ]
    }
   ],
   "source": [
    "initial_column_count = df_crw.shape[1]  # Get the initial column count\n",
    "\n",
    "# Identify categorical columns\n",
    "categorical_columns = df_crw.select_dtypes(include=['object']).columns\n",
    "\n",
    "# One-hot encode categorical columns\n",
    "df_encoded = pd.get_dummies(df_crw, columns=categorical_columns)\n",
    "\n",
    "# Get the final column count\n",
    "final_column_count = df_encoded.shape[1]\n",
    "\n",
    "print(f\"Initial Column Count: {initial_column_count}\")\n",
    "print(f\"Final Column Count after get_dummies: {final_column_count}\")"
   ]
  },
  {
   "cell_type": "code",
   "execution_count": 43,
   "id": "a645d0fb",
   "metadata": {},
   "outputs": [],
   "source": [
    "# 26) What is the X & Y axis for drawing AUC ROC plot?\n",
    "# TNR & FNR\n",
    "# FPR & TPR\n",
    "# TPR & FPR\n",
    "# FNR & TNR\n",
    "\n",
    "# X-axis: False Positive Rate (FPR)\n",
    "# Y-axis: True Positive Rate (TPR)\n",
    "# ans: FPR & TPR\n",
    "    \n",
    "# In the context of an ROC (Receiver Operating Characteristic) plot, the X-axis represents the False Positive Rate (FPR), \n",
    "# and the Y-axis represents the True Positive Rate (TPR), also known as Sensitivity or Recall"
   ]
  },
  {
   "cell_type": "code",
   "execution_count": 44,
   "id": "4d1be6b6",
   "metadata": {},
   "outputs": [],
   "source": [
    "# 27)Use the creditworthiness data for the following questions, ***************\n",
    "# Don’t perform any Data cleaning or pre-processing before answering the questions.\n",
    "# How many records present with the following conditions age >= 25 and age <= 50, \n",
    "# and inplans equals ‘bank’ and Cpur is either ‘Business’ or ‘electronics’ and foreign as ‘yes’?\n",
    "# A 3\n",
    "# B 1\n",
    "# C 2\n",
    "# D 0"
   ]
  },
  {
   "cell_type": "code",
   "execution_count": 45,
   "id": "b592d41c",
   "metadata": {},
   "outputs": [],
   "source": [
    "# 28) Calculate the Recall for the below confusion matrix Confusion\n",
    "# Matrix\tPredicted\n",
    "# Good\tBad\n",
    "# Actual\tGood\t300\t200\n",
    "# Bad\t100\t400\n",
    "# A 4/10\n",
    "# B 3/7\n",
    "# C 3/10\n",
    "# D 4/7\n",
    "\n",
    "# Recall= True Positives/(True Positives + False Negatives)\n",
    "\n",
    "# True Positives = 300\n",
    "# False Negatives = 100\n",
    "\n",
    "# Recall= 300/300+100 = 300/400 = 3/4"
   ]
  },
  {
   "cell_type": "code",
   "execution_count": 47,
   "id": "5c51b80f",
   "metadata": {},
   "outputs": [],
   "source": [
    "# 29) Calculate the F1 score for the below confusion matrix?\n",
    "# Confusion Matrix\tPredicted\n",
    "# Good\tBad\n",
    "# Actual\tGood\t300\t200\n",
    "# Bad\t100\t400\n",
    "# A 0.40\n",
    "# B 0.75\n",
    "# C 0.80\n",
    "# D 0.67\n",
    "\n",
    "# The F1 score is calculated using the formula:\n",
    "# F1 score=2×(Precision×Recall)/Precision+Recall\n",
    "\n",
    " \n",
    "\n",
    "# Precision is calculated as:\n",
    "# Precision=True Positives/(True Positives + False Positives)\n",
    "\n",
    "\n",
    "\n",
    "# Recall is calculated as:\n",
    "# Recall=True Positives/(True Positives + False Negatives)\n"
   ]
  },
  {
   "cell_type": "markdown",
   "id": "66a6da5f",
   "metadata": {},
   "source": [
    "Tasks To Be Performed:\n",
    "1. Load the dataset using pandas\n",
    "\n",
    "2. Extract data from outcome column is a variable named Y\n",
    "\n",
    "3. Extract data from every column except outcome column in a variable named X\n",
    "\n",
    "4. Divide the dataset into two parts for training and testing in 70% and 30%proportion\n",
    "\n",
    "5. Create and train Logistic Regression Model on training set\n",
    "\n",
    "6. Make predictions based on the testing set using the trained model\n",
    "\n",
    "7. Check the performance by calculating the confusion matrix and accuracy score of the model\n"
   ]
  },
  {
   "cell_type": "code",
   "execution_count": 1,
   "id": "19e311c8",
   "metadata": {},
   "outputs": [],
   "source": [
    "import pandas as pd\n",
    "from sklearn.model_selection import train_test_split\n",
    "from sklearn.linear_model import LogisticRegression\n",
    "from sklearn.metrics import confusion_matrix, accuracy_score"
   ]
  },
  {
   "cell_type": "code",
   "execution_count": 2,
   "id": "48d0d159",
   "metadata": {},
   "outputs": [],
   "source": [
    "#1. Load the dataset using pandas\n",
    "dff = pd.read_csv(r'C:\\Users\\Rishi\\Downloads\\Datasets\\diabetes.csv')"
   ]
  },
  {
   "cell_type": "code",
   "execution_count": 3,
   "id": "3b60f2fd",
   "metadata": {},
   "outputs": [
    {
     "data": {
      "text/html": [
       "<div>\n",
       "<style scoped>\n",
       "    .dataframe tbody tr th:only-of-type {\n",
       "        vertical-align: middle;\n",
       "    }\n",
       "\n",
       "    .dataframe tbody tr th {\n",
       "        vertical-align: top;\n",
       "    }\n",
       "\n",
       "    .dataframe thead th {\n",
       "        text-align: right;\n",
       "    }\n",
       "</style>\n",
       "<table border=\"1\" class=\"dataframe\">\n",
       "  <thead>\n",
       "    <tr style=\"text-align: right;\">\n",
       "      <th></th>\n",
       "      <th>Pregnancies</th>\n",
       "      <th>Glucose</th>\n",
       "      <th>BloodPressure</th>\n",
       "      <th>SkinThickness</th>\n",
       "      <th>Insulin</th>\n",
       "      <th>BMI</th>\n",
       "      <th>DiabetesPedigreeFunction</th>\n",
       "      <th>Age</th>\n",
       "      <th>Outcome</th>\n",
       "    </tr>\n",
       "  </thead>\n",
       "  <tbody>\n",
       "    <tr>\n",
       "      <th>0</th>\n",
       "      <td>6</td>\n",
       "      <td>148</td>\n",
       "      <td>72</td>\n",
       "      <td>35</td>\n",
       "      <td>0</td>\n",
       "      <td>33.6</td>\n",
       "      <td>0.627</td>\n",
       "      <td>50</td>\n",
       "      <td>1</td>\n",
       "    </tr>\n",
       "    <tr>\n",
       "      <th>1</th>\n",
       "      <td>1</td>\n",
       "      <td>85</td>\n",
       "      <td>66</td>\n",
       "      <td>29</td>\n",
       "      <td>0</td>\n",
       "      <td>26.6</td>\n",
       "      <td>0.351</td>\n",
       "      <td>31</td>\n",
       "      <td>0</td>\n",
       "    </tr>\n",
       "    <tr>\n",
       "      <th>2</th>\n",
       "      <td>8</td>\n",
       "      <td>183</td>\n",
       "      <td>64</td>\n",
       "      <td>0</td>\n",
       "      <td>0</td>\n",
       "      <td>23.3</td>\n",
       "      <td>0.672</td>\n",
       "      <td>32</td>\n",
       "      <td>1</td>\n",
       "    </tr>\n",
       "    <tr>\n",
       "      <th>3</th>\n",
       "      <td>1</td>\n",
       "      <td>89</td>\n",
       "      <td>66</td>\n",
       "      <td>23</td>\n",
       "      <td>94</td>\n",
       "      <td>28.1</td>\n",
       "      <td>0.167</td>\n",
       "      <td>21</td>\n",
       "      <td>0</td>\n",
       "    </tr>\n",
       "    <tr>\n",
       "      <th>4</th>\n",
       "      <td>0</td>\n",
       "      <td>137</td>\n",
       "      <td>40</td>\n",
       "      <td>35</td>\n",
       "      <td>168</td>\n",
       "      <td>43.1</td>\n",
       "      <td>2.288</td>\n",
       "      <td>33</td>\n",
       "      <td>1</td>\n",
       "    </tr>\n",
       "  </tbody>\n",
       "</table>\n",
       "</div>"
      ],
      "text/plain": [
       "   Pregnancies  Glucose  BloodPressure  SkinThickness  Insulin   BMI  \\\n",
       "0            6      148             72             35        0  33.6   \n",
       "1            1       85             66             29        0  26.6   \n",
       "2            8      183             64              0        0  23.3   \n",
       "3            1       89             66             23       94  28.1   \n",
       "4            0      137             40             35      168  43.1   \n",
       "\n",
       "   DiabetesPedigreeFunction  Age  Outcome  \n",
       "0                     0.627   50        1  \n",
       "1                     0.351   31        0  \n",
       "2                     0.672   32        1  \n",
       "3                     0.167   21        0  \n",
       "4                     2.288   33        1  "
      ]
     },
     "execution_count": 3,
     "metadata": {},
     "output_type": "execute_result"
    }
   ],
   "source": [
    "dff.head()"
   ]
  },
  {
   "cell_type": "code",
   "execution_count": 6,
   "id": "f69a0e06",
   "metadata": {},
   "outputs": [],
   "source": [
    "# 2. Extract data from outcome column in a variable named Y\n",
    "Y = dff['Outcome']"
   ]
  },
  {
   "cell_type": "code",
   "execution_count": 7,
   "id": "2b0e17d0",
   "metadata": {},
   "outputs": [],
   "source": [
    "# 3. Extract data from every column except the outcome column in a variable named X\n",
    "X = dff.drop('Outcome', axis=1)"
   ]
  },
  {
   "cell_type": "code",
   "execution_count": 8,
   "id": "a2404a99",
   "metadata": {},
   "outputs": [],
   "source": [
    "# 4. Divide the dataset into two parts for training and testing in 70% and 30% proportion\n",
    "X_train, X_test, Y_train, Y_test = train_test_split(X, Y, test_size=0.3, random_state=2)"
   ]
  },
  {
   "cell_type": "code",
   "execution_count": 9,
   "id": "82273ec4",
   "metadata": {},
   "outputs": [
    {
     "name": "stderr",
     "output_type": "stream",
     "text": [
      "C:\\Users\\Rishi\\anaconda3\\Lib\\site-packages\\sklearn\\linear_model\\_logistic.py:460: ConvergenceWarning: lbfgs failed to converge (status=1):\n",
      "STOP: TOTAL NO. of ITERATIONS REACHED LIMIT.\n",
      "\n",
      "Increase the number of iterations (max_iter) or scale the data as shown in:\n",
      "    https://scikit-learn.org/stable/modules/preprocessing.html\n",
      "Please also refer to the documentation for alternative solver options:\n",
      "    https://scikit-learn.org/stable/modules/linear_model.html#logistic-regression\n",
      "  n_iter_i = _check_optimize_result(\n"
     ]
    },
    {
     "data": {
      "text/html": [
       "<style>#sk-container-id-1 {color: black;}#sk-container-id-1 pre{padding: 0;}#sk-container-id-1 div.sk-toggleable {background-color: white;}#sk-container-id-1 label.sk-toggleable__label {cursor: pointer;display: block;width: 100%;margin-bottom: 0;padding: 0.3em;box-sizing: border-box;text-align: center;}#sk-container-id-1 label.sk-toggleable__label-arrow:before {content: \"▸\";float: left;margin-right: 0.25em;color: #696969;}#sk-container-id-1 label.sk-toggleable__label-arrow:hover:before {color: black;}#sk-container-id-1 div.sk-estimator:hover label.sk-toggleable__label-arrow:before {color: black;}#sk-container-id-1 div.sk-toggleable__content {max-height: 0;max-width: 0;overflow: hidden;text-align: left;background-color: #f0f8ff;}#sk-container-id-1 div.sk-toggleable__content pre {margin: 0.2em;color: black;border-radius: 0.25em;background-color: #f0f8ff;}#sk-container-id-1 input.sk-toggleable__control:checked~div.sk-toggleable__content {max-height: 200px;max-width: 100%;overflow: auto;}#sk-container-id-1 input.sk-toggleable__control:checked~label.sk-toggleable__label-arrow:before {content: \"▾\";}#sk-container-id-1 div.sk-estimator input.sk-toggleable__control:checked~label.sk-toggleable__label {background-color: #d4ebff;}#sk-container-id-1 div.sk-label input.sk-toggleable__control:checked~label.sk-toggleable__label {background-color: #d4ebff;}#sk-container-id-1 input.sk-hidden--visually {border: 0;clip: rect(1px 1px 1px 1px);clip: rect(1px, 1px, 1px, 1px);height: 1px;margin: -1px;overflow: hidden;padding: 0;position: absolute;width: 1px;}#sk-container-id-1 div.sk-estimator {font-family: monospace;background-color: #f0f8ff;border: 1px dotted black;border-radius: 0.25em;box-sizing: border-box;margin-bottom: 0.5em;}#sk-container-id-1 div.sk-estimator:hover {background-color: #d4ebff;}#sk-container-id-1 div.sk-parallel-item::after {content: \"\";width: 100%;border-bottom: 1px solid gray;flex-grow: 1;}#sk-container-id-1 div.sk-label:hover label.sk-toggleable__label {background-color: #d4ebff;}#sk-container-id-1 div.sk-serial::before {content: \"\";position: absolute;border-left: 1px solid gray;box-sizing: border-box;top: 0;bottom: 0;left: 50%;z-index: 0;}#sk-container-id-1 div.sk-serial {display: flex;flex-direction: column;align-items: center;background-color: white;padding-right: 0.2em;padding-left: 0.2em;position: relative;}#sk-container-id-1 div.sk-item {position: relative;z-index: 1;}#sk-container-id-1 div.sk-parallel {display: flex;align-items: stretch;justify-content: center;background-color: white;position: relative;}#sk-container-id-1 div.sk-item::before, #sk-container-id-1 div.sk-parallel-item::before {content: \"\";position: absolute;border-left: 1px solid gray;box-sizing: border-box;top: 0;bottom: 0;left: 50%;z-index: -1;}#sk-container-id-1 div.sk-parallel-item {display: flex;flex-direction: column;z-index: 1;position: relative;background-color: white;}#sk-container-id-1 div.sk-parallel-item:first-child::after {align-self: flex-end;width: 50%;}#sk-container-id-1 div.sk-parallel-item:last-child::after {align-self: flex-start;width: 50%;}#sk-container-id-1 div.sk-parallel-item:only-child::after {width: 0;}#sk-container-id-1 div.sk-dashed-wrapped {border: 1px dashed gray;margin: 0 0.4em 0.5em 0.4em;box-sizing: border-box;padding-bottom: 0.4em;background-color: white;}#sk-container-id-1 div.sk-label label {font-family: monospace;font-weight: bold;display: inline-block;line-height: 1.2em;}#sk-container-id-1 div.sk-label-container {text-align: center;}#sk-container-id-1 div.sk-container {/* jupyter's `normalize.less` sets `[hidden] { display: none; }` but bootstrap.min.css set `[hidden] { display: none !important; }` so we also need the `!important` here to be able to override the default hidden behavior on the sphinx rendered scikit-learn.org. See: https://github.com/scikit-learn/scikit-learn/issues/21755 */display: inline-block !important;position: relative;}#sk-container-id-1 div.sk-text-repr-fallback {display: none;}</style><div id=\"sk-container-id-1\" class=\"sk-top-container\"><div class=\"sk-text-repr-fallback\"><pre>LogisticRegression()</pre><b>In a Jupyter environment, please rerun this cell to show the HTML representation or trust the notebook. <br />On GitHub, the HTML representation is unable to render, please try loading this page with nbviewer.org.</b></div><div class=\"sk-container\" hidden><div class=\"sk-item\"><div class=\"sk-estimator sk-toggleable\"><input class=\"sk-toggleable__control sk-hidden--visually\" id=\"sk-estimator-id-1\" type=\"checkbox\" checked><label for=\"sk-estimator-id-1\" class=\"sk-toggleable__label sk-toggleable__label-arrow\">LogisticRegression</label><div class=\"sk-toggleable__content\"><pre>LogisticRegression()</pre></div></div></div></div></div>"
      ],
      "text/plain": [
       "LogisticRegression()"
      ]
     },
     "execution_count": 9,
     "metadata": {},
     "output_type": "execute_result"
    }
   ],
   "source": [
    "# 5. Create and train Logistic Regression Model on the training set\n",
    "model = LogisticRegression()\n",
    "model.fit(X_train, Y_train)"
   ]
  },
  {
   "cell_type": "code",
   "execution_count": 10,
   "id": "ec42ff7d",
   "metadata": {},
   "outputs": [],
   "source": [
    "# 6. Make predictions based on the testing set using the trained model\n",
    "Y_pred = model.predict(X_test)"
   ]
  },
  {
   "cell_type": "code",
   "execution_count": 11,
   "id": "03ddaf88",
   "metadata": {},
   "outputs": [],
   "source": [
    "# 7. Check the performance by calculating the confusion matrix and accuracy score of the model\n",
    "conf_matrix = confusion_matrix(Y_test, Y_pred)\n",
    "accuracy = accuracy_score(Y_test, Y_pred)"
   ]
  },
  {
   "cell_type": "code",
   "execution_count": 12,
   "id": "ed755154",
   "metadata": {},
   "outputs": [
    {
     "name": "stdout",
     "output_type": "stream",
     "text": [
      "[[139  16]\n",
      " [ 39  37]]\n",
      "Accuracy Score: 0.7619047619047619\n"
     ]
    }
   ],
   "source": [
    "print(conf_matrix)\n",
    "print(f\"Accuracy Score: {accuracy}\")"
   ]
  },
  {
   "cell_type": "code",
   "execution_count": null,
   "id": "7c6ee58d",
   "metadata": {},
   "outputs": [],
   "source": []
  }
 ],
 "metadata": {
  "kernelspec": {
   "display_name": "Python 3 (ipykernel)",
   "language": "python",
   "name": "python3"
  },
  "language_info": {
   "codemirror_mode": {
    "name": "ipython",
    "version": 3
   },
   "file_extension": ".py",
   "mimetype": "text/x-python",
   "name": "python",
   "nbconvert_exporter": "python",
   "pygments_lexer": "ipython3",
   "version": "3.11.5"
  }
 },
 "nbformat": 4,
 "nbformat_minor": 5
}
