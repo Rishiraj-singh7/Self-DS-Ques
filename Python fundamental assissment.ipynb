{
 "cells": [
  {
   "cell_type": "markdown",
   "id": "c08a3e54",
   "metadata": {},
   "source": [
    "# Assignment-1-If-Else"
   ]
  },
  {
   "cell_type": "code",
   "execution_count": 2,
   "id": "c51c1104",
   "metadata": {},
   "outputs": [
    {
     "name": "stdout",
     "output_type": "stream",
     "text": [
      "b is greater than a\n"
     ]
    }
   ],
   "source": [
    " #1. Input the values of a and b as 10 and 20 respectively. Now check if a is greater or b is greater using if condition. \n",
    " #   Think about all the edge cases,and print the statements accordingly. \n",
    "\n",
    "a = 10\n",
    "b = 20\n",
    "\n",
    "if a > b:\n",
    "    print(\"a is greater than b\")\n",
    "    \n",
    "elif a == b:\n",
    "    print(\"a is equal to b\")\n",
    "    \n",
    "else:\n",
    "    print(\"b is greater than a\")"
   ]
  },
  {
   "cell_type": "code",
   "execution_count": 3,
   "id": "e6cbfd46",
   "metadata": {},
   "outputs": [
    {
     "name": "stdout",
     "output_type": "stream",
     "text": [
      "b is greater than a\n"
     ]
    }
   ],
   "source": [
    "if a > b:\n",
    "    print(\"a is greater than b\")\n",
    "elif a == b:\n",
    "    print(\"a is equal to b\")\n",
    "else:\n",
    "    print(\"b is greater than a\")"
   ]
  },
  {
   "cell_type": "markdown",
   "id": "da20c062",
   "metadata": {},
   "source": [
    "# Assignment-2-Conditional-Statements"
   ]
  },
  {
   "cell_type": "code",
   "execution_count": 4,
   "id": "f1eedf69",
   "metadata": {},
   "outputs": [
    {
     "name": "stdout",
     "output_type": "stream",
     "text": [
      "Enter the first number: 23\n",
      "Enter the second number: 44\n",
      "Enter the third number: 34\n",
      "The greatest number is: 44\n"
     ]
    }
   ],
   "source": [
    "#1. Take three user inputs and print the greatest number from those inputs using if-else condition.\n",
    "#   Edge cases, if any, should also be \n",
    "\n",
    "num1 = int(input(\"Enter the first number: \"))\n",
    "num2 = int(input(\"Enter the second number: \"))\n",
    "num3 = int(input(\"Enter the third number: \"))\n",
    "\n",
    "greatest_num = None\n",
    "\n",
    "# if num1 is the greatest\n",
    "if num1 > num2 and num1 > num3:\n",
    "       greatest_num = num1\n",
    "        \n",
    "# if num2 is the greatest\n",
    "elif num2 > num1 and num2 > num3:\n",
    "       greatest_num = num2\n",
    "        \n",
    "# if num3 is the greatest\n",
    "elif num3 > num1 and num3 > num2:\n",
    "       greatest_num = num3\n",
    "        \n",
    "else:\n",
    "    print(\"All are equal\")\n",
    "\n",
    "if greatest_num:\n",
    "    print(\"The greatest number is:\", greatest_num)\n",
    "else:\n",
    "    print(\"All numbers are equal\")\n",
    "    "
   ]
  },
  {
   "cell_type": "markdown",
   "id": "391f8128",
   "metadata": {},
   "source": [
    "# Assignment 1 – Loops"
   ]
  },
  {
   "cell_type": "code",
   "execution_count": 5,
   "id": "a0219eeb",
   "metadata": {},
   "outputs": [
    {
     "name": "stdout",
     "output_type": "stream",
     "text": [
      "1\n",
      "2\n",
      "3\n",
      "4\n",
      "5\n",
      "6\n",
      "7\n",
      "8\n",
      "9\n",
      "10\n"
     ]
    }
   ],
   "source": [
    "# Print the numbers from 1 to 10 using while loop.\n",
    "\n",
    "i = 1\n",
    "\n",
    "while i <= 10:\n",
    "    print(i)\n",
    "    i += 1\n",
    "    "
   ]
  },
  {
   "cell_type": "markdown",
   "id": "017fcb15",
   "metadata": {},
   "source": [
    "# Assignment 2 – Loops"
   ]
  },
  {
   "cell_type": "code",
   "execution_count": 11,
   "id": "c174d198",
   "metadata": {},
   "outputs": [
    {
     "name": "stdout",
     "output_type": "stream",
     "text": [
      "10\n",
      "4\n",
      "26\n",
      "4\n",
      "24\n",
      "54\n"
     ]
    }
   ],
   "source": [
    "# 1. Create a list that has 10, 23, 4, 26, 4, 75, 24, 54 values and with the help\n",
    "#    of while loop fetch the even numbers and print the numbers\n",
    "\n",
    "numb = [10, 23, 4, 26, 4, 75, 24, 54]\n",
    "\n",
    "# Using a while loop to fetch and print even numbers\n",
    "index = 0\n",
    "while index < len(numb):\n",
    "    if numb[index] % 2 == 0:\n",
    "        print(numb[index])\n",
    "    index += 1\n"
   ]
  },
  {
   "cell_type": "code",
   "execution_count": 7,
   "id": "24c68da6",
   "metadata": {},
   "outputs": [
    {
     "name": "stdout",
     "output_type": "stream",
     "text": [
      "10\n",
      "4\n",
      "26\n",
      "4\n",
      "24\n",
      "54\n"
     ]
    }
   ],
   "source": [
    "# using for loop\n",
    "list = [10, 23, 4, 26, 4, 75, 24, 54]\n",
    "\n",
    "\n",
    "for x in list:\n",
    "    if x % 2 == 0:\n",
    "        print(x)\n"
   ]
  },
  {
   "cell_type": "markdown",
   "id": "387137f4",
   "metadata": {},
   "source": [
    "# Assignment 3 – Loops"
   ]
  },
  {
   "cell_type": "code",
   "execution_count": 1,
   "id": "20c6d5cd",
   "metadata": {},
   "outputs": [
    {
     "name": "stdout",
     "output_type": "stream",
     "text": [
      "Enter the number of elements in the array: 3\n",
      "Enter element 1: 4\n",
      "Enter element 2: 5\n",
      "Enter element 3: 6\n",
      "Prime numbers in the array:\n",
      "5\n"
     ]
    }
   ],
   "source": [
    "#1. Create an array that has user defined inputs and with the help of for loop,\n",
    "#   fetch all the prime numbers and print the numbers...\n",
    "\n",
    "# Function to check if a number is prime\n",
    "def is_prime(num):\n",
    "    if num < 2:\n",
    "        return False\n",
    "    for i in range(2, int(num**0.5) + 1):\n",
    "        if num % i == 0:\n",
    "            return False\n",
    "    return True\n",
    "\n",
    "# Taking user inputs to create an array\n",
    "try:\n",
    "    n = int(input(\"Enter the number of elements in the array: \"))\n",
    "    user_array = [int(input(f\"Enter element {i + 1}: \")) for i in range(n)]\n",
    "except ValueError:\n",
    "    print(\"Invalid input. Please enter valid integers.\")\n",
    "    exit()\n",
    "\n",
    "# Using a for loop to fetch and print prime numbers\n",
    "print(\"Prime numbers in the array:\")\n",
    "for element in user_array:\n",
    "    if is_prime(element):\n",
    "        print(element)\n",
    "\n"
   ]
  },
  {
   "cell_type": "markdown",
   "id": "6d51c2ae",
   "metadata": {},
   "source": [
    "# Case Study Problem 1"
   ]
  },
  {
   "cell_type": "code",
   "execution_count": 2,
   "id": "b299be2c",
   "metadata": {},
   "outputs": [
    {
     "name": "stdout",
     "output_type": "stream",
     "text": [
      "Squares of numbers from 1 to 10: [1, 4, 9, 16, 25, 36, 49, 64, 81, 100]\n"
     ]
    }
   ],
   "source": [
    "# 1. Create a list containing squares of numbers from 1 to 10 (HINT: use List Comprehension).\n",
    "\n",
    "squares = [x * x for x in range(1, 11)]\n",
    "print(\"Squares of numbers from 1 to 10:\", squares)\n"
   ]
  },
  {
   "cell_type": "code",
   "execution_count": 3,
   "id": "c47c5937",
   "metadata": {},
   "outputs": [],
   "source": [
    "# 2. Write a function to check if the year number is a leap year\n",
    "\n",
    "def is_leap_year(year):\n",
    "    if (year % 4 == 0) and (year % 100 != 0) or (year % 400 == 0):\n",
    "        return True\n",
    "    else:\n",
    "        return False\n",
    "\n"
   ]
  },
  {
   "cell_type": "code",
   "execution_count": 4,
   "id": "b36e5619",
   "metadata": {},
   "outputs": [
    {
     "name": "stdout",
     "output_type": "stream",
     "text": [
      "2024 is a leap year\n"
     ]
    }
   ],
   "source": [
    "year = 2024\n",
    "if is_leap_year(year):\n",
    "    print(year, \"is a leap year\")\n",
    "else:\n",
    "    print(year, \"is not a leap year\")\n"
   ]
  },
  {
   "cell_type": "code",
   "execution_count": 5,
   "id": "eefdf98c",
   "metadata": {},
   "outputs": [],
   "source": [
    "# 3. Write a function to take an array and return another array that contains the members of the first array that are even\n",
    "\n",
    "def get_even_members(array):\n",
    "    even_members = [x for x in array if x % 2 == 0]\n",
    "    return even_members\n"
   ]
  },
  {
   "cell_type": "code",
   "execution_count": 6,
   "id": "cc8db594",
   "metadata": {},
   "outputs": [
    {
     "name": "stdout",
     "output_type": "stream",
     "text": [
      "Even members of the array: [2, 4, 6]\n"
     ]
    }
   ],
   "source": [
    "array = [1, 2, 3, 4, 5, 6]\n",
    "even_members = get_even_members(array)\n",
    "print(\"Even members of the array:\", even_members)\n"
   ]
  },
  {
   "cell_type": "code",
   "execution_count": 7,
   "id": "26574afd",
   "metadata": {},
   "outputs": [],
   "source": [
    "# 4. Write a function that takes 2 arrays and prints the members of the first array that are present in the second array.\n",
    "# (HINT: use Membership Comprehension)\n",
    "\n",
    "def find_common_members(array1, array2):\n",
    "    common_members = [x for x in array1 if x in array2]\n",
    "    return common_members\n"
   ]
  },
  {
   "cell_type": "code",
   "execution_count": 8,
   "id": "207387c2",
   "metadata": {},
   "outputs": [
    {
     "name": "stdout",
     "output_type": "stream",
     "text": [
      "Common members of the two arrays: [3, 4, 5]\n"
     ]
    }
   ],
   "source": [
    "array1 = [1, 2, 3, 4, 5]\n",
    "array2 = [3, 4, 5, 6, 7]\n",
    "common_members = find_common_members(array1, array2)\n",
    "print(\"Common members of the two arrays:\", common_members)\n"
   ]
  },
  {
   "cell_type": "markdown",
   "id": "ddf493f0",
   "metadata": {},
   "source": [
    "# Case Study Problem 2"
   ]
  },
  {
   "cell_type": "code",
   "execution_count": 9,
   "id": "84d318b9",
   "metadata": {},
   "outputs": [],
   "source": [
    "# 1. Create 1st tuple with values -> (10, 20, 30), \n",
    "#    2nd tuple with values -> (40, 50, 60):\n",
    "# a. Concatenate the two tuples and store it in “t_combine”\n",
    "# b. Repeat the elements of “t_combine” 3 times\n",
    "# c. Access the 3rd element from “t_combine”\n",
    "# d. Access the first three elements from \"t_combine\"\n",
    "# e. Access the last three elements from \"t_combine\""
   ]
  },
  {
   "cell_type": "code",
   "execution_count": 10,
   "id": "c06ff8dc",
   "metadata": {},
   "outputs": [
    {
     "name": "stdout",
     "output_type": "stream",
     "text": [
      "(10, 20, 30, 40, 50, 60)\n",
      "(10, 20, 30, 40, 50, 60, 10, 20, 30, 40, 50, 60, 10, 20, 30, 40, 50, 60)\n",
      "30\n",
      "(10, 20, 30)\n",
      "(40, 50, 60)\n"
     ]
    }
   ],
   "source": [
    "# Create the first, second tuple\n",
    "t1 = (10, 20, 30)\n",
    "t2 = (40, 50, 60)\n",
    "\n",
    "# Concatenate the tuples and store in t_combine\n",
    "t_combine = t1 + t2\n",
    "\n",
    "# Repeat the elements of t_combine 3 times\n",
    "t_combined_repeated = t_combine * 3\n",
    "\n",
    "# Access the 3rd element from t_combine\n",
    "third_element = t_combined_repeated[2]\n",
    "\n",
    "# Access the first three element from t_combine\n",
    "first_three_elements = t_combined_repeated[:3]\n",
    "\n",
    "# Access the last three elements from t_combine\n",
    "last_three_elements = t_combined_repeated[-3:]\n",
    "\n",
    "print(t_combine)\n",
    "print(t_combined_repeated)\n",
    "print(third_element)\n",
    "print(first_three_elements)\n",
    "print(last_three_elements)"
   ]
  },
  {
   "cell_type": "code",
   "execution_count": 11,
   "id": "df9fd9dc",
   "metadata": {},
   "outputs": [],
   "source": [
    "# 2. Create a list 'my_list' with these elements:\n",
    "# a. First element is a tuple with values 1, 2, 3\n",
    "# b. Second element is a tuple with values “a”, “b”, “c”\n",
    "# c. Third element is a tuple with value of true or false\n",
    "\n",
    "\n",
    "# 3. Append a new tuple – (1, ‘a’, True) to ‘my_list’:\n",
    "# a. Append a new list – *“sparta”, 123+ to my_list"
   ]
  },
  {
   "cell_type": "code",
   "execution_count": 26,
   "id": "6f74e16d",
   "metadata": {},
   "outputs": [],
   "source": [
    "my_list = [ (1,2,3), (\"a\",\"b\",\"c\"),(True,False),]"
   ]
  },
  {
   "cell_type": "code",
   "execution_count": 27,
   "id": "a437d9ac",
   "metadata": {},
   "outputs": [],
   "source": [
    "my_list.append((1,\"a\",True))"
   ]
  },
  {
   "cell_type": "code",
   "execution_count": 29,
   "id": "1d88193a",
   "metadata": {},
   "outputs": [],
   "source": [
    "my_list.append([\"sparta\", 123+9])"
   ]
  },
  {
   "cell_type": "code",
   "execution_count": 12,
   "id": "0869aec9",
   "metadata": {},
   "outputs": [],
   "source": [
    "# Create the list my_list\n",
    "my_list = [\n",
    "    (1, 2, 3),\n",
    "    (\"a\", \"b\", \"c\"),\n",
    "    (True, False),\n",
    "]\n",
    "\n",
    "# Append a new tuple (1, 'a', True) to my_list\n",
    "my_list.append((1, 'a', True))\n",
    "\n",
    "# Append a new list - *\"sparta\", 123+ to my_list\n",
    "my_list.append([\"sparta\", 123+78])"
   ]
  },
  {
   "cell_type": "code",
   "execution_count": 13,
   "id": "b82ef2b2",
   "metadata": {},
   "outputs": [
    {
     "name": "stdout",
     "output_type": "stream",
     "text": [
      "[(1, 2, 3), ('a', 'b', 'c'), (True, False), (1, 'a', True), ['sparta', 201]]\n"
     ]
    }
   ],
   "source": [
    "print(my_list)"
   ]
  },
  {
   "cell_type": "code",
   "execution_count": 14,
   "id": "f397586a",
   "metadata": {},
   "outputs": [],
   "source": [
    "# 4. Create a dictionary ‘fruit’ where:\n",
    "# a. The first key is ‘Fruit’ and the values are (“Apple”, “Banana”, “Mango”,“Guava”)\n",
    "# b. The second key is ‘Cost’ and the values are (85, 54, 120, 70)\n",
    "# c. Extract all the keys from ‘fruit’\n",
    "# d. Extract all the values from ‘fruit’"
   ]
  },
  {
   "cell_type": "code",
   "execution_count": 15,
   "id": "5a07c563",
   "metadata": {},
   "outputs": [
    {
     "name": "stdout",
     "output_type": "stream",
     "text": [
      "dict_keys(['Fruit', 'Cost'])\n",
      "dict_values([('Apple', 'Banana', 'Mango', 'Guava'), (85, 54, 120, 70)])\n"
     ]
    }
   ],
   "source": [
    "# Create the dictionary fruit\n",
    "\n",
    "fruit = {\n",
    "       \"Fruit\": (\"Apple\",\"Banana\",\"Mango\",\"Guava\"),\n",
    "       \"Cost\" : (85, 54, 120, 70)\n",
    "}\n",
    "\n",
    "# Extract all the keys from fruit\n",
    "fruit_keys = fruit.keys()\n",
    "\n",
    "# Extract all the values from fruit\n",
    "fruit_values = fruit.values()\n",
    "\n",
    "print(fruit_keys)\n",
    "print(fruit_values)"
   ]
  },
  {
   "cell_type": "code",
   "execution_count": 16,
   "id": "58301b59",
   "metadata": {},
   "outputs": [
    {
     "name": "stdout",
     "output_type": "stream",
     "text": [
      "{1, 'a'}\n"
     ]
    }
   ],
   "source": [
    "#5. Create a set named ‘my_set’ with values (1, 1, “a”, “a”, True, True) and print the result.\n",
    "\n",
    "# Create the set my_set with values (1, 1, \"a\", \"a\", True, True)\n",
    "my_set = {1, 1, \"a\", \"a\", True, True}\n",
    "\n",
    "print(my_set)\n"
   ]
  },
  {
   "cell_type": "code",
   "execution_count": null,
   "id": "5ae9ae30",
   "metadata": {},
   "outputs": [],
   "source": []
  }
 ],
 "metadata": {
  "kernelspec": {
   "display_name": "Python 3 (ipykernel)",
   "language": "python",
   "name": "python3"
  },
  "language_info": {
   "codemirror_mode": {
    "name": "ipython",
    "version": 3
   },
   "file_extension": ".py",
   "mimetype": "text/x-python",
   "name": "python",
   "nbconvert_exporter": "python",
   "pygments_lexer": "ipython3",
   "version": "3.11.5"
  }
 },
 "nbformat": 4,
 "nbformat_minor": 5
}
