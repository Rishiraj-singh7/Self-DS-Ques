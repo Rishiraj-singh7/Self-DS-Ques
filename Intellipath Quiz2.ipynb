{
 "cells": [
  {
   "cell_type": "code",
   "execution_count": 10,
   "id": "7913b0e4",
   "metadata": {},
   "outputs": [],
   "source": [
    "# 1. Determine the overall entropy."
   ]
  },
  {
   "cell_type": "code",
   "execution_count": 15,
   "id": "255155d2",
   "metadata": {},
   "outputs": [
    {
     "name": "stdout",
     "output_type": "stream",
     "text": [
      "Overall Entropy: 6.3214\n"
     ]
    }
   ],
   "source": [
    "import math\n",
    "\n",
    "def calculate_entropy(data, attribute):\n",
    "  \"\"\"\n",
    "  Calculates the entropy of a specific attribute in the dataset.\n",
    "\n",
    "  Args:\n",
    "      data: A list of lists representing the dataset.\n",
    "      attribute: The index of the attribute for which entropy is to be calculated.\n",
    "\n",
    "  Returns:\n",
    "      The entropy of the specified attribute.\n",
    "  \"\"\"\n",
    "\n",
    "  # Count occurrences of each value in the attribute\n",
    "  value_counts = {}\n",
    "  for row in data:\n",
    "    value = row[attribute]\n",
    "    value_counts[value] = value_counts.get(value, 0) + 1\n",
    "\n",
    "  # Calculate overall entropy\n",
    "  entropy = 0\n",
    "  for count in value_counts.values():\n",
    "    probability = count / len(data)\n",
    "    entropy -= probability * math.log2(probability)\n",
    "\n",
    "  return entropy\n",
    "\n",
    "def main():\n",
    "  \"\"\"\n",
    "  Reads the dataset, calculates overall entropy, and prints the result.\n",
    "  \"\"\"\n",
    "\n",
    "  # Sample dataset (replace with your actual data)\n",
    "  data =  [ \n",
    "    [\"business\", \"Schooling\", \"No\", \"Medium\", \"No\"],\n",
    "    [\"business\", \"PG degree\", \"No\", \"Medium\", \"Yes\"],\n",
    "    [\"Salaried\", \"UG degree\", \"No\", \"High\", \"No\"],\n",
    "    [\"business\", \"PG degree\", \"Yes\", \"Low\", \"Yes\"],\n",
    "    [\"business\", \"Schooling\", \"No\", \"Low\", \"Yes\"],\n",
    "    [\"Salaried\", \"UG degree\", \"Yes\", \"Medium\", \"Yes\"],\n",
    "    [\"Salaried\", \"Schooling\", \"No\", \"Low\", \"Yes\"],\n",
    "    [\"business\", \"UG degree\", \"Yes\", \"Medium\", \"No\"],\n",
    "    [\"Salaried\", \"UG degree\", \"No\", \"Low\", \"No\"],\n",
    "    [\"business\", \"PG degree\", \"Yes\", \"Low\", \"Yes\"],\n",
    "    [\"business\", \"PG degree\", \"No\", \"Low\", \"Yes\"],\n",
    "    [\"Salaried\", \"UG degree\", \"No\", \"High\", \"Yes\"],\n",
    "    [\"business\", \"Schooling\", \"Yes\", \"High\", \"Yes\"],\n",
    "    [\"business\", \"PG degree\", \"No\", \"Meduim\", \"No\"],\n",
    "    [\"Salaried\", \"PG degree\", \"No\", \"High\", \"No\"],\n",
    "    [\"business\", \"Schooling\", \"Yes\", \"High\", \"Yes\"],\n",
    "    [\"Salaried\", \"Schooling\", \"Yes\", \"Medium\", \"No\"]\n",
    "]\n",
    "  # Calculate and display overall entropy\n",
    "  total_entropy = 0\n",
    "  for i in range(len(data[0])):  # Iterate over all attributes\n",
    "    attribute_entropy = calculate_entropy(data, i)\n",
    "    total_entropy += attribute_entropy\n",
    "\n",
    "  print(f\"Overall Entropy: {total_entropy:.4f}\")\n",
    "\n",
    "if __name__ == \"__main__\":\n",
    "  main()"
   ]
  },
  {
   "cell_type": "code",
   "execution_count": 16,
   "id": "5a9b3119",
   "metadata": {},
   "outputs": [],
   "source": [
    "#2 A manufacturing company is set up in two different locations. If the number of employees in one location are 695, \n",
    "# the average monthly salary for their employees is 13875, the number of employees in the other location are 597 and\n",
    "# the average monthly salary for their employees is ⯑17086. Find the combined arithmetic mean of the monthly salary.\n",
    "\n",
    "#A 15358.72\n",
    "#B 33765.74\n",
    "#C 15480.5\n",
    "#D None of the above"
   ]
  },
  {
   "cell_type": "code",
   "execution_count": 17,
   "id": "b546037f",
   "metadata": {},
   "outputs": [
    {
     "name": "stdout",
     "output_type": "stream",
     "text": [
      "Combined Arithmetic Mean of Monthly Salary: 15358.720588235294\n"
     ]
    }
   ],
   "source": [
    "# Data\n",
    "emp_location1 = 695\n",
    "avg_salary_location1 = 13875\n",
    "emp_location2 = 597\n",
    "avg_salary_location2 = 17086\n",
    "\n",
    "# Calculate combined arithmetic mean\n",
    "total_employees = emp_location1 + emp_location2\n",
    "total_salary = (emp_location1 * avg_salary_location1) + (emp_location2 * avg_salary_location2)\n",
    "combined_mean_salary = total_salary / total_employees\n",
    "\n",
    "print(\"Combined Arithmetic Mean of Monthly Salary:\", combined_mean_salary)"
   ]
  },
  {
   "cell_type": "code",
   "execution_count": 19,
   "id": "ddd6cf7d",
   "metadata": {},
   "outputs": [],
   "source": [
    "#3 What will be the correlation coefficient value for two linearly related variables y=5x.?  \n",
    "# -1\n",
    "# 0\n",
    "# 0.5\n",
    "# 1\n",
    "#Sincey=5x, the variables x and y will have a perfect positive linear relationship. The correlation coefficient will be 1."
   ]
  },
  {
   "cell_type": "code",
   "execution_count": 20,
   "id": "97f4bbb7",
   "metadata": {},
   "outputs": [],
   "source": [
    "#4 Determine the feature which will be the root node of the decision tree using information gain based on entropy  \n"
   ]
  },
  {
   "cell_type": "code",
   "execution_count": 21,
   "id": "16b2b3bb",
   "metadata": {},
   "outputs": [
    {
     "name": "stdout",
     "output_type": "stream",
     "text": [
      "Overall Entropy: 0.8904916402194913\n",
      "Feature for the root node: Job\n"
     ]
    }
   ],
   "source": [
    "import numpy as np\n",
    "\n",
    "# Data\n",
    "data = [\n",
    "    [\"business\", \"Schooling\", \"No\", \"Low\", \"No\"],\n",
    "    [\"Salaried\", \"Schooling\", \"Yes\", \"High\", \"No\"],\n",
    "    [\"business\", \"PG degree\", \"Yes\", \"Medium\", \"Yes\"],\n",
    "    [\"Assistant\", \"Phd\", \"Yes\", \"High\", \"No\"],\n",
    "    [\"Salaried\", \"PG degree\", \"No\", \"Medium\", \"No\"],\n",
    "    [\"Salaried\", \"PG degree\", \"No\", \"High\", \"Yes\"],\n",
    "    [\"business\", \"Phd\", \"Yes\", \"Low\", \"Yes\"],\n",
    "    [\"Salaried\", \"Phd\", \"Yes\", \"Medium\", \"No\"],\n",
    "    [\"Salaried\", \"Phd\", \"No\", \"High\", \"No\"],\n",
    "    [\"business\", \"UG degree\", \"Yes\", \"Medium\", \"Yes\"],\n",
    "    [\"Assistant\", \"UG degree\", \"Yes\", \"Medium\", \"No\"],\n",
    "    [\"business\", \"Phd\", \"No\", \"Low\", \"No\"],\n",
    "    [\"Assistant\", \"PG degree\", \"Yes\", \"Medium\", \"No\"]\n",
    "]\n",
    "\n",
    "# Convert data to numpy array\n",
    "data = np.array(data)\n",
    "\n",
    "# Function to calculate entropy\n",
    "def entropy(labels):\n",
    "    _, counts = np.unique(labels, return_counts=True)\n",
    "    probabilities = counts / counts.sum()\n",
    "    entropy = -np.sum(probabilities * np.log2(probabilities))\n",
    "    return entropy\n",
    "\n",
    "# Extracting attribute values and labels\n",
    "job = data[:, 0]\n",
    "education = data[:, 1]\n",
    "previous_loan = data[:, 2]\n",
    "salary = data[:, 3]\n",
    "housing_loan = data[:, 4]\n",
    "\n",
    "# Calculate overall entropy\n",
    "labels = housing_loan\n",
    "overall_entropy = entropy(labels)\n",
    "print(\"Overall Entropy:\", overall_entropy)\n",
    "\n",
    "# Function to calculate information gain\n",
    "def information_gain(feature_values, labels, overall_entropy):\n",
    "    unique_values, value_counts = np.unique(feature_values, return_counts=True)\n",
    "    weighted_entropy = 0\n",
    "    for value, count in zip(unique_values, value_counts):\n",
    "        subset_labels = labels[feature_values == value]\n",
    "        weighted_entropy += (count / len(feature_values)) * entropy(subset_labels)\n",
    "    return overall_entropy - weighted_entropy\n",
    "\n",
    "# Calculate information gain for each feature\n",
    "information_gains = {\n",
    "    \"Job\": information_gain(job, labels, overall_entropy),\n",
    "    \"Education\": information_gain(education, labels, overall_entropy),\n",
    "    \"Any Previous Loan\": information_gain(previous_loan, labels, overall_entropy),\n",
    "    \"Salary\": information_gain(salary, labels, overall_entropy)\n",
    "}\n",
    "\n",
    "# Determine the feature for the root node\n",
    "root_node_feature = max(information_gains, key=information_gains.get)\n",
    "print(\"Feature for the root node:\", root_node_feature)"
   ]
  },
  {
   "cell_type": "code",
   "execution_count": 22,
   "id": "a8f5dd80",
   "metadata": {},
   "outputs": [],
   "source": [
    "#5 From the following table, what is the probability that an employee is a Female and has quit the organization?  \n",
    "\n",
    "# gender         Quit\n",
    "#                Yes                No\n",
    "# Male           0.41              0.08\n",
    "# Female         0.45             0.06\n",
    "\n",
    "# A 0.48\n",
    "# B 0.41\n",
    "# C 0.86\n",
    "# D 0.45\n",
    "\n"
   ]
  },
  {
   "cell_type": "code",
   "execution_count": 23,
   "id": "129d636e",
   "metadata": {},
   "outputs": [
    {
     "name": "stdout",
     "output_type": "stream",
     "text": [
      "0.45\n"
     ]
    }
   ],
   "source": [
    "# Data\n",
    "prob_yes_male = 0.41\n",
    "prob_no_male = 0.08\n",
    "prob_yes_female = 0.45\n",
    "prob_no_female = 0.06\n",
    "\n",
    "# Probability that an employee is Female and has quit\n",
    "prob_female_and_quit = prob_yes_female\n",
    "\n",
    "print(prob_female_and_quit)\n"
   ]
  },
  {
   "cell_type": "code",
   "execution_count": 25,
   "id": "0f9ec43f",
   "metadata": {},
   "outputs": [],
   "source": [
    "# 6 The function used to convert the categorical variables to dummy/indicator variables is\n",
    "# pandas.reshape ()\n",
    "# pandas.get_indicator()\n",
    "# pandas.get_dummies()\n",
    "# pandas.reshape.module ()\n",
    "\n",
    "#  ans pandas.get_dummies()"
   ]
  },
  {
   "cell_type": "code",
   "execution_count": 26,
   "id": "68279f89",
   "metadata": {},
   "outputs": [
    {
     "name": "stdout",
     "output_type": "stream",
     "text": [
      "       a      b      c\n",
      "0   True  False  False\n",
      "1  False   True  False\n",
      "2   True  False  False\n",
      "3  False  False   True\n",
      "4  False   True  False\n"
     ]
    }
   ],
   "source": [
    "import pandas as pd\n",
    "\n",
    "# Sample DataFrame with categorical variable\n",
    "df = pd.DataFrame({'A': ['a', 'b', 'a', 'c', 'b']})\n",
    "\n",
    "# Convert categorical variable to dummy variables\n",
    "dummy_df = pd.get_dummies(df['A'])\n",
    "\n",
    "print(dummy_df)"
   ]
  },
  {
   "cell_type": "code",
   "execution_count": 27,
   "id": "14a3d89f",
   "metadata": {},
   "outputs": [],
   "source": [
    "#7 Consider the dataset given. If we use K-NN for predicting the BMI from height and weight with the assumption that \n",
    "# the true model is y = w /h^2 is unknown, find the BMI for a person with height 1.12 m and weight 58.29 cm. \n",
    "# Use K-NN with 3 neighbors and Euclidean distance as the metric for choosing neighbors.  \n",
    "\n",
    "# h         w          y\n",
    "# 1.7      7.8     31.96\n",
    "# 1.9      45.5     17.22\n",
    "# 1.7      45.5    20.45\n",
    "# 1.9      95.6     31.97\n",
    "# 1.2      39.4     32.02\n",
    "# 1.7      54.5    23.95\n",
    "\n",
    "# A 54.35\n",
    "# B 46.47\n",
    "# C 20.54\n",
    "# D 26.26"
   ]
  },
  {
   "cell_type": "code",
   "execution_count": 29,
   "id": "890cee2f",
   "metadata": {},
   "outputs": [
    {
     "name": "stdout",
     "output_type": "stream",
     "text": [
      "Predicted BMI: 22.03475234355904\n"
     ]
    }
   ],
   "source": [
    "import numpy as np\n",
    "from sklearn.neighbors import KNeighborsRegressor\n",
    "\n",
    "# Given data\n",
    "data = np.array([\n",
    "    [1.7, 7.8, 31.96],\n",
    "    [1.9, 45.5, 17.22],\n",
    "    [1.7, 45.5, 20.45],\n",
    "    [1.9, 95.6, 31.97],\n",
    "    [1.2, 39.4, 32.02],\n",
    "    [1.7, 54.5, 23.95]\n",
    "])\n",
    "\n",
    "# Split data into features (height and weight) and target (BMI)\n",
    "X = data[:, :2]  # Features: height and weight\n",
    "y = data[:, 2]   # Target: BMI\n",
    "\n",
    "# Create K-NN regressor object\n",
    "knn = KNeighborsRegressor(n_neighbors=3, weights='distance', metric='euclidean')\n",
    "\n",
    "# Fit the model\n",
    "knn.fit(X, y)\n",
    "\n",
    "# New data point\n",
    "new_point = np.array([[1.12, 58.29]])  # height = 1.12 m, weight = 58.29 kg\n",
    "\n",
    "# Predict BMI for the new point\n",
    "predicted_bmi = knn.predict(new_point)\n",
    "\n",
    "print(\"Predicted BMI:\", predicted_bmi[0])"
   ]
  },
  {
   "cell_type": "code",
   "execution_count": 30,
   "id": "6330829b",
   "metadata": {},
   "outputs": [],
   "source": [
    "#8 For the given New York Restaurant data choose the appropriate problem and technique from the following options. \n",
    "# The options should be chosen from machine learning perspective by considering  the target variable as Price (Y) and \n",
    "# other variables as input features (X)\n",
    "# I. Binary classification problem II. Supervised machine learning technique III. Unsupervised machine learning technique IV.\n",
    "#Linear regression problem\n",
    "\n",
    "# Variable  : Description\n",
    "# Price : price of a meal\n",
    "# Food: measure of quality\n",
    "# Decor: measure of decor of the restaurant\n",
    "# service: measure of quailty of service\n",
    "# East: Dummy variable indicating if the restaurant is easy or west of 5th avenue\n",
    "\n",
    "# solution are \n",
    "# A   a and c\n",
    "# B   a and d\n",
    "# C   a and b\n",
    "# D   b and d"
   ]
  },
  {
   "cell_type": "code",
   "execution_count": 31,
   "id": "1f1c8459",
   "metadata": {},
   "outputs": [],
   "source": [
    "#ans  Binary classification problem n Linear regression problem"
   ]
  },
  {
   "cell_type": "code",
   "execution_count": 32,
   "id": "97434192",
   "metadata": {},
   "outputs": [],
   "source": [
    "#9 Which of the following statement(s) is/are true about errors in regression?  \n",
    "\n",
    "# Both linear regression and logistic regression error values need not to be normally distributed\n",
    "# Error values of linear regression must be normally distributed but not in the case of logistic regression\n",
    "# Both linear regression and logistic regression error values must be normally distributed\n",
    "# Error values of logistic regression must be normally distributed but not in the case of linear regression\n",
    "# Option 5"
   ]
  },
  {
   "cell_type": "code",
   "execution_count": 33,
   "id": "fee7cb8e",
   "metadata": {},
   "outputs": [],
   "source": [
    "# ans 5\n",
    "# A. Not always true: While normality of errors is an assumption for linear regression, it's not a strict requirement. \n",
    "#     Robust regression methods can handle non-normal errors. Logistic regression doesn't assume normality either, \n",
    "#     but it does have assumptions about the distribution of the error term.\n",
    "\n",
    "# B. Not true: Linear regression doesn't strictly require normally distributed errors. \n",
    "#  Logistic regression also doesn't require normality, but it has assumptions about the distribution of the error term.\n",
    "\n",
    "# C. Not true: As mentioned above, neither linear nor logistic regression requires perfect normality of errors.\n",
    "\n",
    "# D. Not true: Similar to B, logistic regression doesn't necessitate normal errors, but it has assumptions about \n",
    "#     the error term distribution."
   ]
  },
  {
   "cell_type": "code",
   "execution_count": 34,
   "id": "a2d9cc63",
   "metadata": {},
   "outputs": [],
   "source": [
    "#10 To find the F-statistic for the given sample sets, we first need to calculate the sample variances, \n",
    "# then use them to compute the F-statistic. The formula for the F-statistic is:"
   ]
  },
  {
   "cell_type": "code",
   "execution_count": 35,
   "id": "abe05b87",
   "metadata": {},
   "outputs": [],
   "source": [
    "# σ1\\2 = 4 AND σ1\\2 = 8 respectively\n",
    "\n",
    "# sample data1: 14,24,18,14,22,17\n",
    "# sample data: 2,8,10,5,8,3\n",
    "\n",
    "# A 5.76\n",
    "# B 0.59\n",
    "# C 3.76\n",
    "# D 3.39"
   ]
  },
  {
   "cell_type": "code",
   "execution_count": 36,
   "id": "50961ffb",
   "metadata": {},
   "outputs": [
    {
     "name": "stdout",
     "output_type": "stream",
     "text": [
      "F-statistic: 1.6966666666666668\n"
     ]
    }
   ],
   "source": [
    "import numpy as np\n",
    "\n",
    "# Sample data\n",
    "data1 = np.array([14, 24, 18, 14, 22, 17])\n",
    "data2 = np.array([2, 8, 10, 5, 8, 3])\n",
    "\n",
    "# Calculate sample variances\n",
    "variance1 = np.var(data1, ddof=1)  # ddof=1 for sample variance\n",
    "variance2 = np.var(data2, ddof=1)\n",
    "\n",
    "# Calculate F-statistic\n",
    "F_statistic = variance1 / variance2\n",
    "\n",
    "print(\"F-statistic:\", F_statistic)\n"
   ]
  },
  {
   "cell_type": "code",
   "execution_count": 37,
   "id": "bcf8af97",
   "metadata": {},
   "outputs": [],
   "source": [
    "#11 Take a problem in hand, say we have 1000 cricket bats, out of which 50 are defective. \n",
    "# Let us assume that we have already build a logistic regression machine learning model to classify the defective and\n",
    "# non-defective pieces. Our model identified, 150 bats as defective, out of which 30 are truly defective \n",
    "# and 120 are identified as defective which are not defective. Now populate your confusion matrix correctly-  \n",
    "\n",
    "# Note: (positive: Defective, negative : Non -Defective)\n",
    "\n",
    "#tp:30, tn:120, fp:20, fn:830"
   ]
  },
  {
   "cell_type": "code",
   "execution_count": 38,
   "id": "bf4b9491",
   "metadata": {},
   "outputs": [],
   "source": [
    "#12 Find the distance between the vectors:\n",
    "    \n",
    "#  v1 = [2,-5,9,8] and v2 = [-9,-7,-7,-7]"
   ]
  },
  {
   "cell_type": "code",
   "execution_count": 39,
   "id": "10b71e75",
   "metadata": {},
   "outputs": [],
   "source": [
    "#13 How do you find the optimum value of ‘K’ in a K-Nearest Neighbour classifier?  \n",
    "\n",
    "# By observing an error Vs K plot and that value of K corresponding to the lowest error.\n",
    "# Larger K-value (greater than 10 neighbors\n",
    "# By considering only the closest 2 to 4 neighbors\n",
    "# Only the nearest single neighbour, i.e. K=1\n",
    "#ans 1"
   ]
  },
  {
   "cell_type": "code",
   "execution_count": 40,
   "id": "0fe86a00",
   "metadata": {},
   "outputs": [],
   "source": [
    "#14   Given a data matrix A m×n, we can carry out singular value decomposition in the form A = U×S×(V)^ T , where the matrices follow the usual notation. Find the product of the largest min(m, n) singular values.  \n",
    "    \n",
    "#     [-4  -3   1,\n",
    "#      4  -1   1]"
   ]
  },
  {
   "cell_type": "code",
   "execution_count": 41,
   "id": "94c8fc4f",
   "metadata": {},
   "outputs": [
    {
     "name": "stdout",
     "output_type": "stream",
     "text": [
      "Product of the largest min(m, n) singular values: 18.000000000000004\n"
     ]
    }
   ],
   "source": [
    "import numpy as np\n",
    "\n",
    "# Given matrix A\n",
    "A = np.array([\n",
    "    [-4, -3, 1],\n",
    "    [4, -1, 1]\n",
    "])\n",
    "\n",
    "# Perform Singular Value Decomposition (SVD)\n",
    "U, S, VT = np.linalg.svd(A)\n",
    "\n",
    "# Product of the largest min(m, n) singular values\n",
    "largest_singular_values_product = np.prod(S[:min(A.shape)])\n",
    "\n",
    "print(\"Product of the largest min(m, n) singular values:\", largest_singular_values_product)\n"
   ]
  },
  {
   "cell_type": "code",
   "execution_count": 42,
   "id": "43f1d56c",
   "metadata": {},
   "outputs": [],
   "source": [
    "#15 Assume that the median for a right-skewed normal distribution is 1. Then the value of mean is:-  \n",
    "\n",
    "# less than one\n",
    "# equal to zero\n",
    "# equal to one\n",
    "# greator than one    anss"
   ]
  },
  {
   "cell_type": "code",
   "execution_count": 43,
   "id": "e538f460",
   "metadata": {},
   "outputs": [],
   "source": [
    "#16 Correlation between two variables X & Y is 0.85. After adding the value 2 to all the values of X, the correlation co-efficient will be ___  \n",
    "\n",
    "# 0.65\n",
    "# 0.87\n",
    "# 0.85  ****\n",
    "# 0.82\n",
    "#I'd be glad to explain why adding a constant value to one variable in a correlation calculation won't affect the correlation coefficient"
   ]
  },
  {
   "cell_type": "code",
   "execution_count": 44,
   "id": "316057ac",
   "metadata": {},
   "outputs": [
    {
     "data": {
      "text/plain": [
       "Day     Time\n",
       "Dinner  Mon     1\n",
       "        Sun     1\n",
       "        Tue     1\n",
       "Lunch   Mon     1\n",
       "        Sun     1\n",
       "Name: Time, dtype: int64"
      ]
     },
     "execution_count": 44,
     "metadata": {},
     "output_type": "execute_result"
    }
   ],
   "source": [
    "#17\n",
    "data3={\n",
    "    'Day':['Dinner','Lunch','Dinner','Dinner','Lunch'],\n",
    "    'Time':['Tue','Sun','Mon','Sun','Mon'],\n",
    "    'TotBill':[17,10,21,23,24]\n",
    "}\n",
    "df3=pd.DataFrame(data3)\n",
    "df3.groupby(['Day','Time'])['Time'].count()"
   ]
  },
  {
   "cell_type": "code",
   "execution_count": 45,
   "id": "e726d3cf",
   "metadata": {},
   "outputs": [],
   "source": [
    "#18 In a 'XYZ' Bank, the loan department needs to predict if the customer will apply for a housing loan or not. Given past data of customers.\n",
    "\n",
    "#  Identify the feature which would be the split note in Decision Tree using Chi-Square, where chi-square is defined as  ((O − E)^2 ) / E (Note : Retain expected values as whole numbers, ex : 4.3 as 4 and 4.5 as 5)   "
   ]
  },
  {
   "cell_type": "code",
   "execution_count": 46,
   "id": "778d5674",
   "metadata": {},
   "outputs": [
    {
     "name": "stdout",
     "output_type": "stream",
     "text": [
      "Split node based on Chi-Square: job\n"
     ]
    }
   ],
   "source": [
    "import pandas as pd\n",
    "\n",
    "# Given dataset\n",
    "data = {\n",
    "    'job': ['business', 'business', 'salaried','business','business','salaried','salaried','business','salaried','business','business','salaried','business','business','salaried','bussiness','salaried'],\n",
    "    'education': ['schooling','pg degree','ug degree','pg degree','schooling','ug degree','schooling','ug degree','ug degree','pg degree','pg degree','ug degree','schooling','pg degree','pg degree','schooling','schooling'],\n",
    "    'any previous loan': ['no', 'no', 'no','yes','no','yes','no','yes','no','yes','no','no','yes','no','no','yes','yes'],\n",
    "    'salary':['medium','medium','high','low','low','medium','low','medium','low','low','low','high','high','medium','high','high','medium'],\n",
    "    'housing loan':['no','yes','no','yes','yes','yes','yes','no','no','yes','yes','yes','yes','no','no','yes','no']\n",
    "}\n",
    "df = pd.DataFrame(data)\n",
    "\n",
    "# Perform Chi-Square analysis for each feature\n",
    "# (Calculate the Chi-Square statistic for each feature and select the one with the highest value as the split node)\n",
    "\n",
    "# Function to calculate Chi-Square statistic for a feature\n",
    "def calculate_chi_square(feature):\n",
    "    # Your code to calculate Chi-Square statistic for the given feature goes here\n",
    "    # You need to calculate the observed and expected frequencies for each category in the feature\n",
    "    # Then compute the Chi-Square statistic using the formula and return the result\n",
    "    chi_square_value = 0  # Placeholder value, replace with your calculation\n",
    "    \n",
    "    return chi_square_value\n",
    "\n",
    "# Calculate Chi-Square statistic for each feature\n",
    "chi_square_values = {}\n",
    "for feature in df.columns:\n",
    "    chi_square_values[feature] = calculate_chi_square(df[feature])\n",
    "\n",
    "# Identify the feature with the highest Chi-Square value as the split node\n",
    "split_node = max(chi_square_values, key=chi_square_values.get)\n",
    "print(\"Split node based on Chi-Square:\", split_node)"
   ]
  },
  {
   "cell_type": "code",
   "execution_count": 48,
   "id": "7d4c7e0a",
   "metadata": {},
   "outputs": [],
   "source": [
    "#19 Which of the given algorithms will be able to solve the following problem ? Problem: Predicting the kinetic parameters of a biochemical reaction  .\n",
    "\n",
    "# Decision Trees        ans\n",
    "# Linear Discriminant Analysis\n",
    "# Quadratic Discriminant Analysis\n",
    "# K Nearest Neighbours classifier\n",
    "\n",
    "\n",
    "# Decision trees are a strong starting point for predicting kinetic parameters due to their ability to handle non-linear relationships, regression capabilities, and interpretability.\n",
    "# Consider exploring SVR or neural networks for potentially better results, especially if you have a large dataset and computational resources."
   ]
  },
  {
   "cell_type": "code",
   "execution_count": 49,
   "id": "8f3ccfe2",
   "metadata": {},
   "outputs": [],
   "source": [
    "#20 In logistic regression, if the posterior probability Pr(Class=k | X=x) is linear in ‘x’ then  \n",
    "# \n",
    "# decision boundary is linear\n",
    "# x is not related to Y\n",
    "# there is no decision boundry\n",
    "# decision boundary is non linear"
   ]
  },
  {
   "cell_type": "code",
   "execution_count": null,
   "id": "9639ab7b",
   "metadata": {},
   "outputs": [],
   "source": [
    "#21 What will be the output of ‘a’ and ‘b’?  \n",
    "# import copy\n",
    "# x=[5,4,3,2,1]\n",
    "# y=[7,8,9]\n",
    "# z=[x,y]\n",
    "# a=copy.deepcopy(z)\n",
    "# b=copy.copy(z)\n",
    "# x[2]=6\n",
    "# print(a,b)"
   ]
  },
  {
   "cell_type": "code",
   "execution_count": 50,
   "id": "3b5bad12",
   "metadata": {},
   "outputs": [
    {
     "name": "stdout",
     "output_type": "stream",
     "text": [
      "[[5, 4, 3, 2, 1], [7, 8, 9]]\n",
      "[[5, 4, 6, 2, 1], [7, 8, 9]]\n"
     ]
    }
   ],
   "source": [
    "import copy\n",
    "x = [5, 4, 3, 2, 1]\n",
    "y = [7, 8, 9]\n",
    "z = [x, y]\n",
    "\n",
    "a = copy.deepcopy(z)\n",
    "b = copy.copy(z)\n",
    "\n",
    "x[2] = 6\n",
    "\n",
    "print(a)\n",
    "print(b)\n"
   ]
  },
  {
   "cell_type": "code",
   "execution_count": 52,
   "id": "9d38063c",
   "metadata": {},
   "outputs": [
    {
     "name": "stdout",
     "output_type": "stream",
     "text": [
      "Value of P(x > 81): 1.0\n"
     ]
    }
   ],
   "source": [
    "#22 Find the value of P(x > 81) where the Probability Density Function (PDF) is given by f(x) = c / √x; c ∈ ℝ, 16 ≤ x ≤ 169, and f(x) = 0 otherwise.  \n",
    "\n",
    "\n",
    "# A 0.14\n",
    "# B 0.42\n",
    "# C 0.32\n",
    "# D 0.44        May be\n",
    "\n",
    "import scipy.integrate as spi\n",
    "\n",
    "# Define the PDF function\n",
    "def pdf(x):\n",
    "    if x >= 16 and x <= 169:\n",
    "        return 1 / (8 * x**0.5)  # c = 1/8\n",
    "    else:\n",
    "        return 0\n",
    "\n",
    "# Define the integral function for P(x > 81)\n",
    "def integral_function(x):\n",
    "    return pdf(x)\n",
    "\n",
    "# Integrate the PDF from 81 to 169\n",
    "result, _ = spi.quad(integral_function, 81, 169)\n",
    "\n",
    "# Print the result\n",
    "print(\"Value of P(x > 81):\", round(result, 2))\n",
    "# print('answer is 0.32')"
   ]
  },
  {
   "cell_type": "code",
   "execution_count": 53,
   "id": "bea031a5",
   "metadata": {},
   "outputs": [
    {
     "data": {
      "text/plain": [
       "(8, 9, 15)"
      ]
     },
     "execution_count": 53,
     "metadata": {},
     "output_type": "execute_result"
    }
   ],
   "source": [
    "#23\n",
    "x=(0,8,9,15,17,18)\n",
    "y=slice(1,-2)\n",
    "x[y]"
   ]
  },
  {
   "cell_type": "code",
   "execution_count": 55,
   "id": "587b44bb",
   "metadata": {},
   "outputs": [],
   "source": [
    "#24 The following table gives the five-number summary for the variable CLAY_COMPOSITION. The third quartile value is  :\n",
    "# index : Clay_compostion \n",
    "# count : 352\n",
    "# mean : 7.95\n",
    "# std: 0.86\n",
    "# min : 5.42\n",
    "# 25%: 7.44\n",
    "# 50% : 8.10\n",
    "# 75%: 8.54\n",
    "# max: 10.36\n",
    "\n",
    "# solutions are \n",
    "#A 7.44\n",
    "# B 8.54 ***** 3rd q\n",
    "# C 8.10\n",
    "# D 10.36\n"
   ]
  },
  {
   "cell_type": "code",
   "execution_count": null,
   "id": "ae687708",
   "metadata": {},
   "outputs": [],
   "source": [
    "#25 Solve the given system of equations if the solution exists  \n",
    "\n",
    "# 2x + y + 2z = -13 \n",
    "# 2x − y − z = 2 \n",
    "# 2x + y − 3z = 2  \n",
    "# *\n",
    "# x = -5.0, y = -1.0, z = -1.0\n",
    "# x = 0.0, y = -6.0, z = -5.0\n",
    "# x = -2.0, y = -3.0, z = -3.0\n",
    "# No solution"
   ]
  },
  {
   "cell_type": "code",
   "execution_count": 56,
   "id": "1f7d79b2",
   "metadata": {},
   "outputs": [
    {
     "name": "stdout",
     "output_type": "stream",
     "text": [
      "Solution: [-2. -3. -3.]\n"
     ]
    }
   ],
   "source": [
    "import numpy as np\n",
    "\n",
    "# Define matrix A and vector B\n",
    "A = np.array([[2, 1, 2],\n",
    "              [2, -1, -1],\n",
    "              [2, 1, -3]])\n",
    "B = np.array([-13, 2, 2])\n",
    "\n",
    "# Find the inverse of matrix A\n",
    "A_inv = np.linalg.inv(A)\n",
    "\n",
    "# Calculate the solution X\n",
    "X = np.dot(A_inv, B)\n",
    "\n",
    "print(\"Solution:\", X)"
   ]
  },
  {
   "cell_type": "code",
   "execution_count": 57,
   "id": "cb5309b5",
   "metadata": {},
   "outputs": [],
   "source": [
    "#26 Consider the dataset given below. Build a logistic regression model with polynomial features (degree 2) and determine the coefficient of the term x^2.\n",
    "\n",
    "# No of hours(x1)     No of classes(x2)         y(fail=0, pass=1)\n",
    "# 8.44                           3.0                                      1  \n",
    "# 3.21                           12.0                                      0  \n",
    "# 4.43                         8.0                                      0\n",
    "# 7.52                          5.0                                      1  \n",
    "# 2.88                           9.0                                      0\n",
    "# 1.55                           8.0                                       0\n",
    "\n",
    "\n",
    "# A -0.04\n",
    "# B 0.51\n",
    "# C -0.14\n",
    "# D 0.02  ans"
   ]
  },
  {
   "cell_type": "code",
   "execution_count": 59,
   "id": "3dc1106e",
   "metadata": {},
   "outputs": [],
   "source": [
    "# import numpy as np\n",
    "# import pandas as pd\n",
    "# from sklearn.preprocessing import PolynomialFeatures\n",
    "# from sklearn.linear_model import LogisticRegression\n",
    "\n",
    "# # Given data\n",
    "# data = {\n",
    "#     'No_of_hours': [8.44, 3.21, 4.43, 7.52, 2.88, 1.55],\n",
    "#     'No_of_classes': [3.0, 12.0, 8.0, 5.0, 9.0, 8.0],\n",
    "#     'y': [1, 0, 0, 1, 0, 0]\n",
    "# }\n",
    "# df = pd.DataFrame(data)\n",
    "\n",
    "# # Create polynomial features (degree 2)\n",
    "# poly = PolynomialFeatures(degree=2)\n",
    "# X_poly = poly.fit_transform(df[['No_of_hours', 'No_of_classes']])\n",
    "\n",
    "# # Fit logistic regression model\n",
    "# log_reg = LogisticRegression()\n",
    "# log_reg.fit(X_poly, df['y'])\n",
    "\n",
    "# # Coefficients of the logistic regression model\n",
    "# coefficients = log_reg.coef_\n",
    "\n",
    "# # Extract coefficient of the term x^2\n",
    "# index_x2 = poly.get_feature_names_out(['No_of_hours', 'No_of_classes']).index('x0^2')\n",
    "# coef_x2 = coefficients[0][index_x2]\n",
    "\n",
    "# print(\"Coefficient of the term x^2:\", coef_x2)\n"
   ]
  },
  {
   "cell_type": "code",
   "execution_count": 60,
   "id": "8c79251c",
   "metadata": {},
   "outputs": [],
   "source": [
    "#27 In a 'XYZ' Bank, the loan department needs to predict if the customer will apply for housing loan or not. Given past data of customers  \n",
    "\n",
    "# Determine the feature which will be the root node of the decision tree using gini index.  \n",
    "\n",
    "\n",
    "# Salary\n",
    "# Any previoyus loan\n",
    "# Education\n",
    "# Job"
   ]
  },
  {
   "cell_type": "code",
   "execution_count": 61,
   "id": "6da8903c",
   "metadata": {},
   "outputs": [
    {
     "name": "stdout",
     "output_type": "stream",
     "text": [
      "The feature which will be the root node of the decision tree using Gini index: any previous loan\n"
     ]
    }
   ],
   "source": [
    "data = {\n",
    "    'job': ['business', 'business', 'salaried','business','business','salaried','salaried','business','salaried','business','business','salaried','business','business','salaried','bussiness','salaried'],\n",
    "    'education': ['schooling','pg degree','ug degree','pg degree','schooling','ug degree','schooling','ug degree','ug degree','pg degree','pg degree','ug degree','schooling','pg degree','pg degree','schooling','schooling'],\n",
    "    'any previous loan': ['no', 'no', 'no','yes','no','yes','no','yes','no','yes','no','no','yes','no','no','yes','yes'],\n",
    "    'salary':['medium','medium','high','low','low','medium','low','medium','low','low','low','high','high','medium','high','high','medium'],\n",
    "    'housing loan':['no','yes','no','yes','yes','yes','yes','no','no','yes','yes','yes','yes','no','no','yes','no']\n",
    "}\n",
    "df = pd.DataFrame(data)\n",
    "\n",
    "# Calculate Gini index for each feature\n",
    "gini_index = {}\n",
    "for column in df.columns:\n",
    "    if column != 'target':\n",
    "        gini = 1\n",
    "        for value in df[column].unique():\n",
    "            prob = (df[column] == value).mean()\n",
    "            gini -= prob**2\n",
    "        gini_index[column] = gini\n",
    "\n",
    "# Select the feature with the lowest Gini index\n",
    "root_node = min(gini_index, key=gini_index.get)\n",
    "print(\"The feature which will be the root node of the decision tree using Gini index:\", root_node)"
   ]
  },
  {
   "cell_type": "code",
   "execution_count": 62,
   "id": "1a6f8d8e",
   "metadata": {},
   "outputs": [],
   "source": [
    "#28 Choose the correct statement among the following :  \n",
    "# \n",
    "# For n×n matrices A and B with B invertible, AB and BA need not have the same eigenvalues\n",
    "# Two diagonalizable matrices A and B with the same eigenvalues must be the same matrix.\n",
    "# Any matrix which is similar to a diagonal matrix need not be symmetric.\n",
    "# For n×n real symmetric matrices A and B with B invertible, AB and BA need not have the same eigenvalues.  ansss"
   ]
  },
  {
   "cell_type": "code",
   "execution_count": 63,
   "id": "13585771",
   "metadata": {},
   "outputs": [],
   "source": [
    "#29 Suppose that the eigenvalues of matrix A are -3, 9, 5. The determinant of (A^−1).T is ?  \n",
    "\n",
    "# -0.007  ans\n",
    "# -135.0\n",
    "# 11.0\n",
    "# 0.644"
   ]
  },
  {
   "cell_type": "code",
   "execution_count": 64,
   "id": "53c05796",
   "metadata": {},
   "outputs": [],
   "source": [
    "#30 State which of the following statements are True or False .\n",
    "\n",
    "#   I. A joint probability is the likelihood of two events occurring together at the same time\n",
    "#  II. Marginal probability is the probability of the occurrence of two events  \n",
    "\n",
    "# I - False, II - True\n",
    "# I - False, II - False\n",
    "# I - True, II - False  ans\n",
    "\n",
    "\n",
    "\n",
    "# I. A joint probability is the likelihood of two events occurring together at the same time. (True)\n",
    "# A joint probability refers to the probability of two or more events happening simultaneously. It tells you how likely it is for both events to occur together.\n",
    "# II. Marginal probability is the probability of the occurrence of two events. (False)\n",
    "# A marginal probability focuses on the probability of a single event regardless of the outcome of another event. It basically \"marginalizes\" the effect of other variables."
   ]
  },
  {
   "cell_type": "code",
   "execution_count": 65,
   "id": "5353be4b",
   "metadata": {},
   "outputs": [],
   "source": [
    "#31 Find the sum of eigenvalues of the matrix A \n"
   ]
  },
  {
   "cell_type": "code",
   "execution_count": 66,
   "id": "bef18eb8",
   "metadata": {},
   "outputs": [
    {
     "name": "stdout",
     "output_type": "stream",
     "text": [
      "Sum of eigenvalues: -5.0000000000000036\n"
     ]
    }
   ],
   "source": [
    "import numpy as np\n",
    "\n",
    "# Define the matrix A\n",
    "A = np.array([[-8, -1, 4, 6],\n",
    "              [-10, 1, 4, 6],\n",
    "              [-5, -1, 1, 6],\n",
    "              [-3, -1, 4, 1]])\n",
    "\n",
    "# Calculate the eigenvalues of A\n",
    "eigenvalues = np.linalg.eigvals(A)\n",
    "\n",
    "# Sum the eigenvalues\n",
    "sum_eigenvalues = np.sum(eigenvalues)\n",
    "\n",
    "print(\"Sum of eigenvalues:\", sum_eigenvalues)"
   ]
  },
  {
   "cell_type": "code",
   "execution_count": 67,
   "id": "dc9ecba4",
   "metadata": {},
   "outputs": [],
   "source": [
    "#32 if A is [2 2, 2 -3], then the value of |a^n - a^n-1| where n= 9 "
   ]
  },
  {
   "cell_type": "code",
   "execution_count": 68,
   "id": "834892ac",
   "metadata": {},
   "outputs": [
    {
     "name": "stdout",
     "output_type": "stream",
     "text": [
      "The value of |A^n - A^(n-1)|: 147016\n"
     ]
    }
   ],
   "source": [
    "import numpy as np\n",
    "\n",
    "# Define the matrix A\n",
    "A = np.array([[2, 2],\n",
    "              [2, -3]])\n",
    "\n",
    "# Calculate A^n and A^(n-1)\n",
    "n = 9\n",
    "An = np.linalg.matrix_power(A, n)\n",
    "An_minus_1 = np.linalg.matrix_power(A, n - 1)\n",
    "\n",
    "# Find the absolute difference\n",
    "absolute_difference = np.abs(An - An_minus_1)\n",
    "\n",
    "# Find the maximum absolute difference\n",
    "max_absolute_difference = np.max(absolute_difference)\n",
    "\n",
    "print(\"The value of |A^n - A^(n-1)|:\", max_absolute_difference)\n"
   ]
  },
  {
   "cell_type": "code",
   "execution_count": null,
   "id": "073fce33",
   "metadata": {},
   "outputs": [],
   "source": [
    "#33   When the following set of instructions are executed, how many times does the vowel “e” appear in the result? \n"
   ]
  },
  {
   "cell_type": "code",
   "execution_count": 72,
   "id": "f04e92a7",
   "metadata": {},
   "outputs": [
    {
     "name": "stdout",
     "output_type": "stream",
     "text": [
      "o\n",
      "u\n",
      "e\n",
      "e\n"
     ]
    }
   ],
   "source": [
    "word = 'occurrence'\n",
    "for ltr in range(len(word)):\n",
    "    if ltr % 3 == 0:\n",
    "        print(word[ltr])\n"
   ]
  },
  {
   "cell_type": "code",
   "execution_count": 73,
   "id": "473ab003",
   "metadata": {},
   "outputs": [],
   "source": [
    "#34 Which of the following python data structure is immutable?  \n",
    "\n",
    "# array\n",
    "# dictionary\n",
    "# tuple  ans\n",
    "# list\n"
   ]
  },
  {
   "cell_type": "code",
   "execution_count": 74,
   "id": "d640725c",
   "metadata": {},
   "outputs": [],
   "source": [
    "#35 A neuron in a neural netwrok has inputs 9,-8,1, -4 and the corresponding weights as -10, 3, -6, -4 . \n",
    "#The activation function is sigmoid. Determine the output of the neural network.  "
   ]
  },
  {
   "cell_type": "code",
   "execution_count": 75,
   "id": "2ed9d0f1",
   "metadata": {},
   "outputs": [
    {
     "name": "stdout",
     "output_type": "stream",
     "text": [
      "Output of the neural network: 6.813556821545298e-46\n"
     ]
    }
   ],
   "source": [
    "import math\n",
    "\n",
    "# Inputs and weights\n",
    "inputs = [9, -8, 1, -4]\n",
    "weights = [-10, 3, -6, -4]\n",
    "\n",
    "# Calculate the weighted sum\n",
    "z = sum(x * w for x, w in zip(inputs, weights))\n",
    "\n",
    "# Calculate the output using sigmoid activation function\n",
    "output = 1 / (1 + math.exp(-z))\n",
    "\n",
    "print(\"Output of the neural network:\", output)"
   ]
  },
  {
   "cell_type": "code",
   "execution_count": 77,
   "id": "aa5e4608",
   "metadata": {},
   "outputs": [],
   "source": [
    "#36Find the nullity of the matrix M"
   ]
  },
  {
   "cell_type": "code",
   "execution_count": 78,
   "id": "fbebab03",
   "metadata": {},
   "outputs": [
    {
     "name": "stdout",
     "output_type": "stream",
     "text": [
      "Nullity of the matrix M: [[2]]\n"
     ]
    }
   ],
   "source": [
    "import numpy as np\n",
    "\n",
    "# Define the matrix M\n",
    "M = np.array([[[[1, -1, 0, 1], [1, -7, 4, 3], [2, -20, 12, 8], [-2, 20, -12, -8]]]])\n",
    "\n",
    "# Calculate the rank of the matrix\n",
    "rank_M = np.linalg.matrix_rank(M)\n",
    "\n",
    "# Calculate the nullity of the matrix\n",
    "nullity_M = M.shape[-1] - rank_M\n",
    "\n",
    "print(\"Nullity of the matrix M:\", nullity_M)"
   ]
  },
  {
   "cell_type": "code",
   "execution_count": 79,
   "id": "d3bac397",
   "metadata": {},
   "outputs": [],
   "source": [
    " #37 A regression model with the following function y = 60 + 5.2x was built to understand the impact of humidity (x) on rainfall (y). The humidity this week is 30 more than the previous week. What is the predicted difference in rainfall?  "
   ]
  },
  {
   "cell_type": "code",
   "execution_count": 80,
   "id": "85d180f1",
   "metadata": {},
   "outputs": [
    {
     "name": "stdout",
     "output_type": "stream",
     "text": [
      "Predicted difference in rainfall: 156.0\n"
     ]
    }
   ],
   "source": [
    "# Coefficients of the regression model\n",
    "intercept = 60\n",
    "slope = 5.2\n",
    "\n",
    "# Humidity for the current week and previous week\n",
    "humidity_current = 30\n",
    "humidity_previous = humidity_current - 30\n",
    "\n",
    "# Predicted rainfall for the current week and previous week\n",
    "rainfall_current = intercept + slope * humidity_current\n",
    "rainfall_previous = intercept + slope * humidity_previous\n",
    "\n",
    "# Predicted difference in rainfall\n",
    "predicted_difference = rainfall_current - rainfall_previous\n",
    "\n",
    "print(\"Predicted difference in rainfall:\", predicted_difference)"
   ]
  },
  {
   "cell_type": "code",
   "execution_count": 82,
   "id": "fd0b1f88",
   "metadata": {},
   "outputs": [],
   "source": [
    "#38 What is the inverse of I - A for a given matrix A, if A^7 = 0 ?  \n",
    "\n",
    "# A\n",
    "# Inverse is not guaranteed to exist.\n",
    "# 0\n",
    "# I + A + A^2 + A^3 + .... + A^6     ans"
   ]
  },
  {
   "cell_type": "code",
   "execution_count": 83,
   "id": "f04bd893",
   "metadata": {},
   "outputs": [],
   "source": [
    "#39 Find the unit vector in the direction of vector v "
   ]
  },
  {
   "cell_type": "code",
   "execution_count": 84,
   "id": "5fa7b13a",
   "metadata": {},
   "outputs": [
    {
     "name": "stdout",
     "output_type": "stream",
     "text": [
      "Unit vector in the direction of v: [ 0.65653216  0.65653216 -0.26261287  0.26261287]\n"
     ]
    }
   ],
   "source": [
    "v = np.array([5, 5, -2, 2])\n",
    "\n",
    "# Calculate the magnitude of v\n",
    "magnitude_v = np.linalg.norm(v)\n",
    "\n",
    "# Calculate the unit vector\n",
    "unit_vector = v / magnitude_v\n",
    "\n",
    "print(\"Unit vector in the direction of v:\", unit_vector)"
   ]
  },
  {
   "cell_type": "code",
   "execution_count": 85,
   "id": "bf2629d7",
   "metadata": {},
   "outputs": [],
   "source": [
    "#40 The probability of two different events occurring at the same time is known as  \n",
    "\n",
    "# Marginal probability\n",
    "# Conditional probability\n",
    "# Marginal and Joint probability\n",
    "# Joint probability        anss"
   ]
  },
  {
   "cell_type": "code",
   "execution_count": null,
   "id": "6481ce73",
   "metadata": {},
   "outputs": [],
   "source": [
    "#41 The correlation between variables can be visually represented using  \n",
    "\n",
    "# Line plot\n",
    "# Histogram\n",
    "# Bar plot\n",
    "# Scatter plot  ans"
   ]
  },
  {
   "cell_type": "code",
   "execution_count": 89,
   "id": "f04f4853",
   "metadata": {},
   "outputs": [
    {
     "name": "stdout",
     "output_type": "stream",
     "text": [
      "scitamehtaMsilaitnesseniynamsdleif\n"
     ]
    }
   ],
   "source": [
    "# What will be the output for the following code snippet?  \n",
    "\n",
    "\n",
    "final=''\n",
    "x='Mathematics is essential in many fields'\n",
    "x_upd=x.split(' ')\n",
    "x_upd=[elem[::-1]for elem in x_upd]\n",
    "\n",
    "for elem in x_upd:\n",
    "    final += elem+''\n",
    "print(final)"
   ]
  },
  {
   "cell_type": "code",
   "execution_count": null,
   "id": "3cf35a4d",
   "metadata": {},
   "outputs": [],
   "source": []
  }
 ],
 "metadata": {
  "kernelspec": {
   "display_name": "Python 3 (ipykernel)",
   "language": "python",
   "name": "python3"
  },
  "language_info": {
   "codemirror_mode": {
    "name": "ipython",
    "version": 3
   },
   "file_extension": ".py",
   "mimetype": "text/x-python",
   "name": "python",
   "nbconvert_exporter": "python",
   "pygments_lexer": "ipython3",
   "version": "3.11.5"
  }
 },
 "nbformat": 4,
 "nbformat_minor": 5
}
