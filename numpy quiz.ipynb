{
 "cells": [
  {
   "cell_type": "code",
   "execution_count": 1,
   "id": "6cad8e68",
   "metadata": {},
   "outputs": [],
   "source": [
    "import numpy as np"
   ]
  },
  {
   "cell_type": "code",
   "execution_count": 5,
   "id": "a9d3b386",
   "metadata": {},
   "outputs": [],
   "source": [
    "# 1) For a given numpy array, how will you change the dimensions to 5 using the existing parameters in the numpy array. \n",
    "my_array = np.array([[[[1,3,4]]]])\n",
    "\n",
    "# numpy.array(my_array, ndmin=5)\n",
    "# numpy.array(my_array, ndim=5)\n",
    "# numpy.array(my_array, ndim=1)\n",
    "# numpy.array(my_array, ndim= my_array.ndmin + 1)\n",
    "\n",
    "\n"
   ]
  },
  {
   "cell_type": "code",
   "execution_count": 6,
   "id": "bdf41c61",
   "metadata": {},
   "outputs": [
    {
     "data": {
      "text/plain": [
       "array([[[[[1, 3, 4]]]]])"
      ]
     },
     "execution_count": 6,
     "metadata": {},
     "output_type": "execute_result"
    }
   ],
   "source": [
    "np.array(my_array, ndmin=5)"
   ]
  },
  {
   "cell_type": "code",
   "execution_count": 7,
   "id": "f1314f04",
   "metadata": {},
   "outputs": [
    {
     "data": {
      "text/plain": [
       "4"
      ]
     },
     "execution_count": 7,
     "metadata": {},
     "output_type": "execute_result"
    }
   ],
   "source": [
    "my_array.ndim"
   ]
  },
  {
   "cell_type": "code",
   "execution_count": null,
   "id": "50abb845",
   "metadata": {},
   "outputs": [],
   "source": [
    "# 2) For the given numpy arrays, Array1 and Array2, what will be the dot product for the same.\n",
    "# Array1 = array([[1, 2, 3], [4, 5, 6]]) Array2 = array([[2, 3],[3, 2]])\n",
    "\n",
    "# Keyerror\n",
    "# Valueerror\n",
    "# array([[ -9, 6, -1],[-12, 18, -7]])\n",
    "# None of the Above"
   ]
  },
  {
   "cell_type": "code",
   "execution_count": 9,
   "id": "066c97e0",
   "metadata": {},
   "outputs": [],
   "source": [
    "Array1 = np.array([[1, 2, 3], [4, 5, 6]])\n",
    "Array2 = np.array([[2, 3],[3, 2]])\n"
   ]
  },
  {
   "cell_type": "code",
   "execution_count": 11,
   "id": "85a2432f",
   "metadata": {},
   "outputs": [],
   "source": [
    "# np.dot(Array1, Array2)\n",
    "\n",
    "# ValueError: shapes (2,3) and (2,2) not aligned: 3 (dim 1) != 2 (dim 0)"
   ]
  },
  {
   "cell_type": "code",
   "execution_count": 13,
   "id": "534c5f12",
   "metadata": {},
   "outputs": [],
   "source": [
    "# 3) In a given numpy array, using the slicing operations print the reverse of the array. \n",
    "array = np.array([10,3,1,203,404,204,20,302,30,402,192])\n",
    "\n",
    "# array1[len(array1):0]\n",
    "# array1[-1:-len(array1)]\n",
    "# array[-1:0]\n",
    "# array[::-1]\n"
   ]
  },
  {
   "cell_type": "code",
   "execution_count": 14,
   "id": "7d29c0c6",
   "metadata": {},
   "outputs": [
    {
     "data": {
      "text/plain": [
       "array([192, 402,  30, 302,  20, 204, 404, 203,   1,   3,  10])"
      ]
     },
     "execution_count": 14,
     "metadata": {},
     "output_type": "execute_result"
    }
   ],
   "source": [
    "array[::-1]"
   ]
  },
  {
   "cell_type": "code",
   "execution_count": null,
   "id": "76fb4ec7",
   "metadata": {},
   "outputs": [],
   "source": [
    "# 4) What is the output of the below code:  a = [[1, 0], [0, 1]]  b = [[4, 1], [2, 2]]  np.dot(a, b)\n",
    "\n",
    "# None of the above\n",
    "# array([[4, 1],[2, 2]])\n",
    "# array([[1, 1], [2, 2]])\n",
    "# array([[4, 4],[2, 4]])\n"
   ]
  },
  {
   "cell_type": "code",
   "execution_count": 15,
   "id": "9f9137e7",
   "metadata": {},
   "outputs": [],
   "source": [
    "a = [[1,0],[0,1]]\n",
    "b = [[4,1],[2,2]]"
   ]
  },
  {
   "cell_type": "code",
   "execution_count": 16,
   "id": "3f29d471",
   "metadata": {},
   "outputs": [
    {
     "data": {
      "text/plain": [
       "array([[4, 1],\n",
       "       [2, 2]])"
      ]
     },
     "execution_count": 16,
     "metadata": {},
     "output_type": "execute_result"
    }
   ],
   "source": [
    "np.dot(a,b)"
   ]
  },
  {
   "cell_type": "code",
   "execution_count": 2,
   "id": "fd7243bc",
   "metadata": {},
   "outputs": [],
   "source": [
    "# 5) What is the output of the following code:         #######################################3*4*5*6#######################\n",
    "# a = np.arange(3*4*5*6).reshape((3,4,5,6)) \n",
    "# b = np.arange(3*4*5*6)[::-1].reshape((5,4,6,3)) \n",
    "# np.dot(a, b)[2,3,2,1,2,2]\n",
    "\n",
    "# 499128\n",
    "# Value Error\n",
    "# 909128\n",
    "# 399118"
   ]
  },
  {
   "cell_type": "code",
   "execution_count": 3,
   "id": "8e82fcd1",
   "metadata": {},
   "outputs": [],
   "source": [
    "a = np.arange(3*4*5*6).reshape((3,4,5,6))\n",
    "b = np.arange(3*4*5*6)[::-1].reshape((5,4,6,3))"
   ]
  },
  {
   "cell_type": "code",
   "execution_count": 5,
   "id": "feef1bdc",
   "metadata": {},
   "outputs": [
    {
     "name": "stdout",
     "output_type": "stream",
     "text": [
      "[[[[  0   1   2   3   4   5]\n",
      "   [  6   7   8   9  10  11]\n",
      "   [ 12  13  14  15  16  17]\n",
      "   [ 18  19  20  21  22  23]\n",
      "   [ 24  25  26  27  28  29]]\n",
      "\n",
      "  [[ 30  31  32  33  34  35]\n",
      "   [ 36  37  38  39  40  41]\n",
      "   [ 42  43  44  45  46  47]\n",
      "   [ 48  49  50  51  52  53]\n",
      "   [ 54  55  56  57  58  59]]\n",
      "\n",
      "  [[ 60  61  62  63  64  65]\n",
      "   [ 66  67  68  69  70  71]\n",
      "   [ 72  73  74  75  76  77]\n",
      "   [ 78  79  80  81  82  83]\n",
      "   [ 84  85  86  87  88  89]]\n",
      "\n",
      "  [[ 90  91  92  93  94  95]\n",
      "   [ 96  97  98  99 100 101]\n",
      "   [102 103 104 105 106 107]\n",
      "   [108 109 110 111 112 113]\n",
      "   [114 115 116 117 118 119]]]\n",
      "\n",
      "\n",
      " [[[120 121 122 123 124 125]\n",
      "   [126 127 128 129 130 131]\n",
      "   [132 133 134 135 136 137]\n",
      "   [138 139 140 141 142 143]\n",
      "   [144 145 146 147 148 149]]\n",
      "\n",
      "  [[150 151 152 153 154 155]\n",
      "   [156 157 158 159 160 161]\n",
      "   [162 163 164 165 166 167]\n",
      "   [168 169 170 171 172 173]\n",
      "   [174 175 176 177 178 179]]\n",
      "\n",
      "  [[180 181 182 183 184 185]\n",
      "   [186 187 188 189 190 191]\n",
      "   [192 193 194 195 196 197]\n",
      "   [198 199 200 201 202 203]\n",
      "   [204 205 206 207 208 209]]\n",
      "\n",
      "  [[210 211 212 213 214 215]\n",
      "   [216 217 218 219 220 221]\n",
      "   [222 223 224 225 226 227]\n",
      "   [228 229 230 231 232 233]\n",
      "   [234 235 236 237 238 239]]]\n",
      "\n",
      "\n",
      " [[[240 241 242 243 244 245]\n",
      "   [246 247 248 249 250 251]\n",
      "   [252 253 254 255 256 257]\n",
      "   [258 259 260 261 262 263]\n",
      "   [264 265 266 267 268 269]]\n",
      "\n",
      "  [[270 271 272 273 274 275]\n",
      "   [276 277 278 279 280 281]\n",
      "   [282 283 284 285 286 287]\n",
      "   [288 289 290 291 292 293]\n",
      "   [294 295 296 297 298 299]]\n",
      "\n",
      "  [[300 301 302 303 304 305]\n",
      "   [306 307 308 309 310 311]\n",
      "   [312 313 314 315 316 317]\n",
      "   [318 319 320 321 322 323]\n",
      "   [324 325 326 327 328 329]]\n",
      "\n",
      "  [[330 331 332 333 334 335]\n",
      "   [336 337 338 339 340 341]\n",
      "   [342 343 344 345 346 347]\n",
      "   [348 349 350 351 352 353]\n",
      "   [354 355 356 357 358 359]]]]\n"
     ]
    }
   ],
   "source": [
    "print(a)"
   ]
  },
  {
   "cell_type": "code",
   "execution_count": 4,
   "id": "cf636f64",
   "metadata": {},
   "outputs": [
    {
     "data": {
      "text/plain": [
       "499128"
      ]
     },
     "execution_count": 4,
     "metadata": {},
     "output_type": "execute_result"
    }
   ],
   "source": [
    "np.dot(a, b)[2,3,2,1,2,2]"
   ]
  },
  {
   "cell_type": "code",
   "execution_count": null,
   "id": "675c740e",
   "metadata": {},
   "outputs": [],
   "source": [
    "# 6) What will be output for the following code? import numpy as np a = np.array([3, 7, 32], dtype = complex) print(a)\n",
    "\n",
    "# [ 3.0+0.j 7.0+0.j 32.0+0.j]\n",
    "# [ 3.+0.j 7.+0.j 32.+0.j]\n",
    "# Error\n",
    "# [ 3.+0.k 7.+0.j 32.+0.l]\n"
   ]
  },
  {
   "cell_type": "code",
   "execution_count": 19,
   "id": "e19f651f",
   "metadata": {},
   "outputs": [
    {
     "name": "stdout",
     "output_type": "stream",
     "text": [
      "[ 3.+0.j  7.+0.j 32.+0.j]\n"
     ]
    }
   ],
   "source": [
    "a = np.array([3, 7, 32], dtype=complex)\n",
    "print(a)\n"
   ]
  },
  {
   "cell_type": "code",
   "execution_count": null,
   "id": "4da29ba7",
   "metadata": {},
   "outputs": [],
   "source": [
    "# 7) How to replace all values greater than a given value with a given cutoff? \n",
    "# For example: In array ‘ar1’, replace all values greater than 30 to 30 and less than 10 to 10.\n",
    "# Input: np.random.seed(100) ar1 = np.random.uniform(1,50, 20)\n",
    "\n",
    "# None of the above              ##############################################clip-################\n",
    "# np.clip(a, a_min=10, a_max=30)\n",
    "# np.where(a < 10, 10, np.where(a > 30, 30, a))\n",
    "# Both of the above"
   ]
  },
  {
   "cell_type": "code",
   "execution_count": 20,
   "id": "8f90be1d",
   "metadata": {},
   "outputs": [],
   "source": [
    "np.random.seed(100) \n",
    "a = np.random.uniform(1,50, 20)"
   ]
  },
  {
   "cell_type": "code",
   "execution_count": 21,
   "id": "669f744a",
   "metadata": {},
   "outputs": [
    {
     "data": {
      "text/plain": [
       "array([27.62684215, 14.64009987, 21.80136195, 30.        , 10.        ,\n",
       "       10.        , 30.        , 30.        , 10.        , 29.17957314,\n",
       "       30.        , 11.25090398, 10.08108276, 10.        , 11.76517714,\n",
       "       30.        , 30.        , 10.        , 30.        , 14.42961361])"
      ]
     },
     "execution_count": 21,
     "metadata": {},
     "output_type": "execute_result"
    }
   ],
   "source": [
    "np.clip(a, a_min=10, a_max=30)\n"
   ]
  },
  {
   "cell_type": "code",
   "execution_count": 7,
   "id": "33561521",
   "metadata": {},
   "outputs": [
    {
     "data": {
      "text/plain": [
       "array([2, 2, 3, 4, 4])"
      ]
     },
     "execution_count": 7,
     "metadata": {},
     "output_type": "execute_result"
    }
   ],
   "source": [
    "a = np.array([1,2,3,4,5])\n",
    "np.clip(a,2,4)"
   ]
  },
  {
   "cell_type": "code",
   "execution_count": null,
   "id": "08695f57",
   "metadata": {},
   "outputs": [],
   "source": [
    "# 8) For the given arrays, array1 and array2, if we stack the two arrays row wise, what will be the output? \n",
    "# array1 = np.array([[1,2],[3,4]]) array2 = np.array([[1,2],[3,4],[5,6],[7,8],[9,10]])\n",
    "\n",
    "# None of the above\n",
    "# array([[ 1, 2],[ 3, 4],[ 1, 2],[ 3, 4],[ 5, 6],[ 7, 8],[ 9, 10]]) \n",
    "# array([[ 1, 2, 3, 4],[ 1, 2, 3, 4],[ 5, 6, 7, 8],[ 9, 10]])\n",
    "# array([[ 1, 2, 3, 4, 1], [2, 3, 4, 5, 6],[ 7, 8, 9, 10]])"
   ]
  },
  {
   "cell_type": "code",
   "execution_count": 22,
   "id": "d21b90c8",
   "metadata": {},
   "outputs": [],
   "source": [
    "array1 = np.array([[1,2],[3,4]])\n",
    "array2 = np.array([[1,2],[3,4],[5,6],[7,8],[9,10]])"
   ]
  },
  {
   "cell_type": "code",
   "execution_count": 23,
   "id": "fbc7b934",
   "metadata": {},
   "outputs": [
    {
     "data": {
      "text/plain": [
       "array([[ 1,  2],\n",
       "       [ 3,  4],\n",
       "       [ 1,  2],\n",
       "       [ 3,  4],\n",
       "       [ 5,  6],\n",
       "       [ 7,  8],\n",
       "       [ 9, 10]])"
      ]
     },
     "execution_count": 23,
     "metadata": {},
     "output_type": "execute_result"
    }
   ],
   "source": [
    "np.vstack((array1, array2))"
   ]
  },
  {
   "cell_type": "code",
   "execution_count": null,
   "id": "df1becb4",
   "metadata": {},
   "outputs": [],
   "source": [
    "# 9) For a given numpy array, how are you going to insert a new value at the specified position? \n",
    "# array = np.array([10,3,1,203,404,204,20,302,30,402,192])  \n",
    "# Elem_to_be_inserted = [1,2,3,4]  The position to be inserted at = before 404 \n",
    "\n",
    "# numpy.insert(array1, np.where(404), array2)\n",
    "# numpy.insert(array2, np.index(404), array2)\n",
    "# numpy.insert(array2, 404, array2)\n",
    "# numpy.insert(array1, 4, array2)"
   ]
  },
  {
   "cell_type": "code",
   "execution_count": 26,
   "id": "49ca12f5",
   "metadata": {},
   "outputs": [],
   "source": [
    "array = np.array([10,3,1,203,404,204,20,302,30,402,192])\n",
    "Elem_to_be_inserted = [1,2,3,4]\n"
   ]
  },
  {
   "cell_type": "code",
   "execution_count": 27,
   "id": "bedf5bcf",
   "metadata": {},
   "outputs": [
    {
     "data": {
      "text/plain": [
       "array([ 10,   3,   1, 203,   1,   2,   3,   4, 404, 204,  20, 302,  30,\n",
       "       402, 192])"
      ]
     },
     "execution_count": 27,
     "metadata": {},
     "output_type": "execute_result"
    }
   ],
   "source": [
    "np.insert(array, 4, Elem_to_be_inserted)\n"
   ]
  },
  {
   "cell_type": "code",
   "execution_count": null,
   "id": "d9cbc5b8",
   "metadata": {},
   "outputs": [],
   "source": [
    "# 10) Create a 3x3 matrix using numpy, and all the values of the matrix must be a constant k.\n",
    "\n",
    "# numpy.ones(3,3)\n",
    "# numpy.random.random((3,3), ‘k’)\n",
    "# numpy.eye(‘k’)\n",
    "# numpy.full((3,3), ‘k’)\n"
   ]
  },
  {
   "cell_type": "code",
   "execution_count": 31,
   "id": "f843ec90",
   "metadata": {},
   "outputs": [
    {
     "data": {
      "text/plain": [
       "array([['k', 'k', 'k'],\n",
       "       ['k', 'k', 'k'],\n",
       "       ['k', 'k', 'k']], dtype='<U1')"
      ]
     },
     "execution_count": 31,
     "metadata": {},
     "output_type": "execute_result"
    }
   ],
   "source": [
    "np.full((3,3),'k')\n"
   ]
  },
  {
   "cell_type": "code",
   "execution_count": null,
   "id": "3fdd15df",
   "metadata": {},
   "outputs": [],
   "source": [
    "# 11) For the given python code that implements bubble sort, what will be the output for the given numpy array. \n",
    "# def bub_sort(array): for i in range(0, len(array)): for j in range(0, len(array) - i - 1): if array[j] < array[j + 1]: \n",
    "# temp = array[j] array[j] = array[j + 1] array[j+1] = temp return array my_array = numpy.array([20,14,25,16,45,60,12,9])\n",
    "\n",
    "# array([ 9, 12, 14, 16, 20, 25, 45, 60])\n",
    "# array([60, 45, 25, 20, 16, 14, 12, 9])\n",
    "# array([60, 45, 20, 25, 16, 14, 12, 9])\n",
    "# array([ 9, 12, 16, 14, 20, 25, 45, 60])\n",
    "                                                   #####################bubble sort#######################"
   ]
  },
  {
   "cell_type": "code",
   "execution_count": 32,
   "id": "9e7e6fbb",
   "metadata": {},
   "outputs": [
    {
     "data": {
      "text/plain": [
       "array([60, 45, 25, 20, 16, 14, 12,  9])"
      ]
     },
     "execution_count": 32,
     "metadata": {},
     "output_type": "execute_result"
    }
   ],
   "source": [
    "def bub_sort(array):\n",
    "    for i in range(0, len(array)): # range bcm 0 to 8\n",
    "        for j in range(0, len(array) - i - 1):\n",
    "            if array[j] < array[j + 1]:\n",
    "                temp = array[j]\n",
    "                array[j] = array[j + 1]\n",
    "                array[j + 1] = temp\n",
    "    return array\n",
    "\n",
    "my_array = np.array([20,14,25,16,45,60,12,9])\n",
    "bub_sort(my_array)\n"
   ]
  },
  {
   "cell_type": "code",
   "execution_count": null,
   "id": "acc55f37",
   "metadata": {},
   "outputs": [],
   "source": [
    "# 12) For a given numpy array of the shape (2,5) ,How will you reshape the array in the shape (5,2).\n",
    "\n",
    "# numpy.reshape(5,2)\n",
    "# numpy.reshape((2,5) == (5,2))\n",
    "# numpy.shape(5,2)\n",
    "# numpy.arange(5,2)"
   ]
  },
  {
   "cell_type": "code",
   "execution_count": 37,
   "id": "e6b90cc8",
   "metadata": {},
   "outputs": [],
   "source": [
    "my_array = np.array([[20,14,25,16,45],[56,60,12,9,7]])"
   ]
  },
  {
   "cell_type": "code",
   "execution_count": 38,
   "id": "ed48f5f0",
   "metadata": {},
   "outputs": [
    {
     "data": {
      "text/plain": [
       "(2, 5)"
      ]
     },
     "execution_count": 38,
     "metadata": {},
     "output_type": "execute_result"
    }
   ],
   "source": [
    "my_array.shape"
   ]
  },
  {
   "cell_type": "code",
   "execution_count": 39,
   "id": "fc823ce1",
   "metadata": {},
   "outputs": [
    {
     "data": {
      "text/plain": [
       "array([[20, 14],\n",
       "       [25, 16],\n",
       "       [45, 56],\n",
       "       [60, 12],\n",
       "       [ 9,  7]])"
      ]
     },
     "execution_count": 39,
     "metadata": {},
     "output_type": "execute_result"
    }
   ],
   "source": [
    "my_array.reshape(5,2)"
   ]
  },
  {
   "cell_type": "code",
   "execution_count": null,
   "id": "cfacffea",
   "metadata": {},
   "outputs": [],
   "source": [
    "# 13) What will be the shape of the sample numpy array after flattening it? Sample = numpy.array([[1,2],[3,4],[5,6],[7,8]])\n",
    "\n",
    "# array([1, 2, 3, 4, 5, 6, 7, 8])\n",
    "# None of the above               #############################flattening###############################\n",
    "# array([1, 2], [3, 4], [5, 6], [7, 8])\n",
    "# array([1], [2], [3], [4], [5], [6], [7], [8])\n"
   ]
  },
  {
   "cell_type": "code",
   "execution_count": 41,
   "id": "f4e86e4e",
   "metadata": {},
   "outputs": [
    {
     "data": {
      "text/plain": [
       "array([1, 2, 3, 4, 5, 6, 7, 8])"
      ]
     },
     "execution_count": 41,
     "metadata": {},
     "output_type": "execute_result"
    }
   ],
   "source": [
    "Sample = np.array([[1,2],[3,4],[5,6],[7,8]])\n",
    "Sample.flatten()\n",
    "# it will become 1 dimension arr"
   ]
  },
  {
   "cell_type": "code",
   "execution_count": null,
   "id": "def1b835",
   "metadata": {},
   "outputs": [],
   "source": [
    "# 14) In the given array, how can we get the following output - array([2, 5, 8]). \n",
    "# Sample = numpy.array([[1,2,3],[4,5,6],[7,8,9],[10,11,12],[13,14,15]])\n",
    "\n",
    "# array[0:3][1]\n",
    "# None of the above\n",
    "# array[[0:3], [1]]\n",
    "# array[0:3, 1]"
   ]
  },
  {
   "cell_type": "code",
   "execution_count": 42,
   "id": "1d89aa82",
   "metadata": {},
   "outputs": [
    {
     "data": {
      "text/plain": [
       "array([2, 5, 8])"
      ]
     },
     "execution_count": 42,
     "metadata": {},
     "output_type": "execute_result"
    }
   ],
   "source": [
    "arr = np.array([[1,2,3],[4,5,6],[7,8,9],[10,11,12],[13,14,15]])\n",
    "\n",
    "\n",
    "arr[0:3, 1]\n"
   ]
  },
  {
   "cell_type": "code",
   "execution_count": null,
   "id": "2b49bb14",
   "metadata": {},
   "outputs": [],
   "source": [
    "# 15) Given two numpy arrays, we will perform Horizontally stack the given arrays array1 and array2. \n",
    "# What will be the output of the above operation? The sample arrays are as follows. \n",
    "# Array1 = numpy.arange(20,2) Array2 = numpy.array([1,2,3,4,5,6,7,8,9,10])\n",
    "\n",
    "# array([ 1, 3, 5, 7, 9, 11, 13, 15, 17, 19, 1, 2, 3, 4, 5, 6, 7, 8, 9, 10])\n",
    "# array([[ 1, 3, 5, 7, 9, 11, 13, 15, 17, 19], [1, 2, 3, 4, 5, 6, 7, 8, 9, 10]])\n",
    "# array([[ 1, 3, 5, 7, 9, 11, 13, 15, 17, 19], [1, 2, 3, 4, 5, 6, 7, 8, 9, 10]])\n",
    "# None of the above"
   ]
  },
  {
   "cell_type": "code",
   "execution_count": 11,
   "id": "f9e22460",
   "metadata": {},
   "outputs": [],
   "source": [
    "Arr1 = np.arange(1,20,2)       #############################(arange(20,2))##################\n",
    "Arr2 = np.array([1,2,3,4,5,6,7,8,9,10])\n"
   ]
  },
  {
   "cell_type": "code",
   "execution_count": 12,
   "id": "49be5768",
   "metadata": {},
   "outputs": [
    {
     "name": "stdout",
     "output_type": "stream",
     "text": [
      "[ 1  3  5  7  9 11 13 15 17 19]\n"
     ]
    }
   ],
   "source": [
    "print(Arr1)"
   ]
  },
  {
   "cell_type": "code",
   "execution_count": 47,
   "id": "726bc741",
   "metadata": {},
   "outputs": [
    {
     "data": {
      "text/plain": [
       "array([ 1,  2,  3,  4,  5,  6,  7,  8,  9, 10])"
      ]
     },
     "execution_count": 47,
     "metadata": {},
     "output_type": "execute_result"
    }
   ],
   "source": [
    "np.hstack((Arr1, Arr2))"
   ]
  },
  {
   "cell_type": "code",
   "execution_count": null,
   "id": "e7aedba0",
   "metadata": {},
   "outputs": [],
   "source": [
    "# 16) For the given arrays, array1 and array2, if we stack the two arrays column wise, what will be the output? \n",
    "# array1 = np.array([[1,2],[3,4]]) array2 = np.array([[5,6],[7,8]])\n",
    "\n",
    "# array([[1, 2, 5, 6 ,3, 4, 7, 8]])\n",
    "# array([[1, 2, 5, 6],[3, 4, 7, 8]])\n",
    "# array([[1, 2], [5, 6],[3, 4], [7, 8]])\n",
    "# None of the above"
   ]
  },
  {
   "cell_type": "code",
   "execution_count": 49,
   "id": "3597171e",
   "metadata": {},
   "outputs": [],
   "source": [
    "array1 = np.array([[1,2],[3,4]])\n",
    "array2 = np.array([[5,6],[7,8]])\n"
   ]
  },
  {
   "cell_type": "code",
   "execution_count": 50,
   "id": "10b2457e",
   "metadata": {},
   "outputs": [
    {
     "data": {
      "text/plain": [
       "array([[1, 2, 5, 6],\n",
       "       [3, 4, 7, 8]])"
      ]
     },
     "execution_count": 50,
     "metadata": {},
     "output_type": "execute_result"
    }
   ],
   "source": [
    "np.column_stack((array1, array2))"
   ]
  },
  {
   "cell_type": "code",
   "execution_count": null,
   "id": "de1e8895",
   "metadata": {},
   "outputs": [],
   "source": [
    "# 17) Given two vectors A and B, find the cross product between the two vectors. \n",
    "# A = numpy.array([[4],[12],[29]]) B = numpy.array([[13],[21],[4]])\n",
    "                                  ############# Cross vector ##########\n",
    "# array([[-561 360 -72]])\n",
    "# array([[-560 360 -71]])\n",
    "# array([[-561 361 -72]])\n",
    "# array([[-555 361 -72]])"
   ]
  },
  {
   "cell_type": "code",
   "execution_count": 51,
   "id": "96ccf044",
   "metadata": {},
   "outputs": [],
   "source": [
    "A = np.array([[4],[12],[29]])\n",
    "B = np.array([[13],[21],[4]])\n"
   ]
  },
  {
   "cell_type": "code",
   "execution_count": 52,
   "id": "5e496937",
   "metadata": {},
   "outputs": [
    {
     "data": {
      "text/plain": [
       "array([-561,  361,  -72])"
      ]
     },
     "execution_count": 52,
     "metadata": {},
     "output_type": "execute_result"
    }
   ],
   "source": [
    "np.cross(A.flatten(), B.flatten())"
   ]
  },
  {
   "cell_type": "code",
   "execution_count": null,
   "id": "81cbf482",
   "metadata": {},
   "outputs": [],
   "source": [
    "# 18) Given two vectors A and B, find the correlation coefficient of the following vectors.\n",
    "# A = numpy.array([1,3,5,7,9,11,13,15,17,19,21,23,25]) B = numpy.array([0,2,4,6,8,10,12,14,16,18,20, 22, 24])\n",
    "                              ################## corr coeff vector ################\n",
    "# array([[1., 1.],[0., 1.]])\n",
    "# array([[0., 1.],[1., 1.]])\n",
    "# array([[1., 0.],[1., 1.]])\n",
    "# array([[1., 1.],[1., 1.]])"
   ]
  },
  {
   "cell_type": "code",
   "execution_count": 53,
   "id": "fdfbd5b9",
   "metadata": {},
   "outputs": [],
   "source": [
    "A = np.array([1,3,5,7,9,11,13,15,17,19,21,23,25])\n",
    "B = np.array([0,2,4,6,8,10,12,14,16,18,20, 22, 24])\n"
   ]
  },
  {
   "cell_type": "code",
   "execution_count": 54,
   "id": "feddc217",
   "metadata": {},
   "outputs": [
    {
     "data": {
      "text/plain": [
       "array([[1., 1.],\n",
       "       [1., 1.]])"
      ]
     },
     "execution_count": 54,
     "metadata": {},
     "output_type": "execute_result"
    }
   ],
   "source": [
    "np.corrcoef(A, B)"
   ]
  },
  {
   "cell_type": "code",
   "execution_count": null,
   "id": "11f94b7d",
   "metadata": {},
   "outputs": [],
   "source": [
    "# 19) Create a nested numpy array from a given dictionary data. \n",
    "# sample = {1: [1,2], 2: [[1],[2]], 3: [[1,2], [3,4], [4,5]], 4: [1], 5: [1,2,3,4,5]}\n",
    "                                                            ####### comp ###############\n",
    "# array([[1, list([1, 2])], [2, list([[1], [2]])], [3, list([[1, 2], [3, 4], [4, 5]])], [4, list([1])], [5, list([1, 2, 3, 4, 5])]], dtype=object)\n",
    "# array([[1, list([1, 2])], [2, list([[1], [2]])], [3, list([[1, 2], [1, 4], [4, 5]])], [4, list([1])], [5, list([1, 2, 3, 4, 5])]], dtype=object)\n",
    "# array([[1, list([1, 1])], [2, list([[1], [2]])], [3, list([[1, 2], [3, 4], [4, 5]])], [4, list([1])], [5, list([1, 2, 3, 4, 5])]], dtype=object)\n",
    "# array([[1, list([1, 2])], [2, list([[1], [2]])], [3, list([[1, 2], [3, 4], [4, 5]])], [4, list([1])], [5, list([1, 2, 3, 10, 5])]], dtype=object)"
   ]
  },
  {
   "cell_type": "code",
   "execution_count": 14,
   "id": "58c7b35a",
   "metadata": {},
   "outputs": [
    {
     "data": {
      "text/plain": [
       "array([[1, list([1, 2])],\n",
       "       [2, list([[1], [2]])],\n",
       "       [3, list([[1, 2], [3, 4], [4, 5]])],\n",
       "       [4, list([1])],\n",
       "       [5, list([1, 2, 3, 4, 5])]], dtype=object)"
      ]
     },
     "execution_count": 14,
     "metadata": {},
     "output_type": "execute_result"
    }
   ],
   "source": [
    "sample = {1: [1,2], 2: [[1],[2]], 3: [[1,2], [3,4], [4,5]], 4: [1], 5: [1,2,3,4,5]}\n",
    "np.array(list(sample.items()), dtype=object)\n",
    "#np.array(list(sample), dtype=object)"
   ]
  },
  {
   "cell_type": "code",
   "execution_count": 58,
   "id": "4e5131b6",
   "metadata": {},
   "outputs": [],
   "source": [
    "# 20) A 2-dimensional array with 3 rows and 3 columns containing random numbers from 1 to 9 is given as\n",
    "# arr1= np.array([[3,2,1],[6,4,5],[8,7,9]])\n",
    "# Find the difference between the maximum element across the columns and the minimum element across the rows.\n",
    "                              \n",
    "# [8 3 2]\n",
    "# [7 3 1]\n",
    "# [7 3 2]\n",
    "# [7 1 2]"
   ]
  },
  {
   "cell_type": "code",
   "execution_count": 63,
   "id": "6ced6298",
   "metadata": {},
   "outputs": [
    {
     "data": {
      "text/plain": [
       "array([7, 3, 2])"
      ]
     },
     "execution_count": 63,
     "metadata": {},
     "output_type": "execute_result"
    }
   ],
   "source": [
    "arr1 = np.array([[3,2,1],[6,4,5],[8,7,9]])\n",
    "np.max(arr1, axis=0) - np.min(arr1, axis=1)\n"
   ]
  },
  {
   "cell_type": "code",
   "execution_count": 64,
   "id": "47e32c6d",
   "metadata": {},
   "outputs": [],
   "source": [
    "# axis = 0 indicates across columns\n",
    "# axis = 1 indicates across rows"
   ]
  },
  {
   "cell_type": "code",
   "execution_count": null,
   "id": "f38e0594",
   "metadata": {},
   "outputs": [],
   "source": []
  }
 ],
 "metadata": {
  "kernelspec": {
   "display_name": "Python 3 (ipykernel)",
   "language": "python",
   "name": "python3"
  },
  "language_info": {
   "codemirror_mode": {
    "name": "ipython",
    "version": 3
   },
   "file_extension": ".py",
   "mimetype": "text/x-python",
   "name": "python",
   "nbconvert_exporter": "python",
   "pygments_lexer": "ipython3",
   "version": "3.11.5"
  }
 },
 "nbformat": 4,
 "nbformat_minor": 5
}
