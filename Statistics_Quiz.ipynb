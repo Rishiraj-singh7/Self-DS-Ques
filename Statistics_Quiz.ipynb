{
 "cells": [
  {
   "cell_type": "code",
   "execution_count": 3,
   "id": "341d2b65",
   "metadata": {},
   "outputs": [],
   "source": [
    "import numpy as np"
   ]
  },
  {
   "cell_type": "code",
   "execution_count": 2,
   "id": "fe5bab84",
   "metadata": {},
   "outputs": [
    {
     "name": "stdout",
     "output_type": "stream",
     "text": [
      "Standard deviation: 28.49491182649983\n",
      "Variance: 811.9599999999999\n"
     ]
    }
   ],
   "source": [
    "\n",
    "# 1) Given a sample, find the standard deviation and variance of the same. \n",
    "#Sample = [42 61 39 70 8 30 52 28 95 86 35 77 80 86 1 84 90 57 45 6 1 56 60 83 24 63 93 59 92 53]\n",
    "# 28.49, 811.95\n",
    "# 28.94, 819.15\n",
    "# 24.89, 811.59\n",
    "# 28.44, 800.49\n",
    "\n",
    "\n",
    "sample = np.array([42, 61, 39, 70, 8, 30, 52, 28, 95, 86, 35, 77, 80, 86, 1, 84, 90, 57, 45, 6, 1, 56, 60, 83, 24, 63, 93, 59, 92, 53])\n",
    "std_dev = np.std(sample)\n",
    "variance = np.var(sample)\n",
    "print(\"Standard deviation:\", std_dev)\n",
    "print(\"Variance:\", variance)\n"
   ]
  },
  {
   "cell_type": "code",
   "execution_count": 4,
   "id": "6bfa80c6",
   "metadata": {},
   "outputs": [
    {
     "name": "stdout",
     "output_type": "stream",
     "text": [
      "Range: 87\n",
      "IQR: [38.25]\n"
     ]
    }
   ],
   "source": [
    "# 2) For a given unsorted array, find the range of the array, and the Interquartile range(IQR) of the array.\n",
    "#array = numpy.array([17, 27, 80, 39, 72, 95, 52, 85, 8, 64, 36, 15, 62, 76, 66, 67, 59, 92])\n",
    "# 95, 26.25\n",
    "# 87, 38.25\n",
    "# 87, 46.25\n",
    "# 95, 35.28\n",
    "\n",
    "array = np.array([17, 27, 80, 39, 72, 95, 52, 85, 8, 64, 36, 15, 62, 76, 66, 67, 59, 92])\n",
    "\n",
    "# Calculate range and IQR\n",
    "range_val = np.ptp(array)\n",
    "q3 = np.percentile(array, [75])\n",
    "q1 = np.percentile(array, [25])\n",
    "iqr = q3 - q1\n",
    "\n",
    "print(f\"Range: {range_val}\")\n",
    "print(f\"IQR: {(iqr)}\")\n"
   ]
  },
  {
   "cell_type": "code",
   "execution_count": null,
   "id": "65910272",
   "metadata": {},
   "outputs": [],
   "source": [
    "# 3) In a skewed distribution, If the mean and median of a sample is 56, and 63 and the mode of the same is 65. \n",
    "#The distribution graph of the sample will be ___?\n",
    "# Positively Skewed\n",
    "# Unskewed\n",
    "# Negatively Skewed\n",
    "# None of the Above\n",
    "\n",
    "#ans negative skewed"
   ]
  },
  {
   "cell_type": "code",
   "execution_count": 5,
   "id": "397c1973",
   "metadata": {},
   "outputs": [
    {
     "name": "stdout",
     "output_type": "stream",
     "text": [
      "Lower Bound: -2.75\n",
      "Upper Bound: 15.0\n"
     ]
    }
   ],
   "source": [
    "# 4) If the IQR range of the sample is 4.5, and Q1 and Q3 values are 4, 8.25 respectively.\n",
    "#Which of the following are suspected outliers in the sample?\n",
    "# 9 , 2\n",
    "# 12, 3\n",
    "# -1, 13\n",
    "# -4, 15\n",
    "\n",
    "q1 = 4\n",
    "q3 = 8.25\n",
    "iqr = 4.5\n",
    "\n",
    "# Calculate suspected outliers\n",
    "lower_bound = q1 - 1.5 * iqr\n",
    "upper_bound = q3 + 1.5 * iqr\n",
    "\n",
    "print(f\"Lower Bound: {lower_bound}\")\n",
    "print(f\"Upper Bound: {upper_bound}\")\n",
    "# ans -4, 15"
   ]
  },
  {
   "cell_type": "code",
   "execution_count": null,
   "id": "8b4fb62c",
   "metadata": {},
   "outputs": [],
   "source": [
    "# 5) In a normal distribution curve ___?\n",
    "# The AUC value is 1\n",
    "# The mean and median are less than the mode\n",
    "# The mean and median are greater than the IQR range\n",
    "# The graph is asymmetrical with negatively skewed or positively skewed distribution\n",
    "\n",
    "# ANS:  The AUC value is 1"
   ]
  },
  {
   "cell_type": "code",
   "execution_count": 8,
   "id": "0bf65df4",
   "metadata": {},
   "outputs": [
    {
     "name": "stdout",
     "output_type": "stream",
     "text": [
      "Confidence interval: (50.400470937660145, 69.69952906233985)\n"
     ]
    }
   ],
   "source": [
    "# 6) Calculate the 95% confidence interval of the given sample using the t-distribution. \n",
    "# Sample = [78 65 20 69 36 81 85 71 44 71 47 37 89 25 73 55 80 52 46 77].\n",
    "# (40.500 , 63.659)\n",
    "# (54.500 , 68.649)\n",
    "# (45.450 , 67.599)\n",
    "# (50.400 , 69.699)\n",
    "\n",
    "\n",
    "import numpy as np\n",
    "from scipy import stats\n",
    "\n",
    "sample = np.array([78, 65, 20, 69, 36, 81, 85, 71, 44, 71, 47, 37, 89, 25, 73, 55, 80, 52, 46, 77])\n",
    "confidence_interval = stats.t.interval(0.95, len(sample) - 1, loc=np.mean(sample), scale=stats.sem(sample))\n",
    "print(\"Confidence interval:\", confidence_interval)\n",
    "\n",
    "\n",
    "# import numpy as np\n",
    "# from scipy.stats import t\n",
    "\n",
    "# sample = np.array([78, 65, 20, 69, 36, 81, 85, 71, 44, 71, 47, 37, 89, 25, 73, 55, 80, 52, 46, 77])\n",
    "\n",
    "# confidence_level = 0.95\n",
    "# degrees_of_freedom = len(sample) - 1\n",
    "# mean = np.mean(sample)\n",
    "# std_error = np.std(sample, ddof=1) / np.sqrt(len(sample))\n",
    "\n",
    "# # Calculate confidence interval\n",
    "# margin_of_error = t.ppf((1 + confidence_level) / 2, degrees_of_freedom) * std_error\n",
    "# confidence_interval = (mean - margin_of_error, mean + margin_of_error)\n",
    "\n",
    "# print(f\"95% Confidence Interval: {confidence_interval}\")"
   ]
  },
  {
   "cell_type": "code",
   "execution_count": 4,
   "id": "16d63687",
   "metadata": {},
   "outputs": [
    {
     "name": "stdout",
     "output_type": "stream",
     "text": [
      "P-value for the mean: 0.07\n"
     ]
    }
   ],
   "source": [
    "# 7) If the mean value is 100 and standard deviation is 15 for a normally distributed sample. \n",
    "# Calculate the p-value from the given sample after performing the one sample z-test on the following data. \n",
    "# Sample = [88, 92, 84, 64, 96, 97, 67, 97, 96, 99,115, 119, 119, 129, 130, 142, 102, 123, 134, 105]\n",
    "# 0.32\n",
    "# 1.30\n",
    "# 1.03\n",
    "# 0.30\n",
    "\n",
    "from scipy.stats import zscore, norm\n",
    "\n",
    "sample = np.array([88, 92, 84, 64, 96, 97, 67, 97, 96, 99, 115, 119, 119, 129, 130, 142, 102, 123, 134, 105])\n",
    "\n",
    "mean_population = 100\n",
    "std_dev_population = 15\n",
    "\n",
    "# Perform one-sample z-test\n",
    "z_scores = zscore(sample)\n",
    "p_values = norm.cdf(z_scores)\n",
    "\n",
    "# Get the p-value for the mean\n",
    "p_value_mean = 1 - norm.cdf((np.mean(sample) - mean_population) / (std_dev_population / np.sqrt(len(sample))))\n",
    "\n",
    "print(f\"P-value for the mean: {round(p_value_mean, 2)}\")\n",
    "\n",
    "# import numpy as np\n",
    "# from scipy import stats\n",
    "\n",
    "# sample = np.array([88, 92, 84, 64, 96, 97, 67, 97, 96, 99, 115, 119, 119, 129, 130, 142, 102, 123, 134, 105])\n",
    "# mean = 100\n",
    "# std_dev = 15\n",
    "# z_score = (np.mean(sample) - mean) / (std_dev / np.sqrt(len(sample)))\n",
    "# p_value = stats.norm.sf(abs(z_score)) * 2  # Two-tailed test\n",
    "# print(\"P-value:\", p_value)\n"
   ]
  },
  {
   "cell_type": "code",
   "execution_count": 11,
   "id": "c4fefcbc",
   "metadata": {},
   "outputs": [],
   "source": [
    "# 8) To calculate the p-value in a chi squared test, what among the following is not required?\n",
    "# Alpha Level\n",
    "# None of the above\n",
    "# Degrees of freedom\n",
    "# IQR value\n",
    "\n",
    "# ANS: IQR value"
   ]
  },
  {
   "cell_type": "code",
   "execution_count": 12,
   "id": "907ce0ad",
   "metadata": {},
   "outputs": [],
   "source": [
    "# 9) If the chi squared value is low, it means that ___?\n",
    "# Both the sets of data have strong relation.\n",
    "# All of the above\n",
    "# Both the sets of data have week relation.\n",
    "# None of the above\n",
    "\n",
    "# ANS: Both the sets of data have week relation. "
   ]
  },
  {
   "cell_type": "code",
   "execution_count": 14,
   "id": "a510fe34",
   "metadata": {},
   "outputs": [
    {
     "name": "stdout",
     "output_type": "stream",
     "text": [
      "a. Probability of drawing a heart (P(H)): 0.25\n",
      "b. Probability of drawing a face card (P(F)): 0.23076923076923078\n",
      "c. Probability of drawing a face card given that it's red (P(F | R)): 0.23076923076923078\n"
     ]
    }
   ],
   "source": [
    "# 10) A card is drawn at random from a standard deck of cards.\n",
    "# Recall that there are 13 hearts, 13 diamonds, 13 spades and 13 clubs in a standard deck of cards. \n",
    "# •Let H be the event that a heart is drawn, \n",
    "# • Let R be the event that a red card is drawn and \n",
    "# • Let F be the event that a face card is drawn, where the face cards are the kings, queens and jacks. \n",
    "# a. If I draw a card at random from the deck of 52, what is P(H)? \n",
    "# b. If I draw a card at random from the deck of 52, what is P(F)?\n",
    "# c. If I draw a card at random, and without showing you the card, I tell you that the card is red,\n",
    "# then what are the chances that it is a face card?\n",
    "# 0.50, 0.23, 0.23\n",
    "# 0.25, 0.23, 0.23\n",
    "# None of the above\n",
    "# 0.50 , 0.25, 0.25\n",
    "\n",
    "total_cards = 52\n",
    "hearts = 13\n",
    "red_cards = 26  # There are 26 red cards (13 hearts + 13 diamonds)\n",
    "face_cards_per_suit = 3  # There are 3 face cards (king, queen, jack) per suit\n",
    "\n",
    "# a. Probability of drawing a heart (P(H))\n",
    "probability_heart = hearts / total_cards\n",
    "\n",
    "# b. Probability of drawing a face card (P(F))\n",
    "probability_face_card = face_cards_per_suit * 4 / total_cards  # There are 4 suits in a deck\n",
    "\n",
    "# c. Probability of drawing a face card given that it's red (P(F | R))\n",
    "probability_red_face_card = face_cards_per_suit * 2 / red_cards  # There are 2 red suits (hearts and diamonds)\n",
    "\n",
    "# Print the probabilities\n",
    "print(\"a. Probability of drawing a heart (P(H)):\", probability_heart)\n",
    "print(\"b. Probability of drawing a face card (P(F)):\", probability_face_card)\n",
    "print(\"c. Probability of drawing a face card given that it's red (P(F | R)):\", probability_red_face_card)\n"
   ]
  },
  {
   "cell_type": "code",
   "execution_count": 17,
   "id": "195c56e7",
   "metadata": {},
   "outputs": [
    {
     "name": "stdout",
     "output_type": "stream",
     "text": [
      "Probability of heads: 2.0\n",
      "Probability of two-headed coin given heads: 0.5\n"
     ]
    }
   ],
   "source": [
    "# 11) A box contains three coins: two regular coins and one fake two-headed coin (P(H)=1).\n",
    "# a. You pick a coin at random and toss it. What is the probability that it lands heads up? \n",
    "# b. You pick a coin at random and toss it, and get heads. What is the probability that it is the two-headed coin?\n",
    "# None of the above\n",
    "# 4/6 ,1/2\n",
    "# 2/3, 1/5\n",
    "# 2/5, 1/3\n",
    "\n",
    "import numpy as np\n",
    "\n",
    "# Number of regular coins, two-headed coin, and total coins\n",
    "n_regular_coins = 2\n",
    "n_two_headed_coins = 1\n",
    "total_coins = n_regular_coins + n_two_headed_coins\n",
    "\n",
    "# Probability of heads for each coin type\n",
    "regular_coin_head_prob = 0.5\n",
    "two_headed_coin_head_prob = 1.0\n",
    "\n",
    "# Total probability of heads\n",
    "total_head_prob = (n_regular_coins * regular_coin_head_prob) + (n_two_headed_coins * two_headed_coin_head_prob)\n",
    "print(\"Probability of heads:\", total_head_prob)\n",
    "\n",
    "# Probability of two-headed coin given heads (using conditional probability)\n",
    "conditional_prob = (two_headed_coin_head_prob * n_two_headed_coins) / total_head_prob\n",
    "print(\"Probability of two-headed coin given heads:\", conditional_prob)\n",
    "\n",
    "\n",
    "# # Define probabilities\n",
    "# P_H = 1  # Probability of heads for two-headed coin\n",
    "# P_T = 0  # Probability of tails for two-headed coin (since it has two heads)\n",
    "# P_regular = 0.5  # Probability for regular coins (fair)\n",
    "\n",
    "# # a. Probability of landing heads up\n",
    "# P_heads_up = (2/3) * P_regular + P_H\n",
    "\n",
    "# # b. Probability of being the two-headed coin given heads\n",
    "# P_two_headed_given_heads = P_H / P_heads_up\n",
    "\n",
    "# # Print the probabilities\n",
    "# print(\"a. Probability of landing heads up:\", P_heads_up)\n",
    "# print(\"b. Probability of being the two-headed coin given heads:\", P_two_headed_given_heads)\n"
   ]
  },
  {
   "cell_type": "code",
   "execution_count": 18,
   "id": "bf974441",
   "metadata": {},
   "outputs": [
    {
     "name": "stdout",
     "output_type": "stream",
     "text": [
      "a. Probability that it's not raining and there is heavy traffic and I am not late: 0.14583333333333331\n",
      "b. Probability that I am late: 0.35416666666666663\n",
      "c. Probability that it rained given that I arrived late: 0.23529411764705885\n"
     ]
    }
   ],
   "source": [
    "# 12) In my town, it's rainy one third of the days. Given that it is rainy, there will be heavy traffic with probability 12,\n",
    "# and given that it is not rainy, there will be heavy traffic with probability 14. \n",
    "# If it's rainy and there is heavy traffic, I arrive late for work with probability 12. On the other hand, \n",
    "# the probability of being late is reduced to 18 if it is not rainy and there is no heavy traffic. \n",
    "# In other situations (rainy and no traffic, not rainy and traffic) the probability of being late is 0.25. You pick a random day. \n",
    "# a. What is the probability that it's not raining and there is heavy traffic and I am not late? \n",
    "# b. What is the probability that I am late? \n",
    "# c. Given that I arrived late at work, what is the probability that it rained that day?\n",
    "# 3/4, 2/4, 1/5\n",
    "# 1/4, 11/22, 6/12\n",
    "# 1/2, 2/3, 4/12\n",
    "# 1/8 , 11/48, 6/11\n",
    "\n",
    "# Define probabilities\n",
    "P_rainy = 1/3\n",
    "P_not_rainy = 2/3\n",
    "P_heavy_traffic_given_rainy = 1/2\n",
    "P_heavy_traffic_given_not_rainy = 1/4\n",
    "P_late_given_rainy_and_traffic = 1/2\n",
    "P_late_given_not_rainy_and_no_traffic = 1/8\n",
    "P_late_other_situations = 0.25\n",
    "\n",
    "# a. Probability that it's not raining and there is heavy traffic and I am not late\n",
    "P_not_rainy_and_traffic_and_not_late = P_not_rainy * P_heavy_traffic_given_not_rainy * (1 - P_late_given_not_rainy_and_no_traffic)\n",
    "\n",
    "# b. Probability that I am late\n",
    "P_late = P_rainy * P_heavy_traffic_given_rainy * P_late_given_rainy_and_traffic + \\\n",
    "        P_not_rainy * P_heavy_traffic_given_not_rainy * P_late_given_not_rainy_and_no_traffic + \\\n",
    "        P_late_other_situations\n",
    "\n",
    "# c. Probability that it rained given that I arrived late\n",
    "P_rainy_given_late = (P_rainy * P_heavy_traffic_given_rainy * P_late_given_rainy_and_traffic) / P_late\n",
    "\n",
    "# Print the probabilities\n",
    "print(\"a. Probability that it's not raining and there is heavy traffic and I am not late:\", P_not_rainy_and_traffic_and_not_late)\n",
    "print(\"b. Probability that I am late:\", P_late)\n",
    "print(\"c. Probability that it rained given that I arrived late:\", P_rainy_given_late)\n"
   ]
  },
  {
   "cell_type": "code",
   "execution_count": 19,
   "id": "e4afbdcc",
   "metadata": {},
   "outputs": [
    {
     "name": "stdout",
     "output_type": "stream",
     "text": [
      "Percentage of savings account holders who maintain an average daily balance of more than Rs. 500: 50.0 %\n"
     ]
    }
   ],
   "source": [
    "# 13) A nationalized bank has found that the daily balance available in its savings accounts follows a normal distribution \n",
    "# with a mean of Rs. 500 and a standard deviation of Rs. 50. The percentage of savings account holders, \n",
    "# who maintain an average daily balance of more than Rs. 500 is _______ ?\n",
    "# 0.5\n",
    "# 0.4\n",
    "# 0.3\n",
    "# 0.1\n",
    "\n",
    "from scipy.stats import norm\n",
    "\n",
    "mean = 500\n",
    "std_dev = 50\n",
    "\n",
    "# Probability of having a balance more than Rs. 500\n",
    "probability_more_than_500 = 1 - norm.cdf(500, loc=mean, scale=std_dev)\n",
    "\n",
    "# Print the probability\n",
    "print(\"Percentage of savings account holders who maintain an average daily balance of more than Rs. 500:\", round(probability_more_than_500 * 100, 2), \"%\")\n"
   ]
  },
  {
   "cell_type": "code",
   "execution_count": 20,
   "id": "be2d91ad",
   "metadata": {},
   "outputs": [
    {
     "name": "stdout",
     "output_type": "stream",
     "text": [
      "Probability of second part defective given first part is defective: 0.058823529411764705\n"
     ]
    }
   ],
   "source": [
    "# 14) A day’s production of 850 manufactured parts contains 50 parts that do not meet customer requirements.\n",
    "# Suppose two parts are selected from the batch, but the first part is replaced before the second part is selected. \n",
    "# What is the probability that the second part is defective? (Denoted as B)\n",
    "# given that the first part is defective (denoted as A)?\n",
    "# 0.003\n",
    "# 0.03\n",
    "# None of the above\n",
    "# 0.3\n",
    "total_parts = 850\n",
    "defective_parts = 50\n",
    "\n",
    "prob_defective = defective_parts / total_parts\n",
    "\n",
    "print(\"Probability of second part defective given first part is defective:\", prob_defective)\n"
   ]
  },
  {
   "cell_type": "code",
   "execution_count": null,
   "id": "497684ce",
   "metadata": {},
   "outputs": [],
   "source": [
    "# 15) Which of the following statements is/are correct with respect to the below shaded part in the image:image 3\n",
    "# All data that is either one or more standard deviations above the mean value.\n",
    "# All data that is greater than 1.\n",
    "# All data that is greater than mean.\n",
    "# All data between 1 and 3.\n",
    "\n",
    "# ANS: All data that is either one or more standard deviations above the mean value."
   ]
  },
  {
   "cell_type": "code",
   "execution_count": null,
   "id": "deaa684b",
   "metadata": {},
   "outputs": [],
   "source": [
    "# 16)  Which of the following options is/are area under the standard normal distribution curve? \n",
    "# 25\n",
    "# 1\n",
    "# 0.5\n",
    "# 0.1\n",
    "\n",
    "# ANS :\n",
    "The total area under the standard normal curve is always 1."
   ]
  },
  {
   "cell_type": "code",
   "execution_count": null,
   "id": "919499ce",
   "metadata": {},
   "outputs": [],
   "source": [
    "# 17) Which of the following statements is/are true with respect to the below image:image 5\n",
    "# 2. The amount of charges is exponentially increasing with respect to the number of steps.\n",
    "# 1. The amount of charges is not having a linear relationship with the number of steps.\n",
    "# 3. Both 1 and 2\n",
    "# 4. None of the above.\n",
    "\n",
    "# ANS: Both 1 and 2"
   ]
  },
  {
   "cell_type": "code",
   "execution_count": null,
   "id": "058a8b44",
   "metadata": {},
   "outputs": [],
   "source": [
    "# 18)  Which of the following statements is/are true with respect to the below image\n",
    "# Both of the above.\n",
    "# None of the above.\n",
    "# The amount of charges is increasing with respect to the number of steps.\n",
    "# The amount of charges is having a linear relationship with number of steps.\n",
    "\n",
    "# ANS: Both of the above."
   ]
  },
  {
   "cell_type": "code",
   "execution_count": 21,
   "id": "2e18f587",
   "metadata": {},
   "outputs": [
    {
     "name": "stdout",
     "output_type": "stream",
     "text": [
      "t-statistic: -5.3045\n"
     ]
    }
   ],
   "source": [
    "# 19) Find t-statistic for the following samples given that the mean of the distribution is 8. Sample: [5 3 3 5 5 6 6 7 3 8]\n",
    "# -0.0026\n",
    "# 0.0005\n",
    "# 3.1623\n",
    "# -5.3045\n",
    "\n",
    "import numpy as np\n",
    "from scipy.stats import t\n",
    "\n",
    "sample = np.array([5, 3, 3, 5, 5, 6, 6, 7, 3, 8])\n",
    "sample_mean = np.mean(sample)\n",
    "population_mean = 8\n",
    "sample_std = np.std(sample, ddof=1)  # Use ddof=1 for sample standard deviation\n",
    "sample_size = len(sample)\n",
    "\n",
    "# Calculate t-statistic\n",
    "t_statistic = (sample_mean - population_mean) / (sample_std / np.sqrt(sample_size))\n",
    "\n",
    "print(\"t-statistic:\", round(t_statistic, 4))\n"
   ]
  },
  {
   "cell_type": "code",
   "execution_count": 23,
   "id": "cc0e307a",
   "metadata": {},
   "outputs": [
    {
     "name": "stdout",
     "output_type": "stream",
     "text": [
      "Accept null hypothesis, variance of both the machines are the same\n",
      "F-statistic: 0.3019\n",
      "Critical value: 2.2821\n"
     ]
    }
   ],
   "source": [
    "# 20) There are two machines for spray coating at desired thickness. \n",
    "# Their variability should be similar if they need to be used for the same applications. \n",
    "# To test this, various samples were collected from both machines and \n",
    "# the sample covariance of machine 1 and 2 are 1.84 and 6.36 respectively. \n",
    "# Comment on whether these machines can be used for the same application \n",
    "# if the machines were truly built to have the same variance. Perform the test at 95% significance given n1 = 24 n2 = 25\n",
    "# Reject null hypothesis, variance of both the machines are different\n",
    "# Accept null hypothesis, variance of both the machines are same\n",
    "# Reject null hypothesis, variance of both the machines are same\n",
    "# Accept null hypothesis, variance of both the machines are different\n",
    "\n",
    "from scipy.stats import f\n",
    "\n",
    "# Given values\n",
    "covariance_machine1 = 1.84\n",
    "covariance_machine2 = 6.36\n",
    "n1 = 24\n",
    "n2 = 25\n",
    "\n",
    "# Calculate F-statistic\n",
    "F_statistic = (covariance_machine1 / covariance_machine2) * ((n2 - 1) / (n1 - 1))\n",
    "\n",
    "# Degrees of freedom\n",
    "df1 = n1 - 1\n",
    "df2 = n2 - 1\n",
    "\n",
    "# Critical value for a 95% confidence level\n",
    "critical_value = f.ppf(0.975, df1, df2)\n",
    "\n",
    "# Perform the test\n",
    "if F_statistic > critical_value:\n",
    "    print(\"Reject null hypothesis, variance of both the machines are different\")\n",
    "else:\n",
    "    print(\"Accept null hypothesis, variance of both the machines are the same\")\n",
    "\n",
    "print(\"F-statistic:\", round(F_statistic, 4))\n",
    "print(\"Critical value:\", round(critical_value, 4))\n",
    " # But ans is Reject null hypothesis, variance of both the machines are different"
   ]
  },
  {
   "cell_type": "code",
   "execution_count": 24,
   "id": "fa9a13eb",
   "metadata": {},
   "outputs": [
    {
     "name": "stdout",
     "output_type": "stream",
     "text": [
      "Accept null hypothesis, reactor operating at the desired condition.\n",
      "t-statistic: 1.4697\n",
      "Critical value: 2.0687\n"
     ]
    }
   ],
   "source": [
    "# # 21) In the contact process for the production of sulphuric acid, temperature of not more than 450°C is desired. \n",
    "# The reactor temperature was measured 24 times and it was found that the mean temperature was 450.3°C and the variance was 1.0 \n",
    "# Find whether the reactor is operating at the desired condition? Perform the test at 95% significance.\n",
    "# Reject null hypothesis, reactor not operating at the desired condition\n",
    "# Accept null hypothesis, reactor not operating at the desired condition\n",
    "# Accept null hypothesis, reactor operating at the desired condition\n",
    "# Reject null hypothesis, reactor operating at the desired condition\n",
    "\n",
    "from scipy.stats import t\n",
    "\n",
    "# Given values\n",
    "sample_mean = 450.3\n",
    "desired_mean = 450\n",
    "variance = 1.0\n",
    "sample_size = 24\n",
    "\n",
    "# Calculate t-statistic\n",
    "t_statistic = (sample_mean - desired_mean) / (variance / (sample_size**0.5))\n",
    "\n",
    "# Degrees of freedom\n",
    "df = sample_size - 1\n",
    "\n",
    "# Critical value for a two-tailed test at 95% confidence level\n",
    "critical_value = t.ppf(0.975, df)\n",
    "\n",
    "# Perform the test\n",
    "if abs(t_statistic) > critical_value:\n",
    "    print(\"Reject null hypothesis, reactor not operating at the desired condition.\")\n",
    "else:\n",
    "    print(\"Accept null hypothesis, reactor operating at the desired condition.\")\n",
    "\n",
    "print(\"t-statistic:\", round(t_statistic, 4))\n",
    "print(\"Critical value:\", round(critical_value, 4))\n"
   ]
  },
  {
   "cell_type": "code",
   "execution_count": 26,
   "id": "ecbea966",
   "metadata": {},
   "outputs": [
    {
     "name": "stdout",
     "output_type": "stream",
     "text": [
      "t-statistic: -2.2802\n",
      "p-value: 0.035\n"
     ]
    }
   ],
   "source": [
    "# 22) Find t-statistic for the following sample sets assuming their means are same: Sample set 1: [-3 3 5 9 2 5 10 5 2 6], \n",
    "# Sample set 2: [ 6 7 8 7 3 12 7 10 6 11]. (a) (b) -2.28 (c) -3.527 (d) 0.7178\n",
    "# 0.7178\n",
    "# 9.731\n",
    "# -3.527\n",
    "# -2.28\n",
    "\n",
    "import numpy as np\n",
    "from scipy.stats import ttest_ind\n",
    "\n",
    "# Given sample sets\n",
    "sample_set_1 = np.array([-3, 3, 5, 9, 2, 5, 10, 5, 2, 6])\n",
    "sample_set_2 = np.array([6, 7, 8, 7, 3, 12, 7, 10, 6, 11])\n",
    "\n",
    "# Calculate t-statistic assuming equal means\n",
    "t_statistic, p_value = ttest_ind(sample_set_1, sample_set_2)\n",
    "\n",
    "print(\"t-statistic:\", round(t_statistic, 4))\n",
    "print(\"p-value:\", round(p_value, 4))\n"
   ]
  },
  {
   "cell_type": "code",
   "execution_count": 27,
   "id": "f4a9d382",
   "metadata": {},
   "outputs": [
    {
     "name": "stdout",
     "output_type": "stream",
     "text": [
      "Percentage of Indians who eat neither Dosai nor Dhokla: 0.18\n"
     ]
    }
   ],
   "source": [
    "# 23) A total of 69 percent of Indians eat Dosai,24 percent of Indians eat Dhokla, and 11 percent eat Dosai and Dhokla. \n",
    "# Then, what percentage of Indians eat neither Dosai nor Dhokla?\n",
    "# 0.18\n",
    "# 0.11\n",
    "# 0.17\n",
    "# 0.82\n",
    "\n",
    "# Given percentages\n",
    "P_Dosai = 0.69\n",
    "P_Dhokla = 0.24\n",
    "P_Dosai_and_Dhokla = 0.11\n",
    "\n",
    "# Calculate percentage of Indians who eat neither Dosai nor Dhokla\n",
    "P_neither = 1 - (P_Dosai + P_Dhokla - P_Dosai_and_Dhokla)\n",
    "\n",
    "print(\"Percentage of Indians who eat neither Dosai nor Dhokla:\", round(P_neither, 2))\n"
   ]
  },
  {
   "cell_type": "code",
   "execution_count": 28,
   "id": "e8c26b5d",
   "metadata": {},
   "outputs": [
    {
     "name": "stdout",
     "output_type": "stream",
     "text": [
      "Probability that the second ball drawn is black: 0.63\n"
     ]
    }
   ],
   "source": [
    "# 24) Two balls are randomly drawn one after the other without replacement from a bowl containing 12 and 8 black balls.\n",
    "# If the first ball drawn is white, what is the probability that second ball drawn is black?\n",
    "# 0.6\n",
    "# 0.4\n",
    "# 0.42\n",
    "# 0.63\n",
    "\n",
    "# Given number of black balls\n",
    "black_balls_first_draw = 20  # (12 black + 8 black)\n",
    "total_balls_first_draw = 20  # (12 black + 8 black) + 0 white\n",
    "\n",
    "# Given number of black balls for the second draw\n",
    "black_balls_second_draw = 12\n",
    "\n",
    "# Calculate the probability\n",
    "probability_black_second_draw = black_balls_second_draw / (total_balls_first_draw - 1)\n",
    "\n",
    "print(\"Probability that the second ball drawn is black:\", round(probability_black_second_draw, 2))\n"
   ]
  },
  {
   "cell_type": "code",
   "execution_count": 29,
   "id": "af6b5c17",
   "metadata": {},
   "outputs": [
    {
     "name": "stdout",
     "output_type": "stream",
     "text": [
      "Marginal probabilities for both coins:\n",
      "C1H: 0.521\n",
      "C1T: 0.479\n",
      "C2H: 0.556\n",
      "C2T: 0.444\n"
     ]
    }
   ],
   "source": [
    "# 25) Two biased coins are tossed 144 times. 50 trials are both heads and 39 trials are both tails out of these 144 trials.\n",
    "# Among the rest, 25 trials have head in the first coin while tail in the second coin and 30 trials with tail in the first coin \n",
    "# and head in the second coin. Calculate the marginal probabilities for both the coins. \n",
    "# # None of these\n",
    "# C1H=0.521, C1T=0.556, C2H=0.479, C2T=0.444\n",
    "# C1H=0.556, C1T=0.479, C2H=0.521, C2T=0.444\n",
    "# C1H=0.521, C1T=0.479, C2H=0.556, C2T=0.444\n",
    "\n",
    "# Given values\n",
    "total_trials = 144\n",
    "both_heads = 50\n",
    "both_tails = 39\n",
    "head_first_tail_second = 25\n",
    "tail_first_head_second = 30\n",
    "\n",
    "# Calculate marginal probabilities for both coins\n",
    "P_C1H = (both_heads + head_first_tail_second) / total_trials\n",
    "P_C1T = (both_tails + tail_first_head_second) / total_trials\n",
    "P_C2H = (both_heads + tail_first_head_second) / total_trials\n",
    "P_C2T = (both_tails + head_first_tail_second) / total_trials\n",
    "\n",
    "print(\"Marginal probabilities for both coins:\")\n",
    "print(\"C1H:\", round(P_C1H, 3))\n",
    "print(\"C1T:\", round(P_C1T, 3))\n",
    "print(\"C2H:\", round(P_C2H, 3))\n",
    "print(\"C2T:\", round(P_C2T, 3))\n"
   ]
  },
  {
   "cell_type": "code",
   "execution_count": 30,
   "id": "9cffd933",
   "metadata": {},
   "outputs": [
    {
     "name": "stdout",
     "output_type": "stream",
     "text": [
      "P(E∩F): 0.24\n",
      "P(E ∪ F): 1.51\n"
     ]
    }
   ],
   "source": [
    "# 26)  The outcomes of an experiment are {e, f, g, h} with probabilities 0.39, 0.24, 0.77, and 0.88, respectively. \n",
    "# Let E and F denote the events {e, f} and {f, h}, respectively. Compute  (a) P(E∩F) and (b) P(E ∪ F). \n",
    "# 0.24,0.63\n",
    "# 0.24,1.51\n",
    "# 1.51,0.24\n",
    "# 1.12,1.51\n",
    "\n",
    "# Given probabilities\n",
    "P_e = 0.39\n",
    "P_f = 0.24\n",
    "P_g = 0.77\n",
    "P_h = 0.88\n",
    "\n",
    "# Event probabilities\n",
    "P_E = P_e + P_f\n",
    "P_F = P_f + P_h\n",
    "P_E_intersection_F = P_f  # Since f is common to both events\n",
    "P_E_union_F = P_E + P_F - P_E_intersection_F\n",
    "\n",
    "print(\"P(E∩F):\", round(P_E_intersection_F, 2))\n",
    "print(\"P(E ∪ F):\", round(P_E_union_F, 2))\n"
   ]
  },
  {
   "cell_type": "code",
   "execution_count": 7,
   "id": "a78e4bd9",
   "metadata": {},
   "outputs": [
    {
     "name": "stdout",
     "output_type": "stream",
     "text": [
      "The probability of P((E ∪ F) ∩ G) is: 0.1978\n"
     ]
    }
   ],
   "source": [
    "#27 If E, F and G are mutually exclusive events with probabilities 0.34, 0.12 and 0.43 respectively, \n",
    "#determine the probability of P((E ∪ F) ∩ G).\n",
    "\n",
    "# Define the probabilities of events E, F, and G\n",
    "p_E = 0.34\n",
    "p_F = 0.12\n",
    "p_G = 0.43\n",
    "\n",
    "# Since E, F, and G are mutually exclusive, the probability of their intersection is 0.\n",
    "p_E_and_F_and_G = 0\n",
    "\n",
    "# The probability of (E or F) is the sum of their individual probabilities.\n",
    "p_E_or_F = p_E + p_F\n",
    "\n",
    "# The probability of (E or F) intersecting G is the product of their probabilities.\n",
    "p_E_or_F_and_G = p_E_or_F * p_G\n",
    "\n",
    "print(\"The probability of P((E ∪ F) ∩ G) is:\", p_E_or_F_and_G)\n"
   ]
  },
  {
   "cell_type": "code",
   "execution_count": 8,
   "id": "873ce744",
   "metadata": {},
   "outputs": [
    {
     "name": "stdout",
     "output_type": "stream",
     "text": [
      "Probability of drawing a black ball on the second draw given that the first ball drawn is white: 0.38\n"
     ]
    }
   ],
   "source": [
    "# 28)Two balls are randomly drawn one after the other without replacement from a bowl containing 14 white balls and 8 black balls.\n",
    "# If the first ball drawn is white, what is the probability that the second ball drawn is black?\n",
    "\n",
    "# Given values\n",
    "initial_white_balls = 14\n",
    "initial_black_balls = 8\n",
    "\n",
    "# After the first draw\n",
    "remaining_white_balls = initial_white_balls - 1\n",
    "remaining_black_balls = initial_black_balls\n",
    "total_remaining_balls = remaining_white_balls + remaining_black_balls\n",
    "\n",
    "# Probability of drawing a black ball on the second draw given that the first ball drawn is white\n",
    "probability_black_on_second_draw = remaining_black_balls / total_remaining_balls\n",
    "\n",
    "print(\"Probability of drawing a black ball on the second draw given that the first ball drawn is white:\", round(probability_black_on_second_draw, 2))\n"
   ]
  },
  {
   "cell_type": "code",
   "execution_count": 9,
   "id": "bd70380e",
   "metadata": {},
   "outputs": [
    {
     "data": {
      "image/png": "[encoded data removed]",
      "text/plain": [
       "<Figure size 640x480 with 1 Axes>"
      ]
     },
     "metadata": {},
     "output_type": "display_data"
    }
   ],
   "source": [
    "# 29) Choose the correct option that best describes the relation between variables x and y in the data given below.  \n",
    "# x\ty\n",
    "# -5 \t16 \n",
    "# 7 \t20 \n",
    "# -2 \t29 \n",
    "# 0 \t18 \n",
    "# 6 \t18 \n",
    "# 3\t27\n",
    "import matplotlib.pyplot as plt\n",
    "\n",
    "# Given data\n",
    "x = [-5, 7, -2, 0, 6, 3]\n",
    "y = [16, 20, 29, 18, 18, 27]\n",
    "\n",
    "# Scatter plot\n",
    "plt.scatter(x, y, color='blue')\n",
    "plt.xlabel('x')\n",
    "plt.ylabel('y')\n",
    "plt.title('Scatter Plot of x and y')\n",
    "plt.show()\n"
   ]
  },
  {
   "cell_type": "code",
   "execution_count": 10,
   "id": "3c5250cf",
   "metadata": {},
   "outputs": [
    {
     "name": "stdout",
     "output_type": "stream",
     "text": [
      "F-Statistic: 0.1436\n",
      "P-Value: 0.7127\n"
     ]
    }
   ],
   "source": [
    "# 30) Find F-statistic value for the following sample sets generated from the same Distribution. \n",
    "# Sample data 1: [9.89, 12.34, 3.25, 4.41, 6.17, 14.01] Sample data 2: [9.32, 9.45, 8.39, 7.82, 9.48, 9.75]\n",
    "from scipy.stats import f_oneway\n",
    "\n",
    "# Given sample sets\n",
    "sample_data_1 = [9.89, 12.34, 3.25, 4.41, 6.17, 14.01]\n",
    "sample_data_2 = [9.32, 9.45, 8.39, 7.82, 9.48, 9.75]\n",
    "\n",
    "# Perform one-way ANOVA\n",
    "f_statistic, p_value = f_oneway(sample_data_1, sample_data_2)\n",
    "\n",
    "print(\"F-Statistic:\", round(f_statistic, 4))\n",
    "print(\"P-Value:\", round(p_value, 4))\n"
   ]
  },
  {
   "cell_type": "code",
   "execution_count": 11,
   "id": "7dd06021",
   "metadata": {},
   "outputs": [
    {
     "name": "stdout",
     "output_type": "stream",
     "text": [
      "Probability that X lies between 13 and 17: 0.3651\n"
     ]
    }
   ],
   "source": [
    "# 31) A random variable X follows a uniform distribution with mean = 16 and variance = 10. \n",
    "# Compute the probability that X lies between 13 and 17.\n",
    "\n",
    "import numpy as np\n",
    "from scipy.stats import uniform\n",
    "\n",
    "# Given mean and variance\n",
    "mean = 16\n",
    "variance = 10\n",
    "\n",
    "# Calculate the interval [a, b] using mean and variance\n",
    "a = mean - np.sqrt(3 * variance)\n",
    "b = mean + np.sqrt(3 * variance)\n",
    "\n",
    "# Calculate the probability that X lies between 13 and 17\n",
    "probability_between_13_and_17 = uniform.cdf(17, loc=a, scale=b-a) - uniform.cdf(13, loc=a, scale=b-a)\n",
    "\n",
    "print(\"Probability that X lies between 13 and 17:\", round(probability_between_13_and_17, 4))\n"
   ]
  },
  {
   "cell_type": "markdown",
   "id": "ad10b370",
   "metadata": {},
   "source": [
    "# Assignment 1 – Statistics"
   ]
  },
  {
   "cell_type": "code",
   "execution_count": 1,
   "id": "4335dc85",
   "metadata": {},
   "outputs": [],
   "source": [
    "# You work in XYZ Corporation as a Data Analyst. Your corporation has told you to\n",
    "# work with statistics.\n",
    "# Tasks To Be Performed:\n",
    "# 1. Create a table in excel, table should have 2 columns named x and y:\n",
    "# a. ‘x’ column should have numbers from 1-5\n",
    "# b. ‘y’ should have numbers 2, 4, 5, 4, 2\n",
    "# c. Now calculate the mean of columns x and y\n",
    "# d. Calculate the mode of column x\n",
    "# e. Calculate the standard deviation of column y\n",
    "# f. At last calculate the range of columns x and y separately"
   ]
  },
  {
   "cell_type": "code",
   "execution_count": 2,
   "id": "998491c5",
   "metadata": {},
   "outputs": [],
   "source": [
    "# Open Excel and follow these steps:\n",
    "\n",
    "# a. In column A, enter the numbers from 1 to 5 in cells A2 to A6 (A1 can be used for column header 'x').\n",
    "\n",
    "# b. In column B, enter the numbers 2, 4, 5, 4, 2 in cells B2 to B6 (B1 can be used for column header 'y').\n",
    "\n",
    "# c. To calculate the mean of columns x and y, use the formulas:\n",
    "\n",
    "# Mean of x: =AVERAGE(A2:A6)\n",
    "# Mean of y: =AVERAGE(B2:B6)\n",
    "    \n",
    "# d. To calculate the mode of column x, use the formula:\n",
    "\n",
    "# Mode of x: =MODE.SNGL(A2:A6)\n",
    "# e. To calculate the standard deviation of column y, use the formula:\n",
    "\n",
    "# Standard deviation of y: =STDEV.P(B2:B6)\n",
    "# f. To calculate the range of columns x and y, use the formulas:\n",
    "\n",
    "# Range of x: =MAX(A2:A6) - MIN(A2:A6)\n",
    "# Range of y: =MAX(B2:B6) - MIN(B2:B6)\n",
    "# After entering these formulas, you will get the desired results. \n",
    "# Remember that these formulas assume your data is in cells A1 to B6.\n",
    "# Adjust the cell references if your data is in a different range."
   ]
  }
 ],
 "metadata": {
  "kernelspec": {
   "display_name": "Python 3 (ipykernel)",
   "language": "python",
   "name": "python3"
  },
  "language_info": {
   "codemirror_mode": {
    "name": "ipython",
    "version": 3
   },
   "file_extension": ".py",
   "mimetype": "text/x-python",
   "name": "python",
   "nbconvert_exporter": "python",
   "pygments_lexer": "ipython3",
   "version": "3.11.5"
  }
 },
 "nbformat": 4,
 "nbformat_minor": 5
}
