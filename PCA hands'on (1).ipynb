{
 "cells": [
  {
   "cell_type": "markdown",
   "id": "1f988748",
   "metadata": {},
   "source": [
    "Dimension reduction is a fundamental technique in machine learning and data analysis that involves reducing the number of variables (dimensions) in a dataset while preserving important information. This reduction can lead to several benefits, including simplifying the data, improving model performance, reducing computational complexity, and enhancing interpretability. There are two primary approaches to dimension reduction:\n",
    "\n",
    "1. **Feature Selection**:\n",
    "   - Feature selection involves selecting a subset of the original features (variables) and discarding the rest. The selected features are considered the most relevant or informative for the task at hand.\n",
    "   - Common methods for feature selection include:\n",
    "     - Univariate feature selection: Selecting features based on statistical tests or measures like chi-squared, ANOVA, or mutual information.\n",
    "     - Recursive feature elimination (RFE): Iteratively removing the least important features based on the performance of a machine learning model.\n",
    "     - Feature importance scores from tree-based models: Extracting feature importance scores from decision trees or ensemble methods like Random Forest.\n",
    "     - Correlation-based methods: Removing highly correlated features to reduce redundancy.\n",
    "   - Feature selection is particularly useful when there are clear domain-specific reasons to focus on specific variables or when you want to improve the interpretability of a model.\n",
    "\n",
    "2. **Feature Extraction**:\n",
    "   - Feature extraction transforms the original features into a new set of features, typically of lower dimension, while retaining as much relevant information as possible. These new features are called \"derived features\" or \"latent variables.\"\n",
    "   - Principal Component Analysis (PCA) is a widely used technique for feature extraction. It identifies the principal components (linear combinations of the original features) that capture the maximum variance in the data. These principal components can be used as new features.\n",
    "   - Other feature extraction methods include Independent Component Analysis (ICA), Linear Discriminant Analysis (LDA), and autoencoders in deep learning.\n",
    "   - Feature extraction is valuable when you want to reduce the dimensionality of the data while preserving important patterns and relationships. It's often used in tasks like image recognition, natural language processing, and signal processing.\n",
    "\n",
    "The choice between feature selection and feature extraction depends on the nature of the data, the problem you're trying to solve, and your specific goals. In some cases, a combination of both techniques may be beneficial.\n",
    "\n",
    "Dimension reduction is crucial when dealing with high-dimensional datasets, as the \"curse of dimensionality\" can lead to increased computational complexity and overfitting in machine learning models. By reducing the number of features, you can often improve the efficiency, accuracy, and interpretability of your models while maintaining or even enhancing their predictive power."
   ]
  },
  {
   "cell_type": "markdown",
   "id": "94c1d7e9",
   "metadata": {},
   "source": [
    "# PCA"
   ]
  },
  {
   "cell_type": "markdown",
   "id": "5deceea4",
   "metadata": {},
   "source": [
    "PCA stands for Principal Component Analysis. It is a dimensionality reduction technique and a fundamental tool in machine learning and statistics. PCA is used to simplify complex datasets by reducing the number of variables (or dimensions) while retaining the most important information and patterns in the data. Here's how PCA works:\n",
    "\n",
    "1. **Data Standardization**:\n",
    "   - Before applying PCA, it's common practice to standardize the data by subtracting the mean and scaling to unit variance. Standardization ensures that all variables have the same scale, which is important for PCA to work effectively.\n",
    "\n",
    "2. **Covariance Matrix Calculation**:\n",
    "   - PCA calculates the covariance matrix of the standardized data. The covariance matrix represents the relationships and dependencies between the variables.\n",
    "\n",
    "3. **Eigendecomposition**:\n",
    "   - PCA performs an eigendecomposition (eigenvalue decomposition) of the covariance matrix. This decomposition results in a set of eigenvectors and corresponding eigenvalues.\n",
    "\n",
    "4. **Selecting Principal Components**:\n",
    "   - The eigenvectors represent the principal components of the data. These components are orthogonal (uncorrelated) and sorted by their corresponding eigenvalues in descending order. The eigenvector with the highest eigenvalue is the first principal component, the second highest eigenvalue corresponds to the second principal component, and so on.\n",
    "   - By selecting a subset of these principal components, you can reduce the dimensionality of the data while preserving as much variance (information) as possible.\n",
    "\n",
    "5. **Projecting Data**:\n",
    "   - To reduce the dimensionality of the data, you can project it onto a lower-dimensional subspace defined by the selected principal components. This projection retains the most significant information in the data while reducing noise and redundancy.\n",
    "\n",
    "6. **Explained Variance**:\n",
    "   - PCA provides information about the explained variance for each principal component. This information helps you understand how much of the total variance in the data is retained by each component. You can use this to determine how many principal components to keep to achieve a desired level of data compression or dimensionality reduction.\n",
    "\n",
    "PCA is commonly used in various applications, including:\n",
    "- **Data Visualization**: Reducing high-dimensional data to 2D or 3D for visualization and exploration.\n",
    "- **Noise Reduction**: Removing noise and irrelevant features from data.\n",
    "- **Feature Engineering**: Creating new features (principal components) that capture the most important information in the data.\n",
    "- **Dimensionality Reduction**: Reducing the computational complexity of machine learning models and improving their generalization.\n",
    "- **Face Recognition**: Reducing the dimensionality of image data while retaining essential facial features.\n",
    "\n",
    "\n",
    "PCA is a powerful technique but should be used with careful consideration, as it may not always be appropriate for all datasets or tasks. It assumes linear relationships between variables and may not capture non-linear patterns effectively. In such cases, nonlinear dimensionality reduction techniques like t-SNE or autoencoders may be more suitable."
   ]
  },
  {
   "cell_type": "markdown",
   "id": "8af1cbc3",
   "metadata": {},
   "source": [
    "# mnist"
   ]
  },
  {
   "cell_type": "markdown",
   "id": "2a4aa85d",
   "metadata": {},
   "source": [
    " **The MNIST dataset is a well-known dataset in the field of machine learning and computer vision. It consists of a large collection of handwritten digits, specifically 8x8 pixel grayscale images of handwritten digits from 0 to 9. The dataset is widely used for training and testing machine learning and deep learning models, especially for tasks like digit recognition and image classification.**\n",
    "\n",
    "Here are some key characteristics and details about the MNIST dataset:\n",
    "\n",
    "1. **Size**: The MNIST dataset contains a total of 70,000 images, divided into two main subsets:\n",
    "   - Training Set: 60,000 images\n",
    "   - Test Set: 10,000 images\n",
    "\n",
    "2. **Digits**: Each image in the dataset represents a single handwritten digit from 0 to 9.\n",
    "\n",
    "3. **Image Size**: Each image is 28 pixels in height and 28 pixels in width, resulting in a total of 784 pixels per image.\n",
    "\n",
    "4. **Labeling**: Each image is associated with a corresponding label or target, indicating the digit it represents. The labels are integers ranging from 0 to 9.\n",
    "\n",
    "5. **Use**: The MNIST dataset is often used as a benchmark for evaluating the performance of machine learning algorithms and deep neural networks. It serves as a standard dataset for tasks related to image classification and digit recognition.\n",
    "\n",
    "6. **Challenges**: While MNIST is relatively simple compared to more complex datasets, it still presents challenges in machine learning, such as handling variations in handwriting styles and dealing with noise and variations in image quality.\n",
    "\n",
    "7. **Availability**: The MNIST dataset is readily available and can be accessed through various machine learning libraries and platforms, making it a popular choice for educational purposes and research."
   ]
  },
  {
   "cell_type": "code",
   "execution_count": 1,
   "id": "cfc26e83",
   "metadata": {},
   "outputs": [],
   "source": [
    "import numpy as np\n",
    "import pandas as pd\n",
    "from sklearn.decomposition import PCA\n",
    "import matplotlib.pyplot as plt\n",
    "import seaborn as sns\n",
    "%matplotlib inline"
   ]
  },
  {
   "cell_type": "code",
   "execution_count": 2,
   "id": "79d469c7",
   "metadata": {},
   "outputs": [],
   "source": [
    "from sklearn import datasets"
   ]
  },
  {
   "cell_type": "code",
   "execution_count": 3,
   "id": "424f9483",
   "metadata": {},
   "outputs": [],
   "source": [
    "from sklearn.datasets import load_digits"
   ]
  },
  {
   "cell_type": "code",
   "execution_count": 4,
   "id": "6362bfe1",
   "metadata": {},
   "outputs": [],
   "source": [
    "#dir(datasets) # if you want to check the inbuild datatsets"
   ]
  },
  {
   "cell_type": "code",
   "execution_count": 5,
   "id": "a036afc6",
   "metadata": {},
   "outputs": [],
   "source": [
    "digits=load_digits()"
   ]
  },
  {
   "cell_type": "code",
   "execution_count": 6,
   "id": "72b3557f",
   "metadata": {},
   "outputs": [
    {
     "data": {
      "text/plain": [
       "{'data': array([[ 0.,  0.,  5., ...,  0.,  0.,  0.],\n",
       "        [ 0.,  0.,  0., ..., 10.,  0.,  0.],\n",
       "        [ 0.,  0.,  0., ..., 16.,  9.,  0.],\n",
       "        ...,\n",
       "        [ 0.,  0.,  1., ...,  6.,  0.,  0.],\n",
       "        [ 0.,  0.,  2., ..., 12.,  0.,  0.],\n",
       "        [ 0.,  0., 10., ..., 12.,  1.,  0.]]),\n",
       " 'target': array([0, 1, 2, ..., 8, 9, 8]),\n",
       " 'frame': None,\n",
       " 'feature_names': ['pixel_0_0',\n",
       "  'pixel_0_1',\n",
       "  'pixel_0_2',\n",
       "  'pixel_0_3',\n",
       "  'pixel_0_4',\n",
       "  'pixel_0_5',\n",
       "  'pixel_0_6',\n",
       "  'pixel_0_7',\n",
       "  'pixel_1_0',\n",
       "  'pixel_1_1',\n",
       "  'pixel_1_2',\n",
       "  'pixel_1_3',\n",
       "  'pixel_1_4',\n",
       "  'pixel_1_5',\n",
       "  'pixel_1_6',\n",
       "  'pixel_1_7',\n",
       "  'pixel_2_0',\n",
       "  'pixel_2_1',\n",
       "  'pixel_2_2',\n",
       "  'pixel_2_3',\n",
       "  'pixel_2_4',\n",
       "  'pixel_2_5',\n",
       "  'pixel_2_6',\n",
       "  'pixel_2_7',\n",
       "  'pixel_3_0',\n",
       "  'pixel_3_1',\n",
       "  'pixel_3_2',\n",
       "  'pixel_3_3',\n",
       "  'pixel_3_4',\n",
       "  'pixel_3_5',\n",
       "  'pixel_3_6',\n",
       "  'pixel_3_7',\n",
       "  'pixel_4_0',\n",
       "  'pixel_4_1',\n",
       "  'pixel_4_2',\n",
       "  'pixel_4_3',\n",
       "  'pixel_4_4',\n",
       "  'pixel_4_5',\n",
       "  'pixel_4_6',\n",
       "  'pixel_4_7',\n",
       "  'pixel_5_0',\n",
       "  'pixel_5_1',\n",
       "  'pixel_5_2',\n",
       "  'pixel_5_3',\n",
       "  'pixel_5_4',\n",
       "  'pixel_5_5',\n",
       "  'pixel_5_6',\n",
       "  'pixel_5_7',\n",
       "  'pixel_6_0',\n",
       "  'pixel_6_1',\n",
       "  'pixel_6_2',\n",
       "  'pixel_6_3',\n",
       "  'pixel_6_4',\n",
       "  'pixel_6_5',\n",
       "  'pixel_6_6',\n",
       "  'pixel_6_7',\n",
       "  'pixel_7_0',\n",
       "  'pixel_7_1',\n",
       "  'pixel_7_2',\n",
       "  'pixel_7_3',\n",
       "  'pixel_7_4',\n",
       "  'pixel_7_5',\n",
       "  'pixel_7_6',\n",
       "  'pixel_7_7'],\n",
       " 'target_names': array([0, 1, 2, 3, 4, 5, 6, 7, 8, 9]),\n",
       " 'images': array([[[ 0.,  0.,  5., ...,  1.,  0.,  0.],\n",
       "         [ 0.,  0., 13., ..., 15.,  5.,  0.],\n",
       "         [ 0.,  3., 15., ..., 11.,  8.,  0.],\n",
       "         ...,\n",
       "         [ 0.,  4., 11., ..., 12.,  7.,  0.],\n",
       "         [ 0.,  2., 14., ..., 12.,  0.,  0.],\n",
       "         [ 0.,  0.,  6., ...,  0.,  0.,  0.]],\n",
       " \n",
       "        [[ 0.,  0.,  0., ...,  5.,  0.,  0.],\n",
       "         [ 0.,  0.,  0., ...,  9.,  0.,  0.],\n",
       "         [ 0.,  0.,  3., ...,  6.,  0.,  0.],\n",
       "         ...,\n",
       "         [ 0.,  0.,  1., ...,  6.,  0.,  0.],\n",
       "         [ 0.,  0.,  1., ...,  6.,  0.,  0.],\n",
       "         [ 0.,  0.,  0., ..., 10.,  0.,  0.]],\n",
       " \n",
       "        [[ 0.,  0.,  0., ..., 12.,  0.,  0.],\n",
       "         [ 0.,  0.,  3., ..., 14.,  0.,  0.],\n",
       "         [ 0.,  0.,  8., ..., 16.,  0.,  0.],\n",
       "         ...,\n",
       "         [ 0.,  9., 16., ...,  0.,  0.,  0.],\n",
       "         [ 0.,  3., 13., ..., 11.,  5.,  0.],\n",
       "         [ 0.,  0.,  0., ..., 16.,  9.,  0.]],\n",
       " \n",
       "        ...,\n",
       " \n",
       "        [[ 0.,  0.,  1., ...,  1.,  0.,  0.],\n",
       "         [ 0.,  0., 13., ...,  2.,  1.,  0.],\n",
       "         [ 0.,  0., 16., ..., 16.,  5.,  0.],\n",
       "         ...,\n",
       "         [ 0.,  0., 16., ..., 15.,  0.,  0.],\n",
       "         [ 0.,  0., 15., ..., 16.,  0.,  0.],\n",
       "         [ 0.,  0.,  2., ...,  6.,  0.,  0.]],\n",
       " \n",
       "        [[ 0.,  0.,  2., ...,  0.,  0.,  0.],\n",
       "         [ 0.,  0., 14., ..., 15.,  1.,  0.],\n",
       "         [ 0.,  4., 16., ..., 16.,  7.,  0.],\n",
       "         ...,\n",
       "         [ 0.,  0.,  0., ..., 16.,  2.,  0.],\n",
       "         [ 0.,  0.,  4., ..., 16.,  2.,  0.],\n",
       "         [ 0.,  0.,  5., ..., 12.,  0.,  0.]],\n",
       " \n",
       "        [[ 0.,  0., 10., ...,  1.,  0.,  0.],\n",
       "         [ 0.,  2., 16., ...,  1.,  0.,  0.],\n",
       "         [ 0.,  0., 15., ..., 15.,  0.,  0.],\n",
       "         ...,\n",
       "         [ 0.,  4., 16., ..., 16.,  6.,  0.],\n",
       "         [ 0.,  8., 16., ..., 16.,  8.,  0.],\n",
       "         [ 0.,  1.,  8., ..., 12.,  1.,  0.]]]),\n",
       " 'DESCR': \".. _digits_dataset:\\n\\nOptical recognition of handwritten digits dataset\\n--------------------------------------------------\\n\\n**Data Set Characteristics:**\\n\\n    :Number of Instances: 1797\\n    :Number of Attributes: 64\\n    :Attribute Information: 8x8 image of integer pixels in the range 0..16.\\n    :Missing Attribute Values: None\\n    :Creator: E. Alpaydin (alpaydin '@' boun.edu.tr)\\n    :Date: July; 1998\\n\\nThis is a copy of the test set of the UCI ML hand-written digits datasets\\nhttps://archive.ics.uci.edu/ml/datasets/Optical+Recognition+of+Handwritten+Digits\\n\\nThe data set contains images of hand-written digits: 10 classes where\\neach class refers to a digit.\\n\\nPreprocessing programs made available by NIST were used to extract\\nnormalized bitmaps of handwritten digits from a preprinted form. From a\\ntotal of 43 people, 30 contributed to the training set and different 13\\nto the test set. 32x32 bitmaps are divided into nonoverlapping blocks of\\n4x4 and the number of on pixels are counted in each block. This generates\\nan input matrix of 8x8 where each element is an integer in the range\\n0..16. This reduces dimensionality and gives invariance to small\\ndistortions.\\n\\nFor info on NIST preprocessing routines, see M. D. Garris, J. L. Blue, G.\\nT. Candela, D. L. Dimmick, J. Geist, P. J. Grother, S. A. Janet, and C.\\nL. Wilson, NIST Form-Based Handprint Recognition System, NISTIR 5469,\\n1994.\\n\\n.. topic:: References\\n\\n  - C. Kaynak (1995) Methods of Combining Multiple Classifiers and Their\\n    Applications to Handwritten Digit Recognition, MSc Thesis, Institute of\\n    Graduate Studies in Science and Engineering, Bogazici University.\\n  - E. Alpaydin, C. Kaynak (1998) Cascading Classifiers, Kybernetika.\\n  - Ken Tang and Ponnuthurai N. Suganthan and Xi Yao and A. Kai Qin.\\n    Linear dimensionalityreduction using relevance weighted LDA. School of\\n    Electrical and Electronic Engineering Nanyang Technological University.\\n    2005.\\n  - Claudio Gentile. A New Approximate Maximal Margin Classification\\n    Algorithm. NIPS. 2000.\\n\"}"
      ]
     },
     "execution_count": 6,
     "metadata": {},
     "output_type": "execute_result"
    }
   ],
   "source": [
    "digits          #This type of datatsets in unsupervised Data"
   ]
  },
  {
   "cell_type": "code",
   "execution_count": 7,
   "id": "6b12be01",
   "metadata": {},
   "outputs": [
    {
     "data": {
      "text/plain": [
       "<matplotlib.image.AxesImage at 0x1a5a6ff7610>"
      ]
     },
     "execution_count": 7,
     "metadata": {},
     "output_type": "execute_result"
    },
    {
     "data": {
      "image/png": "[encoded data removed]",
      "text/plain": [
       "<Figure size 640x480 with 1 Axes>"
      ]
     },
     "metadata": {},
     "output_type": "display_data"
    }
   ],
   "source": [
    "# plot one of the image\n",
    "plt.imshow(digits.images[0],cmap=plt.cm.gray)"
   ]
  },
  {
   "cell_type": "code",
   "execution_count": 8,
   "id": "e2de9d01",
   "metadata": {},
   "outputs": [
    {
     "data": {
      "text/plain": [
       "<matplotlib.image.AxesImage at 0x1a5a72388d0>"
      ]
     },
     "execution_count": 8,
     "metadata": {},
     "output_type": "execute_result"
    },
    {
     "data": {
      "image/png": "[encoded data removed]",
      "text/plain": [
       "<Figure size 640x480 with 1 Axes>"
      ]
     },
     "metadata": {},
     "output_type": "display_data"
    }
   ],
   "source": [
    "plt.imshow(digits.images[220], cmap=plt.cm.gray)"
   ]
  },
  {
   "cell_type": "code",
   "execution_count": 9,
   "id": "09a1ff4e",
   "metadata": {},
   "outputs": [
    {
     "data": {
      "text/plain": [
       "<matplotlib.image.AxesImage at 0x1a5a7288610>"
      ]
     },
     "execution_count": 9,
     "metadata": {},
     "output_type": "execute_result"
    },
    {
     "data": {
      "image/png": "[encoded data removed]",
      "text/plain": [
       "<Figure size 640x480 with 1 Axes>"
      ]
     },
     "metadata": {},
     "output_type": "display_data"
    }
   ],
   "source": [
    "plt.imshow(digits.images[220]) #if you want the imaige in gray, but not provide the best visuals"
   ]
  },
  {
   "cell_type": "code",
   "execution_count": 10,
   "id": "7970bd3f",
   "metadata": {},
   "outputs": [
    {
     "data": {
      "text/html": [
       "<div>\n",
       "<style scoped>\n",
       "    .dataframe tbody tr th:only-of-type {\n",
       "        vertical-align: middle;\n",
       "    }\n",
       "\n",
       "    .dataframe tbody tr th {\n",
       "        vertical-align: top;\n",
       "    }\n",
       "\n",
       "    .dataframe thead th {\n",
       "        text-align: right;\n",
       "    }\n",
       "</style>\n",
       "<table border=\"1\" class=\"dataframe\">\n",
       "  <thead>\n",
       "    <tr style=\"text-align: right;\">\n",
       "      <th></th>\n",
       "      <th>0</th>\n",
       "      <th>1</th>\n",
       "      <th>2</th>\n",
       "      <th>3</th>\n",
       "      <th>4</th>\n",
       "      <th>5</th>\n",
       "      <th>6</th>\n",
       "      <th>7</th>\n",
       "      <th>8</th>\n",
       "      <th>9</th>\n",
       "      <th>...</th>\n",
       "      <th>54</th>\n",
       "      <th>55</th>\n",
       "      <th>56</th>\n",
       "      <th>57</th>\n",
       "      <th>58</th>\n",
       "      <th>59</th>\n",
       "      <th>60</th>\n",
       "      <th>61</th>\n",
       "      <th>62</th>\n",
       "      <th>63</th>\n",
       "    </tr>\n",
       "  </thead>\n",
       "  <tbody>\n",
       "    <tr>\n",
       "      <th>0</th>\n",
       "      <td>0.0</td>\n",
       "      <td>0.0</td>\n",
       "      <td>5.0</td>\n",
       "      <td>13.0</td>\n",
       "      <td>9.0</td>\n",
       "      <td>1.0</td>\n",
       "      <td>0.0</td>\n",
       "      <td>0.0</td>\n",
       "      <td>0.0</td>\n",
       "      <td>0.0</td>\n",
       "      <td>...</td>\n",
       "      <td>0.0</td>\n",
       "      <td>0.0</td>\n",
       "      <td>0.0</td>\n",
       "      <td>0.0</td>\n",
       "      <td>6.0</td>\n",
       "      <td>13.0</td>\n",
       "      <td>10.0</td>\n",
       "      <td>0.0</td>\n",
       "      <td>0.0</td>\n",
       "      <td>0.0</td>\n",
       "    </tr>\n",
       "    <tr>\n",
       "      <th>1</th>\n",
       "      <td>0.0</td>\n",
       "      <td>0.0</td>\n",
       "      <td>0.0</td>\n",
       "      <td>12.0</td>\n",
       "      <td>13.0</td>\n",
       "      <td>5.0</td>\n",
       "      <td>0.0</td>\n",
       "      <td>0.0</td>\n",
       "      <td>0.0</td>\n",
       "      <td>0.0</td>\n",
       "      <td>...</td>\n",
       "      <td>0.0</td>\n",
       "      <td>0.0</td>\n",
       "      <td>0.0</td>\n",
       "      <td>0.0</td>\n",
       "      <td>0.0</td>\n",
       "      <td>11.0</td>\n",
       "      <td>16.0</td>\n",
       "      <td>10.0</td>\n",
       "      <td>0.0</td>\n",
       "      <td>0.0</td>\n",
       "    </tr>\n",
       "    <tr>\n",
       "      <th>2</th>\n",
       "      <td>0.0</td>\n",
       "      <td>0.0</td>\n",
       "      <td>0.0</td>\n",
       "      <td>4.0</td>\n",
       "      <td>15.0</td>\n",
       "      <td>12.0</td>\n",
       "      <td>0.0</td>\n",
       "      <td>0.0</td>\n",
       "      <td>0.0</td>\n",
       "      <td>0.0</td>\n",
       "      <td>...</td>\n",
       "      <td>5.0</td>\n",
       "      <td>0.0</td>\n",
       "      <td>0.0</td>\n",
       "      <td>0.0</td>\n",
       "      <td>0.0</td>\n",
       "      <td>3.0</td>\n",
       "      <td>11.0</td>\n",
       "      <td>16.0</td>\n",
       "      <td>9.0</td>\n",
       "      <td>0.0</td>\n",
       "    </tr>\n",
       "    <tr>\n",
       "      <th>3</th>\n",
       "      <td>0.0</td>\n",
       "      <td>0.0</td>\n",
       "      <td>7.0</td>\n",
       "      <td>15.0</td>\n",
       "      <td>13.0</td>\n",
       "      <td>1.0</td>\n",
       "      <td>0.0</td>\n",
       "      <td>0.0</td>\n",
       "      <td>0.0</td>\n",
       "      <td>8.0</td>\n",
       "      <td>...</td>\n",
       "      <td>9.0</td>\n",
       "      <td>0.0</td>\n",
       "      <td>0.0</td>\n",
       "      <td>0.0</td>\n",
       "      <td>7.0</td>\n",
       "      <td>13.0</td>\n",
       "      <td>13.0</td>\n",
       "      <td>9.0</td>\n",
       "      <td>0.0</td>\n",
       "      <td>0.0</td>\n",
       "    </tr>\n",
       "    <tr>\n",
       "      <th>4</th>\n",
       "      <td>0.0</td>\n",
       "      <td>0.0</td>\n",
       "      <td>0.0</td>\n",
       "      <td>1.0</td>\n",
       "      <td>11.0</td>\n",
       "      <td>0.0</td>\n",
       "      <td>0.0</td>\n",
       "      <td>0.0</td>\n",
       "      <td>0.0</td>\n",
       "      <td>0.0</td>\n",
       "      <td>...</td>\n",
       "      <td>0.0</td>\n",
       "      <td>0.0</td>\n",
       "      <td>0.0</td>\n",
       "      <td>0.0</td>\n",
       "      <td>0.0</td>\n",
       "      <td>2.0</td>\n",
       "      <td>16.0</td>\n",
       "      <td>4.0</td>\n",
       "      <td>0.0</td>\n",
       "      <td>0.0</td>\n",
       "    </tr>\n",
       "    <tr>\n",
       "      <th>...</th>\n",
       "      <td>...</td>\n",
       "      <td>...</td>\n",
       "      <td>...</td>\n",
       "      <td>...</td>\n",
       "      <td>...</td>\n",
       "      <td>...</td>\n",
       "      <td>...</td>\n",
       "      <td>...</td>\n",
       "      <td>...</td>\n",
       "      <td>...</td>\n",
       "      <td>...</td>\n",
       "      <td>...</td>\n",
       "      <td>...</td>\n",
       "      <td>...</td>\n",
       "      <td>...</td>\n",
       "      <td>...</td>\n",
       "      <td>...</td>\n",
       "      <td>...</td>\n",
       "      <td>...</td>\n",
       "      <td>...</td>\n",
       "      <td>...</td>\n",
       "    </tr>\n",
       "    <tr>\n",
       "      <th>1792</th>\n",
       "      <td>0.0</td>\n",
       "      <td>0.0</td>\n",
       "      <td>4.0</td>\n",
       "      <td>10.0</td>\n",
       "      <td>13.0</td>\n",
       "      <td>6.0</td>\n",
       "      <td>0.0</td>\n",
       "      <td>0.0</td>\n",
       "      <td>0.0</td>\n",
       "      <td>1.0</td>\n",
       "      <td>...</td>\n",
       "      <td>4.0</td>\n",
       "      <td>0.0</td>\n",
       "      <td>0.0</td>\n",
       "      <td>0.0</td>\n",
       "      <td>2.0</td>\n",
       "      <td>14.0</td>\n",
       "      <td>15.0</td>\n",
       "      <td>9.0</td>\n",
       "      <td>0.0</td>\n",
       "      <td>0.0</td>\n",
       "    </tr>\n",
       "    <tr>\n",
       "      <th>1793</th>\n",
       "      <td>0.0</td>\n",
       "      <td>0.0</td>\n",
       "      <td>6.0</td>\n",
       "      <td>16.0</td>\n",
       "      <td>13.0</td>\n",
       "      <td>11.0</td>\n",
       "      <td>1.0</td>\n",
       "      <td>0.0</td>\n",
       "      <td>0.0</td>\n",
       "      <td>0.0</td>\n",
       "      <td>...</td>\n",
       "      <td>1.0</td>\n",
       "      <td>0.0</td>\n",
       "      <td>0.0</td>\n",
       "      <td>0.0</td>\n",
       "      <td>6.0</td>\n",
       "      <td>16.0</td>\n",
       "      <td>14.0</td>\n",
       "      <td>6.0</td>\n",
       "      <td>0.0</td>\n",
       "      <td>0.0</td>\n",
       "    </tr>\n",
       "    <tr>\n",
       "      <th>1794</th>\n",
       "      <td>0.0</td>\n",
       "      <td>0.0</td>\n",
       "      <td>1.0</td>\n",
       "      <td>11.0</td>\n",
       "      <td>15.0</td>\n",
       "      <td>1.0</td>\n",
       "      <td>0.0</td>\n",
       "      <td>0.0</td>\n",
       "      <td>0.0</td>\n",
       "      <td>0.0</td>\n",
       "      <td>...</td>\n",
       "      <td>0.0</td>\n",
       "      <td>0.0</td>\n",
       "      <td>0.0</td>\n",
       "      <td>0.0</td>\n",
       "      <td>2.0</td>\n",
       "      <td>9.0</td>\n",
       "      <td>13.0</td>\n",
       "      <td>6.0</td>\n",
       "      <td>0.0</td>\n",
       "      <td>0.0</td>\n",
       "    </tr>\n",
       "    <tr>\n",
       "      <th>1795</th>\n",
       "      <td>0.0</td>\n",
       "      <td>0.0</td>\n",
       "      <td>2.0</td>\n",
       "      <td>10.0</td>\n",
       "      <td>7.0</td>\n",
       "      <td>0.0</td>\n",
       "      <td>0.0</td>\n",
       "      <td>0.0</td>\n",
       "      <td>0.0</td>\n",
       "      <td>0.0</td>\n",
       "      <td>...</td>\n",
       "      <td>2.0</td>\n",
       "      <td>0.0</td>\n",
       "      <td>0.0</td>\n",
       "      <td>0.0</td>\n",
       "      <td>5.0</td>\n",
       "      <td>12.0</td>\n",
       "      <td>16.0</td>\n",
       "      <td>12.0</td>\n",
       "      <td>0.0</td>\n",
       "      <td>0.0</td>\n",
       "    </tr>\n",
       "    <tr>\n",
       "      <th>1796</th>\n",
       "      <td>0.0</td>\n",
       "      <td>0.0</td>\n",
       "      <td>10.0</td>\n",
       "      <td>14.0</td>\n",
       "      <td>8.0</td>\n",
       "      <td>1.0</td>\n",
       "      <td>0.0</td>\n",
       "      <td>0.0</td>\n",
       "      <td>0.0</td>\n",
       "      <td>2.0</td>\n",
       "      <td>...</td>\n",
       "      <td>8.0</td>\n",
       "      <td>0.0</td>\n",
       "      <td>0.0</td>\n",
       "      <td>1.0</td>\n",
       "      <td>8.0</td>\n",
       "      <td>12.0</td>\n",
       "      <td>14.0</td>\n",
       "      <td>12.0</td>\n",
       "      <td>1.0</td>\n",
       "      <td>0.0</td>\n",
       "    </tr>\n",
       "  </tbody>\n",
       "</table>\n",
       "<p>1797 rows × 64 columns</p>\n",
       "</div>"
      ],
      "text/plain": [
       "       0    1     2     3     4     5    6    7    8    9   ...   54   55  \\\n",
       "0     0.0  0.0   5.0  13.0   9.0   1.0  0.0  0.0  0.0  0.0  ...  0.0  0.0   \n",
       "1     0.0  0.0   0.0  12.0  13.0   5.0  0.0  0.0  0.0  0.0  ...  0.0  0.0   \n",
       "2     0.0  0.0   0.0   4.0  15.0  12.0  0.0  0.0  0.0  0.0  ...  5.0  0.0   \n",
       "3     0.0  0.0   7.0  15.0  13.0   1.0  0.0  0.0  0.0  8.0  ...  9.0  0.0   \n",
       "4     0.0  0.0   0.0   1.0  11.0   0.0  0.0  0.0  0.0  0.0  ...  0.0  0.0   \n",
       "...   ...  ...   ...   ...   ...   ...  ...  ...  ...  ...  ...  ...  ...   \n",
       "1792  0.0  0.0   4.0  10.0  13.0   6.0  0.0  0.0  0.0  1.0  ...  4.0  0.0   \n",
       "1793  0.0  0.0   6.0  16.0  13.0  11.0  1.0  0.0  0.0  0.0  ...  1.0  0.0   \n",
       "1794  0.0  0.0   1.0  11.0  15.0   1.0  0.0  0.0  0.0  0.0  ...  0.0  0.0   \n",
       "1795  0.0  0.0   2.0  10.0   7.0   0.0  0.0  0.0  0.0  0.0  ...  2.0  0.0   \n",
       "1796  0.0  0.0  10.0  14.0   8.0   1.0  0.0  0.0  0.0  2.0  ...  8.0  0.0   \n",
       "\n",
       "       56   57   58    59    60    61   62   63  \n",
       "0     0.0  0.0  6.0  13.0  10.0   0.0  0.0  0.0  \n",
       "1     0.0  0.0  0.0  11.0  16.0  10.0  0.0  0.0  \n",
       "2     0.0  0.0  0.0   3.0  11.0  16.0  9.0  0.0  \n",
       "3     0.0  0.0  7.0  13.0  13.0   9.0  0.0  0.0  \n",
       "4     0.0  0.0  0.0   2.0  16.0   4.0  0.0  0.0  \n",
       "...   ...  ...  ...   ...   ...   ...  ...  ...  \n",
       "1792  0.0  0.0  2.0  14.0  15.0   9.0  0.0  0.0  \n",
       "1793  0.0  0.0  6.0  16.0  14.0   6.0  0.0  0.0  \n",
       "1794  0.0  0.0  2.0   9.0  13.0   6.0  0.0  0.0  \n",
       "1795  0.0  0.0  5.0  12.0  16.0  12.0  0.0  0.0  \n",
       "1796  0.0  1.0  8.0  12.0  14.0  12.0  1.0  0.0  \n",
       "\n",
       "[1797 rows x 64 columns]"
      ]
     },
     "execution_count": 10,
     "metadata": {},
     "output_type": "execute_result"
    }
   ],
   "source": [
    "data1=pd.DataFrame(digits.data)\n",
    "data1"
   ]
  },
  {
   "cell_type": "code",
   "execution_count": 11,
   "id": "a8dc5f8c",
   "metadata": {},
   "outputs": [
    {
     "data": {
      "image/png": "[encoded data removed]",
      "text/plain": [
       "<Figure size 1500x400 with 5 Axes>"
      ]
     },
     "metadata": {},
     "output_type": "display_data"
    }
   ],
   "source": [
    "plt.figure(figsize=(15,4))\n",
    "for index,(image,label)in enumerate(zip(digits.data[0:5],digits.target[0:5])):\n",
    "    plt.subplot(1,5,index+1)\n",
    "    plt.imshow(np.reshape(image,(8,8)),cmap=plt.cm.gray)\n",
    "    plt.title(f'Training: {label}',fontsize=20)"
   ]
  },
  {
   "cell_type": "code",
   "execution_count": 12,
   "id": "c10cee30",
   "metadata": {},
   "outputs": [
    {
     "data": {
      "image/png": "[encoded data removed]",
      "text/plain": [
       "<Figure size 1500x400 with 5 Axes>"
      ]
     },
     "metadata": {},
     "output_type": "display_data"
    }
   ],
   "source": [
    "plt.figure(figsize=(15,4))\n",
    "for index, (image,label)in enumerate(zip(digits.data[0:5],digits.target[0:5])):\n",
    "    plt.subplot(1,5,index+1)\n",
    "    plt.imshow(np.reshape(image,(8,8)),cmap=plt.cm.gray)\n",
    "    plt.title(f\"Traning: {label}\",fontsize=20)"
   ]
  },
  {
   "cell_type": "code",
   "execution_count": 13,
   "id": "fc85698d",
   "metadata": {},
   "outputs": [
    {
     "name": "stdout",
     "output_type": "stream",
     "text": [
      "Index 0:  a\n",
      "Index 1:  b\n",
      "Index 2:  c\n",
      "Index 3:  d\n"
     ]
    }
   ],
   "source": [
    "#ex=\n",
    "letters=['a','b','c','d']\n",
    "for index,letter in enumerate(letters):\n",
    "  print(f'Index {index}:  {letter}')"
   ]
  },
  {
   "cell_type": "code",
   "execution_count": 14,
   "id": "c3594e8c",
   "metadata": {},
   "outputs": [
    {
     "name": "stdout",
     "output_type": "stream",
     "text": [
      "9 a\n",
      "6 b\n",
      "5 c\n"
     ]
    }
   ],
   "source": [
    "number=[9,6,5]\n",
    "letters=['a','b','c']\n",
    "a=zip(number,letters)\n",
    "for number,letter in a:\n",
    " print(number,letter)"
   ]
  },
  {
   "cell_type": "code",
   "execution_count": 15,
   "id": "485cabb0",
   "metadata": {},
   "outputs": [
    {
     "data": {
      "text/plain": [
       "(1797, 8, 8)"
      ]
     },
     "execution_count": 15,
     "metadata": {},
     "output_type": "execute_result"
    }
   ],
   "source": [
    "digits.images.shape"
   ]
  },
  {
   "cell_type": "code",
   "execution_count": 16,
   "id": "6e51d874",
   "metadata": {},
   "outputs": [
    {
     "data": {
      "text/plain": [
       "(1797, 64)"
      ]
     },
     "execution_count": 16,
     "metadata": {},
     "output_type": "execute_result"
    }
   ],
   "source": [
    "digits.data.shape"
   ]
  },
  {
   "cell_type": "code",
   "execution_count": 17,
   "id": "e78a769e",
   "metadata": {},
   "outputs": [],
   "source": [
    "x=digits.data\n",
    "y=digits.target"
   ]
  },
  {
   "cell_type": "code",
   "execution_count": 18,
   "id": "f9c6e643",
   "metadata": {},
   "outputs": [
    {
     "data": {
      "text/plain": [
       "array([[ 0.,  0.,  5., ...,  0.,  0.,  0.],\n",
       "       [ 0.,  0.,  0., ..., 10.,  0.,  0.],\n",
       "       [ 0.,  0.,  0., ..., 16.,  9.,  0.],\n",
       "       ...,\n",
       "       [ 0.,  0.,  1., ...,  6.,  0.,  0.],\n",
       "       [ 0.,  0.,  2., ..., 12.,  0.,  0.],\n",
       "       [ 0.,  0., 10., ..., 12.,  1.,  0.]])"
      ]
     },
     "execution_count": 18,
     "metadata": {},
     "output_type": "execute_result"
    }
   ],
   "source": [
    "x"
   ]
  },
  {
   "cell_type": "code",
   "execution_count": 19,
   "id": "3fa54b04",
   "metadata": {},
   "outputs": [
    {
     "data": {
      "text/plain": [
       "array([0, 1, 2, ..., 8, 9, 8])"
      ]
     },
     "execution_count": 19,
     "metadata": {},
     "output_type": "execute_result"
    }
   ],
   "source": [
    "y"
   ]
  },
  {
   "cell_type": "markdown",
   "id": "c10b23a2",
   "metadata": {},
   "source": [
    "**Data Standardization**"
   ]
  },
  {
   "cell_type": "code",
   "execution_count": 20,
   "id": "8c1459bd",
   "metadata": {},
   "outputs": [],
   "source": [
    "from sklearn.preprocessing import StandardScaler"
   ]
  },
  {
   "cell_type": "code",
   "execution_count": 21,
   "id": "2e2f17e1",
   "metadata": {},
   "outputs": [],
   "source": [
    "X_std=StandardScaler().fit_transform(x)"
   ]
  },
  {
   "cell_type": "code",
   "execution_count": 22,
   "id": "7de9c56b",
   "metadata": {},
   "outputs": [
    {
     "data": {
      "text/plain": [
       "(1797, 64)"
      ]
     },
     "execution_count": 22,
     "metadata": {},
     "output_type": "execute_result"
    }
   ],
   "source": [
    "X_std.shape       \n",
    "#normalization Range (-1, 1)\n",
    "#standardization Range( any), #mean=0, std=1"
   ]
  },
  {
   "cell_type": "code",
   "execution_count": 23,
   "id": "ae5bccda",
   "metadata": {},
   "outputs": [
    {
     "data": {
      "text/plain": [
       "array([[ 0.        , -0.33501649, -0.04308102, ..., -1.14664746,\n",
       "        -0.5056698 , -0.19600752],\n",
       "       [ 0.        , -0.33501649, -1.09493684, ...,  0.54856067,\n",
       "        -0.5056698 , -0.19600752],\n",
       "       [ 0.        , -0.33501649, -1.09493684, ...,  1.56568555,\n",
       "         1.6951369 , -0.19600752],\n",
       "       ...,\n",
       "       [ 0.        , -0.33501649, -0.88456568, ..., -0.12952258,\n",
       "        -0.5056698 , -0.19600752],\n",
       "       [ 0.        , -0.33501649, -0.67419451, ...,  0.8876023 ,\n",
       "        -0.5056698 , -0.19600752],\n",
       "       [ 0.        , -0.33501649,  1.00877481, ...,  0.8876023 ,\n",
       "        -0.26113572, -0.19600752]])"
      ]
     },
     "execution_count": 23,
     "metadata": {},
     "output_type": "execute_result"
    }
   ],
   "source": [
    "X_std"
   ]
  },
  {
   "cell_type": "code",
   "execution_count": 24,
   "id": "d5848fcc",
   "metadata": {},
   "outputs": [],
   "source": [
    "cov_mt=np.cov(X_std.T)"
   ]
  },
  {
   "cell_type": "code",
   "execution_count": 25,
   "id": "7120a3da",
   "metadata": {},
   "outputs": [
    {
     "data": {
      "text/plain": [
       "array([[ 0.        ,  0.        ,  0.        , ...,  0.        ,\n",
       "         0.        ,  0.        ],\n",
       "       [ 0.        ,  1.00055679,  0.55692803, ..., -0.02988686,\n",
       "         0.02656195, -0.04391324],\n",
       "       [ 0.        ,  0.55692803,  1.00055679, ..., -0.04120565,\n",
       "         0.07263924,  0.08256908],\n",
       "       ...,\n",
       "       [ 0.        , -0.02988686, -0.04120565, ...,  1.00055679,\n",
       "         0.64868875,  0.26213704],\n",
       "       [ 0.        ,  0.02656195,  0.07263924, ...,  0.64868875,\n",
       "         1.00055679,  0.62077355],\n",
       "       [ 0.        , -0.04391324,  0.08256908, ...,  0.26213704,\n",
       "         0.62077355,  1.00055679]])"
      ]
     },
     "execution_count": 25,
     "metadata": {},
     "output_type": "execute_result"
    }
   ],
   "source": [
    "cov_mt"
   ]
  },
  {
   "cell_type": "code",
   "execution_count": 26,
   "id": "248c607e",
   "metadata": {},
   "outputs": [
    {
     "data": {
      "text/plain": [
       "(64, 64)"
      ]
     },
     "execution_count": 26,
     "metadata": {},
     "output_type": "execute_result"
    }
   ],
   "source": [
    "cov_mt.shape"
   ]
  },
  {
   "cell_type": "code",
   "execution_count": 27,
   "id": "9843d7e7",
   "metadata": {},
   "outputs": [],
   "source": [
    "eig_vals,eig_vecs=np.linalg.eig(cov_mt) #eig_val = tell u how much we  can compress or stretch the columns/image"
   ]
  },
  {
   "cell_type": "code",
   "execution_count": 28,
   "id": "5591ae67",
   "metadata": {},
   "outputs": [
    {
     "data": {
      "text/plain": [
       "array([7.34477606, 5.83549054, 5.15396118, 3.96623597, 2.9663452 ,\n",
       "       2.57204442, 2.40600941, 2.06867355, 1.82993314, 1.78951739,\n",
       "       1.69784616, 1.57287889, 1.38870781, 1.35933609, 1.32152536,\n",
       "       1.16829176, 1.08368678, 0.99977862, 0.97438293, 0.90891242,\n",
       "       0.82271926, 0.77631014, 0.71155675, 0.64552365, 0.59527399,\n",
       "       0.5765018 , 0.52673155, 0.5106363 , 0.48686381, 0.45560107,\n",
       "       0.44285155, 0.42230086, 0.3991063 , 0.39110111, 0.36094517,\n",
       "       0.34860306, 0.3195963 , 0.29406627, 0.05037444, 0.27692285,\n",
       "       0.06328961, 0.258273  , 0.24783029, 0.2423566 , 0.07635394,\n",
       "       0.08246812, 0.09018543, 0.09840876, 0.10250434, 0.11188655,\n",
       "       0.11932898, 0.12426371, 0.13321081, 0.14311427, 0.217582  ,\n",
       "       0.15818474, 0.16875236, 0.20799593, 0.17612894, 0.2000909 ,\n",
       "       0.18983516, 0.        , 0.        , 0.        ])"
      ]
     },
     "execution_count": 28,
     "metadata": {},
     "output_type": "execute_result"
    }
   ],
   "source": [
    "eig_vals"
   ]
  },
  {
   "cell_type": "code",
   "execution_count": 29,
   "id": "47fd441e",
   "metadata": {},
   "outputs": [
    {
     "data": {
      "text/plain": [
       "[12.033916097734885,\n",
       " 9.561054403097872,\n",
       " 8.444414892624543,\n",
       " 6.4984079075241645,\n",
       " 4.860154875966422,\n",
       " 4.2141198692719675,\n",
       " 3.942082803567378,\n",
       " 3.3893809246383215,\n",
       " 2.998221011625244,\n",
       " 2.932002551252216,\n",
       " 2.7818054635503366,\n",
       " 2.577055092581991,\n",
       " 2.2753033157642486,\n",
       " 2.2271797395143507,\n",
       " 2.165229431849233,\n",
       " 1.9141666064421274,\n",
       " 1.775547085168222,\n",
       " 1.6380692742844216,\n",
       " 1.596460168862363,\n",
       " 1.4891911870878283,\n",
       " 1.3479695658179336,\n",
       " 1.271931370234774,\n",
       " 1.1658373505919528,\n",
       " 1.0576465985363321,\n",
       " 0.975315947198116,\n",
       " 0.9445589897320015,\n",
       " 0.8630138269707271,\n",
       " 0.8366428536685199,\n",
       " 0.7976932484112433,\n",
       " 0.7464713709260655,\n",
       " 0.7255821513702739,\n",
       " 0.6919112454811646,\n",
       " 0.6539085355726142,\n",
       " 0.6407925738459725,\n",
       " 0.5913841117223424,\n",
       " 0.5711624052235278,\n",
       " 0.5236368034166529,\n",
       " 0.4818075864451431,\n",
       " 0.4537192598584551,\n",
       " 0.4231627532327784,\n",
       " 0.4060530699790275,\n",
       " 0.3970848082758248,\n",
       " 0.35649330314260363,\n",
       " 0.3407871814702991,\n",
       " 0.32783533528795195,\n",
       " 0.3110320073453611,\n",
       " 0.2885752941089358,\n",
       " 0.27648926352354614,\n",
       " 0.2591749408814632,\n",
       " 0.23448300553562695,\n",
       " 0.2182568577120042,\n",
       " 0.20359763452537616,\n",
       " 0.19551242601981836,\n",
       " 0.18331849919718524,\n",
       " 0.16794638749557328,\n",
       " 0.1612360622567249,\n",
       " 0.14776269410608406,\n",
       " 0.1351184113370898,\n",
       " 0.12510074249730666,\n",
       " 0.1036957301557108,\n",
       " 0.08253509448179668,\n",
       " 0.0,\n",
       " 0.0,\n",
       " 0.0]"
      ]
     },
     "execution_count": 29,
     "metadata": {},
     "output_type": "execute_result"
    }
   ],
   "source": [
    "tot=sum(eig_vals)             \n",
    "var_exp=[(i/tot)*100  for i in sorted(eig_vals,reverse=True)]  #indiviual explained variance      \n",
    "var_exp"
   ]
  },
  {
   "cell_type": "code",
   "execution_count": 30,
   "id": "8d7363d2",
   "metadata": {},
   "outputs": [
    {
     "data": {
      "text/plain": [
       "array([ 12.0339161 ,  21.5949705 ,  30.03938539,  36.5377933 ,\n",
       "        41.39794818,  45.61206805,  49.55415085,  52.94353177,\n",
       "        55.94175279,  58.87375534,  61.6555608 ,  64.23261589,\n",
       "        66.50791921,  68.73509895,  70.90032838,  72.81449499,\n",
       "        74.59004207,  76.22811135,  77.82457152,  79.3137627 ,\n",
       "        80.66173227,  81.93366364,  83.09950099,  84.15714759,\n",
       "        85.13246353,  86.07702252,  86.94003635,  87.77667921,\n",
       "        88.57437245,  89.32084382,  90.04642598,  90.73833722,\n",
       "        91.39224576,  92.03303833,  92.62442244,  93.19558485,\n",
       "        93.71922165,  94.20102924,  94.6547485 ,  95.07791125,\n",
       "        95.48396432,  95.88104913,  96.23754243,  96.57832961,\n",
       "        96.90616495,  97.21719696,  97.50577225,  97.78226151,\n",
       "        98.04143645,  98.27591946,  98.49417632,  98.69777395,\n",
       "        98.89328638,  99.07660488,  99.24455127,  99.40578733,\n",
       "        99.55355002,  99.68866843,  99.81376918,  99.91746491,\n",
       "       100.        , 100.        , 100.        , 100.        ])"
      ]
     },
     "execution_count": 30,
     "metadata": {},
     "output_type": "execute_result"
    }
   ],
   "source": [
    "cum_var_exp=np.cumsum(var_exp)       #cumulative expression variance\n",
    "cum_var_exp    #how much your data varies"
   ]
  },
  {
   "cell_type": "code",
   "execution_count": 31,
   "id": "30e28a4b",
   "metadata": {},
   "outputs": [
    {
     "data": {
      "image/png": "[encoded data removed]",
      "text/plain": [
       "<Figure size 800x300 with 1 Axes>"
      ]
     },
     "metadata": {},
     "output_type": "display_data"
    }
   ],
   "source": [
    "plt.figure(figsize=(8,3))            \n",
    "plt.bar(range(len(cum_var_exp)),var_exp,label='IEV')\n",
    "plt.step(range(len(cum_var_exp)),cum_var_exp,label='CEV')\n",
    "plt.ylabel('Explainer varinace ratio')\n",
    "plt.xlabel('Principal components')\n",
    "plt.legend()\n",
    "plt.show()"
   ]
  },
  {
   "cell_type": "code",
   "execution_count": 32,
   "id": "d59a4825",
   "metadata": {},
   "outputs": [],
   "source": [
    "from sklearn.model_selection import train_test_split"
   ]
  },
  {
   "cell_type": "code",
   "execution_count": 33,
   "id": "a5d13b3c",
   "metadata": {},
   "outputs": [],
   "source": [
    "x_train,x_test,y_train,y_test=train_test_split(X_std,y,train_size=0.8,random_state=0)"
   ]
  },
  {
   "cell_type": "code",
   "execution_count": 34,
   "id": "7a7c65f4",
   "metadata": {},
   "outputs": [
    {
     "data": {
      "text/plain": [
       "(1437, 64)"
      ]
     },
     "execution_count": 34,
     "metadata": {},
     "output_type": "execute_result"
    }
   ],
   "source": [
    "x_train.shape"
   ]
  },
  {
   "cell_type": "markdown",
   "id": "3acd9b29",
   "metadata": {},
   "source": [
    "# #PCA\n",
    "from sklearn.decomposition import PCA\n",
    "\n",
    " - p = PCA(n_components=0.80)\n",
    " - pca_data = p.fit_transform(X)\n",
    " \n",
    "# after that we will get the important features\n",
    " - pca_data.shape"
   ]
  },
  {
   "cell_type": "code",
   "execution_count": 35,
   "id": "0d346003",
   "metadata": {},
   "outputs": [],
   "source": [
    "pca=PCA(n_components=25)"
   ]
  },
  {
   "cell_type": "code",
   "execution_count": 36,
   "id": "b8d2e040",
   "metadata": {},
   "outputs": [],
   "source": [
    "pca_x_train=pca.fit_transform(x_train)           \n",
    "pca_x_test=pca.transform(x_test)"
   ]
  },
  {
   "cell_type": "code",
   "execution_count": 37,
   "id": "04277516",
   "metadata": {},
   "outputs": [],
   "source": [
    "from sklearn.tree import DecisionTreeClassifier\n",
    "from sklearn.metrics import*"
   ]
  },
  {
   "cell_type": "code",
   "execution_count": 38,
   "id": "033d7409",
   "metadata": {},
   "outputs": [],
   "source": [
    "dt=DecisionTreeClassifier().fit(pca_x_train,y_train)"
   ]
  },
  {
   "cell_type": "code",
   "execution_count": 39,
   "id": "fb2d2cba",
   "metadata": {},
   "outputs": [
    {
     "data": {
      "text/html": [
       "<style>#sk-container-id-1 {color: black;}#sk-container-id-1 pre{padding: 0;}#sk-container-id-1 div.sk-toggleable {background-color: white;}#sk-container-id-1 label.sk-toggleable__label {cursor: pointer;display: block;width: 100%;margin-bottom: 0;padding: 0.3em;box-sizing: border-box;text-align: center;}#sk-container-id-1 label.sk-toggleable__label-arrow:before {content: \"▸\";float: left;margin-right: 0.25em;color: #696969;}#sk-container-id-1 label.sk-toggleable__label-arrow:hover:before {color: black;}#sk-container-id-1 div.sk-estimator:hover label.sk-toggleable__label-arrow:before {color: black;}#sk-container-id-1 div.sk-toggleable__content {max-height: 0;max-width: 0;overflow: hidden;text-align: left;background-color: #f0f8ff;}#sk-container-id-1 div.sk-toggleable__content pre {margin: 0.2em;color: black;border-radius: 0.25em;background-color: #f0f8ff;}#sk-container-id-1 input.sk-toggleable__control:checked~div.sk-toggleable__content {max-height: 200px;max-width: 100%;overflow: auto;}#sk-container-id-1 input.sk-toggleable__control:checked~label.sk-toggleable__label-arrow:before {content: \"▾\";}#sk-container-id-1 div.sk-estimator input.sk-toggleable__control:checked~label.sk-toggleable__label {background-color: #d4ebff;}#sk-container-id-1 div.sk-label input.sk-toggleable__control:checked~label.sk-toggleable__label {background-color: #d4ebff;}#sk-container-id-1 input.sk-hidden--visually {border: 0;clip: rect(1px 1px 1px 1px);clip: rect(1px, 1px, 1px, 1px);height: 1px;margin: -1px;overflow: hidden;padding: 0;position: absolute;width: 1px;}#sk-container-id-1 div.sk-estimator {font-family: monospace;background-color: #f0f8ff;border: 1px dotted black;border-radius: 0.25em;box-sizing: border-box;margin-bottom: 0.5em;}#sk-container-id-1 div.sk-estimator:hover {background-color: #d4ebff;}#sk-container-id-1 div.sk-parallel-item::after {content: \"\";width: 100%;border-bottom: 1px solid gray;flex-grow: 1;}#sk-container-id-1 div.sk-label:hover label.sk-toggleable__label {background-color: #d4ebff;}#sk-container-id-1 div.sk-serial::before {content: \"\";position: absolute;border-left: 1px solid gray;box-sizing: border-box;top: 0;bottom: 0;left: 50%;z-index: 0;}#sk-container-id-1 div.sk-serial {display: flex;flex-direction: column;align-items: center;background-color: white;padding-right: 0.2em;padding-left: 0.2em;position: relative;}#sk-container-id-1 div.sk-item {position: relative;z-index: 1;}#sk-container-id-1 div.sk-parallel {display: flex;align-items: stretch;justify-content: center;background-color: white;position: relative;}#sk-container-id-1 div.sk-item::before, #sk-container-id-1 div.sk-parallel-item::before {content: \"\";position: absolute;border-left: 1px solid gray;box-sizing: border-box;top: 0;bottom: 0;left: 50%;z-index: -1;}#sk-container-id-1 div.sk-parallel-item {display: flex;flex-direction: column;z-index: 1;position: relative;background-color: white;}#sk-container-id-1 div.sk-parallel-item:first-child::after {align-self: flex-end;width: 50%;}#sk-container-id-1 div.sk-parallel-item:last-child::after {align-self: flex-start;width: 50%;}#sk-container-id-1 div.sk-parallel-item:only-child::after {width: 0;}#sk-container-id-1 div.sk-dashed-wrapped {border: 1px dashed gray;margin: 0 0.4em 0.5em 0.4em;box-sizing: border-box;padding-bottom: 0.4em;background-color: white;}#sk-container-id-1 div.sk-label label {font-family: monospace;font-weight: bold;display: inline-block;line-height: 1.2em;}#sk-container-id-1 div.sk-label-container {text-align: center;}#sk-container-id-1 div.sk-container {/* jupyter's `normalize.less` sets `[hidden] { display: none; }` but bootstrap.min.css set `[hidden] { display: none !important; }` so we also need the `!important` here to be able to override the default hidden behavior on the sphinx rendered scikit-learn.org. See: https://github.com/scikit-learn/scikit-learn/issues/21755 */display: inline-block !important;position: relative;}#sk-container-id-1 div.sk-text-repr-fallback {display: none;}</style><div id=\"sk-container-id-1\" class=\"sk-top-container\"><div class=\"sk-text-repr-fallback\"><pre>DecisionTreeClassifier()</pre><b>In a Jupyter environment, please rerun this cell to show the HTML representation or trust the notebook. <br />On GitHub, the HTML representation is unable to render, please try loading this page with nbviewer.org.</b></div><div class=\"sk-container\" hidden><div class=\"sk-item\"><div class=\"sk-estimator sk-toggleable\"><input class=\"sk-toggleable__control sk-hidden--visually\" id=\"sk-estimator-id-1\" type=\"checkbox\" checked><label for=\"sk-estimator-id-1\" class=\"sk-toggleable__label sk-toggleable__label-arrow\">DecisionTreeClassifier</label><div class=\"sk-toggleable__content\"><pre>DecisionTreeClassifier()</pre></div></div></div></div></div>"
      ],
      "text/plain": [
       "DecisionTreeClassifier()"
      ]
     },
     "execution_count": 39,
     "metadata": {},
     "output_type": "execute_result"
    }
   ],
   "source": [
    "dt"
   ]
  },
  {
   "cell_type": "code",
   "execution_count": 40,
   "id": "b5b6ba36",
   "metadata": {},
   "outputs": [],
   "source": [
    "predicted=dt.predict(pca_x_test)"
   ]
  },
  {
   "cell_type": "code",
   "execution_count": 41,
   "id": "87b0487c",
   "metadata": {},
   "outputs": [
    {
     "data": {
      "text/plain": [
       "0.8305555555555556"
      ]
     },
     "execution_count": 41,
     "metadata": {},
     "output_type": "execute_result"
    }
   ],
   "source": [
    "accuracy_score(predicted,y_test)"
   ]
  },
  {
   "cell_type": "code",
   "execution_count": 42,
   "id": "529223a0",
   "metadata": {},
   "outputs": [
    {
     "data": {
      "text/plain": [
       "array([2, 8, 2, 6, 6, 7, 1, 9, 8, 5, 2, 8, 6, 6, 6, 6, 9, 0, 5, 8, 5, 0,\n",
       "       5, 4, 7, 5, 4, 9, 2, 9, 4, 7, 6, 8, 9, 4, 3, 1, 0, 1, 8, 6, 7, 7,\n",
       "       1, 0, 7, 3, 2, 1, 9, 6, 7, 9, 0, 0, 5, 1, 6, 3, 0, 3, 3, 4, 1, 9,\n",
       "       7, 6, 9, 1, 8, 3, 5, 1, 2, 8, 2, 2, 9, 7, 1, 3, 6, 0, 5, 9, 7, 3,\n",
       "       1, 2, 9, 9, 3, 1, 9, 7, 4, 8, 5, 8, 5, 5, 2, 5, 9, 0, 7, 1, 4, 4,\n",
       "       2, 7, 8, 9, 7, 9, 8, 2, 6, 9, 2, 5, 5, 4, 5, 9, 0, 6, 7, 5, 2, 9,\n",
       "       9, 5, 9, 9, 8, 7, 5, 6, 2, 8, 6, 0, 6, 1, 5, 1, 9, 9, 9, 1, 5, 5,\n",
       "       6, 1, 8, 9, 8, 7, 6, 7, 6, 5, 6, 0, 8, 8, 9, 8, 6, 1, 0, 4, 1, 6,\n",
       "       3, 8, 6, 0, 4, 9, 6, 3, 0, 3, 3, 3, 0, 4, 7, 5, 7, 8, 0, 7, 8, 9,\n",
       "       6, 4, 2, 0, 1, 4, 6, 4, 2, 8, 0, 9, 5, 1, 2, 3, 4, 8, 1, 2, 8, 9,\n",
       "       3, 4, 9, 3, 1, 6, 2, 9, 3, 1, 6, 5, 3, 6, 3, 9, 2, 0, 7, 6, 8, 1,\n",
       "       9, 0, 2, 7, 8, 5, 5, 7, 5, 2, 9, 7, 2, 7, 5, 5, 7, 0, 9, 1, 6, 1,\n",
       "       9, 9, 4, 2, 9, 0, 3, 6, 4, 2, 3, 3, 6, 8, 8, 4, 4, 6, 7, 5, 2, 4,\n",
       "       5, 9, 2, 4, 6, 9, 4, 5, 4, 3, 4, 9, 2, 9, 0, 1, 2, 2, 0, 9, 6, 0,\n",
       "       4, 2, 0, 7, 5, 8, 5, 7, 8, 2, 8, 4, 3, 9, 2, 6, 9, 9, 5, 1, 0, 8,\n",
       "       3, 4, 9, 7, 6, 8, 2, 7, 2, 5, 5, 1, 6, 4, 5, 0, 9, 4, 1, 1, 7, 0,\n",
       "       8, 9, 5, 5, 4, 3, 8, 8])"
      ]
     },
     "execution_count": 42,
     "metadata": {},
     "output_type": "execute_result"
    }
   ],
   "source": [
    "predicted # Predicted data"
   ]
  },
  {
   "cell_type": "code",
   "execution_count": 43,
   "id": "dcd7ef43",
   "metadata": {},
   "outputs": [
    {
     "data": {
      "text/plain": [
       "array([2, 8, 2, 6, 6, 7, 1, 9, 8, 5, 2, 8, 6, 6, 6, 6, 1, 0, 5, 8, 8, 7,\n",
       "       8, 4, 7, 5, 4, 9, 2, 9, 4, 7, 6, 8, 9, 4, 3, 1, 0, 1, 8, 6, 7, 7,\n",
       "       1, 0, 7, 6, 2, 1, 9, 6, 7, 9, 0, 0, 5, 1, 6, 3, 0, 2, 3, 4, 1, 9,\n",
       "       2, 6, 9, 1, 8, 3, 5, 1, 2, 8, 2, 2, 9, 7, 2, 3, 6, 0, 5, 3, 7, 5,\n",
       "       1, 2, 9, 9, 3, 1, 7, 7, 4, 8, 5, 8, 5, 5, 2, 5, 9, 0, 7, 1, 4, 7,\n",
       "       3, 4, 8, 9, 7, 9, 8, 2, 6, 5, 2, 5, 8, 4, 8, 7, 0, 6, 1, 5, 9, 9,\n",
       "       9, 5, 9, 9, 5, 7, 5, 6, 2, 8, 6, 9, 6, 1, 5, 1, 5, 9, 9, 1, 5, 3,\n",
       "       6, 1, 8, 9, 8, 7, 6, 7, 6, 5, 6, 0, 8, 8, 9, 8, 6, 1, 0, 4, 1, 6,\n",
       "       3, 8, 6, 7, 4, 5, 6, 3, 0, 3, 3, 3, 0, 7, 7, 5, 7, 8, 0, 7, 8, 9,\n",
       "       6, 4, 5, 0, 1, 4, 6, 4, 3, 3, 0, 9, 5, 9, 2, 1, 4, 2, 1, 6, 8, 9,\n",
       "       2, 4, 9, 3, 7, 6, 2, 3, 3, 1, 6, 9, 3, 6, 3, 2, 2, 0, 7, 6, 1, 1,\n",
       "       9, 7, 2, 7, 8, 5, 5, 7, 5, 2, 3, 7, 2, 7, 5, 5, 7, 0, 9, 1, 6, 5,\n",
       "       9, 7, 4, 3, 8, 0, 3, 6, 4, 6, 3, 2, 6, 8, 8, 8, 4, 6, 7, 5, 2, 4,\n",
       "       5, 3, 2, 4, 6, 9, 4, 5, 4, 3, 4, 6, 2, 9, 0, 1, 7, 2, 0, 9, 6, 0,\n",
       "       4, 2, 0, 7, 9, 8, 5, 4, 8, 2, 8, 4, 3, 7, 2, 6, 9, 1, 5, 1, 0, 8,\n",
       "       2, 1, 9, 5, 6, 8, 2, 7, 2, 1, 5, 1, 6, 4, 5, 0, 9, 4, 1, 1, 7, 0,\n",
       "       8, 9, 0, 5, 4, 3, 8, 8])"
      ]
     },
     "execution_count": 43,
     "metadata": {},
     "output_type": "execute_result"
    }
   ],
   "source": [
    "y_test # Actual Data"
   ]
  },
  {
   "cell_type": "code",
   "execution_count": 44,
   "id": "eb123822",
   "metadata": {},
   "outputs": [
    {
     "data": {
      "text/plain": [
       "array([[26,  0,  0,  0,  0,  0,  0,  3,  0,  1],\n",
       "       [ 0, 28,  1,  0,  0,  1,  0,  1,  0,  1],\n",
       "       [ 0,  0, 28,  3,  0,  1,  2,  1,  0,  1],\n",
       "       [ 0,  1,  4, 20,  0,  1,  1,  0,  0,  0],\n",
       "       [ 0,  1,  0,  0, 28,  0,  0,  2,  1,  0],\n",
       "       [ 1,  1,  0,  1,  0, 32,  0,  0,  4,  2],\n",
       "       [ 0,  0,  0,  0,  0,  0, 40,  0,  0,  0],\n",
       "       [ 0,  1,  1,  0,  2,  1,  0, 28,  0,  0],\n",
       "       [ 0,  1,  1,  1,  0,  1,  0,  0, 33,  0],\n",
       "       [ 0,  2,  1,  4,  0,  3,  1,  4,  1, 36]], dtype=int64)"
      ]
     },
     "execution_count": 44,
     "metadata": {},
     "output_type": "execute_result"
    }
   ],
   "source": [
    "confusion_matrix(predicted,y_test)"
   ]
  },
  {
   "cell_type": "code",
   "execution_count": 45,
   "id": "8ed6841f",
   "metadata": {},
   "outputs": [],
   "source": [
    "def get_misclassifed_index(y_pred,y_test):\n",
    "    misclassification=[]\n",
    "    for index,(predicted,actual) in enumerate(zip(y_pred,y_test)):\n",
    "        if predicted!=actual:\n",
    "            misclassification.append(index)\n",
    "    return misclassification"
   ]
  },
  {
   "cell_type": "code",
   "execution_count": 46,
   "id": "42702938",
   "metadata": {},
   "outputs": [],
   "source": [
    "misclassification=get_misclassifed_index(predicted,y_test)"
   ]
  },
  {
   "cell_type": "code",
   "execution_count": 47,
   "id": "97c138b3",
   "metadata": {},
   "outputs": [
    {
     "data": {
      "text/plain": [
       "61"
      ]
     },
     "execution_count": 47,
     "metadata": {},
     "output_type": "execute_result"
    }
   ],
   "source": [
    "len(misclassification)"
   ]
  },
  {
   "cell_type": "code",
   "execution_count": 48,
   "id": "3d83be76",
   "metadata": {},
   "outputs": [
    {
     "data": {
      "text/plain": [
       "[16, 20, 21, 22, 47]"
      ]
     },
     "execution_count": 48,
     "metadata": {},
     "output_type": "execute_result"
    }
   ],
   "source": [
    "misclassification[0:5]"
   ]
  },
  {
   "cell_type": "code",
   "execution_count": 49,
   "id": "bcd88873",
   "metadata": {},
   "outputs": [],
   "source": [
    "def plot_misclassification(misclassification):\n",
    "    plt.figure(figsize=(20,4))\n",
    "    for index,wrong in enumerate(misclassification[0:5]):\n",
    "        plt.subplot(1,5,index+1)\n",
    "        plt.imshow(np.reshape(pca_x_test[wrong],(8,8)),cmap=plt.cm.gray)\n",
    "        plt.title('predicted:{}Actual:{}'.format(predicted[wrong],y_test[wrong]))"
   ]
  },
  {
   "cell_type": "code",
   "execution_count": 51,
   "id": "07c068ee",
   "metadata": {},
   "outputs": [
    {
     "ename": "ValueError",
     "evalue": "cannot reshape array of size 25 into shape (8,8)",
     "output_type": "error",
     "traceback": [
      "\u001b[1;31m---------------------------------------------------------------------------\u001b[0m",
      "\u001b[1;31mValueError\u001b[0m                                Traceback (most recent call last)",
      "Cell \u001b[1;32mIn[51], line 1\u001b[0m\n\u001b[1;32m----> 1\u001b[0m plot_misclassification(misclassification)\n",
      "Cell \u001b[1;32mIn[49], line 5\u001b[0m, in \u001b[0;36mplot_misclassification\u001b[1;34m(misclassification)\u001b[0m\n\u001b[0;32m      3\u001b[0m \u001b[38;5;28;01mfor\u001b[39;00m index,wrong \u001b[38;5;129;01min\u001b[39;00m \u001b[38;5;28menumerate\u001b[39m(misclassification[\u001b[38;5;241m0\u001b[39m:\u001b[38;5;241m5\u001b[39m]):\n\u001b[0;32m      4\u001b[0m     plt\u001b[38;5;241m.\u001b[39msubplot(\u001b[38;5;241m1\u001b[39m,\u001b[38;5;241m5\u001b[39m,index\u001b[38;5;241m+\u001b[39m\u001b[38;5;241m1\u001b[39m)\n\u001b[1;32m----> 5\u001b[0m     plt\u001b[38;5;241m.\u001b[39mimshow(np\u001b[38;5;241m.\u001b[39mreshape(pca_x_test[wrong],(\u001b[38;5;241m8\u001b[39m,\u001b[38;5;241m8\u001b[39m)),cmap\u001b[38;5;241m=\u001b[39mplt\u001b[38;5;241m.\u001b[39mcm\u001b[38;5;241m.\u001b[39mgray)\n\u001b[0;32m      6\u001b[0m     plt\u001b[38;5;241m.\u001b[39mtitle(\u001b[38;5;124m'\u001b[39m\u001b[38;5;124mpredicted:\u001b[39m\u001b[38;5;132;01m{}\u001b[39;00m\u001b[38;5;124mActual:\u001b[39m\u001b[38;5;132;01m{}\u001b[39;00m\u001b[38;5;124m'\u001b[39m\u001b[38;5;241m.\u001b[39mformat(predicted[wrong],y_test[wrong]))\n",
      "File \u001b[1;32m<__array_function__ internals>:200\u001b[0m, in \u001b[0;36mreshape\u001b[1;34m(*args, **kwargs)\u001b[0m\n",
      "File \u001b[1;32m~\\anaconda3\\Lib\\site-packages\\numpy\\core\\fromnumeric.py:298\u001b[0m, in \u001b[0;36mreshape\u001b[1;34m(a, newshape, order)\u001b[0m\n\u001b[0;32m    198\u001b[0m \u001b[38;5;129m@array_function_dispatch\u001b[39m(_reshape_dispatcher)\n\u001b[0;32m    199\u001b[0m \u001b[38;5;28;01mdef\u001b[39;00m \u001b[38;5;21mreshape\u001b[39m(a, newshape, order\u001b[38;5;241m=\u001b[39m\u001b[38;5;124m'\u001b[39m\u001b[38;5;124mC\u001b[39m\u001b[38;5;124m'\u001b[39m):\n\u001b[0;32m    200\u001b[0m \u001b[38;5;250m    \u001b[39m\u001b[38;5;124;03m\"\"\"\u001b[39;00m\n\u001b[0;32m    201\u001b[0m \u001b[38;5;124;03m    Gives a new shape to an array without changing its data.\u001b[39;00m\n\u001b[0;32m    202\u001b[0m \n\u001b[1;32m   (...)\u001b[0m\n\u001b[0;32m    296\u001b[0m \u001b[38;5;124;03m           [5, 6]])\u001b[39;00m\n\u001b[0;32m    297\u001b[0m \u001b[38;5;124;03m    \"\"\"\u001b[39;00m\n\u001b[1;32m--> 298\u001b[0m     \u001b[38;5;28;01mreturn\u001b[39;00m _wrapfunc(a, \u001b[38;5;124m'\u001b[39m\u001b[38;5;124mreshape\u001b[39m\u001b[38;5;124m'\u001b[39m, newshape, order\u001b[38;5;241m=\u001b[39morder)\n",
      "File \u001b[1;32m~\\anaconda3\\Lib\\site-packages\\numpy\\core\\fromnumeric.py:57\u001b[0m, in \u001b[0;36m_wrapfunc\u001b[1;34m(obj, method, *args, **kwds)\u001b[0m\n\u001b[0;32m     54\u001b[0m     \u001b[38;5;28;01mreturn\u001b[39;00m _wrapit(obj, method, \u001b[38;5;241m*\u001b[39margs, \u001b[38;5;241m*\u001b[39m\u001b[38;5;241m*\u001b[39mkwds)\n\u001b[0;32m     56\u001b[0m \u001b[38;5;28;01mtry\u001b[39;00m:\n\u001b[1;32m---> 57\u001b[0m     \u001b[38;5;28;01mreturn\u001b[39;00m bound(\u001b[38;5;241m*\u001b[39margs, \u001b[38;5;241m*\u001b[39m\u001b[38;5;241m*\u001b[39mkwds)\n\u001b[0;32m     58\u001b[0m \u001b[38;5;28;01mexcept\u001b[39;00m \u001b[38;5;167;01mTypeError\u001b[39;00m:\n\u001b[0;32m     59\u001b[0m     \u001b[38;5;66;03m# A TypeError occurs if the object does have such a method in its\u001b[39;00m\n\u001b[0;32m     60\u001b[0m     \u001b[38;5;66;03m# class, but its signature is not identical to that of NumPy's. This\u001b[39;00m\n\u001b[1;32m   (...)\u001b[0m\n\u001b[0;32m     64\u001b[0m     \u001b[38;5;66;03m# Call _wrapit from within the except clause to ensure a potential\u001b[39;00m\n\u001b[0;32m     65\u001b[0m     \u001b[38;5;66;03m# exception has a traceback chain.\u001b[39;00m\n\u001b[0;32m     66\u001b[0m     \u001b[38;5;28;01mreturn\u001b[39;00m _wrapit(obj, method, \u001b[38;5;241m*\u001b[39margs, \u001b[38;5;241m*\u001b[39m\u001b[38;5;241m*\u001b[39mkwds)\n",
      "\u001b[1;31mValueError\u001b[0m: cannot reshape array of size 25 into shape (8,8)"
     ]
    },
    {
     "data": {
      "image/png": "[encoded data removed]",
      "text/plain": [
       "<Figure size 2000x400 with 1 Axes>"
      ]
     },
     "metadata": {},
     "output_type": "display_data"
    }
   ],
   "source": [
    "plot_misclassification(misclassification)"
   ]
  },
  {
   "cell_type": "code",
   "execution_count": null,
   "id": "578b9f7e",
   "metadata": {},
   "outputs": [],
   "source": []
  },
  {
   "cell_type": "code",
   "execution_count": null,
   "id": "4e84e2e3",
   "metadata": {},
   "outputs": [],
   "source": []
  }
 ],
 "metadata": {
  "kernelspec": {
   "display_name": "Python 3 (ipykernel)",
   "language": "python",
   "name": "python3"
  },
  "language_info": {
   "codemirror_mode": {
    "name": "ipython",
    "version": 3
   },
   "file_extension": ".py",
   "mimetype": "text/x-python",
   "name": "python",
   "nbconvert_exporter": "python",
   "pygments_lexer": "ipython3",
   "version": "3.11.5"
  }
 },
 "nbformat": 4,
 "nbformat_minor": 5
}
