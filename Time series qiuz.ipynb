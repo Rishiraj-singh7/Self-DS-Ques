{
 "cells": [
  {
   "cell_type": "markdown",
   "id": "5da72af0",
   "metadata": {},
   "source": [
    "This data set includes 5 years of Temperature Data for a Specific City having 1826 records .\n",
    "\n",
    "* Feature Name: \tDescription\n",
    "\n",
    "* MIN Temp: \tMinimum Temperature Recorded for the Day in celsius\n",
    "\n",
    "* Max Temp: \tMaximum Temperature Recorded for the Day in celsius\n",
    "\n",
    "* Avg Temp: \tAverage Temperature Recorded for the Day in celsius\n",
    "\n",
    "* Sunrise: \t Time in the morning when the sun appears\n",
    "\n",
    "* Sunset: \tTime in the evening when the daylight faded\n"
   ]
  },
  {
   "cell_type": "code",
   "execution_count": 4,
   "id": "98d58bee",
   "metadata": {},
   "outputs": [],
   "source": [
    "import pandas as pd\n",
    "import numpy as np\n",
    "from statsmodels.tsa.arima.model import ARIMA\n",
    "from statsmodels.tsa.stattools import adfuller"
   ]
  },
  {
   "cell_type": "code",
   "execution_count": 5,
   "id": "f6a97386",
   "metadata": {},
   "outputs": [
    {
     "data": {
      "text/html": [
       "<div>\n",
       "<style scoped>\n",
       "    .dataframe tbody tr th:only-of-type {\n",
       "        vertical-align: middle;\n",
       "    }\n",
       "\n",
       "    .dataframe tbody tr th {\n",
       "        vertical-align: top;\n",
       "    }\n",
       "\n",
       "    .dataframe thead th {\n",
       "        text-align: right;\n",
       "    }\n",
       "</style>\n",
       "<table border=\"1\" class=\"dataframe\">\n",
       "  <thead>\n",
       "    <tr style=\"text-align: right;\">\n",
       "      <th></th>\n",
       "      <th>DATE</th>\n",
       "      <th>MinTemp</th>\n",
       "      <th>MaxTemp</th>\n",
       "      <th>AvgTemp</th>\n",
       "      <th>Sunrise</th>\n",
       "      <th>Sunset</th>\n",
       "    </tr>\n",
       "  </thead>\n",
       "  <tbody>\n",
       "    <tr>\n",
       "      <th>0</th>\n",
       "      <td>1/1/2014</td>\n",
       "      <td>33.0</td>\n",
       "      <td>46.0</td>\n",
       "      <td>40.0</td>\n",
       "      <td>657</td>\n",
       "      <td>1756</td>\n",
       "    </tr>\n",
       "    <tr>\n",
       "      <th>1</th>\n",
       "      <td>1/2/2014</td>\n",
       "      <td>35.0</td>\n",
       "      <td>50.0</td>\n",
       "      <td>43.0</td>\n",
       "      <td>657</td>\n",
       "      <td>1756</td>\n",
       "    </tr>\n",
       "    <tr>\n",
       "      <th>2</th>\n",
       "      <td>1/3/2014</td>\n",
       "      <td>36.0</td>\n",
       "      <td>45.0</td>\n",
       "      <td>41.0</td>\n",
       "      <td>657</td>\n",
       "      <td>1757</td>\n",
       "    </tr>\n",
       "    <tr>\n",
       "      <th>3</th>\n",
       "      <td>1/4/2014</td>\n",
       "      <td>32.0</td>\n",
       "      <td>41.0</td>\n",
       "      <td>37.0</td>\n",
       "      <td>658</td>\n",
       "      <td>1757</td>\n",
       "    </tr>\n",
       "    <tr>\n",
       "      <th>4</th>\n",
       "      <td>1/5/2014</td>\n",
       "      <td>24.0</td>\n",
       "      <td>38.0</td>\n",
       "      <td>31.0</td>\n",
       "      <td>658</td>\n",
       "      <td>1758</td>\n",
       "    </tr>\n",
       "    <tr>\n",
       "      <th>...</th>\n",
       "      <td>...</td>\n",
       "      <td>...</td>\n",
       "      <td>...</td>\n",
       "      <td>...</td>\n",
       "      <td>...</td>\n",
       "      <td>...</td>\n",
       "    </tr>\n",
       "    <tr>\n",
       "      <th>1820</th>\n",
       "      <td>12/26/2018</td>\n",
       "      <td>35.0</td>\n",
       "      <td>45.0</td>\n",
       "      <td>40.0</td>\n",
       "      <td>654</td>\n",
       "      <td>1752</td>\n",
       "    </tr>\n",
       "    <tr>\n",
       "      <th>1821</th>\n",
       "      <td>12/27/2018</td>\n",
       "      <td>33.0</td>\n",
       "      <td>44.0</td>\n",
       "      <td>39.0</td>\n",
       "      <td>655</td>\n",
       "      <td>1752</td>\n",
       "    </tr>\n",
       "    <tr>\n",
       "      <th>1822</th>\n",
       "      <td>12/28/2018</td>\n",
       "      <td>33.0</td>\n",
       "      <td>47.0</td>\n",
       "      <td>40.0</td>\n",
       "      <td>655</td>\n",
       "      <td>1753</td>\n",
       "    </tr>\n",
       "    <tr>\n",
       "      <th>1823</th>\n",
       "      <td>12/29/2018</td>\n",
       "      <td>36.0</td>\n",
       "      <td>47.0</td>\n",
       "      <td>42.0</td>\n",
       "      <td>655</td>\n",
       "      <td>1753</td>\n",
       "    </tr>\n",
       "    <tr>\n",
       "      <th>1824</th>\n",
       "      <td>12/30/2018</td>\n",
       "      <td>39.0</td>\n",
       "      <td>52.0</td>\n",
       "      <td>46.0</td>\n",
       "      <td>656</td>\n",
       "      <td>1754</td>\n",
       "    </tr>\n",
       "  </tbody>\n",
       "</table>\n",
       "<p>1825 rows × 6 columns</p>\n",
       "</div>"
      ],
      "text/plain": [
       "            DATE  MinTemp  MaxTemp  AvgTemp  Sunrise  Sunset\n",
       "0       1/1/2014     33.0     46.0     40.0      657    1756\n",
       "1       1/2/2014     35.0     50.0     43.0      657    1756\n",
       "2       1/3/2014     36.0     45.0     41.0      657    1757\n",
       "3       1/4/2014     32.0     41.0     37.0      658    1757\n",
       "4       1/5/2014     24.0     38.0     31.0      658    1758\n",
       "...          ...      ...      ...      ...      ...     ...\n",
       "1820  12/26/2018     35.0     45.0     40.0      654    1752\n",
       "1821  12/27/2018     33.0     44.0     39.0      655    1752\n",
       "1822  12/28/2018     33.0     47.0     40.0      655    1753\n",
       "1823  12/29/2018     36.0     47.0     42.0      655    1753\n",
       "1824  12/30/2018     39.0     52.0     46.0      656    1754\n",
       "\n",
       "[1825 rows x 6 columns]"
      ]
     },
     "execution_count": 5,
     "metadata": {},
     "output_type": "execute_result"
    }
   ],
   "source": [
    "df =pd.read_csv(r\"C:\\Users\\Rishi\\Downloads\\Time-Series-Quiz\\Time Series Quiz\\MaunaLoaDailyTemps.csv\")\n",
    "df"
   ]
  },
  {
   "cell_type": "code",
   "execution_count": 14,
   "id": "f3c5a0d0",
   "metadata": {},
   "outputs": [
    {
     "name": "stdout",
     "output_type": "stream",
     "text": [
      "<class 'pandas.core.frame.DataFrame'>\n",
      "RangeIndex: 1825 entries, 0 to 1824\n",
      "Data columns (total 6 columns):\n",
      " #   Column   Non-Null Count  Dtype  \n",
      "---  ------   --------------  -----  \n",
      " 0   DATE     1825 non-null   object \n",
      " 1   MinTemp  1821 non-null   float64\n",
      " 2   MaxTemp  1821 non-null   float64\n",
      " 3   AvgTemp  1821 non-null   float64\n",
      " 4   Sunrise  1825 non-null   int64  \n",
      " 5   Sunset   1825 non-null   int64  \n",
      "dtypes: float64(3), int64(2), object(1)\n",
      "memory usage: 85.7+ KB\n"
     ]
    }
   ],
   "source": [
    "df.info()"
   ]
  },
  {
   "cell_type": "code",
   "execution_count": 6,
   "id": "9b53d6e6",
   "metadata": {},
   "outputs": [
    {
     "name": "stdout",
     "output_type": "stream",
     "text": [
      "331\n"
     ]
    }
   ],
   "source": [
    "# 1) How many Days Average temperature exceeds 50 celsius?\n",
    "\n",
    "# 331\n",
    "# 278\n",
    "# 420\n",
    "# 175\n",
    "\n",
    "avg_temp = len(df[df['AvgTemp'] > 50])\n",
    "print(avg_temp)"
   ]
  },
  {
   "cell_type": "code",
   "execution_count": 17,
   "id": "34ac79d0",
   "metadata": {},
   "outputs": [],
   "source": [
    "df['DATE'] = pd.to_datetime(df['DATE'])"
   ]
  },
  {
   "cell_type": "code",
   "execution_count": 18,
   "id": "2d0e836d",
   "metadata": {},
   "outputs": [
    {
     "name": "stdout",
     "output_type": "stream",
     "text": [
      "<class 'pandas.core.frame.DataFrame'>\n",
      "RangeIndex: 1825 entries, 0 to 1824\n",
      "Data columns (total 6 columns):\n",
      " #   Column   Non-Null Count  Dtype         \n",
      "---  ------   --------------  -----         \n",
      " 0   DATE     1825 non-null   datetime64[ns]\n",
      " 1   MinTemp  1821 non-null   float64       \n",
      " 2   MaxTemp  1821 non-null   float64       \n",
      " 3   AvgTemp  1821 non-null   float64       \n",
      " 4   Sunrise  1825 non-null   int64         \n",
      " 5   Sunset   1825 non-null   int64         \n",
      "dtypes: datetime64[ns](1), float64(3), int64(2)\n",
      "memory usage: 85.7 KB\n"
     ]
    }
   ],
   "source": [
    "df.info()"
   ]
  },
  {
   "cell_type": "code",
   "execution_count": 21,
   "id": "545dbd42",
   "metadata": {},
   "outputs": [],
   "source": [
    "# 2) Which year will be termed as the hottest year?        \n",
    "\n",
    "# 2018\n",
    "# 2016\n",
    "# 2014\n",
    "# 2017\n",
    "\n",
    "#hot_yr = df.groupby('Year')['MaxTemp'].mean().idxmax()"
   ]
  },
  {
   "cell_type": "code",
   "execution_count": 28,
   "id": "cbd28613",
   "metadata": {},
   "outputs": [],
   "source": [
    "df['Year'] = df['DATE'].dt.year "
   ]
  },
  {
   "cell_type": "code",
   "execution_count": 29,
   "id": "e41ec2de",
   "metadata": {},
   "outputs": [],
   "source": [
    "hottest_year = df.groupby('Year')['MaxTemp'].mean().idxmax()"
   ]
  },
  {
   "cell_type": "code",
   "execution_count": 30,
   "id": "c357a3b1",
   "metadata": {},
   "outputs": [
    {
     "name": "stdout",
     "output_type": "stream",
     "text": [
      "2016\n"
     ]
    }
   ],
   "source": [
    "print(hottest_year)"
   ]
  },
  {
   "cell_type": "code",
   "execution_count": 20,
   "id": "92e83883",
   "metadata": {},
   "outputs": [],
   "source": [
    "# 3) How you will be handling missing values in this dataset:\n",
    "\n",
    "# Fill up the null values with the median.  \n",
    "# Fill up the null values with None.\n",
    "# Fill up the null values with standard deviation.\n",
    "# Fill up the null values with the mean.  correct ans\n",
    "\n",
    "df.fillna(df.median(),inplace=True) "
   ]
  },
  {
   "cell_type": "code",
   "execution_count": null,
   "id": "09bb3369",
   "metadata": {},
   "outputs": [],
   "source": [
    "# 4) Which columns are not having any kind of relationship with the MaxTemp column?\n",
    "\n",
    "# MinTemp\n",
    "# Sunrise\n",
    "# Sunset\n",
    "# Both 1 And 3 \n"
   ]
  },
  {
   "cell_type": "code",
   "execution_count": 22,
   "id": "98182ab2",
   "metadata": {},
   "outputs": [
    {
     "name": "stdout",
     "output_type": "stream",
     "text": [
      "MaxTemp    1.000000\n",
      "AvgTemp    0.951036\n",
      "MinTemp    0.756076\n",
      "Sunset     0.275688\n",
      "DATE      -0.000952\n",
      "Sunrise   -0.374763\n",
      "Name: MaxTemp, dtype: float64\n"
     ]
    }
   ],
   "source": [
    "corr_max_tp = df.corr()['MaxTemp'].sort_values(ascending=False)\n",
    "print(corr_max_tp)"
   ]
  },
  {
   "cell_type": "code",
   "execution_count": null,
   "id": "10ee5d98",
   "metadata": {},
   "outputs": [],
   "source": [
    "#5) Which of the following Order is the best order for ARIMA Model on top of the Above Dataset for the target variable - AvgTemp\n",
    "\n",
    "# ARIMA(2,0,5)\n",
    "# ARIMA(0,0,5)\n",
    "# ARIMA(3,0,2)\n",
    "# ARIMA(1,0,5)  correct ans"
   ]
  },
  {
   "cell_type": "code",
   "execution_count": 23,
   "id": "7c518d42",
   "metadata": {},
   "outputs": [
    {
     "name": "stderr",
     "output_type": "stream",
     "text": [
      "C:\\Users\\Rishi\\anaconda3\\Lib\\site-packages\\statsmodels\\tsa\\statespace\\sarimax.py:966: UserWarning: Non-stationary starting autoregressive parameters found. Using zeros as starting parameters.\n",
      "  warn('Non-stationary starting autoregressive parameters'\n",
      "C:\\Users\\Rishi\\anaconda3\\Lib\\site-packages\\statsmodels\\tsa\\statespace\\sarimax.py:978: UserWarning: Non-invertible starting MA parameters found. Using zeros as starting parameters.\n",
      "  warn('Non-invertible starting MA parameters found.'\n",
      "C:\\Users\\Rishi\\anaconda3\\Lib\\site-packages\\statsmodels\\base\\model.py:607: ConvergenceWarning: Maximum Likelihood optimization failed to converge. Check mle_retvals\n",
      "  warnings.warn(\"Maximum Likelihood optimization failed to \"\n"
     ]
    },
    {
     "name": "stdout",
     "output_type": "stream",
     "text": [
      "\n",
      "5) Which of the following Order is the best order for ARIMA Model?\n",
      "(3, 0, 2)\n"
     ]
    }
   ],
   "source": [
    "orders = [(2,0,5), (0,0,5), (3,0,2), (1,0,5)]\n",
    "best_aic = np.inf\n",
    "best_order = None\n",
    "for order in orders:\n",
    "    try:\n",
    "        model = ARIMA(df['AvgTemp'], order=order)\n",
    "        results = model.fit()\n",
    "        if results.aic < best_aic:\n",
    "            best_aic = results.aic\n",
    "            best_order = order\n",
    "    except:\n",
    "        continue\n",
    "print(\"\\n5) Which of the following Order is the best order for ARIMA Model?\")\n",
    "print(best_order)"
   ]
  },
  {
   "cell_type": "code",
   "execution_count": 26,
   "id": "5a381ca4",
   "metadata": {},
   "outputs": [],
   "source": [
    "# Assuming `df` is the DataFrame containing the temperature data\n",
    "# `orders` is a list of different orders for the ARIMA model\n",
    "orders = [(2,0,5), (0,0,5), (3,0,2), (1,0,5)]\n",
    "\n",
    "# # Initialize the variable to store the lowest AIC value found so far\n",
    "# best_aic = np.inf\n",
    "\n",
    "# # Initialize the variable to store the order corresponding to the lowest AIC value\n",
    "# best_order = None\n",
    "\n",
    "# # Loop through each order in the list of orders\n",
    "# for order in orders:\n",
    "#     try:\n",
    "#         # Instantiate an ARIMA model with the current order and fit it to the data\n",
    "#         model = ARIMA(df['AvgTemp'], order=order)\n",
    "#         results = model.fit()\n",
    "        \n",
    "#         # Check if the AIC value of the current model is lower than the lowest AIC found so far\n",
    "#         if results.aic < best_aic:\n",
    "#             # If yes, update the lowest AIC value and the corresponding order\n",
    "#             best_aic = results.aic\n",
    "#             best_order = order\n",
    "#     except:\n",
    "#         # If an exception occurs (e.g., model fitting fails), continue to the next iteration\n",
    "#         continue\n",
    "\n",
    "# # Print the best order found based on the lowest AIC value\n",
    "# print(\"\\n5) Which of the following Order is the best order for ARIMA Model?\")\n",
    "# print(best_order)"
   ]
  },
  {
   "cell_type": "code",
   "execution_count": 31,
   "id": "76f6332a",
   "metadata": {},
   "outputs": [],
   "source": [
    "# 6) What is the ADF(Augmented Dickey Fuller Test) used for detecting?\n",
    "\n",
    "# Seasonality \n",
    "# Stationary\n",
    "# Normality\n",
    "# Independence"
   ]
  },
  {
   "cell_type": "code",
   "execution_count": 32,
   "id": "efcd3135",
   "metadata": {},
   "outputs": [],
   "source": [
    "#Testing for stationarity: The primary use of the ADF test is to check whether a time series is stationary or not. \n",
    "#A stationary time series is one whose statistical properties such as mean, variance,\n",
    "# and autocorrelation structure do not change over time."
   ]
  },
  {
   "cell_type": "code",
   "execution_count": 33,
   "id": "ce211b2c",
   "metadata": {},
   "outputs": [],
   "source": [
    "# 7) Which of the Statements is True?\n",
    "\n",
    "# p>0.05, Data is stationary\n",
    "# p<0.05 Data is stationary\n",
    "# p>0.5 Data is stationary\n",
    "# p<0.5 Data is Not Stationary"
   ]
  },
  {
   "cell_type": "code",
   "execution_count": 34,
   "id": "b042ffb4",
   "metadata": {},
   "outputs": [],
   "source": [
    "#\"p<0.05 Data is stationary\"\n",
    "#In statistical hypothesis testing, a common significance level (alpha) is set at 0.05. \n",
    "#If the p-value obtained from the ADF test is less than 0.05"
   ]
  },
  {
   "cell_type": "code",
   "execution_count": 35,
   "id": "a9fc1c5e",
   "metadata": {},
   "outputs": [],
   "source": [
    "# 8) Determine the Average Error in Prediction By the Model?\n",
    "\n",
    "# 1-3%  correct ans\n",
    "# 6-8%\n",
    "# 3-6% \n",
    "# 8-11%"
   ]
  },
  {
   "cell_type": "code",
   "execution_count": 36,
   "id": "3df0f5cc",
   "metadata": {},
   "outputs": [],
   "source": [
    "# To determine the average error in prediction by the model, you would typically calculate a suitable error metric \n",
    "# such as Mean Absolute Error (MAE), Mean Squared Error (MSE), or Root Mean Squared Error (RMSE) \n",
    "# based on the model predictions and the actual values. \n",
    "# Then, you can interpret the average error in terms of percentage"
   ]
  },
  {
   "cell_type": "code",
   "execution_count": 37,
   "id": "cb3fd9bb",
   "metadata": {},
   "outputs": [],
   "source": [
    "# 9) What is the Coefficient of AR of the above model for the target variable Avg Temp?\n",
    "\n",
    "# 0.30 to 0.40\n",
    "# 0.90 to 1.0\n",
    "# 0.60 to 0.70\n",
    "# 0.50 to 0.60"
   ]
  },
  {
   "cell_type": "code",
   "execution_count": 38,
   "id": "af957f9e",
   "metadata": {},
   "outputs": [
    {
     "name": "stdout",
     "output_type": "stream",
     "text": [
      "Coefficient of AR of the model: [0.9862546]\n"
     ]
    }
   ],
   "source": [
    "ar_coefficient = results.arparams\n",
    "\n",
    "# Print the AR coefficient\n",
    "print(\"Coefficient of AR of the model:\", ar_coefficient)"
   ]
  },
  {
   "cell_type": "code",
   "execution_count": 39,
   "id": "fbebf205",
   "metadata": {},
   "outputs": [],
   "source": [
    "# 10) Which conditions need to be satisfied to refer to the time series as stationary. \n",
    "\n",
    "# The time series under considerations is a finite variance process\n",
    "# Mean is constant and does not depend on time     ***********correct ans\n",
    "# Autocovariance function depends on s and t only through their difference |s-t| (where t and s are moments in time)\n",
    "# None of the above"
   ]
  },
  {
   "cell_type": "code",
   "execution_count": 40,
   "id": "959336fe",
   "metadata": {},
   "outputs": [],
   "source": [
    "# Autocovariance function depends on s and t only through their difference |s-t| (where t and s are moments in time)\n",
    "# This condition is essential for a time series to be considered stationary. \n",
    "# It ensures that the relationship between observations in the time series remains consistent regardless of where in time \n",
    "# those observations occur."
   ]
  },
  {
   "cell_type": "code",
   "execution_count": 41,
   "id": "583a7996",
   "metadata": {},
   "outputs": [],
   "source": [
    "# 11) IF we have observed the time series Y1, Y2, ..., Yt and the forecast error et(l) = Yt+l − bYt(l) has  mean zero, \n",
    "# the MMSE forecast bYt(l) can be referred as:\n",
    "\n",
    "# Stationary.   correct ans\n",
    "# Consistent.\n",
    "# Unbiased.\n",
    "# Complementary.\n",
    "\n",
    "# Unbiased.\n",
    "# Explanation: In forecasting, if the forecast error has a mean of zero, then the forecast is said to be unbiased. \n",
    "#     This means that, on average, the forecast is correct, but it doesn't necessarily imply stationarity"
   ]
  },
  {
   "cell_type": "code",
   "execution_count": 42,
   "id": "551ced3a",
   "metadata": {},
   "outputs": [],
   "source": [
    "# 12) Which of the following is a seasonality Detection Technique for Time Series Data? 1.Autocorrelation 2.Multiple box\n",
    "# Only 1\n",
    "# None of the above\n",
    "# Both 1 and 2         correct ans\n",
    "# Only 2\n",
    "\n",
    "# None of the above\n",
    "# Explanation: Autocorrelation and Multiple Box methods are not specifically used for detecting seasonality in time series data. \n",
    "# Seasonality detection techniques include methods like Seasonal Decomposition of Time Series\n",
    "# (e.g., Seasonal Decomposition of Time Series (STL), Seasonal-Trend decomposition using LOESS (STL)), \n",
    "# Seasonal Subseries Plot, and Seasonal Index."
   ]
  },
  {
   "cell_type": "code",
   "execution_count": 43,
   "id": "2bcc2fd9",
   "metadata": {},
   "outputs": [],
   "source": [
    "# 13)  If the moving average component (q) in an ARIMA model = 1,\n",
    "#Hence there will be the auto-correlation in the series with lag =1.\n",
    "# FALSE\n",
    "# TRUE\n",
    "\n",
    "# TRUE\n",
    "# Explanation: If the moving average (MA) component (q) in an ARIMA model is non-zero, \n",
    "#     then there will be autocorrelation in the series at lag = 1."
   ]
  },
  {
   "cell_type": "code",
   "execution_count": 44,
   "id": "3b0dfb63",
   "metadata": {},
   "outputs": [],
   "source": [
    "# 14) What is the expectation of the dependent variable for a Moving Average Model?\n",
    "\n",
    "# Variable\n",
    "# None of the Above\n",
    "# Constant\n",
    "# All of the Above\n",
    "\n",
    "# Constant\n",
    "# Explanation: In a moving average (MA) model, the expectation (mean) of the dependent variable is constant across time."
   ]
  },
  {
   "cell_type": "code",
   "execution_count": 45,
   "id": "53fe39bb",
   "metadata": {},
   "outputs": [],
   "source": [
    "# 15) Which of the following statements is True?\n",
    "# 1.If there is no decay in the ACF values for any number of lags time series is Stationary \n",
    "# 2. The rate of decay will determine the value of the coefficient terms. \n",
    "# 3.In a Time Series coefficient for the residual error terms can be negative \n",
    "\n",
    "# All of the Above        correct ans\n",
    "# 1 only\n",
    "# 1 and 3 only\n",
    "# 2 and 3 only\n",
    "\n",
    "\n",
    "# 2 and 3 only (The rate of decay in ACF values does not determine stationarity. \n",
    "#               In a Time Series, coefficients for the residual error terms can be negative.)"
   ]
  },
  {
   "cell_type": "code",
   "execution_count": 46,
   "id": "f7a1eee3",
   "metadata": {},
   "outputs": [],
   "source": [
    "st = pd.read_csv(r\"C:\\Users\\Rishi\\Downloads\\Time-Series-Quiz\\Time Series Quiz\\stocks.csv\")"
   ]
  },
  {
   "cell_type": "code",
   "execution_count": 47,
   "id": "f11e72f8",
   "metadata": {},
   "outputs": [
    {
     "data": {
      "text/html": [
       "<div>\n",
       "<style scoped>\n",
       "    .dataframe tbody tr th:only-of-type {\n",
       "        vertical-align: middle;\n",
       "    }\n",
       "\n",
       "    .dataframe tbody tr th {\n",
       "        vertical-align: top;\n",
       "    }\n",
       "\n",
       "    .dataframe thead th {\n",
       "        text-align: right;\n",
       "    }\n",
       "</style>\n",
       "<table border=\"1\" class=\"dataframe\">\n",
       "  <thead>\n",
       "    <tr style=\"text-align: right;\">\n",
       "      <th></th>\n",
       "      <th>Date</th>\n",
       "      <th>Open</th>\n",
       "      <th>High</th>\n",
       "      <th>Low</th>\n",
       "      <th>Close</th>\n",
       "    </tr>\n",
       "  </thead>\n",
       "  <tbody>\n",
       "    <tr>\n",
       "      <th>0</th>\n",
       "      <td>9/14/2018</td>\n",
       "      <td>2044.000000</td>\n",
       "      <td>2071.550049</td>\n",
       "      <td>2018.150024</td>\n",
       "      <td>2065.399902</td>\n",
       "    </tr>\n",
       "    <tr>\n",
       "      <th>1</th>\n",
       "      <td>9/17/2018</td>\n",
       "      <td>2070.000000</td>\n",
       "      <td>2077.800049</td>\n",
       "      <td>2054.550049</td>\n",
       "      <td>2074.149902</td>\n",
       "    </tr>\n",
       "    <tr>\n",
       "      <th>2</th>\n",
       "      <td>9/18/2018</td>\n",
       "      <td>2073.000000</td>\n",
       "      <td>2078.800049</td>\n",
       "      <td>2057.600098</td>\n",
       "      <td>2070.750000</td>\n",
       "    </tr>\n",
       "    <tr>\n",
       "      <th>3</th>\n",
       "      <td>9/19/2018</td>\n",
       "      <td>2071.899902</td>\n",
       "      <td>2089.000000</td>\n",
       "      <td>2066.850098</td>\n",
       "      <td>2077.899902</td>\n",
       "    </tr>\n",
       "    <tr>\n",
       "      <th>4</th>\n",
       "      <td>9/21/2018</td>\n",
       "      <td>2077.000000</td>\n",
       "      <td>2121.000000</td>\n",
       "      <td>2050.149902</td>\n",
       "      <td>2103.149902</td>\n",
       "    </tr>\n",
       "    <tr>\n",
       "      <th>...</th>\n",
       "      <td>...</td>\n",
       "      <td>...</td>\n",
       "      <td>...</td>\n",
       "      <td>...</td>\n",
       "      <td>...</td>\n",
       "    </tr>\n",
       "    <tr>\n",
       "      <th>1230</th>\n",
       "      <td>9/7/2023</td>\n",
       "      <td>3430.800049</td>\n",
       "      <td>3460.000000</td>\n",
       "      <td>3422.300049</td>\n",
       "      <td>3455.250000</td>\n",
       "    </tr>\n",
       "    <tr>\n",
       "      <th>1231</th>\n",
       "      <td>9/8/2023</td>\n",
       "      <td>3455.250000</td>\n",
       "      <td>3465.000000</td>\n",
       "      <td>3435.050049</td>\n",
       "      <td>3441.899902</td>\n",
       "    </tr>\n",
       "    <tr>\n",
       "      <th>1232</th>\n",
       "      <td>9/11/2023</td>\n",
       "      <td>3462.000000</td>\n",
       "      <td>3485.699951</td>\n",
       "      <td>3445.000000</td>\n",
       "      <td>3480.649902</td>\n",
       "    </tr>\n",
       "    <tr>\n",
       "      <th>1233</th>\n",
       "      <td>9/12/2023</td>\n",
       "      <td>3492.000000</td>\n",
       "      <td>3589.899902</td>\n",
       "      <td>3483.000000</td>\n",
       "      <td>3580.800049</td>\n",
       "    </tr>\n",
       "    <tr>\n",
       "      <th>1234</th>\n",
       "      <td>9/13/2023</td>\n",
       "      <td>3571.100098</td>\n",
       "      <td>3588.850098</td>\n",
       "      <td>3545.000000</td>\n",
       "      <td>3567.850098</td>\n",
       "    </tr>\n",
       "  </tbody>\n",
       "</table>\n",
       "<p>1235 rows × 5 columns</p>\n",
       "</div>"
      ],
      "text/plain": [
       "           Date         Open         High          Low        Close\n",
       "0     9/14/2018  2044.000000  2071.550049  2018.150024  2065.399902\n",
       "1     9/17/2018  2070.000000  2077.800049  2054.550049  2074.149902\n",
       "2     9/18/2018  2073.000000  2078.800049  2057.600098  2070.750000\n",
       "3     9/19/2018  2071.899902  2089.000000  2066.850098  2077.899902\n",
       "4     9/21/2018  2077.000000  2121.000000  2050.149902  2103.149902\n",
       "...         ...          ...          ...          ...          ...\n",
       "1230   9/7/2023  3430.800049  3460.000000  3422.300049  3455.250000\n",
       "1231   9/8/2023  3455.250000  3465.000000  3435.050049  3441.899902\n",
       "1232  9/11/2023  3462.000000  3485.699951  3445.000000  3480.649902\n",
       "1233  9/12/2023  3492.000000  3589.899902  3483.000000  3580.800049\n",
       "1234  9/13/2023  3571.100098  3588.850098  3545.000000  3567.850098\n",
       "\n",
       "[1235 rows x 5 columns]"
      ]
     },
     "execution_count": 47,
     "metadata": {},
     "output_type": "execute_result"
    }
   ],
   "source": [
    "st"
   ]
  },
  {
   "cell_type": "code",
   "execution_count": 48,
   "id": "894e8770",
   "metadata": {},
   "outputs": [
    {
     "name": "stdout",
     "output_type": "stream",
     "text": [
      "<class 'pandas.core.frame.DataFrame'>\n",
      "RangeIndex: 1235 entries, 0 to 1234\n",
      "Data columns (total 5 columns):\n",
      " #   Column  Non-Null Count  Dtype  \n",
      "---  ------  --------------  -----  \n",
      " 0   Date    1235 non-null   object \n",
      " 1   Open    1235 non-null   float64\n",
      " 2   High    1235 non-null   float64\n",
      " 3   Low     1235 non-null   float64\n",
      " 4   Close   1235 non-null   float64\n",
      "dtypes: float64(4), object(1)\n",
      "memory usage: 48.4+ KB\n"
     ]
    }
   ],
   "source": [
    "st.info()"
   ]
  },
  {
   "cell_type": "code",
   "execution_count": 49,
   "id": "a9cc3829",
   "metadata": {},
   "outputs": [],
   "source": [
    "# 16) How many days TCS did movement of more than 150 points i.e difference between High and Low?\n",
    "# (Use stocks.csv for this question)\n",
    "# 20\n",
    "# 8\n",
    "# 5\n",
    "# 13\n",
    "\n",
    "st['Movement'] = st['High'] - st['Low']"
   ]
  },
  {
   "cell_type": "code",
   "execution_count": 51,
   "id": "aef136d9",
   "metadata": {},
   "outputs": [
    {
     "name": "stdout",
     "output_type": "stream",
     "text": [
      "8\n"
     ]
    }
   ],
   "source": [
    "# Count the number of days with movement > 150\n",
    "day_movement = st[st['Movement'] > 150].shape[0]\n",
    "print(day_movement)"
   ]
  },
  {
   "cell_type": "code",
   "execution_count": 53,
   "id": "4846b366",
   "metadata": {},
   "outputs": [],
   "source": [
    "# 17) Choose the first lag value between 0 to 30 where the ACF drops to zero for the column Low? \n",
    "# 12\n",
    "# 3\n",
    "# 20\n",
    "# No lag reached zero value\n"
   ]
  },
  {
   "cell_type": "code",
   "execution_count": 52,
   "id": "fb5790a9",
   "metadata": {},
   "outputs": [
    {
     "data": {
      "image/png": "[encoded data removed]",
      "text/plain": [
       "<Figure size 640x480 with 1 Axes>"
      ]
     },
     "execution_count": 52,
     "metadata": {},
     "output_type": "execute_result"
    },
    {
     "data": {
      "image/png": "[encoded data removed]",
      "text/plain": [
       "<Figure size 640x480 with 1 Axes>"
      ]
     },
     "metadata": {},
     "output_type": "display_data"
    }
   ],
   "source": [
    "from statsmodels.graphics.tsaplots import plot_acf\n",
    "# Plot ACF for column 'Low'\n",
    "plot_acf(st['Low'], lags=30)\n",
    "\n",
    "# Determine the lag where ACF drops to zero\n",
    "# Analyze the plot to find the lag value"
   ]
  },
  {
   "cell_type": "code",
   "execution_count": 54,
   "id": "5294e87f",
   "metadata": {},
   "outputs": [
    {
     "data": {
      "image/png": "[encoded data removed]",
      "text/plain": [
       "<Figure size 640x480 with 1 Axes>"
      ]
     },
     "execution_count": 54,
     "metadata": {},
     "output_type": "execute_result"
    },
    {
     "data": {
      "image/png": "[encoded data removed]",
      "text/plain": [
       "<Figure size 640x480 with 1 Axes>"
      ]
     },
     "metadata": {},
     "output_type": "display_data"
    }
   ],
   "source": [
    "# 18) Choose the correct lag value between 0 to 30 using PACF for the column Open which indicates \n",
    "#the order of AutoRegressive components in the ARIMA model? (Use stocks.csv for this question)\n",
    "# 4\n",
    "# 0\n",
    "# 11\n",
    "# 23\n",
    "\n",
    "\n",
    "from statsmodels.graphics.tsaplots import plot_pacf\n",
    "\n",
    "# Plot PACF for column 'Open'\n",
    "plot_pacf(st['Open'], lags=30)\n",
    "\n",
    "# Determine the lag value indicating the order of AutoRegressive components\n",
    "# Analyze the plot to find the lag value\n"
   ]
  },
  {
   "cell_type": "code",
   "execution_count": 55,
   "id": "303a8320",
   "metadata": {},
   "outputs": [
    {
     "name": "stdout",
     "output_type": "stream",
     "text": [
      "Value of the last 20 days Simple Moving Average for the column 'Low': 3396.16751715\n"
     ]
    }
   ],
   "source": [
    "# 19) What is the value of the last 20 days Simple Moving average for the column Low? (Use stocks.csv for this question)\n",
    "# 3544.82\n",
    "# 3065.24\n",
    "# 3396.17\n",
    "# 3258.96\n",
    "\n",
    "# Calculate the Simple Moving Average for the column 'Low'\n",
    "last_20_days_sma = st['Low'].rolling(window=20).mean().iloc[-1]\n",
    "\n",
    "print(\"Value of the last 20 days Simple Moving Average for the column 'Low':\", last_20_days_sma)"
   ]
  },
  {
   "cell_type": "code",
   "execution_count": null,
   "id": "ace647d5",
   "metadata": {},
   "outputs": [],
   "source": [
    "# 20) Choose the right options to improve the below model prediction where the red line is the actual value and \n",
    "# the blue one is the predicted value? (Use stocks.csv) \n",
    "# All options are correct              correct ans\n",
    "# Data is not stationary.\n",
    "# Model is too simple to capture the underlying patterns.\n",
    "# Our dataset is very small, it may not provide enough information for the model to learn meaningful patterns."
   ]
  },
  {
   "cell_type": "code",
   "execution_count": null,
   "id": "72149f86",
   "metadata": {},
   "outputs": [],
   "source": [
    "# Calculate the Simple Moving Average for the column 'Low'\n",
    "last_20_days_sma = df['Low'].rolling(window=20).mean().iloc[-1]\n",
    "\n",
    "print(\"Value of the last 20 days Simple Moving Average for the column 'Low':\", last_20_days_sma)"
   ]
  }
 ],
 "metadata": {
  "kernelspec": {
   "display_name": "Python 3 (ipykernel)",
   "language": "python",
   "name": "python3"
  },
  "language_info": {
   "codemirror_mode": {
    "name": "ipython",
    "version": 3
   },
   "file_extension": ".py",
   "mimetype": "text/x-python",
   "name": "python",
   "nbconvert_exporter": "python",
   "pygments_lexer": "ipython3",
   "version": "3.11.5"
  }
 },
 "nbformat": 4,
 "nbformat_minor": 5
}
